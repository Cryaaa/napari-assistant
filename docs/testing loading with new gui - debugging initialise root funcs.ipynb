{
 "cells": [
  {
   "cell_type": "code",
   "execution_count": 1,
   "id": "450d76bf",
   "metadata": {},
   "outputs": [
    {
     "name": "stderr",
     "output_type": "stream",
     "text": [
      "C:\\Users\\ryans\\Anaconda3\\envs\\np_workflows_v1\\lib\\site-packages\\napari_tools_menu\\__init__.py:165: FutureWarning: Public access to Window.qt_viewer is deprecated and will be removed in\n",
      "v0.5.0. It is considered an \"implementation detail\" of the napari\n",
      "application, not part of the napari viewer model. If your use case\n",
      "requires access to qt_viewer, please open an issue to discuss.\n",
      "  self.tools_menu = ToolsMenu(self, self.qt_viewer.viewer)\n"
     ]
    },
    {
     "data": {
      "text/plain": [
       "<Image layer 'blobs' at 0x1fdbd81c8b0>"
      ]
     },
     "execution_count": 1,
     "metadata": {},
     "output_type": "execute_result"
    }
   ],
   "source": [
    "import napari\n",
    "from napari_assistant._gui._Assistant import Assistant\n",
    "from skimage.io import imread\n",
    "from napari_assistant._categories import CATEGORIES\n",
    "\n",
    "filename = 'C:/Users/ryans/OneDrive/Desktop/blobs.tif'\n",
    "blobs = imread(filename)\n",
    "blobs_modified = imread('C:/Users/ryans/OneDrive/Desktop/blobs_messed_up.tiff') \n",
    "\n",
    "viewer = napari.Viewer()\n",
    "viewer.add_image(blobs_modified, name = 'not blobs')\n",
    "viewer.add_image(blobs, name = 'blobs')\n",
    "#assistant = Assistant(viewer)\n",
    "#viewer.window.add_dock_widget(assistant)"
   ]
  },
  {
   "cell_type": "code",
   "execution_count": 2,
   "id": "03d941cc",
   "metadata": {},
   "outputs": [
    {
     "name": "stderr",
     "output_type": "stream",
     "text": [
      "2022-04-13 15:20:50.973 | INFO     | napari_assistant._gui._category_widget:call_op:129 - gaussian_blur (clesperanto)(..., 1.0, 1.0, 0.0)\n",
      "2022-04-13 15:20:51.103 | DEBUG    | napari_assistant._gui._category_widget:_show_result:231 - creating new layer for id: 2189673863344\n",
      "2022-04-13 15:20:51.203 | INFO     | napari_assistant._gui._category_widget:call_op:129 - gaussian_blur (clesperanto)(..., 1.0, 1.0, 0.0)\n",
      "2022-04-13 15:20:51.213 | DEBUG    | napari_assistant._gui._category_widget:_show_result:225 - updating existing layer: Result of gaussian_blur (clesperanto), with id: 2189673863344\n",
      "2022-04-13 15:20:51.230 | INFO     | napari_assistant._gui._category_widget:call_op:129 - gaussian_blur (clesperanto)(..., 6.0, 1.0, 0.0)\n",
      "2022-04-13 15:20:51.241 | DEBUG    | napari_assistant._gui._category_widget:_show_result:225 - updating existing layer: Result of gaussian_blur (clesperanto), with id: 2189673863344\n",
      "2022-04-13 15:20:51.258 | INFO     | napari_assistant._gui._category_widget:call_op:129 - gaussian_blur (clesperanto)(..., 6.0, 6.0, 0.0)\n",
      "2022-04-13 15:20:51.269 | DEBUG    | napari_assistant._gui._category_widget:_show_result:225 - updating existing layer: Result of gaussian_blur (clesperanto), with id: 2189673863344\n",
      "2022-04-13 15:20:51.288 | INFO     | napari_assistant._gui._category_widget:call_op:129 - gaussian_blur (clesperanto)(..., 6.0, 6.0, 0.0)\n",
      "2022-04-13 15:20:51.297 | DEBUG    | napari_assistant._gui._category_widget:_show_result:225 - updating existing layer: Result of gaussian_blur (clesperanto), with id: 2189673863344\n"
     ]
    },
    {
     "name": "stdout",
     "output_type": "stream",
     "text": [
      "only arguments: [array([[ 0,  1,  2, ..., 11, 12, 12],\n",
      "       [24,  0,  2, ...,  9, 11, 11],\n",
      "       [28, 17,  2, ..., 26,  9,  9],\n",
      "       ...,\n",
      "       [16,  4,  4, ..., 17, 17, 17],\n",
      "       [ 4,  4,  4, ..., 17, 17, 17],\n",
      "       [18, 15,  4, ..., 17, 17, 17]], dtype=uint8)]\n",
      "det kwargs:     {'destination': None, 'sigma_x': 1.0, 'sigma_y': 1.0, 'sigma_z': 0.0}\n",
      "only arguments: [array([[ 40,  32,  24, ..., 216, 200, 200],\n",
      "       [ 56,  40,  24, ..., 232, 216, 216],\n",
      "       [ 64,  48,  24, ..., 240, 232, 232],\n",
      "       ...,\n",
      "       [ 72,  80,  80, ...,  48,  48,  48],\n",
      "       [ 80,  80,  80, ...,  48,  48,  48],\n",
      "       [ 96,  88,  80, ...,  48,  48,  48]], dtype=uint8)]\n",
      "det kwargs:     {'destination': None, 'sigma_x': 1.0, 'sigma_y': 1.0, 'sigma_z': 0.0}\n",
      "only arguments: [array([[ 40,  32,  24, ..., 216, 200, 200],\n",
      "       [ 56,  40,  24, ..., 232, 216, 216],\n",
      "       [ 64,  48,  24, ..., 240, 232, 232],\n",
      "       ...,\n",
      "       [ 72,  80,  80, ...,  48,  48,  48],\n",
      "       [ 80,  80,  80, ...,  48,  48,  48],\n",
      "       [ 96,  88,  80, ...,  48,  48,  48]], dtype=uint8)]\n",
      "det kwargs:     {'destination': None, 'sigma_x': 6.0, 'sigma_y': 1.0, 'sigma_z': 0.0}\n",
      "only arguments: [array([[ 40,  32,  24, ..., 216, 200, 200],\n",
      "       [ 56,  40,  24, ..., 232, 216, 216],\n",
      "       [ 64,  48,  24, ..., 240, 232, 232],\n",
      "       ...,\n",
      "       [ 72,  80,  80, ...,  48,  48,  48],\n",
      "       [ 80,  80,  80, ...,  48,  48,  48],\n",
      "       [ 96,  88,  80, ...,  48,  48,  48]], dtype=uint8)]\n",
      "det kwargs:     {'destination': None, 'sigma_x': 6.0, 'sigma_y': 6.0, 'sigma_z': 0.0}\n",
      "only arguments: [array([[ 40,  32,  24, ..., 216, 200, 200],\n",
      "       [ 56,  40,  24, ..., 232, 216, 216],\n",
      "       [ 64,  48,  24, ..., 240, 232, 232],\n",
      "       ...,\n",
      "       [ 72,  80,  80, ...,  48,  48,  48],\n",
      "       [ 80,  80,  80, ...,  48,  48,  48],\n",
      "       [ 96,  88,  80, ...,  48,  48,  48]], dtype=uint8)]\n",
      "det kwargs:     {'destination': None, 'sigma_x': 6.0, 'sigma_y': 6.0, 'sigma_z': 0.0}\n"
     ]
    },
    {
     "name": "stderr",
     "output_type": "stream",
     "text": [
      "2022-04-13 15:21:05.292 | INFO     | napari_assistant._gui._category_widget:call_op:129 - gaussian_blur (clesperanto)(..., 6.0, 6.0, 0.0)\n",
      "2022-04-13 15:21:05.306 | DEBUG    | napari_assistant._gui._category_widget:_show_result:225 - updating existing layer: Result of gaussian_blur (clesperanto), with id: 2189673863344\n"
     ]
    },
    {
     "name": "stdout",
     "output_type": "stream",
     "text": [
      "only arguments: [array([[ 0,  1,  2, ..., 11, 12, 12],\n",
      "       [24,  0,  2, ...,  9, 11, 11],\n",
      "       [28, 17,  2, ..., 26,  9,  9],\n",
      "       ...,\n",
      "       [16,  4,  4, ..., 17, 17, 17],\n",
      "       [ 4,  4,  4, ..., 17, 17, 17],\n",
      "       [18, 15,  4, ..., 17, 17, 17]], dtype=uint8)]\n",
      "det kwargs:     {'destination': None, 'sigma_x': 6.0, 'sigma_y': 6.0, 'sigma_z': 0.0}\n"
     ]
    },
    {
     "name": "stderr",
     "output_type": "stream",
     "text": [
      "2022-04-13 15:22:58.387 | INFO     | napari_assistant._gui._category_widget:call_op:129 - gaussian_blur (clesperanto)(..., 6.0, 6.0, 0.0)\n",
      "2022-04-13 15:22:58.396 | DEBUG    | napari_assistant._gui._category_widget:_show_result:225 - updating existing layer: Result of gaussian_blur (clesperanto), with id: 2189673863344\n"
     ]
    },
    {
     "name": "stdout",
     "output_type": "stream",
     "text": [
      "only arguments: [array([[ 40,  32,  24, ..., 216, 200, 200],\n",
      "       [ 56,  40,  24, ..., 232, 216, 216],\n",
      "       [ 64,  48,  24, ..., 240, 232, 232],\n",
      "       ...,\n",
      "       [ 72,  80,  80, ...,  48,  48,  48],\n",
      "       [ 80,  80,  80, ...,  48,  48,  48],\n",
      "       [ 96,  88,  80, ...,  48,  48,  48]], dtype=uint8)]\n",
      "det kwargs:     {'destination': None, 'sigma_x': 6.0, 'sigma_y': 6.0, 'sigma_z': 0.0}\n"
     ]
    }
   ],
   "source": [
    "from napari_assistant._workflow_io_utility import initialise_root_functions\n",
    "from napari_workflows._io_yaml_v1 import load_workflow\n",
    "\n",
    "workflow = load_workflow(filename='test_with_combine_function.yaml')\n",
    "\n",
    "initialise_root_functions(workflow,viewer)"
   ]
  },
  {
   "cell_type": "code",
   "execution_count": 3,
   "id": "99cabafb",
   "metadata": {},
   "outputs": [
    {
     "name": "stderr",
     "output_type": "stream",
     "text": [
      "2022-04-13 15:12:42.553 | INFO     | napari_assistant._gui._category_widget:call_op:129 - top_hat_box (clesperanto)(..., 10.0, 10.0, 0.0)\n",
      "2022-04-13 15:12:42.585 | DEBUG    | napari_assistant._gui._category_widget:_show_result:231 - creating new layer for id: 1751165428496\n",
      "2022-04-13 15:12:42.604 | INFO     | napari_assistant._gui._category_widget:call_op:129 - gaussian_blur (clesperanto)(..., 6.0, 6.0, 0.0)\n",
      "2022-04-13 15:12:42.619 | DEBUG    | napari_assistant._gui._category_widget:_show_result:225 - updating existing layer: Result of gaussian_blur (clesperanto), with id: 1751049546048\n",
      "2022-04-13 15:12:42.834 | INFO     | napari_assistant._gui._category_widget:call_op:129 - top_hat_box (clesperanto)(..., 10.0, 10.0, 0.0)\n"
     ]
    },
    {
     "name": "stdout",
     "output_type": "stream",
     "text": [
      "only arguments: [array([[ 0,  1,  2, ..., 11, 12, 12],\n",
      "       [24,  0,  2, ...,  9, 11, 11],\n",
      "       [28, 17,  2, ..., 26,  9,  9],\n",
      "       ...,\n",
      "       [16,  4,  4, ..., 17, 17, 17],\n",
      "       [ 4,  4,  4, ..., 17, 17, 17],\n",
      "       [18, 15,  4, ..., 17, 17, 17]], dtype=uint8)]\n",
      "det kwargs:     {'destination': None, 'sigma_x': 6.0, 'sigma_y': 6.0, 'sigma_z': 0.0}\n",
      "only arguments: [array([[ 0,  1,  2, ..., 11, 12, 12],\n",
      "       [24,  0,  2, ...,  9, 11, 11],\n",
      "       [28, 17,  2, ..., 26,  9,  9],\n",
      "       ...,\n",
      "       [16,  4,  4, ..., 17, 17, 17],\n",
      "       [ 4,  4,  4, ..., 17, 17, 17],\n",
      "       [18, 15,  4, ..., 17, 17, 17]], dtype=uint8)]\n",
      "det kwargs:     {'destination': None, 'radius_x': 10.0, 'radius_y': 10.0, 'radius_z': 0.0}\n"
     ]
    },
    {
     "name": "stderr",
     "output_type": "stream",
     "text": [
      "2022-04-13 15:12:42.863 | DEBUG    | napari_assistant._gui._category_widget:_show_result:225 - updating existing layer: Result of top_hat_box (clesperanto), with id: 1751165428496\n",
      "2022-04-13 15:12:42.900 | INFO     | napari_assistant._gui._category_widget:call_op:129 - top_hat_box (clesperanto)(..., 15.0, 10.0, 0.0)\n",
      "2022-04-13 15:12:42.922 | DEBUG    | napari_assistant._gui._category_widget:_show_result:225 - updating existing layer: Result of top_hat_box (clesperanto), with id: 1751165428496\n",
      "2022-04-13 15:12:42.957 | INFO     | napari_assistant._gui._category_widget:call_op:129 - top_hat_box (clesperanto)(..., 15.0, 15.0, 0.0)\n",
      "2022-04-13 15:12:42.978 | DEBUG    | napari_assistant._gui._category_widget:_show_result:225 - updating existing layer: Result of top_hat_box (clesperanto), with id: 1751165428496\n",
      "2022-04-13 15:12:43.010 | INFO     | napari_assistant._gui._category_widget:call_op:129 - top_hat_box (clesperanto)(..., 15.0, 15.0, 0.0)\n",
      "2022-04-13 15:12:43.034 | DEBUG    | napari_assistant._gui._category_widget:_show_result:225 - updating existing layer: Result of top_hat_box (clesperanto), with id: 1751165428496\n"
     ]
    },
    {
     "name": "stdout",
     "output_type": "stream",
     "text": [
      "only arguments: [cl.Array([[ 4.328305 ,  4.2476993,  4.175807 , ..., 15.308835 , 14.748951 ,\n",
      "        14.183631 ],\n",
      "       [ 4.7778687,  4.691074 ,  4.614486 , ..., 15.07444  , 14.5252   ,\n",
      "        13.970546 ],\n",
      "       [ 5.219333 ,  5.131529 ,  5.055746 , ..., 14.788239 , 14.255842 ,\n",
      "        13.718459 ],\n",
      "       ...,\n",
      "       [18.013533 , 18.179564 , 18.40567  , ..., 16.385534 , 16.561615 ,\n",
      "        16.730974 ],\n",
      "       [17.955265 , 18.125475 , 18.360756 , ..., 16.421114 , 16.587038 ,\n",
      "        16.74528  ],\n",
      "       [17.85621  , 18.02977  , 18.273144 , ..., 16.433664 , 16.591768 ,\n",
      "        16.741175 ]], dtype=float32)]\n",
      "det kwargs:     {'destination': None, 'radius_x': 10.0, 'radius_y': 10.0, 'radius_z': 0.0}\n",
      "only arguments: [cl.Array([[ 4.328305 ,  4.2476993,  4.175807 , ..., 15.308835 , 14.748951 ,\n",
      "        14.183631 ],\n",
      "       [ 4.7778687,  4.691074 ,  4.614486 , ..., 15.07444  , 14.5252   ,\n",
      "        13.970546 ],\n",
      "       [ 5.219333 ,  5.131529 ,  5.055746 , ..., 14.788239 , 14.255842 ,\n",
      "        13.718459 ],\n",
      "       ...,\n",
      "       [18.013533 , 18.179564 , 18.40567  , ..., 16.385534 , 16.561615 ,\n",
      "        16.730974 ],\n",
      "       [17.955265 , 18.125475 , 18.360756 , ..., 16.421114 , 16.587038 ,\n",
      "        16.74528  ],\n",
      "       [17.85621  , 18.02977  , 18.273144 , ..., 16.433664 , 16.591768 ,\n",
      "        16.741175 ]], dtype=float32)]\n",
      "det kwargs:     {'destination': None, 'radius_x': 15.0, 'radius_y': 10.0, 'radius_z': 0.0}\n",
      "only arguments: [cl.Array([[ 4.328305 ,  4.2476993,  4.175807 , ..., 15.308835 , 14.748951 ,\n",
      "        14.183631 ],\n",
      "       [ 4.7778687,  4.691074 ,  4.614486 , ..., 15.07444  , 14.5252   ,\n",
      "        13.970546 ],\n",
      "       [ 5.219333 ,  5.131529 ,  5.055746 , ..., 14.788239 , 14.255842 ,\n",
      "        13.718459 ],\n",
      "       ...,\n",
      "       [18.013533 , 18.179564 , 18.40567  , ..., 16.385534 , 16.561615 ,\n",
      "        16.730974 ],\n",
      "       [17.955265 , 18.125475 , 18.360756 , ..., 16.421114 , 16.587038 ,\n",
      "        16.74528  ],\n",
      "       [17.85621  , 18.02977  , 18.273144 , ..., 16.433664 , 16.591768 ,\n",
      "        16.741175 ]], dtype=float32)]\n",
      "det kwargs:     {'destination': None, 'radius_x': 15.0, 'radius_y': 15.0, 'radius_z': 0.0}\n",
      "only arguments: [cl.Array([[ 4.328305 ,  4.2476993,  4.175807 , ..., 15.308835 , 14.748951 ,\n",
      "        14.183631 ],\n",
      "       [ 4.7778687,  4.691074 ,  4.614486 , ..., 15.07444  , 14.5252   ,\n",
      "        13.970546 ],\n",
      "       [ 5.219333 ,  5.131529 ,  5.055746 , ..., 14.788239 , 14.255842 ,\n",
      "        13.718459 ],\n",
      "       ...,\n",
      "       [18.013533 , 18.179564 , 18.40567  , ..., 16.385534 , 16.561615 ,\n",
      "        16.730974 ],\n",
      "       [17.955265 , 18.125475 , 18.360756 , ..., 16.421114 , 16.587038 ,\n",
      "        16.74528  ],\n",
      "       [17.85621  , 18.02977  , 18.273144 , ..., 16.433664 , 16.591768 ,\n",
      "        16.741175 ]], dtype=float32)]\n",
      "det kwargs:     {'destination': None, 'radius_x': 15.0, 'radius_y': 15.0, 'radius_z': 0.0}\n"
     ]
    },
    {
     "name": "stderr",
     "output_type": "stream",
     "text": [
      "2022-04-13 15:12:43.209 | INFO     | napari_assistant._gui._category_widget:call_op:129 - absolute_difference (clesperanto)(..., )\n",
      "2022-04-13 15:12:43.226 | DEBUG    | napari_assistant._gui._category_widget:_show_result:231 - creating new layer for id: 1751209662928\n",
      "2022-04-13 15:12:43.242 | INFO     | napari_assistant._gui._category_widget:call_op:129 - top_hat_box (clesperanto)(..., 15.0, 15.0, 0.0)\n",
      "2022-04-13 15:12:43.262 | DEBUG    | napari_assistant._gui._category_widget:_show_result:225 - updating existing layer: Result of top_hat_box (clesperanto), with id: 1751165428496\n"
     ]
    },
    {
     "name": "stdout",
     "output_type": "stream",
     "text": [
      "only arguments: [array([[ 0,  1,  2, ..., 11, 12, 12],\n",
      "       [24,  0,  2, ...,  9, 11, 11],\n",
      "       [28, 17,  2, ..., 26,  9,  9],\n",
      "       ...,\n",
      "       [16,  4,  4, ..., 17, 17, 17],\n",
      "       [ 4,  4,  4, ..., 17, 17, 17],\n",
      "       [18, 15,  4, ..., 17, 17, 17]], dtype=uint8)]\n",
      "det kwargs:     {'destination': None, 'radius_x': 15.0, 'radius_y': 15.0, 'radius_z': 0.0}\n",
      "only arguments: [cl.Array([[0.23989344, 0.15928793, 0.08739567, ..., 4.7022696 , 4.1423855 ,\n",
      "        3.5770655 ],\n",
      "       [0.25340414, 0.16660929, 0.09002161, ..., 4.4678745 , 3.9186344 ,\n",
      "        3.3639803 ],\n",
      "       [0.24496841, 0.1571641 , 0.08138132, ..., 4.181673  , 3.6492767 ,\n",
      "        3.1118937 ],\n",
      "       ...,\n",
      "       [3.436325  , 3.602356  , 3.8284626 , ..., 2.3998413 , 2.575922  ,\n",
      "        2.7452812 ],\n",
      "       [3.3780575 , 3.5482674 , 3.7835484 , ..., 2.435421  , 2.601345  ,\n",
      "        2.7595863 ],\n",
      "       [3.2790031 , 3.4525623 , 3.6959362 , ..., 2.4479713 , 2.6060753 ,\n",
      "        2.7554817 ]], dtype=float32), cl.Array([[ 4.328305 ,  4.2476993,  4.175807 , ..., 15.308835 , 14.748951 ,\n",
      "        14.183631 ],\n",
      "       [ 4.7778687,  4.691074 ,  4.614486 , ..., 15.07444  , 14.5252   ,\n",
      "        13.970546 ],\n",
      "       [ 5.219333 ,  5.131529 ,  5.055746 , ..., 14.788239 , 14.255842 ,\n",
      "        13.718459 ],\n",
      "       ...,\n",
      "       [18.013533 , 18.179564 , 18.40567  , ..., 16.385534 , 16.561615 ,\n",
      "        16.730974 ],\n",
      "       [17.955265 , 18.125475 , 18.360756 , ..., 16.421114 , 16.587038 ,\n",
      "        16.74528  ],\n",
      "       [17.85621  , 18.02977  , 18.273144 , ..., 16.433664 , 16.591768 ,\n",
      "        16.741175 ]], dtype=float32)]\n",
      "det kwargs:     {'destination': None}\n"
     ]
    },
    {
     "name": "stderr",
     "output_type": "stream",
     "text": [
      "2022-04-13 15:13:06.087 | INFO     | napari_assistant._gui._category_widget:call_op:129 - absolute_difference (clesperanto)(..., )\n",
      "2022-04-13 15:13:06.118 | DEBUG    | napari_assistant._gui._category_widget:_show_result:225 - updating existing layer: Result of absolute_difference (clesperanto), with id: 1751209662928\n"
     ]
    },
    {
     "name": "stdout",
     "output_type": "stream",
     "text": [
      "only arguments: [cl.Array([[ 0.,  1.,  2., ...,  6.,  7.,  7.],\n",
      "       [24.,  0.,  2., ...,  4.,  6.,  6.],\n",
      "       [28., 17.,  2., ..., 21.,  4.,  4.],\n",
      "       ...,\n",
      "       [16.,  4.,  4., ..., 17., 17., 17.],\n",
      "       [ 4.,  4.,  4., ..., 17., 17., 17.],\n",
      "       [18., 15.,  4., ..., 17., 17., 17.]], dtype=float32), cl.Array([[ 4.328305 ,  4.2476993,  4.175807 , ..., 15.308835 , 14.748951 ,\n",
      "        14.183631 ],\n",
      "       [ 4.7778687,  4.691074 ,  4.614486 , ..., 15.07444  , 14.5252   ,\n",
      "        13.970546 ],\n",
      "       [ 5.219333 ,  5.131529 ,  5.055746 , ..., 14.788239 , 14.255842 ,\n",
      "        13.718459 ],\n",
      "       ...,\n",
      "       [18.013533 , 18.179564 , 18.40567  , ..., 16.385534 , 16.561615 ,\n",
      "        16.730974 ],\n",
      "       [17.955265 , 18.125475 , 18.360756 , ..., 16.421114 , 16.587038 ,\n",
      "        16.74528  ],\n",
      "       [17.85621  , 18.02977  , 18.273144 , ..., 16.433664 , 16.591768 ,\n",
      "        16.741175 ]], dtype=float32)]\n",
      "det kwargs:     {'destination': None}\n"
     ]
    },
    {
     "name": "stderr",
     "output_type": "stream",
     "text": [
      "2022-04-13 15:13:10.273 | INFO     | napari_assistant._gui._category_widget:call_op:129 - top_hat_box (clesperanto)(..., 15.0, 15.0, 0.0)\n",
      "2022-04-13 15:13:10.301 | DEBUG    | napari_assistant._gui._category_widget:_show_result:225 - updating existing layer: Result of top_hat_box (clesperanto), with id: 1751165428496\n"
     ]
    },
    {
     "name": "stdout",
     "output_type": "stream",
     "text": [
      "only arguments: [cl.Array([[ 4.328305 ,  4.2476993,  4.175807 , ..., 15.308835 , 14.748951 ,\n",
      "        14.183631 ],\n",
      "       [ 4.7778687,  4.691074 ,  4.614486 , ..., 15.07444  , 14.5252   ,\n",
      "        13.970546 ],\n",
      "       [ 5.219333 ,  5.131529 ,  5.055746 , ..., 14.788239 , 14.255842 ,\n",
      "        13.718459 ],\n",
      "       ...,\n",
      "       [18.013533 , 18.179564 , 18.40567  , ..., 16.385534 , 16.561615 ,\n",
      "        16.730974 ],\n",
      "       [17.955265 , 18.125475 , 18.360756 , ..., 16.421114 , 16.587038 ,\n",
      "        16.74528  ],\n",
      "       [17.85621  , 18.02977  , 18.273144 , ..., 16.433664 , 16.591768 ,\n",
      "        16.741175 ]], dtype=float32)]\n",
      "det kwargs:     {'destination': None, 'radius_x': 15.0, 'radius_y': 15.0, 'radius_z': 0.0}\n"
     ]
    },
    {
     "name": "stderr",
     "output_type": "stream",
     "text": [
      "2022-04-13 15:13:13.180 | INFO     | napari_assistant._gui._category_widget:call_op:129 - gaussian_blur (clesperanto)(..., 6.0, 6.0, 0.0)\n",
      "2022-04-13 15:13:13.217 | DEBUG    | napari_assistant._gui._category_widget:_show_result:225 - updating existing layer: Result of gaussian_blur (clesperanto), with id: 1751049546048\n"
     ]
    },
    {
     "name": "stdout",
     "output_type": "stream",
     "text": [
      "only arguments: [array([[ 40,  32,  24, ..., 216, 200, 200],\n",
      "       [ 56,  40,  24, ..., 232, 216, 216],\n",
      "       [ 64,  48,  24, ..., 240, 232, 232],\n",
      "       ...,\n",
      "       [ 72,  80,  80, ...,  48,  48,  48],\n",
      "       [ 80,  80,  80, ...,  48,  48,  48],\n",
      "       [ 96,  88,  80, ...,  48,  48,  48]], dtype=uint8)]\n",
      "det kwargs:     {'destination': None, 'sigma_x': 6.0, 'sigma_y': 6.0, 'sigma_z': 0.0}\n"
     ]
    },
    {
     "name": "stderr",
     "output_type": "stream",
     "text": [
      "2022-04-13 15:13:23.187 | INFO     | napari_assistant._gui._category_widget:call_op:129 - top_hat_box (clesperanto)(..., 14.0, 15.0, 0.0)\n",
      "2022-04-13 15:13:23.223 | DEBUG    | napari_assistant._gui._category_widget:_show_result:225 - updating existing layer: Result of top_hat_box (clesperanto), with id: 1751165428496\n"
     ]
    },
    {
     "name": "stdout",
     "output_type": "stream",
     "text": [
      "only arguments: [cl.Array([[ 36.987213,  36.748055,  36.720158, ..., 219.39273 , 219.55081 ,\n",
      "        219.24374 ],\n",
      "       [ 37.57606 ,  37.461544,  37.5792  , ..., 220.53722 , 220.70338 ,\n",
      "        220.42693 ],\n",
      "       [ 38.240932,  38.264496,  38.545185, ..., 221.58632 , 221.75493 ,\n",
      "        221.50473 ],\n",
      "       ...,\n",
      "       [ 72.67791 ,  71.58198 ,  70.38857 , ...,  52.567577,  51.40775 ,\n",
      "         50.564884],\n",
      "       [ 74.00522 ,  72.82467 ,  71.54207 , ...,  52.96153 ,  51.669037,\n",
      "         50.722404],\n",
      "       [ 75.46215 ,  74.18416 ,  72.79883 , ...,  53.367485,  51.939392,\n",
      "         50.88665 ]], dtype=float32)]\n",
      "det kwargs:     {'destination': None, 'radius_x': 14.0, 'radius_y': 15.0, 'radius_z': 0.0}\n"
     ]
    },
    {
     "name": "stderr",
     "output_type": "stream",
     "text": [
      "2022-04-13 15:13:24.644 | INFO     | napari_assistant._gui._category_widget:call_op:129 - top_hat_box (clesperanto)(..., 15.0, 15.0, 0.0)\n",
      "2022-04-13 15:13:24.682 | DEBUG    | napari_assistant._gui._category_widget:_show_result:225 - updating existing layer: Result of top_hat_box (clesperanto), with id: 1751165428496\n"
     ]
    },
    {
     "name": "stdout",
     "output_type": "stream",
     "text": [
      "only arguments: [cl.Array([[ 36.987213,  36.748055,  36.720158, ..., 219.39273 , 219.55081 ,\n",
      "        219.24374 ],\n",
      "       [ 37.57606 ,  37.461544,  37.5792  , ..., 220.53722 , 220.70338 ,\n",
      "        220.42693 ],\n",
      "       [ 38.240932,  38.264496,  38.545185, ..., 221.58632 , 221.75493 ,\n",
      "        221.50473 ],\n",
      "       ...,\n",
      "       [ 72.67791 ,  71.58198 ,  70.38857 , ...,  52.567577,  51.40775 ,\n",
      "         50.564884],\n",
      "       [ 74.00522 ,  72.82467 ,  71.54207 , ...,  52.96153 ,  51.669037,\n",
      "         50.722404],\n",
      "       [ 75.46215 ,  74.18416 ,  72.79883 , ...,  53.367485,  51.939392,\n",
      "         50.88665 ]], dtype=float32)]\n",
      "det kwargs:     {'destination': None, 'radius_x': 15.0, 'radius_y': 15.0, 'radius_z': 0.0}\n"
     ]
    },
    {
     "name": "stderr",
     "output_type": "stream",
     "text": [
      "2022-04-13 15:13:45.803 | INFO     | napari_assistant._gui._category_widget:call_op:129 - absolute_difference (clesperanto)(..., )\n",
      "2022-04-13 15:13:45.828 | DEBUG    | napari_assistant._gui._category_widget:_show_result:225 - updating existing layer: Result of absolute_difference (clesperanto), with id: 1751209662928\n"
     ]
    },
    {
     "name": "stdout",
     "output_type": "stream",
     "text": [
      "only arguments: [cl.Array([[2.67055511e-01, 2.78968811e-02, 0.00000000e+00, ...,\n",
      "        9.63595200e+01, 9.65176010e+01, 9.62105331e+01],\n",
      "       [1.14517212e-01, 0.00000000e+00, 0.00000000e+00, ...,\n",
      "        9.75040054e+01, 9.76701736e+01, 9.73937149e+01],\n",
      "       [0.00000000e+00, 0.00000000e+00, 0.00000000e+00, ...,\n",
      "        9.85531082e+01, 9.87217178e+01, 9.84715195e+01],\n",
      "       ...,\n",
      "       [1.52099342e+01, 1.41140022e+01, 1.29205971e+01, ...,\n",
      "        9.48760986e-01, 5.97942352e-01, 3.24359894e-01],\n",
      "       [1.65372429e+01, 1.53566933e+01, 1.40740929e+01, ...,\n",
      "        1.34271240e+00, 8.59230042e-01, 4.81880188e-01],\n",
      "       [1.79941750e+01, 1.67161827e+01, 1.53308525e+01, ...,\n",
      "        1.74866867e+00, 1.12958527e+00, 6.46125793e-01]], dtype=float32), cl.Array([[ 36.987213,  36.748055,  36.720158, ..., 219.39273 , 219.55081 ,\n",
      "        219.24374 ],\n",
      "       [ 37.57606 ,  37.461544,  37.5792  , ..., 220.53722 , 220.70338 ,\n",
      "        220.42693 ],\n",
      "       [ 38.240932,  38.264496,  38.545185, ..., 221.58632 , 221.75493 ,\n",
      "        221.50473 ],\n",
      "       ...,\n",
      "       [ 72.67791 ,  71.58198 ,  70.38857 , ...,  52.567577,  51.40775 ,\n",
      "         50.564884],\n",
      "       [ 74.00522 ,  72.82467 ,  71.54207 , ...,  52.96153 ,  51.669037,\n",
      "         50.722404],\n",
      "       [ 75.46215 ,  74.18416 ,  72.79883 , ...,  53.367485,  51.939392,\n",
      "         50.88665 ]], dtype=float32)]\n",
      "det kwargs:     {'destination': None}\n"
     ]
    }
   ],
   "source": [
    "from napari_assistant._workflow_io_utility import load_remaining_workflow\n",
    "load_remaining_workflow(workflow, viewer)"
   ]
  },
  {
   "cell_type": "code",
   "execution_count": null,
   "id": "030faeb3",
   "metadata": {},
   "outputs": [],
   "source": []
  }
 ],
 "metadata": {
  "kernelspec": {
   "display_name": "Python 3 (ipykernel)",
   "language": "python",
   "name": "python3"
  },
  "language_info": {
   "codemirror_mode": {
    "name": "ipython",
    "version": 3
   },
   "file_extension": ".py",
   "mimetype": "text/x-python",
   "name": "python",
   "nbconvert_exporter": "python",
   "pygments_lexer": "ipython3",
   "version": "3.9.7"
  }
 },
 "nbformat": 4,
 "nbformat_minor": 5
}
