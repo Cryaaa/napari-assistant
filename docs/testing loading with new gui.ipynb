{
 "cells": [
  {
   "cell_type": "code",
   "execution_count": 1,
   "id": "b9e8fa45",
   "metadata": {},
   "outputs": [
    {
     "name": "stderr",
     "output_type": "stream",
     "text": [
      "C:\\Users\\ryans\\anaconda3\\envs\\np_workflows_v1\\lib\\site-packages\\napari_tools_menu\\__init__.py:165: FutureWarning: Public access to Window.qt_viewer is deprecated and will be removed in\n",
      "v0.5.0. It is considered an \"implementation detail\" of the napari\n",
      "application, not part of the napari viewer model. If your use case\n",
      "requires access to qt_viewer, please open an issue to discuss.\n",
      "  self.tools_menu = ToolsMenu(self, self.qt_viewer.viewer)\n"
     ]
    },
    {
     "data": {
      "text/plain": [
       "<Image layer 'blobs' at 0x1fec908f220>"
      ]
     },
     "execution_count": 1,
     "metadata": {},
     "output_type": "execute_result"
    }
   ],
   "source": [
    "import napari\n",
    "from napari_assistant._gui._Assistant import Assistant\n",
    "from skimage.io import imread\n",
    "from napari_assistant._categories import CATEGORIES\n",
    "\n",
    "filename = 'C:/Users/ryans/OneDrive/Desktop/blobs.tif'\n",
    "blobs = imread(filename)\n",
    "\n",
    "viewer = napari.Viewer()\n",
    "viewer.add_image(blobs)"
   ]
  },
  {
   "cell_type": "code",
   "execution_count": 2,
   "id": "42b64edb",
   "metadata": {},
   "outputs": [
    {
     "name": "stderr",
     "output_type": "stream",
     "text": [
      "2022-04-11 22:00:52.542 | INFO     | napari_assistant._gui._category_widget:call_op:129 - gaussian_blur (clesperanto)(..., 1.0, 1.0, 0.0)\n",
      "2022-04-11 22:00:52.693 | DEBUG    | napari_assistant._gui._category_widget:_show_result:231 - creating new layer for id: 2194606972576\n",
      "2022-04-11 22:00:52.762 | INFO     | napari_assistant._gui._category_widget:call_op:129 - gaussian_blur (clesperanto)(..., 1.0, 1.0, 0.0)\n",
      "2022-04-11 22:00:52.767 | DEBUG    | napari_assistant._gui._category_widget:_show_result:225 - updating existing layer: Result of gaussian_blur (clesperanto), with id: 2194606972576\n",
      "2022-04-11 22:00:52.783 | INFO     | napari_assistant._gui._category_widget:call_op:129 - gaussian_blur (clesperanto)(..., 1.0, 1.0, 0.0)\n",
      "2022-04-11 22:00:52.790 | DEBUG    | napari_assistant._gui._category_widget:_show_result:225 - updating existing layer: Result of gaussian_blur (clesperanto), with id: 2194606972576\n"
     ]
    }
   ],
   "source": [
    "assistant = Assistant(viewer)\n",
    "viewer.window.add_dock_widget(assistant)\n",
    "assistant.load_workflow('test_only_blur.yaml')"
   ]
  },
  {
   "cell_type": "code",
   "execution_count": 3,
   "id": "e5baf7db",
   "metadata": {},
   "outputs": [
    {
     "name": "stdout",
     "output_type": "stream",
     "text": [
      "Workflow:\n",
      "Result of gaussian_blur (clesperanto) <- (<function gaussian_blur at 0x000001FECA58FB50>, 'blobs', None, 1.0, 1.0, 0.0)\n",
      "\n"
     ]
    }
   ],
   "source": [
    "from napari_workflows import WorkflowManager\n",
    "manager = WorkflowManager.install(viewer)\n",
    "print(manager.workflow)"
   ]
  },
  {
   "cell_type": "code",
   "execution_count": null,
   "id": "4037e253",
   "metadata": {},
   "outputs": [],
   "source": []
  },
  {
   "cell_type": "code",
   "execution_count": 4,
   "id": "5ae727f3",
   "metadata": {},
   "outputs": [
    {
     "data": {
      "text/plain": [
       "['Gaussian (scikit-image, nsbatwm)',\n",
       " 'Median (scipy, nsbatwm)',\n",
       " 'Percentile (scipy, nsbatwm)']"
      ]
     },
     "execution_count": 4,
     "metadata": {},
     "output_type": "execute_result"
    }
   ],
   "source": [
    "from napari_assistant._categories import CATEGORIES, filter_categories, filter_operations\n",
    "def op_names_in_menu(category, search_string: str = None):\n",
    "    \"\"\"\n",
    "    Return all functions as list in a given category that contain a\n",
    "    given search string.\n",
    "    \"\"\"\n",
    "    if not hasattr(category, \"tools_menu\"):\n",
    "        return []\n",
    "    menu_name = category.tools_menu\n",
    "    choices = filter_operations(menu_name)\n",
    "    if search_string is not None and len(search_string) > 0:\n",
    "        choices = [c for c in choices if search_string in c.lower()]\n",
    "    choices = [c.split(\">\")[1].strip() for c in choices]\n",
    "    choices = sorted(choices, key=str.casefold)\n",
    "    \n",
    "    return choices\n",
    "\n",
    "op_names_in_menu(CATEGORIES[\"Remove noise\"],'nsb')"
   ]
  },
  {
   "cell_type": "code",
   "execution_count": 5,
   "id": "5b41fb6f",
   "metadata": {},
   "outputs": [
    {
     "data": {
      "text/plain": [
       "['Gaussian (scikit-image, nsbatwm)',\n",
       " 'Median (scipy, nsbatwm)',\n",
       " 'Percentile (scipy, nsbatwm)']"
      ]
     },
     "execution_count": 5,
     "metadata": {},
     "output_type": "execute_result"
    }
   ],
   "source": [
    "from napari_assistant._categories import operations_in_menu, Category\n",
    "choices = list(operations_in_menu(category = CATEGORIES[\"Remove noise\"], \n",
    "                                  search_string='nsb'))\n",
    "choices"
   ]
  },
  {
   "cell_type": "code",
   "execution_count": 6,
   "id": "5149c2b6",
   "metadata": {},
   "outputs": [
    {
     "ename": "ImportError",
     "evalue": "attempted relative import with no known parent package",
     "output_type": "error",
     "traceback": [
      "\u001b[1;31m---------------------------------------------------------------------------\u001b[0m",
      "\u001b[1;31mImportError\u001b[0m                               Traceback (most recent call last)",
      "Input \u001b[1;32mIn [6]\u001b[0m, in \u001b[0;36m<cell line: 21>\u001b[1;34m()\u001b[0m\n\u001b[0;32m     18\u001b[0m     \u001b[38;5;28;01melse\u001b[39;00m:\n\u001b[0;32m     19\u001b[0m         \u001b[38;5;28;01mreturn\u001b[39;00m default_op\n\u001b[1;32m---> 21\u001b[0m test \u001b[38;5;241m=\u001b[39m \u001b[43m_get_operation_name_for_category_clicked\u001b[49m\u001b[43m(\u001b[49m\u001b[43mcategory\u001b[49m\u001b[43m \u001b[49m\u001b[38;5;241;43m=\u001b[39;49m\u001b[43m \u001b[49m\u001b[43mCATEGORIES\u001b[49m\u001b[43m[\u001b[49m\u001b[38;5;124;43m\"\u001b[39;49m\u001b[38;5;124;43mRemove noise\u001b[39;49m\u001b[38;5;124;43m\"\u001b[39;49m\u001b[43m]\u001b[49m\u001b[43m,\u001b[49m\u001b[43m \u001b[49m\n\u001b[0;32m     22\u001b[0m \u001b[43m                                  \u001b[49m\u001b[43msearch_string\u001b[49m\u001b[38;5;241;43m=\u001b[39;49m\u001b[38;5;124;43m'\u001b[39;49m\u001b[38;5;124;43m'\u001b[39;49m\u001b[43m)\u001b[49m\n\u001b[0;32m     23\u001b[0m test\n",
      "Input \u001b[1;32mIn [6]\u001b[0m, in \u001b[0;36m_get_operation_name_for_category_clicked\u001b[1;34m(category, search_string)\u001b[0m\n\u001b[0;32m      2\u001b[0m \u001b[38;5;124;03m\"\"\"Create an inspect.Signature object representing a cle Category.\u001b[39;00m\n\u001b[0;32m      3\u001b[0m \n\u001b[0;32m      4\u001b[0m \u001b[38;5;124;03mThe output of this function is the operation name for a clicked cataegory given a search string\u001b[39;00m\n\u001b[0;32m      5\u001b[0m \u001b[38;5;124;03m\"\"\"\u001b[39;00m\n\u001b[0;32m      6\u001b[0m \u001b[38;5;66;03m# Add valid operations choices (will create the combo box)\u001b[39;00m\n\u001b[1;32m----> 7\u001b[0m \u001b[38;5;28;01mfrom\u001b[39;00m \u001b[38;5;21;01m.\u001b[39;00m\u001b[38;5;21;01m.\u001b[39;00m\u001b[38;5;21;01m_categories\u001b[39;00m \u001b[38;5;28;01mimport\u001b[39;00m operations_in_menu\n\u001b[0;32m      8\u001b[0m choices \u001b[38;5;241m=\u001b[39m \u001b[38;5;28mlist\u001b[39m(operations_in_menu(category, search_string))\n\u001b[0;32m     10\u001b[0m default_op \u001b[38;5;241m=\u001b[39m category\u001b[38;5;241m.\u001b[39mdefault_op\n",
      "\u001b[1;31mImportError\u001b[0m: attempted relative import with no known parent package"
     ]
    }
   ],
   "source": [
    "def _get_operation_name_for_category_clicked(category: Category, search_string:str= None) -> str:\n",
    "    \"\"\"Create an inspect.Signature object representing a cle Category.\n",
    "\n",
    "    The output of this function is the operation name for a clicked cataegory given a search string\n",
    "    \"\"\"\n",
    "    # Add valid operations choices (will create the combo box)\n",
    "    #from .._categories import operations_in_menu\n",
    "    choices = list(operations_in_menu(category, search_string))\n",
    "\n",
    "    default_op = category.default_op\n",
    "    if not any(default_op == op for op in choices):\n",
    "        #print(\"Default-operation is not in list!\")\n",
    "        default_op = None\n",
    "\n",
    "    if default_op is None:\n",
    "        return choices[0]\n",
    "        \n",
    "    else:\n",
    "        return default_op\n",
    "\n",
    "test = _get_operation_name_for_category_clicked(category = CATEGORIES[\"Remove noise\"], \n",
    "                                  search_string='')\n",
    "test"
   ]
  },
  {
   "cell_type": "code",
   "execution_count": null,
   "id": "f2a8daf0",
   "metadata": {},
   "outputs": [
    {
     "name": "stderr",
     "output_type": "stream",
     "text": [
      "2022-04-11 22:00:55.496 | INFO     | napari_assistant._gui._category_widget:call_op:129 - gaussian_blur (clesperanto)(..., 1.0, 1.0, 0.0)\n",
      "2022-04-11 22:00:55.504 | DEBUG    | napari_assistant._gui._category_widget:_show_result:231 - creating new layer for id: 2194613105376\n",
      "2022-04-11 22:00:55.514 | INFO     | napari_assistant._gui._category_widget:call_op:129 - gaussian_blur (clesperanto)(..., 1.0, 1.0, 0.0)\n",
      "2022-04-11 22:00:55.522 | DEBUG    | napari_assistant._gui._category_widget:_show_result:225 - updating existing layer: Result of gaussian_blur (clesperanto), with id: 2194606972576\n"
     ]
    },
    {
     "name": "stdout",
     "output_type": "stream",
     "text": [
      "opname = gaussian_blur (clesperanto)\n"
     ]
    },
    {
     "name": "stderr",
     "output_type": "stream",
     "text": [
      "2022-04-11 22:01:00.939 | INFO     | napari_assistant._gui._category_widget:call_op:129 - gaussian_blur (clesperanto)(..., 2.0, 1.0, 0.0)\n",
      "2022-04-11 22:01:00.948 | DEBUG    | napari_assistant._gui._category_widget:_show_result:225 - updating existing layer: Result of gaussian_blur (clesperanto) [1], with id: 2194613105376\n",
      "2022-04-11 22:01:01.134 | INFO     | napari_assistant._gui._category_widget:call_op:129 - gaussian_blur (clesperanto)(..., 3.0, 1.0, 0.0)\n",
      "2022-04-11 22:01:01.145 | DEBUG    | napari_assistant._gui._category_widget:_show_result:225 - updating existing layer: Result of gaussian_blur (clesperanto) [1], with id: 2194613105376\n",
      "2022-04-11 22:01:01.330 | INFO     | napari_assistant._gui._category_widget:call_op:129 - gaussian_blur (clesperanto)(..., 4.0, 1.0, 0.0)\n",
      "2022-04-11 22:01:01.341 | DEBUG    | napari_assistant._gui._category_widget:_show_result:225 - updating existing layer: Result of gaussian_blur (clesperanto) [1], with id: 2194613105376\n",
      "2022-04-11 22:01:02.791 | INFO     | napari_assistant._gui._category_widget:call_op:129 - gaussian_blur (clesperanto)(..., 3.0, 1.0, 0.0)\n",
      "2022-04-11 22:01:02.801 | DEBUG    | napari_assistant._gui._category_widget:_show_result:225 - updating existing layer: Result of gaussian_blur (clesperanto) [1], with id: 2194613105376\n",
      "2022-04-11 22:01:02.970 | INFO     | napari_assistant._gui._category_widget:call_op:129 - gaussian_blur (clesperanto)(..., 2.0, 1.0, 0.0)\n",
      "2022-04-11 22:01:02.981 | DEBUG    | napari_assistant._gui._category_widget:_show_result:225 - updating existing layer: Result of gaussian_blur (clesperanto) [1], with id: 2194613105376\n",
      "2022-04-11 22:01:03.158 | INFO     | napari_assistant._gui._category_widget:call_op:129 - gaussian_blur (clesperanto)(..., 1.0, 1.0, 0.0)\n",
      "2022-04-11 22:01:03.169 | DEBUG    | napari_assistant._gui._category_widget:_show_result:225 - updating existing layer: Result of gaussian_blur (clesperanto) [1], with id: 2194613105376\n"
     ]
    }
   ],
   "source": [
    "test2 = _get_operation_name_for_category_clicked(category = CATEGORIES[\"Remove noise\"], \n",
    "                                  search_string='median')\n",
    "test2"
   ]
  },
  {
   "cell_type": "code",
   "execution_count": null,
   "id": "db843526",
   "metadata": {},
   "outputs": [],
   "source": []
  }
 ],
 "metadata": {
  "kernelspec": {
   "display_name": "Python 3 (ipykernel)",
   "language": "python",
   "name": "python3"
  },
  "language_info": {
   "codemirror_mode": {
    "name": "ipython",
    "version": 3
   },
   "file_extension": ".py",
   "mimetype": "text/x-python",
   "name": "python",
   "nbconvert_exporter": "python",
   "pygments_lexer": "ipython3",
   "version": "3.10.2"
  }
 },
 "nbformat": 4,
 "nbformat_minor": 5
}
