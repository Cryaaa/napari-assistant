{
 "cells": [
  {
   "cell_type": "code",
   "execution_count": 1,
   "id": "450d76bf",
   "metadata": {},
   "outputs": [
    {
     "name": "stderr",
     "output_type": "stream",
     "text": [
      "C:\\Users\\ryans\\Anaconda3\\envs\\np_workflows_v1\\lib\\site-packages\\napari_tools_menu\\__init__.py:165: FutureWarning: Public access to Window.qt_viewer is deprecated and will be removed in\n",
      "v0.5.0. It is considered an \"implementation detail\" of the napari\n",
      "application, not part of the napari viewer model. If your use case\n",
      "requires access to qt_viewer, please open an issue to discuss.\n",
      "  self.tools_menu = ToolsMenu(self, self.qt_viewer.viewer)\n"
     ]
    },
    {
     "data": {
      "text/plain": [
       "<napari._qt.widgets.qt_viewer_dock_widget.QtViewerDockWidget at 0x2be8fd688b0>"
      ]
     },
     "execution_count": 1,
     "metadata": {},
     "output_type": "execute_result"
    }
   ],
   "source": [
    "import napari\n",
    "from napari_assistant._gui._Assistant import Assistant\n",
    "from skimage.io import imread\n",
    "from napari_assistant._categories import CATEGORIES\n",
    "\n",
    "filename = 'C:/Users/ryans/OneDrive/Desktop/blobs.tif'\n",
    "blobs = imread(filename)\n",
    "blobs_modified = imread('C:/Users/ryans/OneDrive/Desktop/blobs_messed_up.tiff') \n",
    "\n",
    "viewer = napari.Viewer()\n",
    "viewer.add_image(blobs_modified, name = 'not blobs')\n",
    "viewer.add_image(blobs, name = 'blobs')\n",
    "assistant = Assistant(viewer)\n",
    "viewer.window.add_dock_widget(assistant)"
   ]
  },
  {
   "cell_type": "code",
   "execution_count": 2,
   "id": "03d941cc",
   "metadata": {},
   "outputs": [
    {
     "name": "stderr",
     "output_type": "stream",
     "text": [
      "2022-04-14 16:49:43.869 | INFO     | napari_assistant._gui._category_widget:call_op:129 - gaussian_blur (clesperanto)(..., 1.0, 1.0, 0.0)\n",
      "2022-04-14 16:49:43.895 | DEBUG    | napari_assistant._gui._category_widget:_show_result:231 - creating new layer for id: 3017480299424\n",
      "2022-04-14 16:49:44.046 | INFO     | napari_assistant._gui._category_widget:call_op:129 - gaussian_blur (clesperanto)(..., 1.0, 1.0, 0.0)\n",
      "2022-04-14 16:49:44.055 | DEBUG    | napari_assistant._gui._category_widget:_show_result:225 - updating existing layer: Result of gaussian_blur (clesperanto), with id: 3017480299424\n",
      "2022-04-14 16:49:44.073 | INFO     | napari_assistant._gui._category_widget:call_op:129 - gaussian_blur (clesperanto)(..., 6.0, 1.0, 0.0)\n",
      "2022-04-14 16:49:44.081 | DEBUG    | napari_assistant._gui._category_widget:_show_result:225 - updating existing layer: Result of gaussian_blur (clesperanto), with id: 3017480299424\n",
      "2022-04-14 16:49:44.096 | INFO     | napari_assistant._gui._category_widget:call_op:129 - gaussian_blur (clesperanto)(..., 6.0, 6.0, 0.0)\n",
      "2022-04-14 16:49:44.103 | DEBUG    | napari_assistant._gui._category_widget:_show_result:225 - updating existing layer: Result of gaussian_blur (clesperanto), with id: 3017480299424\n",
      "2022-04-14 16:49:44.120 | INFO     | napari_assistant._gui._category_widget:call_op:129 - gaussian_blur (clesperanto)(..., 6.0, 6.0, 0.0)\n",
      "2022-04-14 16:49:44.130 | DEBUG    | napari_assistant._gui._category_widget:_show_result:225 - updating existing layer: Result of gaussian_blur (clesperanto), with id: 3017480299424\n",
      "2022-04-14 16:49:44.170 | INFO     | napari_assistant._gui._category_widget:call_op:129 - top_hat_box (clesperanto)(..., 10.0, 10.0, 0.0)\n",
      "2022-04-14 16:49:44.187 | DEBUG    | napari_assistant._gui._category_widget:_show_result:231 - creating new layer for id: 3017486822560\n",
      "2022-04-14 16:49:44.262 | INFO     | napari_assistant._gui._category_widget:call_op:129 - top_hat_box (clesperanto)(..., 10.0, 10.0, 0.0)\n",
      "2022-04-14 16:49:44.275 | DEBUG    | napari_assistant._gui._category_widget:_show_result:225 - updating existing layer: Result of top_hat_box (clesperanto), with id: 3017486822560\n",
      "2022-04-14 16:49:44.291 | INFO     | napari_assistant._gui._category_widget:call_op:129 - top_hat_box (clesperanto)(..., 15.0, 10.0, 0.0)\n",
      "2022-04-14 16:49:44.301 | DEBUG    | napari_assistant._gui._category_widget:_show_result:225 - updating existing layer: Result of top_hat_box (clesperanto), with id: 3017486822560\n",
      "2022-04-14 16:49:44.316 | INFO     | napari_assistant._gui._category_widget:call_op:129 - top_hat_box (clesperanto)(..., 15.0, 15.0, 0.0)\n",
      "2022-04-14 16:49:44.329 | DEBUG    | napari_assistant._gui._category_widget:_show_result:225 - updating existing layer: Result of top_hat_box (clesperanto), with id: 3017486822560\n",
      "2022-04-14 16:49:44.346 | INFO     | napari_assistant._gui._category_widget:call_op:129 - top_hat_box (clesperanto)(..., 15.0, 15.0, 0.0)\n",
      "2022-04-14 16:49:44.359 | DEBUG    | napari_assistant._gui._category_widget:_show_result:225 - updating existing layer: Result of top_hat_box (clesperanto), with id: 3017486822560\n",
      "2022-04-14 16:49:44.419 | INFO     | napari_assistant._gui._category_widget:call_op:129 - absolute_difference (clesperanto)(..., )\n",
      "2022-04-14 16:49:44.429 | DEBUG    | napari_assistant._gui._category_widget:_show_result:231 - creating new layer for id: 3017487995664\n",
      "2022-04-14 16:49:44.516 | INFO     | napari_assistant._gui._category_widget:call_op:129 - gaussian_blur (clesperanto)(..., 1.0, 1.0, 0.0)\n",
      "2022-04-14 16:49:44.525 | DEBUG    | napari_assistant._gui._category_widget:_show_result:231 - creating new layer for id: 3017488113376\n",
      "2022-04-14 16:49:44.600 | INFO     | napari_assistant._gui._category_widget:call_op:129 - gaussian_blur (clesperanto)(..., 1.0, 1.0, 0.0)\n",
      "2022-04-14 16:49:44.609 | DEBUG    | napari_assistant._gui._category_widget:_show_result:225 - updating existing layer: Result of gaussian_blur (clesperanto) [1], with id: 3017488113376\n",
      "2022-04-14 16:49:44.623 | INFO     | napari_assistant._gui._category_widget:call_op:129 - gaussian_blur (clesperanto)(..., 23.0, 1.0, 0.0)\n",
      "2022-04-14 16:49:44.632 | DEBUG    | napari_assistant._gui._category_widget:_show_result:225 - updating existing layer: Result of gaussian_blur (clesperanto) [1], with id: 3017488113376\n",
      "2022-04-14 16:49:44.648 | INFO     | napari_assistant._gui._category_widget:call_op:129 - gaussian_blur (clesperanto)(..., 23.0, 1.0, 0.0)\n",
      "2022-04-14 16:49:44.660 | DEBUG    | napari_assistant._gui._category_widget:_show_result:225 - updating existing layer: Result of gaussian_blur (clesperanto) [1], with id: 3017488113376\n",
      "2022-04-14 16:49:44.707 | INFO     | napari_assistant._gui._category_widget:call_op:129 - voronoi_otsu_labeling (clesperanto)(..., 2.0, 2.0)\n",
      "2022-04-14 16:49:44.806 | DEBUG    | napari_assistant._gui._category_widget:_show_result:231 - creating new layer for id: 3017539672528\n",
      "2022-04-14 16:49:44.897 | INFO     | napari_assistant._gui._category_widget:call_op:129 - voronoi_otsu_labeling (clesperanto)(..., 2.0, 2.0)\n",
      "2022-04-14 16:49:45.055 | DEBUG    | napari_assistant._gui._category_widget:_show_result:225 - updating existing layer: Result of voronoi_otsu_labeling (clesperanto), with id: 3017539672528\n",
      "2022-04-14 16:49:45.071 | INFO     | napari_assistant._gui._category_widget:call_op:129 - voronoi_otsu_labeling (clesperanto)(..., 10.0, 2.0)\n",
      "2022-04-14 16:49:45.428 | DEBUG    | napari_assistant._gui._category_widget:_show_result:225 - updating existing layer: Result of voronoi_otsu_labeling (clesperanto), with id: 3017539672528\n",
      "2022-04-14 16:49:45.445 | INFO     | napari_assistant._gui._category_widget:call_op:129 - voronoi_otsu_labeling (clesperanto)(..., 10.0, 6.0)\n",
      "2022-04-14 16:49:45.794 | DEBUG    | napari_assistant._gui._category_widget:_show_result:225 - updating existing layer: Result of voronoi_otsu_labeling (clesperanto), with id: 3017539672528\n",
      "2022-04-14 16:49:45.809 | INFO     | napari_assistant._gui._category_widget:call_op:129 - voronoi_otsu_labeling (clesperanto)(..., 10.0, 6.0)\n",
      "2022-04-14 16:49:46.155 | DEBUG    | napari_assistant._gui._category_widget:_show_result:225 - updating existing layer: Result of voronoi_otsu_labeling (clesperanto), with id: 3017539672528\n",
      "2022-04-14 16:49:46.169 | INFO     | napari_assistant._gui._category_widget:call_op:129 - gaussian_blur (clesperanto)(..., 6.0, 6.0, 0.0)\n",
      "2022-04-14 16:49:46.178 | DEBUG    | napari_assistant._gui._category_widget:_show_result:225 - updating existing layer: Result of gaussian_blur (clesperanto), with id: 3017480299424\n",
      "2022-04-14 16:49:46.183 | INFO     | napari_assistant._gui._category_widget:call_op:129 - top_hat_box (clesperanto)(..., 15.0, 15.0, 0.0)\n",
      "2022-04-14 16:49:46.195 | DEBUG    | napari_assistant._gui._category_widget:_show_result:225 - updating existing layer: Result of top_hat_box (clesperanto), with id: 3017486822560\n",
      "2022-04-14 16:49:46.218 | INFO     | napari_assistant._gui._category_widget:call_op:129 - top_hat_box (clesperanto)(..., 15.0, 15.0, 0.0)\n",
      "2022-04-14 16:49:46.230 | DEBUG    | napari_assistant._gui._category_widget:_show_result:225 - updating existing layer: Result of top_hat_box (clesperanto), with id: 3017486822560\n",
      "2022-04-14 16:49:46.246 | INFO     | napari_assistant._gui._category_widget:call_op:129 - absolute_difference (clesperanto)(..., )\n",
      "2022-04-14 16:49:46.252 | DEBUG    | napari_assistant._gui._category_widget:_show_result:225 - updating existing layer: Result of absolute_difference (clesperanto), with id: 3017487995664\n",
      "2022-04-14 16:49:46.261 | INFO     | napari_assistant._gui._category_widget:call_op:129 - gaussian_blur (clesperanto)(..., 23.0, 1.0, 0.0)\n",
      "2022-04-14 16:49:46.270 | DEBUG    | napari_assistant._gui._category_widget:_show_result:225 - updating existing layer: Result of gaussian_blur (clesperanto) [1], with id: 3017488113376\n",
      "2022-04-14 16:49:46.279 | INFO     | napari_assistant._gui._category_widget:call_op:129 - voronoi_otsu_labeling (clesperanto)(..., 10.0, 6.0)\n",
      "2022-04-14 16:49:46.635 | DEBUG    | napari_assistant._gui._category_widget:_show_result:225 - updating existing layer: Result of voronoi_otsu_labeling (clesperanto), with id: 3017539672528\n",
      "2022-04-14 16:49:46.668 | INFO     | napari_assistant._gui._category_widget:call_op:129 - gaussian_blur (clesperanto)(..., 23.0, 1.0, 0.0)\n"
     ]
    },
    {
     "name": "stderr",
     "output_type": "stream",
     "text": [
      "2022-04-14 16:49:46.679 | DEBUG    | napari_assistant._gui._category_widget:_show_result:225 - updating existing layer: Result of gaussian_blur (clesperanto) [1], with id: 3017488113376\n",
      "2022-04-14 16:49:46.685 | INFO     | napari_assistant._gui._category_widget:call_op:129 - voronoi_otsu_labeling (clesperanto)(..., 10.0, 6.0)\n",
      "2022-04-14 16:49:47.024 | DEBUG    | napari_assistant._gui._category_widget:_show_result:225 - updating existing layer: Result of voronoi_otsu_labeling (clesperanto), with id: 3017539672528\n",
      "2022-04-14 16:49:47.046 | INFO     | napari_assistant._gui._category_widget:call_op:129 - voronoi_otsu_labeling (clesperanto)(..., 10.0, 6.0)\n",
      "2022-04-14 16:49:47.374 | DEBUG    | napari_assistant._gui._category_widget:_show_result:225 - updating existing layer: Result of voronoi_otsu_labeling (clesperanto), with id: 3017539672528\n"
     ]
    }
   ],
   "source": [
    "assistant.load_workflow(filename='test_long_wf.yaml')"
   ]
  }
 ],
 "metadata": {
  "kernelspec": {
   "display_name": "Python 3 (ipykernel)",
   "language": "python",
   "name": "python3"
  },
  "language_info": {
   "codemirror_mode": {
    "name": "ipython",
    "version": 3
   },
   "file_extension": ".py",
   "mimetype": "text/x-python",
   "name": "python",
   "nbconvert_exporter": "python",
   "pygments_lexer": "ipython3",
   "version": "3.9.7"
  }
 },
 "nbformat": 4,
 "nbformat_minor": 5
}
