{
 "cells": [
  {
   "cell_type": "code",
   "execution_count": 1,
   "id": "f51f5e1a",
   "metadata": {},
   "outputs": [
    {
     "name": "stderr",
     "output_type": "stream",
     "text": [
      "C:\\Users\\ryans\\Anaconda3\\envs\\np_workflows_v1\\lib\\site-packages\\napari_tools_menu\\__init__.py:165: FutureWarning: Public access to Window.qt_viewer is deprecated and will be removed in\n",
      "v0.5.0. It is considered an \"implementation detail\" of the napari\n",
      "application, not part of the napari viewer model. If your use case\n",
      "requires access to qt_viewer, please open an issue to discuss.\n",
      "  self.tools_menu = ToolsMenu(self, self.qt_viewer.viewer)\n"
     ]
    },
    {
     "data": {
      "text/plain": [
       "<napari._qt.widgets.qt_viewer_dock_widget.QtViewerDockWidget at 0x15b880e3dc0>"
      ]
     },
     "execution_count": 1,
     "metadata": {},
     "output_type": "execute_result"
    }
   ],
   "source": [
    "import napari\n",
    "from napari_assistant._gui._Assistant import Assistant\n",
    "from skimage.io import imread\n",
    "from napari_assistant._categories import CATEGORIES\n",
    "from napari_workflows import WorkflowManager\n",
    "\n",
    "filename = r\"C:\\Users\\ryans\\OneDrive\\Documents\\Bia POL stuff\\Napari Plugin Development\\2d timelapse example data.svg\\2d+t labels and orig.svg\\2d+t CalibZAPWfixed.tif\"\n",
    "nuclei_2d_t = imread(filename)\n",
    "\n",
    "\n",
    "viewer = napari.Viewer()\n",
    "viewer.add_image(nuclei_2d_t, name = 'Nuclei (2D + t)')\n",
    "\n",
    "manager = WorkflowManager.install(viewer)\n",
    "assistant = Assistant(viewer)\n",
    "viewer.window.add_dock_widget(assistant)"
   ]
  },
  {
   "cell_type": "code",
   "execution_count": 2,
   "id": "02d2ebd0",
   "metadata": {},
   "outputs": [
    {
     "name": "stderr",
     "output_type": "stream",
     "text": [
      "2022-05-10 11:19:08.535 | INFO     | napari_assistant._gui._category_widget:call_op:171 - gaussian_blur (clesperanto)(..., 1.0, 1.0, 0.0)\n"
     ]
    },
    {
     "name": "stdout",
     "output_type": "stream",
     "text": [
      "only arguments: [array([[ 68, 110, 141, ..., 112,  98,  83],\n",
      "       [ 77,  97, 122, ..., 103,  77, 108],\n",
      "       [141, 161, 164, ...,  71,  73, 108],\n",
      "       ...,\n",
      "       [149, 188, 206, ..., 102, 107, 128],\n",
      "       [175, 203, 236, ..., 113, 118, 128],\n",
      "       [225, 249, 255, ..., 101, 123, 140]], dtype=uint8)]\n",
      "det kwargs:     {'destination': None, 'sigma_x': 1.0, 'sigma_y': 1.0, 'sigma_z': 0.0}\n"
     ]
    }
   ],
   "source": [
    "noise_widget = assistant._activate(CATEGORIES.get(\"Remove noise\"))"
   ]
  },
  {
   "cell_type": "code",
   "execution_count": 3,
   "id": "e912210f",
   "metadata": {},
   "outputs": [
    {
     "name": "stdout",
     "output_type": "stream",
     "text": [
      "Workflow:\n",
      "\n"
     ]
    }
   ],
   "source": [
    "for i in manager.undo_redo_controller.undo_stack:\n",
    "    print(i)"
   ]
  },
  {
   "cell_type": "code",
   "execution_count": 4,
   "id": "ce7b395c",
   "metadata": {},
   "outputs": [
    {
     "data": {
      "text/plain": [
       "[<napari_workflows._workflow.Workflow at 0x15b88203430>]"
      ]
     },
     "execution_count": 4,
     "metadata": {},
     "output_type": "execute_result"
    },
    {
     "name": "stderr",
     "output_type": "stream",
     "text": [
      "2022-05-10 11:19:30.516 | INFO     | napari_assistant._gui._category_widget:call_op:171 - gaussian_blur (clesperanto)(..., 1.0, 1.0, 0.0)\n"
     ]
    },
    {
     "name": "stdout",
     "output_type": "stream",
     "text": [
      "only arguments: [array([[ 97, 130, 166, ...,  54,  65,  92],\n",
      "       [ 82, 142, 167, ...,  62,  73, 108],\n",
      "       [ 67, 132, 185, ...,  64,  87,  99],\n",
      "       ...,\n",
      "       [ 24,  43,  65, ...,  71,  39,  16],\n",
      "       [ 15,  33,  83, ...,  50,  26,  30],\n",
      "       [ 10,  29,  51, ...,  30,  44,  48]], dtype=uint8)]\n",
      "det kwargs:     {'destination': None, 'sigma_x': 1.0, 'sigma_y': 1.0, 'sigma_z': 0.0}\n",
      "new tasks:\n",
      "  {'Result of gaussian_blur (clesperanto)': (<function gaussian_blur at 0x0000015BECDBF670>, array([[ 68, 110, 141, ..., 112,  98,  83],\n",
      "       [ 77,  97, 122, ..., 103,  77, 108],\n",
      "       [141, 161, 164, ...,  71,  73, 108],\n",
      "       ...,\n",
      "       [149, 188, 206, ..., 102, 107, 128],\n",
      "       [175, 203, 236, ..., 113, 118, 128],\n",
      "       [225, 249, 255, ..., 101, 123, 140]], dtype=uint8), None, 1.0, 1.0, 0.0)}\n",
      "\n",
      "undo tasks:\n",
      " {}\n",
      "\n"
     ]
    }
   ],
   "source": [
    "manager.undo_redo_controller.undo_stack"
   ]
  },
  {
   "cell_type": "code",
   "execution_count": null,
   "id": "43a19cdb",
   "metadata": {},
   "outputs": [],
   "source": []
  }
 ],
 "metadata": {
  "kernelspec": {
   "display_name": "Python 3 (ipykernel)",
   "language": "python",
   "name": "python3"
  },
  "language_info": {
   "codemirror_mode": {
    "name": "ipython",
    "version": 3
   },
   "file_extension": ".py",
   "mimetype": "text/x-python",
   "name": "python",
   "nbconvert_exporter": "python",
   "pygments_lexer": "ipython3",
   "version": "3.9.7"
  }
 },
 "nbformat": 4,
 "nbformat_minor": 5
}
