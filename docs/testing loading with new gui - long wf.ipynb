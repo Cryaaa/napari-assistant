{
 "cells": [
  {
   "cell_type": "code",
   "execution_count": 1,
   "id": "450d76bf",
   "metadata": {},
   "outputs": [
    {
     "name": "stderr",
     "output_type": "stream",
     "text": [
      "C:\\Users\\ryans\\Anaconda3\\envs\\np_workflows_v1\\lib\\site-packages\\napari_tools_menu\\__init__.py:165: FutureWarning: Public access to Window.qt_viewer is deprecated and will be removed in\n",
      "v0.5.0. It is considered an \"implementation detail\" of the napari\n",
      "application, not part of the napari viewer model. If your use case\n",
      "requires access to qt_viewer, please open an issue to discuss.\n",
      "  self.tools_menu = ToolsMenu(self, self.qt_viewer.viewer)\n"
     ]
    },
    {
     "data": {
      "text/plain": [
       "<napari._qt.widgets.qt_viewer_dock_widget.QtViewerDockWidget at 0x167846338b0>"
      ]
     },
     "execution_count": 1,
     "metadata": {},
     "output_type": "execute_result"
    }
   ],
   "source": [
    "import napari\n",
    "from napari_assistant._gui._Assistant import Assistant\n",
    "from skimage.io import imread\n",
    "from napari_assistant._categories import CATEGORIES\n",
    "\n",
    "filename = 'C:/Users/ryans/OneDrive/Desktop/blobs.tif'\n",
    "blobs = imread(filename)\n",
    "blobs_modified = imread('C:/Users/ryans/OneDrive/Desktop/blobs_messed_up.tiff') \n",
    "\n",
    "viewer = napari.Viewer()\n",
    "viewer.add_image(blobs_modified, name = 'not blobs')\n",
    "viewer.add_image(blobs, name = 'blobs')\n",
    "assistant = Assistant(viewer)\n",
    "viewer.window.add_dock_widget(assistant)"
   ]
  },
  {
   "cell_type": "code",
   "execution_count": 2,
   "id": "03d941cc",
   "metadata": {},
   "outputs": [
    {
     "name": "stderr",
     "output_type": "stream",
     "text": [
      "2022-04-19 10:51:18.129 | INFO     | napari_assistant._gui._category_widget:call_op:129 - gaussian_blur (clesperanto)(..., 1.0, 1.0, 0.0)\n",
      "2022-04-19 10:51:18.297 | DEBUG    | napari_assistant._gui._category_widget:_show_result:231 - creating new layer for id: 1544114418448\n",
      "2022-04-19 10:51:18.456 | INFO     | napari_assistant._gui._category_widget:call_op:129 - gaussian_blur (clesperanto)(..., 1.0, 1.0, 0.0)\n",
      "2022-04-19 10:51:18.467 | DEBUG    | napari_assistant._gui._category_widget:_show_result:225 - updating existing layer: Result of gaussian_blur (clesperanto), with id: 1544114418448\n",
      "2022-04-19 10:51:18.485 | INFO     | napari_assistant._gui._category_widget:call_op:129 - gaussian_blur (clesperanto)(..., 6.0, 1.0, 0.0)\n",
      "2022-04-19 10:51:18.494 | DEBUG    | napari_assistant._gui._category_widget:_show_result:225 - updating existing layer: Result of gaussian_blur (clesperanto), with id: 1544114418448\n",
      "2022-04-19 10:51:18.511 | INFO     | napari_assistant._gui._category_widget:call_op:129 - gaussian_blur (clesperanto)(..., 6.0, 6.0, 0.0)\n",
      "2022-04-19 10:51:18.519 | DEBUG    | napari_assistant._gui._category_widget:_show_result:225 - updating existing layer: Result of gaussian_blur (clesperanto), with id: 1544114418448\n",
      "2022-04-19 10:51:18.537 | INFO     | napari_assistant._gui._category_widget:call_op:129 - gaussian_blur (clesperanto)(..., 6.0, 6.0, 0.0)\n",
      "2022-04-19 10:51:18.547 | DEBUG    | napari_assistant._gui._category_widget:_show_result:225 - updating existing layer: Result of gaussian_blur (clesperanto), with id: 1544114418448\n",
      "2022-04-19 10:51:18.595 | INFO     | napari_assistant._gui._category_widget:call_op:129 - top_hat_box (clesperanto)(..., 10.0, 10.0, 0.0)\n",
      "2022-04-19 10:51:18.706 | DEBUG    | napari_assistant._gui._category_widget:_show_result:231 - creating new layer for id: 1544120580848\n",
      "2022-04-19 10:51:18.794 | INFO     | napari_assistant._gui._category_widget:call_op:129 - top_hat_box (clesperanto)(..., 10.0, 10.0, 0.0)\n",
      "2022-04-19 10:51:18.809 | DEBUG    | napari_assistant._gui._category_widget:_show_result:225 - updating existing layer: Result of top_hat_box (clesperanto), with id: 1544120580848\n",
      "2022-04-19 10:51:18.826 | INFO     | napari_assistant._gui._category_widget:call_op:129 - top_hat_box (clesperanto)(..., 15.0, 10.0, 0.0)\n",
      "2022-04-19 10:51:18.839 | DEBUG    | napari_assistant._gui._category_widget:_show_result:225 - updating existing layer: Result of top_hat_box (clesperanto), with id: 1544120580848\n",
      "2022-04-19 10:51:18.854 | INFO     | napari_assistant._gui._category_widget:call_op:129 - top_hat_box (clesperanto)(..., 15.0, 15.0, 0.0)\n",
      "2022-04-19 10:51:18.870 | DEBUG    | napari_assistant._gui._category_widget:_show_result:225 - updating existing layer: Result of top_hat_box (clesperanto), with id: 1544120580848\n",
      "2022-04-19 10:51:18.889 | INFO     | napari_assistant._gui._category_widget:call_op:129 - top_hat_box (clesperanto)(..., 15.0, 15.0, 0.0)\n",
      "2022-04-19 10:51:18.905 | DEBUG    | napari_assistant._gui._category_widget:_show_result:225 - updating existing layer: Result of top_hat_box (clesperanto), with id: 1544120580848\n",
      "2022-04-19 10:51:18.977 | INFO     | napari_assistant._gui._category_widget:call_op:129 - absolute_difference (clesperanto)(..., )\n",
      "2022-04-19 10:51:19.184 | DEBUG    | napari_assistant._gui._category_widget:_show_result:231 - creating new layer for id: 1544121363760\n",
      "2022-04-19 10:51:19.289 | INFO     | napari_assistant._gui._category_widget:call_op:129 - gaussian_blur (clesperanto)(..., 1.0, 1.0, 0.0)\n",
      "2022-04-19 10:51:19.299 | DEBUG    | napari_assistant._gui._category_widget:_show_result:231 - creating new layer for id: 1544121457248\n",
      "2022-04-19 10:51:19.383 | INFO     | napari_assistant._gui._category_widget:call_op:129 - gaussian_blur (clesperanto)(..., 1.0, 1.0, 0.0)\n",
      "2022-04-19 10:51:19.392 | DEBUG    | napari_assistant._gui._category_widget:_show_result:225 - updating existing layer: Result of gaussian_blur (clesperanto) [1], with id: 1544121457248\n",
      "2022-04-19 10:51:19.409 | INFO     | napari_assistant._gui._category_widget:call_op:129 - gaussian_blur (clesperanto)(..., 23.0, 1.0, 0.0)\n",
      "2022-04-19 10:51:19.421 | DEBUG    | napari_assistant._gui._category_widget:_show_result:225 - updating existing layer: Result of gaussian_blur (clesperanto) [1], with id: 1544121457248\n",
      "2022-04-19 10:51:19.437 | INFO     | napari_assistant._gui._category_widget:call_op:129 - gaussian_blur (clesperanto)(..., 23.0, 1.0, 0.0)\n",
      "2022-04-19 10:51:19.450 | DEBUG    | napari_assistant._gui._category_widget:_show_result:225 - updating existing layer: Result of gaussian_blur (clesperanto) [1], with id: 1544121457248\n",
      "2022-04-19 10:51:19.505 | INFO     | napari_assistant._gui._category_widget:call_op:129 - voronoi_otsu_labeling (clesperanto)(..., 2.0, 2.0)\n",
      "2022-04-19 10:51:20.224 | DEBUG    | napari_assistant._gui._category_widget:_show_result:231 - creating new layer for id: 1544139462832\n",
      "2022-04-19 10:51:20.332 | INFO     | napari_assistant._gui._category_widget:call_op:129 - voronoi_otsu_labeling (clesperanto)(..., 2.0, 2.0)\n",
      "2022-04-19 10:51:20.529 | DEBUG    | napari_assistant._gui._category_widget:_show_result:225 - updating existing layer: Result of voronoi_otsu_labeling (clesperanto), with id: 1544139462832\n",
      "2022-04-19 10:51:20.547 | INFO     | napari_assistant._gui._category_widget:call_op:129 - voronoi_otsu_labeling (clesperanto)(..., 10.0, 2.0)\n",
      "2022-04-19 10:51:20.951 | DEBUG    | napari_assistant._gui._category_widget:_show_result:225 - updating existing layer: Result of voronoi_otsu_labeling (clesperanto), with id: 1544139462832\n",
      "2022-04-19 10:51:20.965 | INFO     | napari_assistant._gui._category_widget:call_op:129 - voronoi_otsu_labeling (clesperanto)(..., 10.0, 6.0)\n",
      "2022-04-19 10:51:21.390 | DEBUG    | napari_assistant._gui._category_widget:_show_result:225 - updating existing layer: Result of voronoi_otsu_labeling (clesperanto), with id: 1544139462832\n",
      "2022-04-19 10:51:21.407 | INFO     | napari_assistant._gui._category_widget:call_op:129 - voronoi_otsu_labeling (clesperanto)(..., 10.0, 6.0)\n",
      "2022-04-19 10:51:21.858 | DEBUG    | napari_assistant._gui._category_widget:_show_result:225 - updating existing layer: Result of voronoi_otsu_labeling (clesperanto), with id: 1544139462832\n",
      "2022-04-19 10:51:21.874 | INFO     | napari_assistant._gui._category_widget:call_op:129 - gaussian_blur (clesperanto)(..., 6.0, 6.0, 0.0)\n",
      "2022-04-19 10:51:21.884 | DEBUG    | napari_assistant._gui._category_widget:_show_result:225 - updating existing layer: Result of gaussian_blur (clesperanto), with id: 1544114418448\n",
      "2022-04-19 10:51:21.892 | INFO     | napari_assistant._gui._category_widget:call_op:129 - top_hat_box (clesperanto)(..., 15.0, 15.0, 0.0)\n",
      "2022-04-19 10:51:21.906 | DEBUG    | napari_assistant._gui._category_widget:_show_result:225 - updating existing layer: Result of top_hat_box (clesperanto), with id: 1544120580848\n",
      "2022-04-19 10:51:21.934 | INFO     | napari_assistant._gui._category_widget:call_op:129 - top_hat_box (clesperanto)(..., 15.0, 15.0, 0.0)\n",
      "2022-04-19 10:51:21.948 | DEBUG    | napari_assistant._gui._category_widget:_show_result:225 - updating existing layer: Result of top_hat_box (clesperanto), with id: 1544120580848\n",
      "2022-04-19 10:51:21.965 | INFO     | napari_assistant._gui._category_widget:call_op:129 - absolute_difference (clesperanto)(..., )\n",
      "2022-04-19 10:51:21.975 | DEBUG    | napari_assistant._gui._category_widget:_show_result:225 - updating existing layer: Result of absolute_difference (clesperanto), with id: 1544121363760\n",
      "2022-04-19 10:51:21.981 | INFO     | napari_assistant._gui._category_widget:call_op:129 - gaussian_blur (clesperanto)(..., 23.0, 1.0, 0.0)\n",
      "2022-04-19 10:51:21.994 | DEBUG    | napari_assistant._gui._category_widget:_show_result:225 - updating existing layer: Result of gaussian_blur (clesperanto) [1], with id: 1544121457248\n",
      "2022-04-19 10:51:22.001 | INFO     | napari_assistant._gui._category_widget:call_op:129 - voronoi_otsu_labeling (clesperanto)(..., 10.0, 6.0)\n",
      "2022-04-19 10:51:22.422 | DEBUG    | napari_assistant._gui._category_widget:_show_result:225 - updating existing layer: Result of voronoi_otsu_labeling (clesperanto), with id: 1544139462832\n",
      "2022-04-19 10:51:22.456 | INFO     | napari_assistant._gui._category_widget:call_op:129 - gaussian_blur (clesperanto)(..., 23.0, 1.0, 0.0)\n"
     ]
    },
    {
     "name": "stderr",
     "output_type": "stream",
     "text": [
      "2022-04-19 10:51:22.466 | DEBUG    | napari_assistant._gui._category_widget:_show_result:225 - updating existing layer: Result of gaussian_blur (clesperanto) [1], with id: 1544121457248\n",
      "2022-04-19 10:51:22.474 | INFO     | napari_assistant._gui._category_widget:call_op:129 - voronoi_otsu_labeling (clesperanto)(..., 10.0, 6.0)\n",
      "2022-04-19 10:51:22.850 | DEBUG    | napari_assistant._gui._category_widget:_show_result:225 - updating existing layer: Result of voronoi_otsu_labeling (clesperanto), with id: 1544139462832\n",
      "2022-04-19 10:51:22.885 | INFO     | napari_assistant._gui._category_widget:call_op:129 - voronoi_otsu_labeling (clesperanto)(..., 10.0, 6.0)\n",
      "2022-04-19 10:51:23.261 | DEBUG    | napari_assistant._gui._category_widget:_show_result:225 - updating existing layer: Result of voronoi_otsu_labeling (clesperanto), with id: 1544139462832\n"
     ]
    }
   ],
   "source": [
    "assistant.load_workflow(filename='test_long_wf.yaml')"
   ]
  }
 ],
 "metadata": {
  "kernelspec": {
   "display_name": "Python 3 (ipykernel)",
   "language": "python",
   "name": "python3"
  },
  "language_info": {
   "codemirror_mode": {
    "name": "ipython",
    "version": 3
   },
   "file_extension": ".py",
   "mimetype": "text/x-python",
   "name": "python",
   "nbconvert_exporter": "python",
   "pygments_lexer": "ipython3",
   "version": "3.9.7"
  }
 },
 "nbformat": 4,
 "nbformat_minor": 5
}
