{
 "cells": [
  {
   "cell_type": "code",
   "execution_count": 2,
   "id": "509f6b1b",
   "metadata": {},
   "outputs": [
    {
     "name": "stderr",
     "output_type": "stream",
     "text": [
      "C:\\Users\\ryans\\anaconda3\\envs\\np_workflows_v1\\lib\\site-packages\\napari_tools_menu\\__init__.py:165: FutureWarning: Public access to Window.qt_viewer is deprecated and will be removed in\n",
      "v0.5.0. It is considered an \"implementation detail\" of the napari\n",
      "application, not part of the napari viewer model. If your use case\n",
      "requires access to qt_viewer, please open an issue to discuss.\n",
      "  self.tools_menu = ToolsMenu(self, self.qt_viewer.viewer)\n"
     ]
    },
    {
     "data": {
      "text/plain": [
       "<Image layer 'img2' at 0x2175505cc10>"
      ]
     },
     "execution_count": 2,
     "metadata": {},
     "output_type": "execute_result"
    }
   ],
   "source": [
    "from napari_assistant._workflow_io_utility import *\n",
    "from napari_workflows._io_yaml_v1 import *\n",
    "import napari\n",
    "from skimage.io import imread\n",
    "from napari_workflows import WorkflowManager\n",
    "desktop = 'C:/Users/ryans/Desktop/'\n",
    "\n",
    "img1 = imread(desktop+'blobs.tif')\n",
    "img2 = imread(desktop+'blobs_messed_up.tiff')\n",
    "\n",
    "viewer = napari.Viewer()\n",
    "viewer.add_image(img1)\n",
    "viewer.add_image(img2)"
   ]
  },
  {
   "cell_type": "code",
   "execution_count": 3,
   "id": "2cab66db",
   "metadata": {},
   "outputs": [],
   "source": [
    "workflow = load_workflow('saved_from_viewer.yaml')\n",
    "initialise_root_functions(workflow, viewer)\n",
    "load_remaining_workflow(workflow,viewer)"
   ]
  },
  {
   "cell_type": "markdown",
   "id": "c7e4d443",
   "metadata": {},
   "source": [
    "It works!"
   ]
  },
  {
   "cell_type": "code",
   "execution_count": null,
   "id": "56ccef48",
   "metadata": {},
   "outputs": [],
   "source": []
  }
 ],
 "metadata": {
  "kernelspec": {
   "display_name": "Python 3 (ipykernel)",
   "language": "python",
   "name": "python3"
  },
  "language_info": {
   "codemirror_mode": {
    "name": "ipython",
    "version": 3
   },
   "file_extension": ".py",
   "mimetype": "text/x-python",
   "name": "python",
   "nbconvert_exporter": "python",
   "pygments_lexer": "ipython3",
   "version": "3.10.2"
  }
 },
 "nbformat": 4,
 "nbformat_minor": 5
}
