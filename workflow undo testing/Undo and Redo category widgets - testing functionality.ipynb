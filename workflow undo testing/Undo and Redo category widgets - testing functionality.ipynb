{
 "cells": [
  {
   "cell_type": "code",
   "execution_count": 1,
   "id": "bda26081",
   "metadata": {},
   "outputs": [
    {
     "name": "stderr",
     "output_type": "stream",
     "text": [
      "C:\\Users\\ryans\\Anaconda3\\envs\\np_workflows_v1\\lib\\site-packages\\napari_tools_menu\\__init__.py:165: FutureWarning: Public access to Window.qt_viewer is deprecated and will be removed in\n",
      "v0.5.0. It is considered an \"implementation detail\" of the napari\n",
      "application, not part of the napari viewer model. If your use case\n",
      "requires access to qt_viewer, please open an issue to discuss.\n",
      "  self.tools_menu = ToolsMenu(self, self.qt_viewer.viewer)\n"
     ]
    },
    {
     "data": {
      "text/plain": [
       "<napari._qt.widgets.qt_viewer_dock_widget.QtViewerDockWidget at 0x1fcdef6ce50>"
      ]
     },
     "execution_count": 1,
     "metadata": {},
     "output_type": "execute_result"
    }
   ],
   "source": [
    "import napari\n",
    "from napari_assistant._gui._Assistant import Assistant\n",
    "from skimage.io import imread\n",
    "from napari_assistant._categories import CATEGORIES\n",
    "from napari_assistant._workflow_io_utility import initialise_root_functions, load_remaining_workflow\n",
    "from napari_assistant._undo_redo import delete_workflow_widgets_layers\n",
    "from napari_workflows import WorkflowManager\n",
    "\n",
    "filename = 'C:/Users/ryans/OneDrive/Desktop/blobs.tif'\n",
    "blobs = imread(filename)\n",
    "blobs_modified = imread('C:/Users/ryans/OneDrive/Desktop/blobs_messed_up.tiff') \n",
    "\n",
    "viewer = napari.Viewer()\n",
    "viewer.add_image(blobs_modified, name = 'not blobs')\n",
    "viewer.add_image(blobs, name = 'blobs')\n",
    "\n",
    "manager = WorkflowManager.install(viewer)\n",
    "assistant = Assistant(viewer)\n",
    "viewer.window.add_dock_widget(assistant)"
   ]
  },
  {
   "cell_type": "code",
   "execution_count": 2,
   "id": "a97c7b79",
   "metadata": {},
   "outputs": [
    {
     "name": "stderr",
     "output_type": "stream",
     "text": [
      "2022-05-10 13:57:15.850 | INFO     | napari_assistant._gui._category_widget:call_op:171 - gaussian_blur (clesperanto)(..., 1.0, 1.0, 0.0)\n",
      "2022-05-10 13:57:16.002 | INFO     | napari_assistant._gui._category_widget:call_op:171 - gamma_correction (clesperanto)(..., 1.0)\n"
     ]
    },
    {
     "name": "stdout",
     "output_type": "stream",
     "text": [
      "only arguments: [array([[ 40,  32,  24, ..., 216, 200, 200],\n",
      "       [ 56,  40,  24, ..., 232, 216, 216],\n",
      "       [ 64,  48,  24, ..., 240, 232, 232],\n",
      "       ...,\n",
      "       [ 72,  80,  80, ...,  48,  48,  48],\n",
      "       [ 80,  80,  80, ...,  48,  48,  48],\n",
      "       [ 96,  88,  80, ...,  48,  48,  48]], dtype=uint8)]\n",
      "det kwargs:     {'destination': None, 'sigma_x': 1.0, 'sigma_y': 1.0, 'sigma_z': 0.0}\n",
      "only arguments: [cl.Array([[ 41.42875 ,  34.696438,  27.733936, ..., 220.92714 , 211.21162 ,\n",
      "        206.71573 ],\n",
      "       [ 47.421425,  38.878723,  30.323011, ..., 228.32323 , 220.60194 ,\n",
      "        216.83534 ],\n",
      "       [ 48.121433,  40.610855,  33.357384, ..., 235.32935 , 229.7049  ,\n",
      "        226.8882  ],\n",
      "       ...,\n",
      "       [ 74.4386  ,  76.32904 ,  77.03725 , ...,  48.00032 ,  48.00075 ,\n",
      "         48.001007],\n",
      "       [ 81.793655,  81.17787 ,  79.80763 , ...,  48.      ,  48.      ,\n",
      "         48.      ],\n",
      "       [ 88.816925,  85.382095,  81.478806, ...,  48.      ,  48.      ,\n",
      "         48.      ]], dtype=float32)]\n",
      "det kwargs:     {'target': None, 'gamma': 1.0}\n",
      "new tasks:\n",
      "  {'Result of gaussian_blur (clesperanto)': (<function gaussian_blur at 0x000001FCC4A6F700>, 'blobs', None, 1.0, 1.0, 0.0)}\n",
      "\n",
      "undo tasks:\n",
      " {}\n",
      "\n"
     ]
    },
    {
     "data": {
      "image/png": "[encoded data removed]",
      "text/plain": [
       "<FunctionGui do_filter(*, input0: napari.layers.image.image.Image = <Image layer 'Result of gaussian_blur (clesperanto)' at 0x1fcd20e2c40>, op_name: str = 'gamma_correction (clesperanto)', x: float = 1.0, y: float = 1.0, z: float = 0.0, u: float = 0.0, v: float = 0.0, w: float = 0.0, a: bool = False, b: bool = False, c: bool = False, d: bool = False, e: bool = False, f: bool = False, g: bool = False, h: bool = False, i: bool = False, j: bool = False, k: str = '', l: str = '', m: str = '', viewer: napari.viewer.Viewer = Viewer(axes=Axes(visible=False, labels=True, colored=True, dashed=False, arrows=True), camera=Camera(center=(0.0, 126.5, 127.5), zoom=3.392322834645669, angles=(0.0, 0.0, 90.0), perspective=0, interactive=True), cursor=Cursor(position=(1, 1), scaled=True, size=1, style=<CursorStyle.STANDARD: 'standard'>), dims=Dims(ndim=2, ndisplay=2, last_used=0, range=((0.0, 254.0, 1.0), (0.0, 256.0, 1.0)), current_step=(127, 128), order=(0, 1), axis_labels=('0', '1')), grid=GridCanvas(stride=-1, shape=(-1, -1), enabled=False), layers=[<Image layer 'not blobs' at 0x1fcc6a115e0>, <Image layer 'blobs' at 0x1fcc7bae5e0>, <Image layer 'Result of gaussian_blur (clesperanto)' at 0x1fcd20e2c40>, <Image layer 'Result of gamma_correction (clesperanto)' at 0x1fcdf077400>], scale_bar=ScaleBar(visible=False, colored=False, ticks=True, position=<Position.BOTTOM_RIGHT: 'bottom_right'>, font_size=10, unit=None), text_overlay=TextOverlay(visible=False, color=(0.5, 0.5, 0.5, 1.0), font_size=10, position=<TextOverlayPosition.TOP_LEFT: 'top_left'>, text=''), overlays=Overlays(interaction_box=InteractionBox(points=None, show=False, show_handle=False, show_vertices=False, selection_box_drag=None, selection_box_final=None, transform_start=<napari.utils.transforms.transforms.Affine object at 0x000001FCC799AF40>, transform_drag=<napari.utils.transforms.transforms.Affine object at 0x000001FCC799AFA0>, transform_final=<napari.utils.transforms.transforms.Affine object at 0x000001FCC79A5040>, transform=<napari.utils.transforms.transforms.Affine object at 0x000001FCC79A50A0>, allow_new_selection=True, selected_vertex=None)), help='', status='Ready', tooltip=Tooltip(visible=False, text=''), theme='dark', title='napari', mouse_move_callbacks=[<function InteractionBoxMouseBindings.initialize_mouse_events.<locals>.mouse_move at 0x000001FCD20F10D0>], mouse_drag_callbacks=[<function InteractionBoxMouseBindings.initialize_mouse_events.<locals>.mouse_drag at 0x000001FCD20DBCA0>], mouse_double_click_callbacks=[], mouse_wheel_callbacks=[<function dims_scroll at 0x000001FCC57EFA60>], _persisted_mouse_event={}, _mouse_drag_gen={}, _mouse_wheel_gen={}, keymap={'Shift': <function InteractionBoxMouseBindings.initialize_key_events.<locals>.hold_to_lock_aspect_ratio at 0x000001FCD20DB3A0>, 'Control-Shift-R': <function InteractionBoxMouseBindings._reset_active_layer_affine at 0x000001FCD1D59670>, 'Control-Shift-A': <function InteractionBoxMouseBindings._transform_active_layer at 0x000001FCD1D591F0>}))>"
      ]
     },
     "execution_count": 2,
     "metadata": {},
     "output_type": "execute_result"
    }
   ],
   "source": [
    "noise_widget = assistant._activate(CATEGORIES.get(\"Remove noise\"))\n",
    "assistant._activate(CATEGORIES.get(\"Filter\"))"
   ]
  },
  {
   "cell_type": "code",
   "execution_count": 3,
   "id": "13b355a8",
   "metadata": {},
   "outputs": [
    {
     "name": "stdout",
     "output_type": "stream",
     "text": [
      "Workflow:\n",
      "\n",
      "Workflow:\n",
      "Result of gaussian_blur (clesperanto) <- (<function gaussian_blur at 0x000001FCC4A6F700>, 'blobs', None, 1.0, 1.0, 0.0)\n",
      "\n"
     ]
    }
   ],
   "source": [
    "controller = manager.undo_redo_controller\n",
    "for i in controller.undo_stack:\n",
    "    print(i)"
   ]
  },
  {
   "cell_type": "code",
   "execution_count": 4,
   "id": "619d0ea9",
   "metadata": {},
   "outputs": [
    {
     "name": "stderr",
     "output_type": "stream",
     "text": [
      "2022-05-10 13:57:16.501 | INFO     | napari_assistant._gui._category_widget:call_op:171 - gaussian_blur (clesperanto)(..., 4.0, 1.0, 0.0)\n",
      "2022-05-10 13:57:16.521 | INFO     | napari_assistant._gui._category_widget:call_op:171 - gamma_correction (clesperanto)(..., 1.0)\n"
     ]
    },
    {
     "name": "stdout",
     "output_type": "stream",
     "text": [
      "only arguments: [cl.Array([[ 36.956074,  35.081005,  33.288277, ..., 221.35294 , 218.56525 ,\n",
      "        215.72932 ],\n",
      "       [ 42.046062,  39.716633,  37.448833, ..., 228.4351  , 226.22757 ,\n",
      "        223.9724  ],\n",
      "       [ 43.593166,  41.570667,  39.553253, ..., 235.27147 , 233.68332 ,\n",
      "        232.05185 ],\n",
      "       ...,\n",
      "       [ 73.06028 ,  72.592766,  71.86043 , ...,  48.541756,  48.271515,\n",
      "         48.127243],\n",
      "       [ 79.10255 ,  77.95612 ,  76.553406, ...,  48.945637,  48.478077,\n",
      "         48.224342],\n",
      "       [ 84.426056,  82.46323 ,  80.24901 , ...,  49.379055,  48.717056,\n",
      "         48.348446]], dtype=float32)]\n",
      "det kwargs:     {'target': None, 'gamma': 1.0}\n",
      "new tasks:\n",
      "  {'Result of gaussian_blur (clesperanto)': (<function gaussian_blur at 0x000001FCC4A6F700>, 'blobs', None, 1.0, 1.0, 0.0), 'Result of gamma_correction (clesperanto)': (<function gamma_correction at 0x000001FCC4AE4700>, 'Result of gaussian_blur (clesperanto)', None, 1.0)}\n",
      "\n",
      "undo tasks:\n",
      " {'Result of gaussian_blur (clesperanto)': (<function gaussian_blur at 0x000001FCC4A6F700>, 'blobs', None, 1.0, 1.0, 0.0)}\n",
      "\n",
      "only arguments: [array([[ 40,  32,  24, ..., 216, 200, 200],\n",
      "       [ 56,  40,  24, ..., 232, 216, 216],\n",
      "       [ 64,  48,  24, ..., 240, 232, 232],\n",
      "       ...,\n",
      "       [ 72,  80,  80, ...,  48,  48,  48],\n",
      "       [ 80,  80,  80, ...,  48,  48,  48],\n",
      "       [ 96,  88,  80, ...,  48,  48,  48]], dtype=uint8)]\n",
      "det kwargs:     {'destination': None, 'sigma_x': 4.0, 'sigma_y': 1.0, 'sigma_z': 0.0}\n",
      "new tasks:\n",
      "  {'Result of gaussian_blur (clesperanto)': (<function gaussian_blur at 0x000001FCC4A6F700>, 'blobs', None, 1.0, 1.0, 0.0), 'Result of gamma_correction (clesperanto)': (<function gamma_correction at 0x000001FCC4AE4700>, 'Result of gaussian_blur (clesperanto)', None, 1.0)}\n",
      "\n",
      "undo tasks:\n",
      " {'Result of gaussian_blur (clesperanto)': (<function gaussian_blur at 0x000001FCC4A6F700>, 'blobs', None, 1.0, 1.0, 0.0), 'Result of gamma_correction (clesperanto)': (<function gamma_correction at 0x000001FCC4AE4700>, 'Result of gaussian_blur (clesperanto)', None, 1.0)}\n",
      "\n"
     ]
    }
   ],
   "source": [
    "noise_widget[\"x\"].value = 4"
   ]
  },
  {
   "cell_type": "code",
   "execution_count": 5,
   "id": "644e099e",
   "metadata": {},
   "outputs": [
    {
     "name": "stdout",
     "output_type": "stream",
     "text": [
      "Workflow:\n",
      "\n",
      "Workflow:\n",
      "Result of gaussian_blur (clesperanto) <- (<function gaussian_blur at 0x000001FCC4A6F700>, 'blobs', None, 1.0, 1.0, 0.0)\n",
      "\n",
      "Workflow:\n",
      "Result of gaussian_blur (clesperanto) <- (<function gaussian_blur at 0x000001FCC4A6F700>, 'blobs', None, 1.0, 1.0, 0.0)\n",
      "Result of gamma_correction (clesperanto) <- (<function gamma_correction at 0x000001FCC4AE4700>, 'Result of gaussian_blur (clesperanto)', None, 1.0)\n",
      "\n"
     ]
    }
   ],
   "source": [
    "for i in controller.undo_stack:\n",
    "    print(i)"
   ]
  },
  {
   "cell_type": "code",
   "execution_count": 6,
   "id": "95249613",
   "metadata": {},
   "outputs": [
    {
     "name": "stderr",
     "output_type": "stream",
     "text": [
      "2022-05-10 13:57:16.579 | INFO     | napari_assistant._gui._category_widget:call_op:171 - gaussian_blur (clesperanto)(..., 8.0, 1.0, 0.0)\n",
      "2022-05-10 13:57:16.597 | INFO     | napari_assistant._gui._category_widget:call_op:171 - gamma_correction (clesperanto)(..., 1.0)\n"
     ]
    },
    {
     "name": "stdout",
     "output_type": "stream",
     "text": [
      "only arguments: [cl.Array([[ 39.131332,  39.15256 ,  39.450462, ..., 204.40215 , 206.43748 ,\n",
      "        207.88336 ],\n",
      "       [ 44.00539 ,  43.822056,  43.92381 , ..., 212.61302 , 214.76714 ,\n",
      "        216.34825 ],\n",
      "       [ 45.49747 ,  45.487076,  45.769276, ..., 220.98926 , 223.20772 ,\n",
      "        224.8803  ],\n",
      "       ...,\n",
      "       [ 70.04506 ,  69.42343 ,  68.732574, ...,  57.644012,  55.61686 ,\n",
      "         53.94002 ],\n",
      "       [ 75.58775 ,  74.557175,  73.448746, ...,  60.864876,  58.24835 ,\n",
      "         56.06287 ],\n",
      "       [ 80.55064 ,  79.11243 ,  77.60104 , ...,  63.29813 ,  60.262505,\n",
      "         57.70902 ]], dtype=float32)]\n",
      "det kwargs:     {'target': None, 'gamma': 1.0}\n",
      "new tasks:\n",
      "  {'Result of gaussian_blur (clesperanto)': (<function gaussian_blur at 0x000001FCC4A6F700>, 'blobs', None, 4.0, 1.0, 0.0), 'Result of gamma_correction (clesperanto)': (<function gamma_correction at 0x000001FCC4AE4700>, 'Result of gaussian_blur (clesperanto)', None, 1.0)}\n",
      "\n",
      "undo tasks:\n",
      " {'Result of gaussian_blur (clesperanto)': (<function gaussian_blur at 0x000001FCC4A6F700>, 'blobs', None, 1.0, 1.0, 0.0), 'Result of gamma_correction (clesperanto)': (<function gamma_correction at 0x000001FCC4AE4700>, 'Result of gaussian_blur (clesperanto)', None, 1.0)}\n",
      "\n",
      "only arguments: [array([[ 40,  32,  24, ..., 216, 200, 200],\n",
      "       [ 56,  40,  24, ..., 232, 216, 216],\n",
      "       [ 64,  48,  24, ..., 240, 232, 232],\n",
      "       ...,\n",
      "       [ 72,  80,  80, ...,  48,  48,  48],\n",
      "       [ 80,  80,  80, ...,  48,  48,  48],\n",
      "       [ 96,  88,  80, ...,  48,  48,  48]], dtype=uint8)]\n",
      "det kwargs:     {'destination': None, 'sigma_x': 8.0, 'sigma_y': 1.0, 'sigma_z': 0.0}\n",
      "new tasks:\n",
      "  {'Result of gaussian_blur (clesperanto)': (<function gaussian_blur at 0x000001FCC4A6F700>, 'blobs', None, 4.0, 1.0, 0.0), 'Result of gamma_correction (clesperanto)': (<function gamma_correction at 0x000001FCC4AE4700>, 'Result of gaussian_blur (clesperanto)', None, 1.0)}\n",
      "\n",
      "undo tasks:\n",
      " {'Result of gaussian_blur (clesperanto)': (<function gaussian_blur at 0x000001FCC4A6F700>, 'blobs', None, 4.0, 1.0, 0.0), 'Result of gamma_correction (clesperanto)': (<function gamma_correction at 0x000001FCC4AE4700>, 'Result of gaussian_blur (clesperanto)', None, 1.0)}\n",
      "\n",
      "Workflow:\n",
      "\n",
      "Workflow:\n",
      "Result of gaussian_blur (clesperanto) <- (<function gaussian_blur at 0x000001FCC4A6F700>, 'blobs', None, 1.0, 1.0, 0.0)\n",
      "\n",
      "Workflow:\n",
      "Result of gaussian_blur (clesperanto) <- (<function gaussian_blur at 0x000001FCC4A6F700>, 'blobs', None, 1.0, 1.0, 0.0)\n",
      "Result of gamma_correction (clesperanto) <- (<function gamma_correction at 0x000001FCC4AE4700>, 'Result of gaussian_blur (clesperanto)', None, 1.0)\n",
      "\n",
      "Workflow:\n",
      "Result of gaussian_blur (clesperanto) <- (<function gaussian_blur at 0x000001FCC4A6F700>, 'blobs', None, 4.0, 1.0, 0.0)\n",
      "Result of gamma_correction (clesperanto) <- (<function gamma_correction at 0x000001FCC4AE4700>, 'Result of gaussian_blur (clesperanto)', None, 1.0)\n",
      "\n"
     ]
    }
   ],
   "source": [
    "noise_widget[\"x\"].value = 8\n",
    "for i in controller.undo_stack:\n",
    "    print(i)"
   ]
  },
  {
   "cell_type": "code",
   "execution_count": null,
   "id": "da4a1a3a",
   "metadata": {},
   "outputs": [],
   "source": [
    "noise_widget[\"x\"].value = 9\n",
    "for i in controller.undo_stack:\n",
    "    print(i)"
   ]
  },
  {
   "cell_type": "code",
   "execution_count": null,
   "id": "dcd02744",
   "metadata": {},
   "outputs": [],
   "source": [
    "napari.utils.nbscreenshot(viewer)"
   ]
  },
  {
   "cell_type": "code",
   "execution_count": null,
   "id": "6889e27a",
   "metadata": {},
   "outputs": [],
   "source": [
    "assistant.undo_action()\n",
    "for i in controller.undo_stack:\n",
    "    print(i)\n",
    "print('CURRENT WORKFLOW:')\n",
    "print(manager.workflow)"
   ]
  },
  {
   "cell_type": "code",
   "execution_count": null,
   "id": "b2aa2998",
   "metadata": {},
   "outputs": [],
   "source": [
    "napari.utils.nbscreenshot(viewer)"
   ]
  },
  {
   "cell_type": "code",
   "execution_count": null,
   "id": "66ab482c",
   "metadata": {},
   "outputs": [],
   "source": [
    "controller.redo_stack"
   ]
  },
  {
   "cell_type": "code",
   "execution_count": null,
   "id": "0bbae629",
   "metadata": {},
   "outputs": [],
   "source": [
    "assistant.redo_action()\n",
    "print('CURRENT WORKFLOW:')\n",
    "print(manager.workflow)"
   ]
  },
  {
   "cell_type": "code",
   "execution_count": null,
   "id": "60bcab3c",
   "metadata": {},
   "outputs": [],
   "source": [
    "for i in controller.undo_stack:\n",
    "    print(i)"
   ]
  },
  {
   "cell_type": "code",
   "execution_count": null,
   "id": "6d446a75",
   "metadata": {},
   "outputs": [],
   "source": [
    "controller.redo_stack"
   ]
  },
  {
   "cell_type": "code",
   "execution_count": null,
   "id": "0cc7f684",
   "metadata": {},
   "outputs": [],
   "source": [
    "widgets_dict = {\n",
    "    key:assistant._layers[viewer.layers[key]][1] \n",
    "    for key in manager.workflow._tasks.keys()\n",
    "}"
   ]
  },
  {
   "cell_type": "code",
   "execution_count": null,
   "id": "5477518e",
   "metadata": {},
   "outputs": [],
   "source": [
    "gamma = widgets_dict['Result of gamma_correction (clesperanto)']"
   ]
  },
  {
   "cell_type": "code",
   "execution_count": null,
   "id": "904fc8da",
   "metadata": {},
   "outputs": [],
   "source": [
    "from napari_assistant._gui._category_widget import OP_NAME_PARAM\n",
    "gamma[OP_NAME_PARAM]"
   ]
  },
  {
   "cell_type": "code",
   "execution_count": null,
   "id": "013a049a",
   "metadata": {},
   "outputs": [],
   "source": [
    "set(manager.workflow._tasks.keys()) == set(manager.workflow._tasks.keys())"
   ]
  },
  {
   "cell_type": "code",
   "execution_count": null,
   "id": "1e0b37f9",
   "metadata": {},
   "outputs": [],
   "source": []
  }
 ],
 "metadata": {
  "kernelspec": {
   "display_name": "Python 3 (ipykernel)",
   "language": "python",
   "name": "python3"
  },
  "language_info": {
   "codemirror_mode": {
    "name": "ipython",
    "version": 3
   },
   "file_extension": ".py",
   "mimetype": "text/x-python",
   "name": "python",
   "nbconvert_exporter": "python",
   "pygments_lexer": "ipython3",
   "version": "3.9.7"
  }
 },
 "nbformat": 4,
 "nbformat_minor": 5
}
