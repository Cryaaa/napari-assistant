{
 "cells": [
  {
   "cell_type": "code",
   "execution_count": 1,
   "id": "509f6b1b",
   "metadata": {},
   "outputs": [
    {
     "name": "stderr",
     "output_type": "stream",
     "text": [
      "C:\\Users\\ryans\\anaconda3\\envs\\np_workflows_v1\\lib\\site-packages\\napari_tools_menu\\__init__.py:165: FutureWarning: Public access to Window.qt_viewer is deprecated and will be removed in\n",
      "v0.5.0. It is considered an \"implementation detail\" of the napari\n",
      "application, not part of the napari viewer model. If your use case\n",
      "requires access to qt_viewer, please open an issue to discuss.\n",
      "  self.tools_menu = ToolsMenu(self, self.qt_viewer.viewer)\n"
     ]
    },
    {
     "data": {
      "text/plain": [
       "<Image layer 'img2' at 0x22214669510>"
      ]
     },
     "execution_count": 1,
     "metadata": {},
     "output_type": "execute_result"
    }
   ],
   "source": [
    "from napari_assistant._workflow_io_utility import *\n",
    "from napari_workflows._io_yaml_v1 import *\n",
    "import napari\n",
    "from skimage.io import imread\n",
    "from napari_workflows import WorkflowManager\n",
    "\n",
    "def to_file(viewer, filename=None):\n",
    "    from napari_workflows import WorkflowManager, _io_yaml_v1\n",
    "    if not filename:\n",
    "        print('no file name given')\n",
    "        return\n",
    "\n",
    "    # get the workflow, should one be installed\n",
    "    workflow_manager = WorkflowManager.install(viewer)\n",
    "    workflow = workflow_manager.workflow\n",
    "    workflow.remove_viewers()\n",
    "    _io_yaml_v1.save_workflow(filename, workflow)\n",
    "\n",
    "desktop = 'C:/Users/ryans/Desktop/'\n",
    "\n",
    "img1 = imread(desktop+'blobs.tif')\n",
    "img2 = imread(desktop+'blobs_messed_up.tiff')\n",
    "\n",
    "viewer = napari.Viewer()\n",
    "viewer.add_image(img1)\n",
    "viewer.add_image(img2)"
   ]
  },
  {
   "cell_type": "code",
   "execution_count": 2,
   "id": "2cab66db",
   "metadata": {},
   "outputs": [
    {
     "name": "stderr",
     "output_type": "stream",
     "text": [
      "WARNING: QObject::connect: Cannot queue arguments of type 'QVector<int>'\n",
      "(Make sure 'QVector<int>' is registered using qRegisterMetaType().)\n",
      "WARNING: QObject::connect: Cannot queue arguments of type 'QVector<int>'\n",
      "(Make sure 'QVector<int>' is registered using qRegisterMetaType().)\n",
      "WARNING: QObject::connect: Cannot queue arguments of type 'QVector<int>'\n",
      "(Make sure 'QVector<int>' is registered using qRegisterMetaType().)\n",
      "WARNING: QObject::connect: Cannot queue arguments of type 'QVector<int>'\n",
      "(Make sure 'QVector<int>' is registered using qRegisterMetaType().)\n",
      "WARNING: QObject::connect: Cannot queue arguments of type 'QVector<int>'\n",
      "(Make sure 'QVector<int>' is registered using qRegisterMetaType().)\n",
      "WARNING: QObject::connect: Cannot queue arguments of type 'QVector<int>'\n",
      "(Make sure 'QVector<int>' is registered using qRegisterMetaType().)\n",
      "WARNING: QObject::connect: Cannot queue arguments of type 'QVector<int>'\n",
      "(Make sure 'QVector<int>' is registered using qRegisterMetaType().)\n",
      "WARNING: QObject::connect: Cannot queue arguments of type 'QVector<int>'\n",
      "(Make sure 'QVector<int>' is registered using qRegisterMetaType().)\n",
      "WARNING: QObject::connect: Cannot queue arguments of type 'QVector<int>'\n",
      "(Make sure 'QVector<int>' is registered using qRegisterMetaType().)\n",
      "WARNING: QObject::connect: Cannot queue arguments of type 'QVector<int>'\n",
      "(Make sure 'QVector<int>' is registered using qRegisterMetaType().)\n",
      "WARNING: QObject::connect: Cannot queue arguments of type 'QVector<int>'\n",
      "(Make sure 'QVector<int>' is registered using qRegisterMetaType().)\n",
      "WARNING: QObject::connect: Cannot queue arguments of type 'QVector<int>'\n",
      "(Make sure 'QVector<int>' is registered using qRegisterMetaType().)\n",
      "WARNING: QObject::connect: Cannot queue arguments of type 'QVector<int>'\n",
      "(Make sure 'QVector<int>' is registered using qRegisterMetaType().)\n",
      "WARNING: QObject::connect: Cannot queue arguments of type 'QVector<int>'\n",
      "(Make sure 'QVector<int>' is registered using qRegisterMetaType().)\n",
      "WARNING: QObject::connect: Cannot queue arguments of type 'QVector<int>'\n",
      "(Make sure 'QVector<int>' is registered using qRegisterMetaType().)\n",
      "WARNING: QObject::connect: Cannot queue arguments of type 'QVector<int>'\n",
      "(Make sure 'QVector<int>' is registered using qRegisterMetaType().)\n",
      "WARNING: QObject::connect: Cannot queue arguments of type 'QVector<int>'\n",
      "(Make sure 'QVector<int>' is registered using qRegisterMetaType().)\n",
      "WARNING: QObject::connect: Cannot queue arguments of type 'QVector<int>'\n",
      "(Make sure 'QVector<int>' is registered using qRegisterMetaType().)\n",
      "WARNING: QObject::connect: Cannot queue arguments of type 'QVector<int>'\n",
      "(Make sure 'QVector<int>' is registered using qRegisterMetaType().)\n",
      "WARNING: QObject::connect: Cannot queue arguments of type 'QVector<int>'\n",
      "(Make sure 'QVector<int>' is registered using qRegisterMetaType().)\n",
      "WARNING: QObject::connect: Cannot queue arguments of type 'QVector<int>'\n",
      "(Make sure 'QVector<int>' is registered using qRegisterMetaType().)\n",
      "WARNING: QObject::connect: Cannot queue arguments of type 'QVector<int>'\n",
      "(Make sure 'QVector<int>' is registered using qRegisterMetaType().)\n",
      "WARNING: QObject::connect: Cannot queue arguments of type 'QVector<int>'\n",
      "(Make sure 'QVector<int>' is registered using qRegisterMetaType().)\n",
      "WARNING: QObject::connect: Cannot queue arguments of type 'QVector<int>'\n",
      "(Make sure 'QVector<int>' is registered using qRegisterMetaType().)\n",
      "WARNING: QObject::connect: Cannot queue arguments of type 'QVector<int>'\n",
      "(Make sure 'QVector<int>' is registered using qRegisterMetaType().)\n",
      "WARNING: QObject::connect: Cannot queue arguments of type 'QVector<int>'\n",
      "(Make sure 'QVector<int>' is registered using qRegisterMetaType().)\n",
      "WARNING: QObject::connect: Cannot queue arguments of type 'QVector<int>'\n",
      "(Make sure 'QVector<int>' is registered using qRegisterMetaType().)\n",
      "WARNING: QObject::connect: Cannot queue arguments of type 'QVector<int>'\n",
      "(Make sure 'QVector<int>' is registered using qRegisterMetaType().)\n"
     ]
    }
   ],
   "source": [
    "workflow = load_workflow('test_workflow_long.yaml')\n",
    "initialise_root_functions(workflow, viewer)\n",
    "load_remaining_workflow(workflow,viewer)"
   ]
  },
  {
   "cell_type": "markdown",
   "id": "8ffc44bb",
   "metadata": {},
   "source": [
    "# Here we change the workflow from the original loaded workflow"
   ]
  },
  {
   "cell_type": "code",
   "execution_count": 3,
   "id": "c7cea35e",
   "metadata": {},
   "outputs": [],
   "source": [
    "to_file(viewer, 'workflow_changed.yaml')"
   ]
  },
  {
   "cell_type": "code",
   "execution_count": 4,
   "id": "15241670",
   "metadata": {},
   "outputs": [],
   "source": [
    "def delete_workflow_widgets_layers(workflow, viewer):\n",
    "    #deleting the widgets\n",
    "    dock_widgets = viewer.window._dock_widgets\n",
    "    workflow_nodes = list(workflow._tasks.keys())\n",
    "    for key, widget in list(dock_widgets.items()):\n",
    "        if ('Result of ' + key in workflow_nodes) or ('Result of '+key[:-22] in workflow_nodes):\n",
    "            viewer.window.remove_dock_widget(widget=widget)\n",
    "    \n",
    "    #deleting the layers\n",
    "    layers = viewer.layers\n",
    "    layer_names = [str(lay) for lay in layers]\n",
    "    for layer_name in layer_names:\n",
    "        if layers[layer_name].source.widget:\n",
    "            layers.remove(layer_name)"
   ]
  },
  {
   "cell_type": "code",
   "execution_count": 5,
   "id": "5f114790",
   "metadata": {},
   "outputs": [
    {
     "name": "stdout",
     "output_type": "stream",
     "text": [
      "img1\n",
      "img2\n",
      "Result of Gaussian (scikit-image, nsbatwm)\n",
      "Result of Gaussian (scikit-image, nsbatwm) [1]\n",
      "Result of Minimum (scipy, nsbatwm)\n",
      "Result of Percentile (scipy, nsbatwm)\n",
      "Result of Black top-hat (scipy, nsbatwm)\n",
      "Result of Multiply images (numpy, nsbatwm)\n",
      "Result of Seeded watershed using local minima as seeds (nsbatwm)\n",
      "Result of Remove labeled objects at the image border (scikit-image, nsbatwm)\n"
     ]
    }
   ],
   "source": [
    "workflow_manager = WorkflowManager.install(viewer)\n",
    "workflow_current_state = workflow_manager.workflow\n",
    "\n",
    "delete_workflow_widgets_layers(workflow_current_state, viewer)"
   ]
  },
  {
   "cell_type": "code",
   "execution_count": 6,
   "id": "d403af6c",
   "metadata": {},
   "outputs": [],
   "source": [
    "workflow = load_workflow('workflow_changed.yaml')\n",
    "initialise_root_functions(workflow, viewer)\n",
    "load_remaining_workflow(workflow,viewer)"
   ]
  },
  {
   "cell_type": "code",
   "execution_count": 7,
   "id": "ca72ae9c",
   "metadata": {},
   "outputs": [
    {
     "name": "stdout",
     "output_type": "stream",
     "text": [
      "date and time = 10/03/2022 16:04:47\n"
     ]
    }
   ],
   "source": [
    "from datetime import datetime\n",
    "\n",
    "# datetime object containing current date and time\n",
    "now = datetime.now()\n",
    "\n",
    "# dd/mm/YY H:M:S\n",
    "dt_string = now.strftime(\"%d/%m/%Y %H:%M:%S\")\n",
    "print(\"date and time =\", dt_string)\t"
   ]
  },
  {
   "cell_type": "code",
   "execution_count": 9,
   "id": "2789fb95",
   "metadata": {},
   "outputs": [
    {
     "data": {
      "text/plain": [
       "'test_workflow_long - 10/03/2022 16:11:07'"
      ]
     },
     "execution_count": 9,
     "metadata": {},
     "output_type": "execute_result"
    }
   ],
   "source": [
    "def workflow_name_w_datetime(workflow_name):\n",
    "    from datetime import datetime\n",
    "\n",
    "    now = datetime.now()\n",
    "    dt_string = now.strftime(\"%d/%m/%Y %H:%M:%S\")\n",
    "    \n",
    "    return workflow_name + ' - ' + dt_string\n",
    "file_name = 'test_workflow_long.yaml'\n",
    "\n",
    "workflow_name_w_datetime(file_name[:-5])"
   ]
  },
  {
   "cell_type": "code",
   "execution_count": null,
   "id": "3e006206",
   "metadata": {},
   "outputs": [],
   "source": [
    "def save_current_state(viewer, filename_prefix, folder_location = None):\n",
    "    from napari_workflows import WorkflowManager, _io_yaml_v1\n",
    "    from datetime import datetime\n",
    "    \n",
    "    # make filename\n",
    "    now = datetime.now()\n",
    "    dt_string = now.strftime(\"%d/%m/%Y_%H:%M:%S\")\n",
    "    filename = folder_location + filename_prefix + '_' + dt_string\n",
    "    \n",
    "    # get the workflow, should one be installed\n",
    "    workflow_manager = WorkflowManager.install(viewer)\n",
    "    workflow = workflow_manager.workflow\n",
    "    \n",
    "    # remove viewer objects to enable saving\n",
    "    workflow.remove_viewers()\n",
    "    \n",
    "    # save the workflow\n",
    "    _io_yaml_v1.save_workflow(filename, workflow)\n"
   ]
  }
 ],
 "metadata": {
  "kernelspec": {
   "display_name": "Python 3 (ipykernel)",
   "language": "python",
   "name": "python3"
  },
  "language_info": {
   "codemirror_mode": {
    "name": "ipython",
    "version": 3
   },
   "file_extension": ".py",
   "mimetype": "text/x-python",
   "name": "python",
   "nbconvert_exporter": "python",
   "pygments_lexer": "ipython3",
   "version": "3.10.2"
  }
 },
 "nbformat": 4,
 "nbformat_minor": 5
}
