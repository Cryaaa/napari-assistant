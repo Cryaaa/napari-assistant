{
 "cells": [
  {
   "cell_type": "code",
   "execution_count": 1,
   "id": "509f6b1b",
   "metadata": {},
   "outputs": [
    {
     "name": "stderr",
     "output_type": "stream",
     "text": [
      "C:\\Users\\ryans\\Anaconda3\\envs\\np_workflows_v1\\lib\\site-packages\\napari_tools_menu\\__init__.py:165: FutureWarning: Public access to Window.qt_viewer is deprecated and will be removed in\n",
      "v0.5.0. It is considered an \"implementation detail\" of the napari\n",
      "application, not part of the napari viewer model. If your use case\n",
      "requires access to qt_viewer, please open an issue to discuss.\n",
      "  self.tools_menu = ToolsMenu(self, self.qt_viewer.viewer)\n"
     ]
    },
    {
     "data": {
      "text/plain": [
       "<Image layer 'blobs_messed_up' at 0x2430b58b4f0>"
      ]
     },
     "execution_count": 1,
     "metadata": {},
     "output_type": "execute_result"
    }
   ],
   "source": [
    "from napari_assistant._workflow_io_utility import *\n",
    "from napari_workflows._io_yaml_v1 import *\n",
    "import napari\n",
    "from skimage.io import imread\n",
    "from napari_workflows import WorkflowManager\n",
    "\n",
    "def to_file(viewer, filename=None):\n",
    "    from napari_workflows import WorkflowManager, _io_yaml_v1\n",
    "    if not filename:\n",
    "        print('no file name given')\n",
    "        return\n",
    "\n",
    "    # get the workflow, should one be installed\n",
    "    workflow_manager = WorkflowManager.install(viewer)\n",
    "    workflow = workflow_manager.workflow\n",
    "    workflow.remove_viewers()\n",
    "    _io_yaml_v1.save_workflow(filename, workflow)\n",
    "\n",
    "desktop = 'C:/Users/ryans/Onedrive/Desktop/'\n",
    "\n",
    "img1 = imread(desktop+'blobs.tif')\n",
    "img2 = imread(desktop+'blobs_messed_up.tiff')\n",
    "\n",
    "viewer = napari.Viewer()\n",
    "viewer.add_image(img1, name='blobs')\n",
    "viewer.add_image(img2, name='blobs_messed_up')"
   ]
  },
  {
   "cell_type": "code",
   "execution_count": 2,
   "id": "2cab66db",
   "metadata": {},
   "outputs": [
    {
     "ename": "TypeError",
     "evalue": "napari_workflows._undo_redo_functionality.Update_workflow_step() got multiple values for keyword argument 'viewer'",
     "output_type": "error",
     "traceback": [
      "\u001b[1;31m---------------------------------------------------------------------------\u001b[0m",
      "\u001b[1;31mTypeError\u001b[0m                                 Traceback (most recent call last)",
      "\u001b[1;32m~\\Anaconda3\\envs\\np_workflows_v1\\lib\\site-packages\\magicgui\\widgets\\_bases\\value_widget.py\u001b[0m in \u001b[0;36m_on_value_change\u001b[1;34m(self, value)\u001b[0m\n\u001b[0;32m     55\u001b[0m         \u001b[1;32mif\u001b[0m \u001b[0mvalue\u001b[0m \u001b[1;32mis\u001b[0m \u001b[0mself\u001b[0m\u001b[1;33m.\u001b[0m\u001b[0mnull_value\u001b[0m \u001b[1;32mand\u001b[0m \u001b[1;32mnot\u001b[0m \u001b[0mself\u001b[0m\u001b[1;33m.\u001b[0m\u001b[0m_nullable\u001b[0m\u001b[1;33m:\u001b[0m\u001b[1;33m\u001b[0m\u001b[1;33m\u001b[0m\u001b[0m\n\u001b[0;32m     56\u001b[0m             \u001b[1;32mreturn\u001b[0m\u001b[1;33m\u001b[0m\u001b[1;33m\u001b[0m\u001b[0m\n\u001b[1;32m---> 57\u001b[1;33m         \u001b[0mself\u001b[0m\u001b[1;33m.\u001b[0m\u001b[0mchanged\u001b[0m\u001b[1;33m.\u001b[0m\u001b[0memit\u001b[0m\u001b[1;33m(\u001b[0m\u001b[0mvalue\u001b[0m\u001b[1;33m)\u001b[0m\u001b[1;33m\u001b[0m\u001b[1;33m\u001b[0m\u001b[0m\n\u001b[0m\u001b[0;32m     58\u001b[0m \u001b[1;33m\u001b[0m\u001b[0m\n\u001b[0;32m     59\u001b[0m     \u001b[1;32mdef\u001b[0m \u001b[0mget_value\u001b[0m\u001b[1;33m(\u001b[0m\u001b[0mself\u001b[0m\u001b[1;33m)\u001b[0m\u001b[1;33m:\u001b[0m\u001b[1;33m\u001b[0m\u001b[1;33m\u001b[0m\u001b[0m\n",
      "\u001b[1;32m~\\Anaconda3\\envs\\np_workflows_v1\\lib\\site-packages\\psygnal\\_signal.cp39-win_amd64.pyd\u001b[0m in \u001b[0;36mpsygnal._signal.SignalInstance.emit\u001b[1;34m()\u001b[0m\n",
      "\u001b[1;32m~\\Anaconda3\\envs\\np_workflows_v1\\lib\\site-packages\\magicgui\\events.py\u001b[0m in \u001b[0;36m_run_emit_loop\u001b[1;34m(self, args)\u001b[0m\n\u001b[0;32m     84\u001b[0m                     \u001b[1;31m# TODO: add better exception handling\u001b[0m\u001b[1;33m\u001b[0m\u001b[1;33m\u001b[0m\u001b[0m\n\u001b[0;32m     85\u001b[0m                     \u001b[1;32mif\u001b[0m \u001b[0mself\u001b[0m\u001b[1;33m.\u001b[0m\u001b[0m_new_callback\u001b[0m\u001b[1;33m.\u001b[0m\u001b[0mget\u001b[0m\u001b[1;33m(\u001b[0m\u001b[0mslot\u001b[0m\u001b[1;33m)\u001b[0m\u001b[1;33m:\u001b[0m\u001b[1;33m\u001b[0m\u001b[1;33m\u001b[0m\u001b[0m\n\u001b[1;32m---> 86\u001b[1;33m                         \u001b[0mcb\u001b[0m\u001b[1;33m(\u001b[0m\u001b[1;33m*\u001b[0m\u001b[0margs\u001b[0m\u001b[1;33m[\u001b[0m\u001b[1;33m:\u001b[0m\u001b[0mmax_args\u001b[0m\u001b[1;33m]\u001b[0m\u001b[1;33m)\u001b[0m\u001b[1;33m\u001b[0m\u001b[1;33m\u001b[0m\u001b[0m\n\u001b[0m\u001b[0;32m     87\u001b[0m                     \u001b[1;32melse\u001b[0m\u001b[1;33m:\u001b[0m\u001b[1;33m\u001b[0m\u001b[1;33m\u001b[0m\u001b[0m\n\u001b[0;32m     88\u001b[0m                         \u001b[0mcb\u001b[0m\u001b[1;33m(\u001b[0m\u001b[0mEvent\u001b[0m\u001b[1;33m(\u001b[0m\u001b[0margs\u001b[0m\u001b[1;33m[\u001b[0m\u001b[1;36m0\u001b[0m\u001b[1;33m]\u001b[0m\u001b[1;33m,\u001b[0m \u001b[0mself\u001b[0m\u001b[1;33m.\u001b[0m\u001b[0mname\u001b[0m\u001b[1;33m,\u001b[0m \u001b[0mself\u001b[0m\u001b[1;33m.\u001b[0m\u001b[0minstance\u001b[0m\u001b[1;33m)\u001b[0m\u001b[1;33m)\u001b[0m\u001b[1;33m\u001b[0m\u001b[1;33m\u001b[0m\u001b[0m\n",
      "\u001b[1;32m~\\Anaconda3\\envs\\np_workflows_v1\\lib\\site-packages\\magicgui\\widgets\\_bases\\container_widget.py\u001b[0m in \u001b[0;36m<lambda>\u001b[1;34m()\u001b[0m\n\u001b[0;32m    163\u001b[0m         \u001b[1;34m\"\"\"Insert widget at ``key``.\"\"\"\u001b[0m\u001b[1;33m\u001b[0m\u001b[1;33m\u001b[0m\u001b[0m\n\u001b[0;32m    164\u001b[0m         \u001b[1;32mif\u001b[0m \u001b[0misinstance\u001b[0m\u001b[1;33m(\u001b[0m\u001b[0mwidget\u001b[0m\u001b[1;33m,\u001b[0m \u001b[1;33m(\u001b[0m\u001b[0mValueWidget\u001b[0m\u001b[1;33m,\u001b[0m \u001b[0mContainerWidget\u001b[0m\u001b[1;33m)\u001b[0m\u001b[1;33m)\u001b[0m\u001b[1;33m:\u001b[0m\u001b[1;33m\u001b[0m\u001b[1;33m\u001b[0m\u001b[0m\n\u001b[1;32m--> 165\u001b[1;33m             \u001b[0mwidget\u001b[0m\u001b[1;33m.\u001b[0m\u001b[0mchanged\u001b[0m\u001b[1;33m.\u001b[0m\u001b[0mconnect\u001b[0m\u001b[1;33m(\u001b[0m\u001b[1;32mlambda\u001b[0m\u001b[1;33m:\u001b[0m \u001b[0mself\u001b[0m\u001b[1;33m.\u001b[0m\u001b[0mchanged\u001b[0m\u001b[1;33m.\u001b[0m\u001b[0memit\u001b[0m\u001b[1;33m(\u001b[0m\u001b[0mself\u001b[0m\u001b[1;33m)\u001b[0m\u001b[1;33m)\u001b[0m\u001b[1;33m\u001b[0m\u001b[1;33m\u001b[0m\u001b[0m\n\u001b[0m\u001b[0;32m    166\u001b[0m         \u001b[0m_widget\u001b[0m \u001b[1;33m=\u001b[0m \u001b[0mwidget\u001b[0m\u001b[1;33m\u001b[0m\u001b[1;33m\u001b[0m\u001b[0m\n\u001b[0;32m    167\u001b[0m \u001b[1;33m\u001b[0m\u001b[0m\n",
      "\u001b[1;32m~\\Anaconda3\\envs\\np_workflows_v1\\lib\\site-packages\\psygnal\\_signal.cp39-win_amd64.pyd\u001b[0m in \u001b[0;36mpsygnal._signal.SignalInstance.emit\u001b[1;34m()\u001b[0m\n",
      "\u001b[1;32m~\\Anaconda3\\envs\\np_workflows_v1\\lib\\site-packages\\magicgui\\events.py\u001b[0m in \u001b[0;36m_run_emit_loop\u001b[1;34m(self, args)\u001b[0m\n\u001b[0;32m     84\u001b[0m                     \u001b[1;31m# TODO: add better exception handling\u001b[0m\u001b[1;33m\u001b[0m\u001b[1;33m\u001b[0m\u001b[0m\n\u001b[0;32m     85\u001b[0m                     \u001b[1;32mif\u001b[0m \u001b[0mself\u001b[0m\u001b[1;33m.\u001b[0m\u001b[0m_new_callback\u001b[0m\u001b[1;33m.\u001b[0m\u001b[0mget\u001b[0m\u001b[1;33m(\u001b[0m\u001b[0mslot\u001b[0m\u001b[1;33m)\u001b[0m\u001b[1;33m:\u001b[0m\u001b[1;33m\u001b[0m\u001b[1;33m\u001b[0m\u001b[0m\n\u001b[1;32m---> 86\u001b[1;33m                         \u001b[0mcb\u001b[0m\u001b[1;33m(\u001b[0m\u001b[1;33m*\u001b[0m\u001b[0margs\u001b[0m\u001b[1;33m[\u001b[0m\u001b[1;33m:\u001b[0m\u001b[0mmax_args\u001b[0m\u001b[1;33m]\u001b[0m\u001b[1;33m)\u001b[0m\u001b[1;33m\u001b[0m\u001b[1;33m\u001b[0m\u001b[0m\n\u001b[0m\u001b[0;32m     87\u001b[0m                     \u001b[1;32melse\u001b[0m\u001b[1;33m:\u001b[0m\u001b[1;33m\u001b[0m\u001b[1;33m\u001b[0m\u001b[0m\n\u001b[0;32m     88\u001b[0m                         \u001b[0mcb\u001b[0m\u001b[1;33m(\u001b[0m\u001b[0mEvent\u001b[0m\u001b[1;33m(\u001b[0m\u001b[0margs\u001b[0m\u001b[1;33m[\u001b[0m\u001b[1;36m0\u001b[0m\u001b[1;33m]\u001b[0m\u001b[1;33m,\u001b[0m \u001b[0mself\u001b[0m\u001b[1;33m.\u001b[0m\u001b[0mname\u001b[0m\u001b[1;33m,\u001b[0m \u001b[0mself\u001b[0m\u001b[1;33m.\u001b[0m\u001b[0minstance\u001b[0m\u001b[1;33m)\u001b[0m\u001b[1;33m)\u001b[0m\u001b[1;33m\u001b[0m\u001b[1;33m\u001b[0m\u001b[0m\n",
      "\u001b[1;32m~\\Anaconda3\\envs\\np_workflows_v1\\lib\\site-packages\\magicgui\\widgets\\_function_gui.py\u001b[0m in \u001b[0;36m_on_change\u001b[1;34m(self)\u001b[0m\n\u001b[0;32m    226\u001b[0m             \u001b[0mself\u001b[0m\u001b[1;33m.\u001b[0m\u001b[0m_dump\u001b[0m\u001b[1;33m(\u001b[0m\u001b[1;33m)\u001b[0m\u001b[1;33m\u001b[0m\u001b[1;33m\u001b[0m\u001b[0m\n\u001b[0;32m    227\u001b[0m         \u001b[1;32mif\u001b[0m \u001b[0mself\u001b[0m\u001b[1;33m.\u001b[0m\u001b[0m_auto_call\u001b[0m\u001b[1;33m:\u001b[0m\u001b[1;33m\u001b[0m\u001b[1;33m\u001b[0m\u001b[0m\n\u001b[1;32m--> 228\u001b[1;33m             \u001b[0mself\u001b[0m\u001b[1;33m(\u001b[0m\u001b[1;33m)\u001b[0m\u001b[1;33m\u001b[0m\u001b[1;33m\u001b[0m\u001b[0m\n\u001b[0m\u001b[0;32m    229\u001b[0m \u001b[1;33m\u001b[0m\u001b[0m\n\u001b[0;32m    230\u001b[0m     \u001b[1;33m@\u001b[0m\u001b[0mproperty\u001b[0m\u001b[1;33m\u001b[0m\u001b[1;33m\u001b[0m\u001b[0m\n",
      "\u001b[1;32m~\\Anaconda3\\envs\\np_workflows_v1\\lib\\site-packages\\magicgui\\widgets\\_function_gui.py\u001b[0m in \u001b[0;36m__call__\u001b[1;34m(self, update_widget, *args, **kwargs)\u001b[0m\n\u001b[0;32m    304\u001b[0m         \u001b[0mself\u001b[0m\u001b[1;33m.\u001b[0m\u001b[0m_tqdm_depth\u001b[0m \u001b[1;33m=\u001b[0m \u001b[1;36m0\u001b[0m  \u001b[1;31m# reset the tqdm stack count\u001b[0m\u001b[1;33m\u001b[0m\u001b[1;33m\u001b[0m\u001b[0m\n\u001b[0;32m    305\u001b[0m         \u001b[1;32mwith\u001b[0m \u001b[0m_function_name_pointing_to_widget\u001b[0m\u001b[1;33m(\u001b[0m\u001b[0mself\u001b[0m\u001b[1;33m)\u001b[0m\u001b[1;33m:\u001b[0m\u001b[1;33m\u001b[0m\u001b[1;33m\u001b[0m\u001b[0m\n\u001b[1;32m--> 306\u001b[1;33m             \u001b[0mvalue\u001b[0m \u001b[1;33m=\u001b[0m \u001b[0mself\u001b[0m\u001b[1;33m.\u001b[0m\u001b[0m_function\u001b[0m\u001b[1;33m(\u001b[0m\u001b[1;33m*\u001b[0m\u001b[0mbound\u001b[0m\u001b[1;33m.\u001b[0m\u001b[0margs\u001b[0m\u001b[1;33m,\u001b[0m \u001b[1;33m**\u001b[0m\u001b[0mbound\u001b[0m\u001b[1;33m.\u001b[0m\u001b[0mkwargs\u001b[0m\u001b[1;33m)\u001b[0m\u001b[1;33m\u001b[0m\u001b[1;33m\u001b[0m\u001b[0m\n\u001b[0m\u001b[0;32m    307\u001b[0m \u001b[1;33m\u001b[0m\u001b[0m\n\u001b[0;32m    308\u001b[0m         \u001b[0mself\u001b[0m\u001b[1;33m.\u001b[0m\u001b[0m_call_count\u001b[0m \u001b[1;33m+=\u001b[0m \u001b[1;36m1\u001b[0m\u001b[1;33m\u001b[0m\u001b[1;33m\u001b[0m\u001b[0m\n",
      "\u001b[1;32mc:\\users\\ryans\\onedrive\\documents\\bia pol stuff\\napari workflow laptop\\napari-assistant_fork\\napari_assistant\\_workflow_io_utility.py\u001b[0m in \u001b[0;36mworker_func\u001b[1;34m(*iargs, **ikwargs)\u001b[0m\n\u001b[0;32m    211\u001b[0m                 \u001b[1;32mfrom\u001b[0m \u001b[0mnapari_workflows\u001b[0m \u001b[1;32mimport\u001b[0m \u001b[0mWorkflowManager\u001b[0m\u001b[1;33m\u001b[0m\u001b[1;33m\u001b[0m\u001b[0m\n\u001b[0;32m    212\u001b[0m                 \u001b[0mworkflow_manager\u001b[0m \u001b[1;33m=\u001b[0m \u001b[0mWorkflowManager\u001b[0m\u001b[1;33m.\u001b[0m\u001b[0minstall\u001b[0m\u001b[1;33m(\u001b[0m\u001b[0mviewer\u001b[0m\u001b[1;33m)\u001b[0m\u001b[1;33m\u001b[0m\u001b[1;33m\u001b[0m\u001b[0m\n\u001b[1;32m--> 213\u001b[1;33m                 \u001b[0mworkflow_manager\u001b[0m\u001b[1;33m.\u001b[0m\u001b[0mupdate\u001b[0m\u001b[1;33m(\u001b[0m\u001b[0mtarget_layer\u001b[0m\u001b[1;33m,\u001b[0m \u001b[0mfunc\u001b[0m\u001b[1;33m,\u001b[0m \u001b[1;33m*\u001b[0m\u001b[0miargs\u001b[0m\u001b[1;33m,\u001b[0m \u001b[1;33m**\u001b[0m\u001b[0mikwargs\u001b[0m\u001b[1;33m)\u001b[0m\u001b[1;33m\u001b[0m\u001b[1;33m\u001b[0m\u001b[0m\n\u001b[0m\u001b[0;32m    214\u001b[0m             \u001b[1;32mexcept\u001b[0m \u001b[0mImportError\u001b[0m\u001b[1;33m:\u001b[0m\u001b[1;33m\u001b[0m\u001b[1;33m\u001b[0m\u001b[0m\n\u001b[0;32m    215\u001b[0m                 \u001b[1;32mpass\u001b[0m\u001b[1;33m\u001b[0m\u001b[1;33m\u001b[0m\u001b[0m\n",
      "\u001b[1;32mc:\\users\\ryans\\onedrive\\documents\\bia pol stuff\\napari workflow laptop\\nw fork\\understanding napari workflows.docx\\src\\napari_workflows\\_workflow.py\u001b[0m in \u001b[0;36mupdate\u001b[1;34m(self, target_layer, function, *args, **kwargs)\u001b[0m\n\u001b[0;32m    245\u001b[0m         \"\"\"\n\u001b[0;32m    246\u001b[0m         \u001b[1;32mfrom\u001b[0m \u001b[1;33m.\u001b[0m\u001b[0m_undo_redo_functionality\u001b[0m \u001b[1;32mimport\u001b[0m \u001b[0mUpdate_workflow_step\u001b[0m\u001b[1;33m\u001b[0m\u001b[1;33m\u001b[0m\u001b[0m\n\u001b[1;32m--> 247\u001b[1;33m         self.undo_redo_controller.execute(Update_workflow_step(\n\u001b[0m\u001b[0;32m    248\u001b[0m             \u001b[0mworkflow\u001b[0m \u001b[1;33m=\u001b[0m \u001b[0mself\u001b[0m\u001b[1;33m.\u001b[0m\u001b[0mworkflow\u001b[0m\u001b[1;33m,\u001b[0m\u001b[1;33m\u001b[0m\u001b[1;33m\u001b[0m\u001b[0m\n\u001b[0;32m    249\u001b[0m             \u001b[0mviewer\u001b[0m \u001b[1;33m=\u001b[0m \u001b[0mself\u001b[0m\u001b[1;33m.\u001b[0m\u001b[0mviewer\u001b[0m\u001b[1;33m,\u001b[0m\u001b[1;33m\u001b[0m\u001b[1;33m\u001b[0m\u001b[0m\n",
      "\u001b[1;31mTypeError\u001b[0m: napari_workflows._undo_redo_functionality.Update_workflow_step() got multiple values for keyword argument 'viewer'"
     ]
    },
    {
     "ename": "TypeError",
     "evalue": "napari_workflows._undo_redo_functionality.Update_workflow_step() got multiple values for keyword argument 'viewer'",
     "output_type": "error",
     "traceback": [
      "\u001b[1;31m---------------------------------------------------------------------------\u001b[0m",
      "\u001b[1;31mTypeError\u001b[0m                                 Traceback (most recent call last)",
      "\u001b[1;32m~\\AppData\\Local\\Temp/ipykernel_13900/3249155255.py\u001b[0m in \u001b[0;36m<module>\u001b[1;34m\u001b[0m\n\u001b[0;32m      1\u001b[0m \u001b[0mworkflow\u001b[0m \u001b[1;33m=\u001b[0m \u001b[0mload_workflow\u001b[0m\u001b[1;33m(\u001b[0m\u001b[1;34m'test_workflow_long.yaml'\u001b[0m\u001b[1;33m)\u001b[0m\u001b[1;33m\u001b[0m\u001b[1;33m\u001b[0m\u001b[0m\n\u001b[1;32m----> 2\u001b[1;33m \u001b[0minitialise_root_functions\u001b[0m\u001b[1;33m(\u001b[0m\u001b[0mworkflow\u001b[0m\u001b[1;33m,\u001b[0m \u001b[0mviewer\u001b[0m\u001b[1;33m)\u001b[0m\u001b[1;33m\u001b[0m\u001b[1;33m\u001b[0m\u001b[0m\n\u001b[0m\u001b[0;32m      3\u001b[0m \u001b[0mload_remaining_workflow\u001b[0m\u001b[1;33m(\u001b[0m\u001b[0mworkflow\u001b[0m\u001b[1;33m,\u001b[0m\u001b[0mviewer\u001b[0m\u001b[1;33m)\u001b[0m\u001b[1;33m\u001b[0m\u001b[1;33m\u001b[0m\u001b[0m\n",
      "\u001b[1;32mc:\\users\\ryans\\onedrive\\documents\\bia pol stuff\\napari workflow laptop\\napari-assistant_fork\\napari_assistant\\_workflow_io_utility.py\u001b[0m in \u001b[0;36minitialise_root_functions\u001b[1;34m(workflow, viewer)\u001b[0m\n\u001b[0;32m     73\u001b[0m \u001b[1;33m\u001b[0m\u001b[0m\n\u001b[0;32m     74\u001b[0m         \u001b[1;31m# calling the widget with the correct input images\u001b[0m\u001b[1;33m\u001b[0m\u001b[1;33m\u001b[0m\u001b[0m\n\u001b[1;32m---> 75\u001b[1;33m         \u001b[0mwidget\u001b[0m\u001b[1;33m(\u001b[0m\u001b[1;33m)\u001b[0m\u001b[1;33m\u001b[0m\u001b[1;33m\u001b[0m\u001b[0m\n\u001b[0m\u001b[0;32m     76\u001b[0m \u001b[1;33m\u001b[0m\u001b[0m\n\u001b[0;32m     77\u001b[0m \u001b[1;32mdef\u001b[0m \u001b[0mload_remaining_workflow\u001b[0m\u001b[1;33m(\u001b[0m\u001b[0mworkflow\u001b[0m\u001b[1;33m,\u001b[0m \u001b[0mviewer\u001b[0m\u001b[1;33m)\u001b[0m\u001b[1;33m:\u001b[0m\u001b[1;33m\u001b[0m\u001b[1;33m\u001b[0m\u001b[0m\n",
      "\u001b[1;32m~\\Anaconda3\\envs\\np_workflows_v1\\lib\\site-packages\\magicgui\\widgets\\_function_gui.py\u001b[0m in \u001b[0;36m__call__\u001b[1;34m(self, update_widget, *args, **kwargs)\u001b[0m\n\u001b[0;32m    304\u001b[0m         \u001b[0mself\u001b[0m\u001b[1;33m.\u001b[0m\u001b[0m_tqdm_depth\u001b[0m \u001b[1;33m=\u001b[0m \u001b[1;36m0\u001b[0m  \u001b[1;31m# reset the tqdm stack count\u001b[0m\u001b[1;33m\u001b[0m\u001b[1;33m\u001b[0m\u001b[0m\n\u001b[0;32m    305\u001b[0m         \u001b[1;32mwith\u001b[0m \u001b[0m_function_name_pointing_to_widget\u001b[0m\u001b[1;33m(\u001b[0m\u001b[0mself\u001b[0m\u001b[1;33m)\u001b[0m\u001b[1;33m:\u001b[0m\u001b[1;33m\u001b[0m\u001b[1;33m\u001b[0m\u001b[0m\n\u001b[1;32m--> 306\u001b[1;33m             \u001b[0mvalue\u001b[0m \u001b[1;33m=\u001b[0m \u001b[0mself\u001b[0m\u001b[1;33m.\u001b[0m\u001b[0m_function\u001b[0m\u001b[1;33m(\u001b[0m\u001b[1;33m*\u001b[0m\u001b[0mbound\u001b[0m\u001b[1;33m.\u001b[0m\u001b[0margs\u001b[0m\u001b[1;33m,\u001b[0m \u001b[1;33m**\u001b[0m\u001b[0mbound\u001b[0m\u001b[1;33m.\u001b[0m\u001b[0mkwargs\u001b[0m\u001b[1;33m)\u001b[0m\u001b[1;33m\u001b[0m\u001b[1;33m\u001b[0m\u001b[0m\n\u001b[0m\u001b[0;32m    307\u001b[0m \u001b[1;33m\u001b[0m\u001b[0m\n\u001b[0;32m    308\u001b[0m         \u001b[0mself\u001b[0m\u001b[1;33m.\u001b[0m\u001b[0m_call_count\u001b[0m \u001b[1;33m+=\u001b[0m \u001b[1;36m1\u001b[0m\u001b[1;33m\u001b[0m\u001b[1;33m\u001b[0m\u001b[0m\n",
      "\u001b[1;32mc:\\users\\ryans\\onedrive\\documents\\bia pol stuff\\napari workflow laptop\\napari-assistant_fork\\napari_assistant\\_workflow_io_utility.py\u001b[0m in \u001b[0;36mworker_func\u001b[1;34m(*iargs, **ikwargs)\u001b[0m\n\u001b[0;32m    211\u001b[0m                 \u001b[1;32mfrom\u001b[0m \u001b[0mnapari_workflows\u001b[0m \u001b[1;32mimport\u001b[0m \u001b[0mWorkflowManager\u001b[0m\u001b[1;33m\u001b[0m\u001b[1;33m\u001b[0m\u001b[0m\n\u001b[0;32m    212\u001b[0m                 \u001b[0mworkflow_manager\u001b[0m \u001b[1;33m=\u001b[0m \u001b[0mWorkflowManager\u001b[0m\u001b[1;33m.\u001b[0m\u001b[0minstall\u001b[0m\u001b[1;33m(\u001b[0m\u001b[0mviewer\u001b[0m\u001b[1;33m)\u001b[0m\u001b[1;33m\u001b[0m\u001b[1;33m\u001b[0m\u001b[0m\n\u001b[1;32m--> 213\u001b[1;33m                 \u001b[0mworkflow_manager\u001b[0m\u001b[1;33m.\u001b[0m\u001b[0mupdate\u001b[0m\u001b[1;33m(\u001b[0m\u001b[0mtarget_layer\u001b[0m\u001b[1;33m,\u001b[0m \u001b[0mfunc\u001b[0m\u001b[1;33m,\u001b[0m \u001b[1;33m*\u001b[0m\u001b[0miargs\u001b[0m\u001b[1;33m,\u001b[0m \u001b[1;33m**\u001b[0m\u001b[0mikwargs\u001b[0m\u001b[1;33m)\u001b[0m\u001b[1;33m\u001b[0m\u001b[1;33m\u001b[0m\u001b[0m\n\u001b[0m\u001b[0;32m    214\u001b[0m             \u001b[1;32mexcept\u001b[0m \u001b[0mImportError\u001b[0m\u001b[1;33m:\u001b[0m\u001b[1;33m\u001b[0m\u001b[1;33m\u001b[0m\u001b[0m\n\u001b[0;32m    215\u001b[0m                 \u001b[1;32mpass\u001b[0m\u001b[1;33m\u001b[0m\u001b[1;33m\u001b[0m\u001b[0m\n",
      "\u001b[1;32mc:\\users\\ryans\\onedrive\\documents\\bia pol stuff\\napari workflow laptop\\nw fork\\understanding napari workflows.docx\\src\\napari_workflows\\_workflow.py\u001b[0m in \u001b[0;36mupdate\u001b[1;34m(self, target_layer, function, *args, **kwargs)\u001b[0m\n\u001b[0;32m    245\u001b[0m         \"\"\"\n\u001b[0;32m    246\u001b[0m         \u001b[1;32mfrom\u001b[0m \u001b[1;33m.\u001b[0m\u001b[0m_undo_redo_functionality\u001b[0m \u001b[1;32mimport\u001b[0m \u001b[0mUpdate_workflow_step\u001b[0m\u001b[1;33m\u001b[0m\u001b[1;33m\u001b[0m\u001b[0m\n\u001b[1;32m--> 247\u001b[1;33m         self.undo_redo_controller.execute(Update_workflow_step(\n\u001b[0m\u001b[0;32m    248\u001b[0m             \u001b[0mworkflow\u001b[0m \u001b[1;33m=\u001b[0m \u001b[0mself\u001b[0m\u001b[1;33m.\u001b[0m\u001b[0mworkflow\u001b[0m\u001b[1;33m,\u001b[0m\u001b[1;33m\u001b[0m\u001b[1;33m\u001b[0m\u001b[0m\n\u001b[0;32m    249\u001b[0m             \u001b[0mviewer\u001b[0m \u001b[1;33m=\u001b[0m \u001b[0mself\u001b[0m\u001b[1;33m.\u001b[0m\u001b[0mviewer\u001b[0m\u001b[1;33m,\u001b[0m\u001b[1;33m\u001b[0m\u001b[1;33m\u001b[0m\u001b[0m\n",
      "\u001b[1;31mTypeError\u001b[0m: napari_workflows._undo_redo_functionality.Update_workflow_step() got multiple values for keyword argument 'viewer'"
     ]
    }
   ],
   "source": [
    "workflow = load_workflow('test_workflow_long.yaml')\n",
    "initialise_root_functions(workflow, viewer)\n",
    "load_remaining_workflow(workflow,viewer)"
   ]
  },
  {
   "cell_type": "markdown",
   "id": "8ffc44bb",
   "metadata": {},
   "source": [
    "# Here we change the workflow from the original loaded workflow"
   ]
  },
  {
   "cell_type": "code",
   "execution_count": 3,
   "id": "c7cea35e",
   "metadata": {},
   "outputs": [],
   "source": [
    "to_file(viewer, 'workflow_changed.yaml')"
   ]
  },
  {
   "cell_type": "code",
   "execution_count": 4,
   "id": "15241670",
   "metadata": {},
   "outputs": [],
   "source": [
    "def delete_workflow_widgets_layers(workflow, viewer):\n",
    "    #deleting the widgets\n",
    "    dock_widgets = viewer.window._dock_widgets\n",
    "    workflow_nodes = list(workflow._tasks.keys())\n",
    "    for key, widget in list(dock_widgets.items()):\n",
    "        if ('Result of ' + key in workflow_nodes) or ('Result of '+key[:-22] in workflow_nodes):\n",
    "            viewer.window.remove_dock_widget(widget=widget)\n",
    "    \n",
    "    #deleting the layers\n",
    "    layers = viewer.layers\n",
    "    layer_names = [str(lay) for lay in layers]\n",
    "    for layer_name in layer_names:\n",
    "        if layers[layer_name].source.widget:\n",
    "            layers.remove(layer_name)"
   ]
  },
  {
   "cell_type": "code",
   "execution_count": 5,
   "id": "5f114790",
   "metadata": {},
   "outputs": [
    {
     "name": "stdout",
     "output_type": "stream",
     "text": [
      "img1\n",
      "img2\n",
      "Result of Gaussian (scikit-image, nsbatwm)\n",
      "Result of Gaussian (scikit-image, nsbatwm) [1]\n",
      "Result of Minimum (scipy, nsbatwm)\n",
      "Result of Percentile (scipy, nsbatwm)\n",
      "Result of Black top-hat (scipy, nsbatwm)\n",
      "Result of Multiply images (numpy, nsbatwm)\n",
      "Result of Seeded watershed using local minima as seeds (nsbatwm)\n",
      "Result of Remove labeled objects at the image border (scikit-image, nsbatwm)\n"
     ]
    }
   ],
   "source": [
    "workflow_manager = WorkflowManager.install(viewer)\n",
    "workflow_current_state = workflow_manager.workflow\n",
    "\n",
    "delete_workflow_widgets_layers(workflow_current_state, viewer)"
   ]
  },
  {
   "cell_type": "code",
   "execution_count": 6,
   "id": "d403af6c",
   "metadata": {},
   "outputs": [],
   "source": [
    "workflow = load_workflow('workflow_changed.yaml')\n",
    "initialise_root_functions(workflow, viewer)\n",
    "load_remaining_workflow(workflow,viewer)"
   ]
  },
  {
   "cell_type": "code",
   "execution_count": 7,
   "id": "ca72ae9c",
   "metadata": {},
   "outputs": [
    {
     "name": "stdout",
     "output_type": "stream",
     "text": [
      "date and time = 10/03/2022 16:04:47\n"
     ]
    }
   ],
   "source": [
    "from datetime import datetime\n",
    "\n",
    "# datetime object containing current date and time\n",
    "now = datetime.now()\n",
    "\n",
    "# dd/mm/YY H:M:S\n",
    "dt_string = now.strftime(\"%d/%m/%Y %H:%M:%S\")\n",
    "print(\"date and time =\", dt_string)\t"
   ]
  },
  {
   "cell_type": "code",
   "execution_count": 9,
   "id": "2789fb95",
   "metadata": {},
   "outputs": [
    {
     "data": {
      "text/plain": [
       "'test_workflow_long - 10/03/2022 16:11:07'"
      ]
     },
     "execution_count": 9,
     "metadata": {},
     "output_type": "execute_result"
    }
   ],
   "source": [
    "def workflow_name_w_datetime(workflow_name):\n",
    "    from datetime import datetime\n",
    "\n",
    "    now = datetime.now()\n",
    "    dt_string = now.strftime(\"%d/%m/%Y %H:%M:%S\")\n",
    "    \n",
    "    return workflow_name + ' - ' + dt_string\n",
    "file_name = 'test_workflow_long.yaml'\n",
    "\n",
    "workflow_name_w_datetime(file_name[:-5])"
   ]
  },
  {
   "cell_type": "code",
   "execution_count": null,
   "id": "3e006206",
   "metadata": {},
   "outputs": [],
   "source": [
    "def save_current_state(viewer, filename_prefix, folder_location = None):\n",
    "    from napari_workflows import WorkflowManager, _io_yaml_v1\n",
    "    from datetime import datetime\n",
    "    \n",
    "    # make filename\n",
    "    now = datetime.now()\n",
    "    dt_string = now.strftime(\"%d/%m/%Y_%H:%M:%S\")\n",
    "    filename = folder_location + filename_prefix + '_' + dt_string\n",
    "    \n",
    "    # get the workflow, should one be installed\n",
    "    workflow_manager = WorkflowManager.install(viewer)\n",
    "    workflow = workflow_manager.workflow\n",
    "    \n",
    "    # remove viewer objects to enable saving\n",
    "    workflow.remove_viewers()\n",
    "    \n",
    "    # save the workflow\n",
    "    _io_yaml_v1.save_workflow(filename, workflow)\n"
   ]
  }
 ],
 "metadata": {
  "kernelspec": {
   "display_name": "Python 3 (ipykernel)",
   "language": "python",
   "name": "python3"
  },
  "language_info": {
   "codemirror_mode": {
    "name": "ipython",
    "version": 3
   },
   "file_extension": ".py",
   "mimetype": "text/x-python",
   "name": "python",
   "nbconvert_exporter": "python",
   "pygments_lexer": "ipython3",
   "version": "3.9.7"
  }
 },
 "nbformat": 4,
 "nbformat_minor": 5
}
