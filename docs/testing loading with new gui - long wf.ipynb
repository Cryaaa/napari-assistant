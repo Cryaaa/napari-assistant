{
 "cells": [
  {
   "cell_type": "code",
   "execution_count": 1,
   "id": "450d76bf",
   "metadata": {},
   "outputs": [
    {
     "name": "stderr",
     "output_type": "stream",
     "text": [
      "C:\\Users\\ryans\\Anaconda3\\envs\\np_workflows_v1\\lib\\site-packages\\napari_tools_menu\\__init__.py:165: FutureWarning: Public access to Window.qt_viewer is deprecated and will be removed in\n",
      "v0.5.0. It is considered an \"implementation detail\" of the napari\n",
      "application, not part of the napari viewer model. If your use case\n",
      "requires access to qt_viewer, please open an issue to discuss.\n",
      "  self.tools_menu = ToolsMenu(self, self.qt_viewer.viewer)\n"
     ]
    },
    {
     "data": {
      "text/plain": [
       "<napari._qt.widgets.qt_viewer_dock_widget.QtViewerDockWidget at 0x200d7e15700>"
      ]
     },
     "execution_count": 1,
     "metadata": {},
     "output_type": "execute_result"
    }
   ],
   "source": [
    "import napari\n",
    "from napari_assistant._gui._Assistant import Assistant\n",
    "from skimage.io import imread\n",
    "from napari_assistant._categories import CATEGORIES\n",
    "\n",
    "filename = 'C:/Users/ryans/OneDrive/Desktop/blobs.tif'\n",
    "blobs = imread(filename)\n",
    "blobs_modified = imread('C:/Users/ryans/OneDrive/Desktop/blobs_messed_up.tiff') \n",
    "\n",
    "viewer = napari.Viewer()\n",
    "viewer.add_image(blobs_modified, name = 'not blobs')\n",
    "viewer.add_image(blobs, name = 'blobs')\n",
    "assistant = Assistant(viewer)\n",
    "viewer.window.add_dock_widget(assistant)"
   ]
  },
  {
   "cell_type": "code",
   "execution_count": 2,
   "id": "03d941cc",
   "metadata": {},
   "outputs": [
    {
     "name": "stderr",
     "output_type": "stream",
     "text": [
      "2022-04-13 16:33:32.424 | INFO     | napari_assistant._gui._category_widget:call_op:129 - gaussian_blur (clesperanto)(..., 1.0, 1.0, 0.0)\n",
      "2022-04-13 16:33:32.522 | DEBUG    | napari_assistant._gui._category_widget:_show_result:231 - creating new layer for id: 2202645168624\n",
      "2022-04-13 16:33:32.779 | INFO     | napari_assistant._gui._category_widget:call_op:129 - gaussian_blur (clesperanto)(..., 1.0, 1.0, 0.0)\n",
      "2022-04-13 16:33:32.787 | DEBUG    | napari_assistant._gui._category_widget:_show_result:225 - updating existing layer: Result of gaussian_blur (clesperanto), with id: 2202645168624\n",
      "2022-04-13 16:33:32.807 | INFO     | napari_assistant._gui._category_widget:call_op:129 - gaussian_blur (clesperanto)(..., 6.0, 1.0, 0.0)\n",
      "2022-04-13 16:33:32.816 | DEBUG    | napari_assistant._gui._category_widget:_show_result:225 - updating existing layer: Result of gaussian_blur (clesperanto), with id: 2202645168624\n",
      "2022-04-13 16:33:32.835 | INFO     | napari_assistant._gui._category_widget:call_op:129 - gaussian_blur (clesperanto)(..., 6.0, 6.0, 0.0)\n",
      "2022-04-13 16:33:32.847 | DEBUG    | napari_assistant._gui._category_widget:_show_result:225 - updating existing layer: Result of gaussian_blur (clesperanto), with id: 2202645168624\n",
      "2022-04-13 16:33:32.864 | INFO     | napari_assistant._gui._category_widget:call_op:129 - gaussian_blur (clesperanto)(..., 6.0, 6.0, 0.0)\n",
      "2022-04-13 16:33:32.873 | DEBUG    | napari_assistant._gui._category_widget:_show_result:225 - updating existing layer: Result of gaussian_blur (clesperanto), with id: 2202645168624\n",
      "2022-04-13 16:33:32.918 | INFO     | napari_assistant._gui._category_widget:call_op:129 - top_hat_box (clesperanto)(..., 10.0, 10.0, 0.0)\n",
      "2022-04-13 16:33:32.936 | DEBUG    | napari_assistant._gui._category_widget:_show_result:231 - creating new layer for id: 2202648119472\n"
     ]
    },
    {
     "name": "stdout",
     "output_type": "stream",
     "text": [
      "only arguments: [array([[ 0,  1,  2, ..., 11, 12, 12],\n",
      "       [24,  0,  2, ...,  9, 11, 11],\n",
      "       [28, 17,  2, ..., 26,  9,  9],\n",
      "       ...,\n",
      "       [16,  4,  4, ..., 17, 17, 17],\n",
      "       [ 4,  4,  4, ..., 17, 17, 17],\n",
      "       [18, 15,  4, ..., 17, 17, 17]], dtype=uint8)]\n",
      "det kwargs:     {'destination': None, 'sigma_x': 1.0, 'sigma_y': 1.0, 'sigma_z': 0.0}\n",
      "only arguments: [array([[ 40,  32,  24, ..., 216, 200, 200],\n",
      "       [ 56,  40,  24, ..., 232, 216, 216],\n",
      "       [ 64,  48,  24, ..., 240, 232, 232],\n",
      "       ...,\n",
      "       [ 72,  80,  80, ...,  48,  48,  48],\n",
      "       [ 80,  80,  80, ...,  48,  48,  48],\n",
      "       [ 96,  88,  80, ...,  48,  48,  48]], dtype=uint8)]\n",
      "det kwargs:     {'destination': None, 'sigma_x': 1.0, 'sigma_y': 1.0, 'sigma_z': 0.0}\n",
      "only arguments: [array([[ 40,  32,  24, ..., 216, 200, 200],\n",
      "       [ 56,  40,  24, ..., 232, 216, 216],\n",
      "       [ 64,  48,  24, ..., 240, 232, 232],\n",
      "       ...,\n",
      "       [ 72,  80,  80, ...,  48,  48,  48],\n",
      "       [ 80,  80,  80, ...,  48,  48,  48],\n",
      "       [ 96,  88,  80, ...,  48,  48,  48]], dtype=uint8)]\n",
      "det kwargs:     {'destination': None, 'sigma_x': 6.0, 'sigma_y': 1.0, 'sigma_z': 0.0}\n",
      "only arguments: [array([[ 40,  32,  24, ..., 216, 200, 200],\n",
      "       [ 56,  40,  24, ..., 232, 216, 216],\n",
      "       [ 64,  48,  24, ..., 240, 232, 232],\n",
      "       ...,\n",
      "       [ 72,  80,  80, ...,  48,  48,  48],\n",
      "       [ 80,  80,  80, ...,  48,  48,  48],\n",
      "       [ 96,  88,  80, ...,  48,  48,  48]], dtype=uint8)]\n",
      "det kwargs:     {'destination': None, 'sigma_x': 6.0, 'sigma_y': 6.0, 'sigma_z': 0.0}\n",
      "only arguments: [array([[ 40,  32,  24, ..., 216, 200, 200],\n",
      "       [ 56,  40,  24, ..., 232, 216, 216],\n",
      "       [ 64,  48,  24, ..., 240, 232, 232],\n",
      "       ...,\n",
      "       [ 72,  80,  80, ...,  48,  48,  48],\n",
      "       [ 80,  80,  80, ...,  48,  48,  48],\n",
      "       [ 96,  88,  80, ...,  48,  48,  48]], dtype=uint8)]\n",
      "det kwargs:     {'destination': None, 'sigma_x': 6.0, 'sigma_y': 6.0, 'sigma_z': 0.0}\n"
     ]
    },
    {
     "name": "stderr",
     "output_type": "stream",
     "text": [
      "2022-04-13 16:33:33.030 | INFO     | napari_assistant._gui._category_widget:call_op:129 - top_hat_box (clesperanto)(..., 10.0, 10.0, 0.0)\n",
      "2022-04-13 16:33:33.045 | DEBUG    | napari_assistant._gui._category_widget:_show_result:225 - updating existing layer: Result of top_hat_box (clesperanto), with id: 2202648119472\n",
      "2022-04-13 16:33:33.063 | INFO     | napari_assistant._gui._category_widget:call_op:129 - top_hat_box (clesperanto)(..., 15.0, 10.0, 0.0)\n",
      "2022-04-13 16:33:33.077 | DEBUG    | napari_assistant._gui._category_widget:_show_result:225 - updating existing layer: Result of top_hat_box (clesperanto), with id: 2202648119472\n",
      "2022-04-13 16:33:33.096 | INFO     | napari_assistant._gui._category_widget:call_op:129 - top_hat_box (clesperanto)(..., 15.0, 15.0, 0.0)\n",
      "2022-04-13 16:33:33.109 | DEBUG    | napari_assistant._gui._category_widget:_show_result:225 - updating existing layer: Result of top_hat_box (clesperanto), with id: 2202648119472\n",
      "2022-04-13 16:33:33.127 | INFO     | napari_assistant._gui._category_widget:call_op:129 - top_hat_box (clesperanto)(..., 15.0, 15.0, 0.0)\n",
      "2022-04-13 16:33:33.138 | DEBUG    | napari_assistant._gui._category_widget:_show_result:225 - updating existing layer: Result of top_hat_box (clesperanto), with id: 2202648119472\n",
      "2022-04-13 16:33:33.211 | INFO     | napari_assistant._gui._category_widget:call_op:129 - absolute_difference (clesperanto)(..., )\n"
     ]
    },
    {
     "name": "stdout",
     "output_type": "stream",
     "text": [
      "only arguments: [array([[ 0,  1,  2, ..., 11, 12, 12],\n",
      "       [24,  0,  2, ...,  9, 11, 11],\n",
      "       [28, 17,  2, ..., 26,  9,  9],\n",
      "       ...,\n",
      "       [16,  4,  4, ..., 17, 17, 17],\n",
      "       [ 4,  4,  4, ..., 17, 17, 17],\n",
      "       [18, 15,  4, ..., 17, 17, 17]], dtype=uint8)]\n",
      "det kwargs:     {'destination': None, 'radius_x': 10.0, 'radius_y': 10.0, 'radius_z': 0.0}\n",
      "only arguments: [cl.Array([[ 36.987213,  36.748055,  36.720158, ..., 219.39273 , 219.55081 ,\n",
      "        219.24374 ],\n",
      "       [ 37.57606 ,  37.461544,  37.5792  , ..., 220.53722 , 220.70338 ,\n",
      "        220.42693 ],\n",
      "       [ 38.240932,  38.264496,  38.545185, ..., 221.58632 , 221.75493 ,\n",
      "        221.50473 ],\n",
      "       ...,\n",
      "       [ 72.67791 ,  71.58198 ,  70.38857 , ...,  52.567577,  51.40775 ,\n",
      "         50.564884],\n",
      "       [ 74.00522 ,  72.82467 ,  71.54207 , ...,  52.96153 ,  51.669037,\n",
      "         50.722404],\n",
      "       [ 75.46215 ,  74.18416 ,  72.79883 , ...,  53.367485,  51.939392,\n",
      "         50.88665 ]], dtype=float32)]\n",
      "det kwargs:     {'destination': None, 'radius_x': 10.0, 'radius_y': 10.0, 'radius_z': 0.0}\n",
      "only arguments: [cl.Array([[ 36.987213,  36.748055,  36.720158, ..., 219.39273 , 219.55081 ,\n",
      "        219.24374 ],\n",
      "       [ 37.57606 ,  37.461544,  37.5792  , ..., 220.53722 , 220.70338 ,\n",
      "        220.42693 ],\n",
      "       [ 38.240932,  38.264496,  38.545185, ..., 221.58632 , 221.75493 ,\n",
      "        221.50473 ],\n",
      "       ...,\n",
      "       [ 72.67791 ,  71.58198 ,  70.38857 , ...,  52.567577,  51.40775 ,\n",
      "         50.564884],\n",
      "       [ 74.00522 ,  72.82467 ,  71.54207 , ...,  52.96153 ,  51.669037,\n",
      "         50.722404],\n",
      "       [ 75.46215 ,  74.18416 ,  72.79883 , ...,  53.367485,  51.939392,\n",
      "         50.88665 ]], dtype=float32)]\n",
      "det kwargs:     {'destination': None, 'radius_x': 15.0, 'radius_y': 10.0, 'radius_z': 0.0}\n",
      "only arguments: [cl.Array([[ 36.987213,  36.748055,  36.720158, ..., 219.39273 , 219.55081 ,\n",
      "        219.24374 ],\n",
      "       [ 37.57606 ,  37.461544,  37.5792  , ..., 220.53722 , 220.70338 ,\n",
      "        220.42693 ],\n",
      "       [ 38.240932,  38.264496,  38.545185, ..., 221.58632 , 221.75493 ,\n",
      "        221.50473 ],\n",
      "       ...,\n",
      "       [ 72.67791 ,  71.58198 ,  70.38857 , ...,  52.567577,  51.40775 ,\n",
      "         50.564884],\n",
      "       [ 74.00522 ,  72.82467 ,  71.54207 , ...,  52.96153 ,  51.669037,\n",
      "         50.722404],\n",
      "       [ 75.46215 ,  74.18416 ,  72.79883 , ...,  53.367485,  51.939392,\n",
      "         50.88665 ]], dtype=float32)]\n",
      "det kwargs:     {'destination': None, 'radius_x': 15.0, 'radius_y': 15.0, 'radius_z': 0.0}\n",
      "only arguments: [cl.Array([[ 36.987213,  36.748055,  36.720158, ..., 219.39273 , 219.55081 ,\n",
      "        219.24374 ],\n",
      "       [ 37.57606 ,  37.461544,  37.5792  , ..., 220.53722 , 220.70338 ,\n",
      "        220.42693 ],\n",
      "       [ 38.240932,  38.264496,  38.545185, ..., 221.58632 , 221.75493 ,\n",
      "        221.50473 ],\n",
      "       ...,\n",
      "       [ 72.67791 ,  71.58198 ,  70.38857 , ...,  52.567577,  51.40775 ,\n",
      "         50.564884],\n",
      "       [ 74.00522 ,  72.82467 ,  71.54207 , ...,  52.96153 ,  51.669037,\n",
      "         50.722404],\n",
      "       [ 75.46215 ,  74.18416 ,  72.79883 , ...,  53.367485,  51.939392,\n",
      "         50.88665 ]], dtype=float32)]\n",
      "det kwargs:     {'destination': None, 'radius_x': 15.0, 'radius_y': 15.0, 'radius_z': 0.0}\n"
     ]
    },
    {
     "name": "stderr",
     "output_type": "stream",
     "text": [
      "2022-04-13 16:33:33.220 | DEBUG    | napari_assistant._gui._category_widget:_show_result:231 - creating new layer for id: 2202734759360\n",
      "2022-04-13 16:33:33.319 | INFO     | napari_assistant._gui._category_widget:call_op:129 - gaussian_blur (clesperanto)(..., 1.0, 1.0, 0.0)\n",
      "2022-04-13 16:33:33.328 | DEBUG    | napari_assistant._gui._category_widget:_show_result:231 - creating new layer for id: 2202751421024\n",
      "2022-04-13 16:33:33.409 | INFO     | napari_assistant._gui._category_widget:call_op:129 - gaussian_blur (clesperanto)(..., 1.0, 1.0, 0.0)\n",
      "2022-04-13 16:33:33.418 | DEBUG    | napari_assistant._gui._category_widget:_show_result:225 - updating existing layer: Result of gaussian_blur (clesperanto) [1], with id: 2202751421024\n",
      "2022-04-13 16:33:33.434 | INFO     | napari_assistant._gui._category_widget:call_op:129 - gaussian_blur (clesperanto)(..., 23.0, 1.0, 0.0)\n",
      "2022-04-13 16:33:33.444 | DEBUG    | napari_assistant._gui._category_widget:_show_result:225 - updating existing layer: Result of gaussian_blur (clesperanto) [1], with id: 2202751421024\n",
      "2022-04-13 16:33:33.460 | INFO     | napari_assistant._gui._category_widget:call_op:129 - gaussian_blur (clesperanto)(..., 23.0, 1.0, 0.0)\n",
      "2022-04-13 16:33:33.468 | DEBUG    | napari_assistant._gui._category_widget:_show_result:225 - updating existing layer: Result of gaussian_blur (clesperanto) [1], with id: 2202751421024\n"
     ]
    },
    {
     "name": "stdout",
     "output_type": "stream",
     "text": [
      "only arguments: [cl.Array([[2.67055511e-01, 2.78968811e-02, 0.00000000e+00, ...,\n",
      "        9.63595200e+01, 9.65176010e+01, 9.62105331e+01],\n",
      "       [1.14517212e-01, 0.00000000e+00, 0.00000000e+00, ...,\n",
      "        9.75040054e+01, 9.76701736e+01, 9.73937149e+01],\n",
      "       [0.00000000e+00, 0.00000000e+00, 0.00000000e+00, ...,\n",
      "        9.85531082e+01, 9.87217178e+01, 9.84715195e+01],\n",
      "       ...,\n",
      "       [1.52099342e+01, 1.41140022e+01, 1.29205971e+01, ...,\n",
      "        9.48760986e-01, 5.97942352e-01, 3.24359894e-01],\n",
      "       [1.65372429e+01, 1.53566933e+01, 1.40740929e+01, ...,\n",
      "        1.34271240e+00, 8.59230042e-01, 4.81880188e-01],\n",
      "       [1.79941750e+01, 1.67161827e+01, 1.53308525e+01, ...,\n",
      "        1.74866867e+00, 1.12958527e+00, 6.46125793e-01]], dtype=float32), cl.Array([[ 36.987213,  36.748055,  36.720158, ..., 219.39273 , 219.55081 ,\n",
      "        219.24374 ],\n",
      "       [ 37.57606 ,  37.461544,  37.5792  , ..., 220.53722 , 220.70338 ,\n",
      "        220.42693 ],\n",
      "       [ 38.240932,  38.264496,  38.545185, ..., 221.58632 , 221.75493 ,\n",
      "        221.50473 ],\n",
      "       ...,\n",
      "       [ 72.67791 ,  71.58198 ,  70.38857 , ...,  52.567577,  51.40775 ,\n",
      "         50.564884],\n",
      "       [ 74.00522 ,  72.82467 ,  71.54207 , ...,  52.96153 ,  51.669037,\n",
      "         50.722404],\n",
      "       [ 75.46215 ,  74.18416 ,  72.79883 , ...,  53.367485,  51.939392,\n",
      "         50.88665 ]], dtype=float32)]\n",
      "det kwargs:     {'destination': None}\n",
      "only arguments: [array([[ 0,  1,  2, ..., 11, 12, 12],\n",
      "       [24,  0,  2, ...,  9, 11, 11],\n",
      "       [28, 17,  2, ..., 26,  9,  9],\n",
      "       ...,\n",
      "       [16,  4,  4, ..., 17, 17, 17],\n",
      "       [ 4,  4,  4, ..., 17, 17, 17],\n",
      "       [18, 15,  4, ..., 17, 17, 17]], dtype=uint8)]\n",
      "det kwargs:     {'destination': None, 'sigma_x': 1.0, 'sigma_y': 1.0, 'sigma_z': 0.0}\n",
      "only arguments: [cl.Array([[ 36.720158,  36.720158,  36.720158, ..., 123.03321 , 123.03321 ,\n",
      "        123.03321 ],\n",
      "       [ 37.461544,  37.461544,  37.5792  , ..., 123.03321 , 123.03321 ,\n",
      "        123.03321 ],\n",
      "       [ 38.240932,  38.264496,  38.545185, ..., 123.03321 , 123.03321 ,\n",
      "        123.03321 ],\n",
      "       ...,\n",
      "       [ 57.467976,  57.467976,  57.467976, ...,  51.618816,  50.809807,\n",
      "         50.240524],\n",
      "       [ 57.467976,  57.467976,  57.467976, ...,  51.618816,  50.809807,\n",
      "         50.240524],\n",
      "       [ 57.467976,  57.467976,  57.467976, ...,  51.618816,  50.809807,\n",
      "         50.240524]], dtype=float32)]\n",
      "det kwargs:     {'destination': None, 'sigma_x': 1.0, 'sigma_y': 1.0, 'sigma_z': 0.0}\n",
      "only arguments: [cl.Array([[ 36.720158,  36.720158,  36.720158, ..., 123.03321 , 123.03321 ,\n",
      "        123.03321 ],\n",
      "       [ 37.461544,  37.461544,  37.5792  , ..., 123.03321 , 123.03321 ,\n",
      "        123.03321 ],\n",
      "       [ 38.240932,  38.264496,  38.545185, ..., 123.03321 , 123.03321 ,\n",
      "        123.03321 ],\n",
      "       ...,\n",
      "       [ 57.467976,  57.467976,  57.467976, ...,  51.618816,  50.809807,\n",
      "         50.240524],\n",
      "       [ 57.467976,  57.467976,  57.467976, ...,  51.618816,  50.809807,\n",
      "         50.240524],\n",
      "       [ 57.467976,  57.467976,  57.467976, ...,  51.618816,  50.809807,\n",
      "         50.240524]], dtype=float32)]\n",
      "det kwargs:     {'destination': None, 'sigma_x': 23.0, 'sigma_y': 1.0, 'sigma_z': 0.0}\n",
      "only arguments: [cl.Array([[ 36.720158,  36.720158,  36.720158, ..., 123.03321 , 123.03321 ,\n",
      "        123.03321 ],\n",
      "       [ 37.461544,  37.461544,  37.5792  , ..., 123.03321 , 123.03321 ,\n",
      "        123.03321 ],\n",
      "       [ 38.240932,  38.264496,  38.545185, ..., 123.03321 , 123.03321 ,\n",
      "        123.03321 ],\n",
      "       ...,\n",
      "       [ 57.467976,  57.467976,  57.467976, ...,  51.618816,  50.809807,\n",
      "         50.240524],\n",
      "       [ 57.467976,  57.467976,  57.467976, ...,  51.618816,  50.809807,\n",
      "         50.240524],\n",
      "       [ 57.467976,  57.467976,  57.467976, ...,  51.618816,  50.809807,\n",
      "         50.240524]], dtype=float32)]\n",
      "det kwargs:     {'destination': None, 'sigma_x': 23.0, 'sigma_y': 1.0, 'sigma_z': 0.0}\n"
     ]
    },
    {
     "name": "stderr",
     "output_type": "stream",
     "text": [
      "2022-04-13 16:33:33.517 | INFO     | napari_assistant._gui._category_widget:call_op:129 - voronoi_otsu_labeling (clesperanto)(..., 2.0, 2.0)\n",
      "2022-04-13 16:33:33.621 | DEBUG    | napari_assistant._gui._category_widget:_show_result:231 - creating new layer for id: 2202752814672\n",
      "2022-04-13 16:33:33.705 | INFO     | napari_assistant._gui._category_widget:call_op:129 - voronoi_otsu_labeling (clesperanto)(..., 2.0, 2.0)\n",
      "2022-04-13 16:33:33.870 | DEBUG    | napari_assistant._gui._category_widget:_show_result:225 - updating existing layer: Result of voronoi_otsu_labeling (clesperanto), with id: 2202752814672\n"
     ]
    },
    {
     "name": "stdout",
     "output_type": "stream",
     "text": [
      "only arguments: [array([[ 0,  1,  2, ..., 11, 12, 12],\n",
      "       [24,  0,  2, ...,  9, 11, 11],\n",
      "       [28, 17,  2, ..., 26,  9,  9],\n",
      "       ...,\n",
      "       [16,  4,  4, ..., 17, 17, 17],\n",
      "       [ 4,  4,  4, ..., 17, 17, 17],\n",
      "       [18, 15,  4, ..., 17, 17, 17]], dtype=uint8)]\n",
      "det kwargs:     {'label_image_destination': None, 'spot_sigma': 2.0, 'outline_sigma': 2.0}\n"
     ]
    },
    {
     "name": "stderr",
     "output_type": "stream",
     "text": [
      "2022-04-13 16:33:33.886 | INFO     | napari_assistant._gui._category_widget:call_op:129 - voronoi_otsu_labeling (clesperanto)(..., 10.0, 2.0)\n"
     ]
    },
    {
     "name": "stdout",
     "output_type": "stream",
     "text": [
      "only arguments: [cl.Array([[ 42.87519 ,  43.12632 ,  43.3797  , ..., 105.32722 , 106.304306,\n",
      "        107.25048 ],\n",
      "       [ 43.516247,  43.768402,  44.0225  , ..., 105.48695 , 106.45698 ,\n",
      "        107.39614 ],\n",
      "       [ 44.262352,  44.51059 ,  44.760365, ..., 105.693695, 106.6541  ,\n",
      "        107.58379 ],\n",
      "       ...,\n",
      "       [ 58.53559 ,  58.612484,  58.693027, ...,  52.796722,  52.71131 ,\n",
      "         52.62585 ],\n",
      "       [ 58.48716 ,  58.56038 ,  58.637047, ...,  52.78784 ,  52.703354,\n",
      "         52.618732],\n",
      "       [ 58.431183,  58.50014 ,  58.57234 , ...,  52.783573,  52.69953 ,\n",
      "         52.615314]], dtype=float32)]\n",
      "det kwargs:     {'label_image_destination': None, 'spot_sigma': 2.0, 'outline_sigma': 2.0}\n"
     ]
    },
    {
     "name": "stderr",
     "output_type": "stream",
     "text": [
      "2022-04-13 16:33:34.248 | DEBUG    | napari_assistant._gui._category_widget:_show_result:225 - updating existing layer: Result of voronoi_otsu_labeling (clesperanto), with id: 2202752814672\n",
      "2022-04-13 16:33:34.265 | INFO     | napari_assistant._gui._category_widget:call_op:129 - voronoi_otsu_labeling (clesperanto)(..., 10.0, 6.0)\n"
     ]
    },
    {
     "name": "stdout",
     "output_type": "stream",
     "text": [
      "only arguments: [cl.Array([[ 42.87519 ,  43.12632 ,  43.3797  , ..., 105.32722 , 106.304306,\n",
      "        107.25048 ],\n",
      "       [ 43.516247,  43.768402,  44.0225  , ..., 105.48695 , 106.45698 ,\n",
      "        107.39614 ],\n",
      "       [ 44.262352,  44.51059 ,  44.760365, ..., 105.693695, 106.6541  ,\n",
      "        107.58379 ],\n",
      "       ...,\n",
      "       [ 58.53559 ,  58.612484,  58.693027, ...,  52.796722,  52.71131 ,\n",
      "         52.62585 ],\n",
      "       [ 58.48716 ,  58.56038 ,  58.637047, ...,  52.78784 ,  52.703354,\n",
      "         52.618732],\n",
      "       [ 58.431183,  58.50014 ,  58.57234 , ...,  52.783573,  52.69953 ,\n",
      "         52.615314]], dtype=float32)]\n",
      "det kwargs:     {'label_image_destination': None, 'spot_sigma': 10.0, 'outline_sigma': 2.0}\n"
     ]
    },
    {
     "name": "stderr",
     "output_type": "stream",
     "text": [
      "2022-04-13 16:33:34.600 | DEBUG    | napari_assistant._gui._category_widget:_show_result:225 - updating existing layer: Result of voronoi_otsu_labeling (clesperanto), with id: 2202752814672\n",
      "2022-04-13 16:33:34.616 | INFO     | napari_assistant._gui._category_widget:call_op:129 - voronoi_otsu_labeling (clesperanto)(..., 10.0, 6.0)\n"
     ]
    },
    {
     "name": "stdout",
     "output_type": "stream",
     "text": [
      "only arguments: [cl.Array([[ 42.87519 ,  43.12632 ,  43.3797  , ..., 105.32722 , 106.304306,\n",
      "        107.25048 ],\n",
      "       [ 43.516247,  43.768402,  44.0225  , ..., 105.48695 , 106.45698 ,\n",
      "        107.39614 ],\n",
      "       [ 44.262352,  44.51059 ,  44.760365, ..., 105.693695, 106.6541  ,\n",
      "        107.58379 ],\n",
      "       ...,\n",
      "       [ 58.53559 ,  58.612484,  58.693027, ...,  52.796722,  52.71131 ,\n",
      "         52.62585 ],\n",
      "       [ 58.48716 ,  58.56038 ,  58.637047, ...,  52.78784 ,  52.703354,\n",
      "         52.618732],\n",
      "       [ 58.431183,  58.50014 ,  58.57234 , ...,  52.783573,  52.69953 ,\n",
      "         52.615314]], dtype=float32)]\n",
      "det kwargs:     {'label_image_destination': None, 'spot_sigma': 10.0, 'outline_sigma': 6.0}\n"
     ]
    },
    {
     "name": "stderr",
     "output_type": "stream",
     "text": [
      "2022-04-13 16:33:34.942 | DEBUG    | napari_assistant._gui._category_widget:_show_result:225 - updating existing layer: Result of voronoi_otsu_labeling (clesperanto), with id: 2202752814672\n"
     ]
    },
    {
     "name": "stdout",
     "output_type": "stream",
     "text": [
      "only arguments: [cl.Array([[ 42.87519 ,  43.12632 ,  43.3797  , ..., 105.32722 , 106.304306,\n",
      "        107.25048 ],\n",
      "       [ 43.516247,  43.768402,  44.0225  , ..., 105.48695 , 106.45698 ,\n",
      "        107.39614 ],\n",
      "       [ 44.262352,  44.51059 ,  44.760365, ..., 105.693695, 106.6541  ,\n",
      "        107.58379 ],\n",
      "       ...,\n",
      "       [ 58.53559 ,  58.612484,  58.693027, ...,  52.796722,  52.71131 ,\n",
      "         52.62585 ],\n",
      "       [ 58.48716 ,  58.56038 ,  58.637047, ...,  52.78784 ,  52.703354,\n",
      "         52.618732],\n",
      "       [ 58.431183,  58.50014 ,  58.57234 , ...,  52.783573,  52.69953 ,\n",
      "         52.615314]], dtype=float32)]\n",
      "det kwargs:     {'label_image_destination': None, 'spot_sigma': 10.0, 'outline_sigma': 6.0}\n"
     ]
    }
   ],
   "source": [
    "assistant.load_workflow(filename='test_long_wf.yaml')"
   ]
  },
  {
   "cell_type": "code",
   "execution_count": 3,
   "id": "8a26e4df",
   "metadata": {},
   "outputs": [
    {
     "ename": "NameError",
     "evalue": "name 'workflow' is not defined",
     "output_type": "error",
     "traceback": [
      "\u001b[1;31m---------------------------------------------------------------------------\u001b[0m",
      "\u001b[1;31mNameError\u001b[0m                                 Traceback (most recent call last)",
      "\u001b[1;32m~\\AppData\\Local\\Temp/ipykernel_9984/971073127.py\u001b[0m in \u001b[0;36m<module>\u001b[1;34m\u001b[0m\n\u001b[0;32m      1\u001b[0m \u001b[1;32mfrom\u001b[0m \u001b[0mnapari_assistant\u001b[0m\u001b[1;33m.\u001b[0m\u001b[0m_workflow_io_utility\u001b[0m \u001b[1;32mimport\u001b[0m \u001b[0mload_remaining_workflow\u001b[0m\u001b[1;33m\u001b[0m\u001b[1;33m\u001b[0m\u001b[0m\n\u001b[1;32m----> 2\u001b[1;33m \u001b[0mload_remaining_workflow\u001b[0m\u001b[1;33m(\u001b[0m\u001b[0mworkflow\u001b[0m\u001b[1;33m,\u001b[0m \u001b[0mviewer\u001b[0m\u001b[1;33m)\u001b[0m\u001b[1;33m\u001b[0m\u001b[1;33m\u001b[0m\u001b[0m\n\u001b[0m",
      "\u001b[1;31mNameError\u001b[0m: name 'workflow' is not defined"
     ]
    }
   ],
   "source": [
    "from napari_assistant._workflow_io_utility import load_remaining_workflow\n",
    "load_remaining_workflow(workflow, viewer)"
   ]
  },
  {
   "cell_type": "code",
   "execution_count": null,
   "id": "9ea3470e",
   "metadata": {},
   "outputs": [],
   "source": [
    "from napari_workflows import WorkflowManager\n",
    "\n",
    "manager = WorkflowManager.install(viewer)\n",
    "print(manager.workflow)"
   ]
  },
  {
   "cell_type": "code",
   "execution_count": null,
   "id": "9cf3c893",
   "metadata": {},
   "outputs": [],
   "source": []
  }
 ],
 "metadata": {
  "kernelspec": {
   "display_name": "Python 3 (ipykernel)",
   "language": "python",
   "name": "python3"
  },
  "language_info": {
   "codemirror_mode": {
    "name": "ipython",
    "version": 3
   },
   "file_extension": ".py",
   "mimetype": "text/x-python",
   "name": "python",
   "nbconvert_exporter": "python",
   "pygments_lexer": "ipython3",
   "version": "3.9.7"
  }
 },
 "nbformat": 4,
 "nbformat_minor": 5
}
