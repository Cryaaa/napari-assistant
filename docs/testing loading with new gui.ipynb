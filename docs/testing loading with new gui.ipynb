{
 "cells": [
  {
   "cell_type": "code",
   "execution_count": 1,
   "id": "450d76bf",
   "metadata": {},
   "outputs": [
    {
     "name": "stderr",
     "output_type": "stream",
     "text": [
      "C:\\Users\\ryans\\anaconda3\\envs\\np_workflows_v1\\lib\\site-packages\\napari_tools_menu\\__init__.py:165: FutureWarning: Public access to Window.qt_viewer is deprecated and will be removed in\n",
      "v0.5.0. It is considered an \"implementation detail\" of the napari\n",
      "application, not part of the napari viewer model. If your use case\n",
      "requires access to qt_viewer, please open an issue to discuss.\n",
      "  self.tools_menu = ToolsMenu(self, self.qt_viewer.viewer)\n"
     ]
    },
    {
     "data": {
      "text/plain": [
       "<napari._qt.widgets.qt_viewer_dock_widget.QtViewerDockWidget at 0x212fe2c1510>"
      ]
     },
     "execution_count": 1,
     "metadata": {},
     "output_type": "execute_result"
    },
    {
     "name": "stderr",
     "output_type": "stream",
     "text": [
      "2022-04-11 22:23:34.517 | INFO     | napari_assistant._gui._category_widget:call_op:129 - gaussian_blur (clesperanto)(..., 1.0, 1.0, 0.0)\n",
      "2022-04-11 22:23:34.684 | DEBUG    | napari_assistant._gui._category_widget:_show_result:231 - creating new layer for id: 2280596978080\n"
     ]
    },
    {
     "name": "stdout",
     "output_type": "stream",
     "text": [
      "set workflow step: Result of gaussian_blur (clesperanto)\n",
      "     args: ['blobs', None, 1.0, 1.0, 0.0]\n",
      "   kwargs: {}\n",
      "signature: (source: Union[numpy.ndarray, pyclesperanto_prototype._tier0._pycl.OCLArray, pyopencl._cl.Image, pyclesperanto_prototype._tier0._pycl._OCLImage], destination: Union[numpy.ndarray, pyclesperanto_prototype._tier0._pycl.OCLArray, pyopencl._cl.Image, pyclesperanto_prototype._tier0._pycl._OCLImage] = None, sigma_x: float = 0, sigma_y: float = 0, sigma_z: float = 0) -> Union[numpy.ndarray, pyclesperanto_prototype._tier0._pycl.OCLArray, pyopencl._cl.Image, pyclesperanto_prototype._tier0._pycl._OCLImage]\n"
     ]
    },
    {
     "name": "stderr",
     "output_type": "stream",
     "text": [
      "2022-04-11 22:23:50.602 | INFO     | napari_assistant._gui._category_widget:call_op:129 - gaussian_blur (clesperanto)(..., 2.0, 1.0, 0.0)\n",
      "2022-04-11 22:23:50.612 | DEBUG    | napari_assistant._gui._category_widget:_show_result:225 - updating existing layer: Result of gaussian_blur (clesperanto), with id: 2280596978080\n",
      "2022-04-11 22:23:50.805 | INFO     | napari_assistant._gui._category_widget:call_op:129 - gaussian_blur (clesperanto)(..., 3.0, 1.0, 0.0)\n",
      "2022-04-11 22:23:50.814 | DEBUG    | napari_assistant._gui._category_widget:_show_result:225 - updating existing layer: Result of gaussian_blur (clesperanto), with id: 2280596978080\n"
     ]
    },
    {
     "name": "stdout",
     "output_type": "stream",
     "text": [
      "set workflow step: Result of gaussian_blur (clesperanto)\n",
      "     args: ['blobs', None, 2.0, 1.0, 0.0]\n",
      "   kwargs: {}\n",
      "signature: (source: Union[numpy.ndarray, pyclesperanto_prototype._tier0._pycl.OCLArray, pyopencl._cl.Image, pyclesperanto_prototype._tier0._pycl._OCLImage], destination: Union[numpy.ndarray, pyclesperanto_prototype._tier0._pycl.OCLArray, pyopencl._cl.Image, pyclesperanto_prototype._tier0._pycl._OCLImage] = None, sigma_x: float = 0, sigma_y: float = 0, sigma_z: float = 0) -> Union[numpy.ndarray, pyclesperanto_prototype._tier0._pycl.OCLArray, pyopencl._cl.Image, pyclesperanto_prototype._tier0._pycl._OCLImage]\n"
     ]
    },
    {
     "name": "stderr",
     "output_type": "stream",
     "text": [
      "2022-04-11 22:23:50.972 | INFO     | napari_assistant._gui._category_widget:call_op:129 - gaussian_blur (clesperanto)(..., 4.0, 1.0, 0.0)\n",
      "2022-04-11 22:23:50.984 | DEBUG    | napari_assistant._gui._category_widget:_show_result:225 - updating existing layer: Result of gaussian_blur (clesperanto), with id: 2280596978080\n"
     ]
    },
    {
     "name": "stdout",
     "output_type": "stream",
     "text": [
      "set workflow step: Result of gaussian_blur (clesperanto)\n",
      "     args: ['blobs', None, 3.0, 1.0, 0.0]\n",
      "   kwargs: {}\n",
      "signature: (source: Union[numpy.ndarray, pyclesperanto_prototype._tier0._pycl.OCLArray, pyopencl._cl.Image, pyclesperanto_prototype._tier0._pycl._OCLImage], destination: Union[numpy.ndarray, pyclesperanto_prototype._tier0._pycl.OCLArray, pyopencl._cl.Image, pyclesperanto_prototype._tier0._pycl._OCLImage] = None, sigma_x: float = 0, sigma_y: float = 0, sigma_z: float = 0) -> Union[numpy.ndarray, pyclesperanto_prototype._tier0._pycl.OCLArray, pyopencl._cl.Image, pyclesperanto_prototype._tier0._pycl._OCLImage]\n",
      "set workflow step: Result of gaussian_blur (clesperanto)\n",
      "     args: ['blobs', None, 4.0, 1.0, 0.0]\n",
      "   kwargs: {}\n",
      "signature: (source: Union[numpy.ndarray, pyclesperanto_prototype._tier0._pycl.OCLArray, pyopencl._cl.Image, pyclesperanto_prototype._tier0._pycl._OCLImage], destination: Union[numpy.ndarray, pyclesperanto_prototype._tier0._pycl.OCLArray, pyopencl._cl.Image, pyclesperanto_prototype._tier0._pycl._OCLImage] = None, sigma_x: float = 0, sigma_y: float = 0, sigma_z: float = 0) -> Union[numpy.ndarray, pyclesperanto_prototype._tier0._pycl.OCLArray, pyopencl._cl.Image, pyclesperanto_prototype._tier0._pycl._OCLImage]\n"
     ]
    },
    {
     "name": "stderr",
     "output_type": "stream",
     "text": [
      "2022-04-11 22:23:51.135 | INFO     | napari_assistant._gui._category_widget:call_op:129 - gaussian_blur (clesperanto)(..., 5.0, 1.0, 0.0)\n",
      "2022-04-11 22:23:51.143 | DEBUG    | napari_assistant._gui._category_widget:_show_result:225 - updating existing layer: Result of gaussian_blur (clesperanto), with id: 2280596978080\n"
     ]
    },
    {
     "name": "stdout",
     "output_type": "stream",
     "text": [
      "set workflow step: Result of gaussian_blur (clesperanto)\n",
      "     args: ['blobs', None, 5.0, 1.0, 0.0]\n",
      "   kwargs: {}\n",
      "signature: (source: Union[numpy.ndarray, pyclesperanto_prototype._tier0._pycl.OCLArray, pyopencl._cl.Image, pyclesperanto_prototype._tier0._pycl._OCLImage], destination: Union[numpy.ndarray, pyclesperanto_prototype._tier0._pycl.OCLArray, pyopencl._cl.Image, pyclesperanto_prototype._tier0._pycl._OCLImage] = None, sigma_x: float = 0, sigma_y: float = 0, sigma_z: float = 0) -> Union[numpy.ndarray, pyclesperanto_prototype._tier0._pycl.OCLArray, pyopencl._cl.Image, pyclesperanto_prototype._tier0._pycl._OCLImage]\n"
     ]
    },
    {
     "name": "stderr",
     "output_type": "stream",
     "text": [
      "2022-04-11 22:23:57.509 | INFO     | napari_assistant._gui._category_widget:call_op:129 - gaussian_blur (clesperanto)(..., 5.0, 2.0, 0.0)\n",
      "2022-04-11 22:23:57.518 | DEBUG    | napari_assistant._gui._category_widget:_show_result:225 - updating existing layer: Result of gaussian_blur (clesperanto), with id: 2280596978080\n"
     ]
    },
    {
     "name": "stdout",
     "output_type": "stream",
     "text": [
      "set workflow step: Result of gaussian_blur (clesperanto)\n",
      "     args: ['blobs', None, 5.0, 2.0, 0.0]\n",
      "   kwargs: {}\n",
      "signature: (source: Union[numpy.ndarray, pyclesperanto_prototype._tier0._pycl.OCLArray, pyopencl._cl.Image, pyclesperanto_prototype._tier0._pycl._OCLImage], destination: Union[numpy.ndarray, pyclesperanto_prototype._tier0._pycl.OCLArray, pyopencl._cl.Image, pyclesperanto_prototype._tier0._pycl._OCLImage] = None, sigma_x: float = 0, sigma_y: float = 0, sigma_z: float = 0) -> Union[numpy.ndarray, pyclesperanto_prototype._tier0._pycl.OCLArray, pyopencl._cl.Image, pyclesperanto_prototype._tier0._pycl._OCLImage]\n"
     ]
    },
    {
     "name": "stderr",
     "output_type": "stream",
     "text": [
      "2022-04-11 22:23:57.727 | INFO     | napari_assistant._gui._category_widget:call_op:129 - gaussian_blur (clesperanto)(..., 5.0, 3.0, 0.0)\n",
      "2022-04-11 22:23:57.739 | DEBUG    | napari_assistant._gui._category_widget:_show_result:225 - updating existing layer: Result of gaussian_blur (clesperanto), with id: 2280596978080\n",
      "2022-04-11 22:23:57.900 | INFO     | napari_assistant._gui._category_widget:call_op:129 - gaussian_blur (clesperanto)(..., 5.0, 4.0, 0.0)\n",
      "2022-04-11 22:23:57.909 | DEBUG    | napari_assistant._gui._category_widget:_show_result:225 - updating existing layer: Result of gaussian_blur (clesperanto), with id: 2280596978080\n"
     ]
    },
    {
     "name": "stdout",
     "output_type": "stream",
     "text": [
      "set workflow step: Result of gaussian_blur (clesperanto)\n",
      "     args: ['blobs', None, 5.0, 3.0, 0.0]\n",
      "   kwargs: {}\n",
      "signature: (source: Union[numpy.ndarray, pyclesperanto_prototype._tier0._pycl.OCLArray, pyopencl._cl.Image, pyclesperanto_prototype._tier0._pycl._OCLImage], destination: Union[numpy.ndarray, pyclesperanto_prototype._tier0._pycl.OCLArray, pyopencl._cl.Image, pyclesperanto_prototype._tier0._pycl._OCLImage] = None, sigma_x: float = 0, sigma_y: float = 0, sigma_z: float = 0) -> Union[numpy.ndarray, pyclesperanto_prototype._tier0._pycl.OCLArray, pyopencl._cl.Image, pyclesperanto_prototype._tier0._pycl._OCLImage]\n",
      "set workflow step: Result of gaussian_blur (clesperanto)\n",
      "     args: ['blobs', None, 5.0, 4.0, 0.0]\n",
      "   kwargs: {}\n",
      "signature: (source: Union[numpy.ndarray, pyclesperanto_prototype._tier0._pycl.OCLArray, pyopencl._cl.Image, pyclesperanto_prototype._tier0._pycl._OCLImage], destination: Union[numpy.ndarray, pyclesperanto_prototype._tier0._pycl.OCLArray, pyopencl._cl.Image, pyclesperanto_prototype._tier0._pycl._OCLImage] = None, sigma_x: float = 0, sigma_y: float = 0, sigma_z: float = 0) -> Union[numpy.ndarray, pyclesperanto_prototype._tier0._pycl.OCLArray, pyopencl._cl.Image, pyclesperanto_prototype._tier0._pycl._OCLImage]\n"
     ]
    },
    {
     "name": "stderr",
     "output_type": "stream",
     "text": [
      "2022-04-11 22:23:58.112 | INFO     | napari_assistant._gui._category_widget:call_op:129 - gaussian_blur (clesperanto)(..., 5.0, 5.0, 0.0)\n",
      "2022-04-11 22:23:58.125 | DEBUG    | napari_assistant._gui._category_widget:_show_result:225 - updating existing layer: Result of gaussian_blur (clesperanto), with id: 2280596978080\n"
     ]
    },
    {
     "name": "stdout",
     "output_type": "stream",
     "text": [
      "set workflow step: Result of gaussian_blur (clesperanto)\n",
      "     args: ['blobs', None, 5.0, 5.0, 0.0]\n",
      "   kwargs: {}\n",
      "signature: (source: Union[numpy.ndarray, pyclesperanto_prototype._tier0._pycl.OCLArray, pyopencl._cl.Image, pyclesperanto_prototype._tier0._pycl._OCLImage], destination: Union[numpy.ndarray, pyclesperanto_prototype._tier0._pycl.OCLArray, pyopencl._cl.Image, pyclesperanto_prototype._tier0._pycl._OCLImage] = None, sigma_x: float = 0, sigma_y: float = 0, sigma_z: float = 0) -> Union[numpy.ndarray, pyclesperanto_prototype._tier0._pycl.OCLArray, pyopencl._cl.Image, pyclesperanto_prototype._tier0._pycl._OCLImage]\n"
     ]
    },
    {
     "name": "stderr",
     "output_type": "stream",
     "text": [
      "2022-04-11 22:23:58.586 | INFO     | napari_assistant._gui._category_widget:call_op:129 - gaussian_blur (clesperanto)(..., 5.0, 6.0, 0.0)\n",
      "2022-04-11 22:23:58.597 | DEBUG    | napari_assistant._gui._category_widget:_show_result:225 - updating existing layer: Result of gaussian_blur (clesperanto), with id: 2280596978080\n"
     ]
    },
    {
     "name": "stdout",
     "output_type": "stream",
     "text": [
      "set workflow step: Result of gaussian_blur (clesperanto)\n",
      "     args: ['blobs', None, 5.0, 6.0, 0.0]\n",
      "   kwargs: {}\n",
      "signature: (source: Union[numpy.ndarray, pyclesperanto_prototype._tier0._pycl.OCLArray, pyopencl._cl.Image, pyclesperanto_prototype._tier0._pycl._OCLImage], destination: Union[numpy.ndarray, pyclesperanto_prototype._tier0._pycl.OCLArray, pyopencl._cl.Image, pyclesperanto_prototype._tier0._pycl._OCLImage] = None, sigma_x: float = 0, sigma_y: float = 0, sigma_z: float = 0) -> Union[numpy.ndarray, pyclesperanto_prototype._tier0._pycl.OCLArray, pyopencl._cl.Image, pyclesperanto_prototype._tier0._pycl._OCLImage]\n"
     ]
    },
    {
     "name": "stderr",
     "output_type": "stream",
     "text": [
      "2022-04-11 22:24:00.169 | INFO     | napari_assistant._gui._category_widget:call_op:129 - gaussian_blur (clesperanto)(..., 5.0, 5.0, 0.0)\n",
      "2022-04-11 22:24:00.179 | DEBUG    | napari_assistant._gui._category_widget:_show_result:225 - updating existing layer: Result of gaussian_blur (clesperanto), with id: 2280596978080\n"
     ]
    },
    {
     "name": "stdout",
     "output_type": "stream",
     "text": [
      "set workflow step: Result of gaussian_blur (clesperanto)\n",
      "     args: ['blobs', None, 5.0, 5.0, 0.0]\n",
      "   kwargs: {}\n",
      "signature: (source: Union[numpy.ndarray, pyclesperanto_prototype._tier0._pycl.OCLArray, pyopencl._cl.Image, pyclesperanto_prototype._tier0._pycl._OCLImage], destination: Union[numpy.ndarray, pyclesperanto_prototype._tier0._pycl.OCLArray, pyopencl._cl.Image, pyclesperanto_prototype._tier0._pycl._OCLImage] = None, sigma_x: float = 0, sigma_y: float = 0, sigma_z: float = 0) -> Union[numpy.ndarray, pyclesperanto_prototype._tier0._pycl.OCLArray, pyopencl._cl.Image, pyclesperanto_prototype._tier0._pycl._OCLImage]\n"
     ]
    }
   ],
   "source": [
    "import napari\n",
    "from napari_assistant._gui._Assistant import Assistant\n",
    "from skimage.io import imread\n",
    "from napari_assistant._categories import CATEGORIES\n",
    "\n",
    "filename = 'C:/Users/ryans/OneDrive/Desktop/blobs.tif'\n",
    "blobs = imread(filename)\n",
    "\n",
    "viewer = napari.Viewer()\n",
    "viewer.add_image(blobs)\n",
    "assistant = Assistant(viewer)\n",
    "viewer.window.add_dock_widget(assistant)"
   ]
  },
  {
   "cell_type": "code",
   "execution_count": 2,
   "id": "03d941cc",
   "metadata": {},
   "outputs": [
    {
     "name": "stderr",
     "output_type": "stream",
     "text": [
      "2022-04-11 22:19:55.458 | INFO     | napari_assistant._gui._category_widget:call_op:129 - gaussian_blur (clesperanto)(..., 1.0, 1.0, 0.0)\n",
      "2022-04-11 22:19:55.629 | DEBUG    | napari_assistant._gui._category_widget:_show_result:231 - creating new layer for id: 1510578556064\n"
     ]
    },
    {
     "name": "stdout",
     "output_type": "stream",
     "text": [
      "set workflow step: Result of gaussian_blur (clesperanto)\n",
      "     args: ['blobs', None, 1.0, 1.0, 0.0]\n",
      "   kwargs: {}\n",
      "signature: (source: Union[numpy.ndarray, pyclesperanto_prototype._tier0._pycl.OCLArray, pyopencl._cl.Image, pyclesperanto_prototype._tier0._pycl._OCLImage], *, destination: Union[numpy.ndarray, pyclesperanto_prototype._tier0._pycl.OCLArray, pyopencl._cl.Image, pyclesperanto_prototype._tier0._pycl._OCLImage] = None, sigma_x: float = 4.0, sigma_y: float = 4.0, sigma_z: float = 0.0) -> Union[numpy.ndarray, pyclesperanto_prototype._tier0._pycl.OCLArray, pyopencl._cl.Image, pyclesperanto_prototype._tier0._pycl._OCLImage]\n"
     ]
    },
    {
     "ename": "TypeError",
     "evalue": "too many positional arguments",
     "output_type": "error",
     "traceback": [
      "\u001b[1;31m---------------------------------------------------------------------------\u001b[0m",
      "\u001b[1;31mTypeError\u001b[0m                                 Traceback (most recent call last)",
      "File \u001b[1;32m~\\anaconda3\\envs\\np_workflows_v1\\lib\\site-packages\\magicgui\\widgets\\_bases\\value_widget.py:57\u001b[0m, in \u001b[0;36mValueWidget._on_value_change\u001b[1;34m(self, value)\u001b[0m\n\u001b[0;32m     55\u001b[0m \u001b[38;5;28;01mif\u001b[39;00m value \u001b[38;5;129;01mis\u001b[39;00m \u001b[38;5;28mself\u001b[39m\u001b[38;5;241m.\u001b[39mnull_value \u001b[38;5;129;01mand\u001b[39;00m \u001b[38;5;129;01mnot\u001b[39;00m \u001b[38;5;28mself\u001b[39m\u001b[38;5;241m.\u001b[39m_nullable:\n\u001b[0;32m     56\u001b[0m     \u001b[38;5;28;01mreturn\u001b[39;00m\n\u001b[1;32m---> 57\u001b[0m \u001b[38;5;28;43mself\u001b[39;49m\u001b[38;5;241;43m.\u001b[39;49m\u001b[43mchanged\u001b[49m\u001b[38;5;241;43m.\u001b[39;49m\u001b[43memit\u001b[49m\u001b[43m(\u001b[49m\u001b[43mvalue\u001b[49m\u001b[43m)\u001b[49m\n",
      "File \u001b[1;32m~\\anaconda3\\envs\\np_workflows_v1\\lib\\site-packages\\psygnal\\_signal.py:670\u001b[0m, in \u001b[0;36mpsygnal._signal.SignalInstance.emit\u001b[1;34m()\u001b[0m\n",
      "File \u001b[1;32m~\\anaconda3\\envs\\np_workflows_v1\\lib\\site-packages\\magicgui\\events.py:85\u001b[0m, in \u001b[0;36mSignalInstance._run_emit_loop\u001b[1;34m(self, args)\u001b[0m\n\u001b[0;32m     83\u001b[0m \u001b[38;5;66;03m# TODO: add better exception handling\u001b[39;00m\n\u001b[0;32m     84\u001b[0m \u001b[38;5;28;01mif\u001b[39;00m \u001b[38;5;28mself\u001b[39m\u001b[38;5;241m.\u001b[39m_new_callback\u001b[38;5;241m.\u001b[39mget(slot):\n\u001b[1;32m---> 85\u001b[0m     \u001b[43mcb\u001b[49m\u001b[43m(\u001b[49m\u001b[38;5;241;43m*\u001b[39;49m\u001b[43margs\u001b[49m\u001b[43m[\u001b[49m\u001b[43m:\u001b[49m\u001b[43mmax_args\u001b[49m\u001b[43m]\u001b[49m\u001b[43m)\u001b[49m\n\u001b[0;32m     86\u001b[0m \u001b[38;5;28;01melse\u001b[39;00m:\n\u001b[0;32m     87\u001b[0m     cb(Event(args[\u001b[38;5;241m0\u001b[39m], \u001b[38;5;28mself\u001b[39m\u001b[38;5;241m.\u001b[39mname, \u001b[38;5;28mself\u001b[39m\u001b[38;5;241m.\u001b[39minstance))\n",
      "File \u001b[1;32m~\\anaconda3\\envs\\np_workflows_v1\\lib\\site-packages\\magicgui\\widgets\\_bases\\container_widget.py:165\u001b[0m, in \u001b[0;36mContainerWidget.insert.<locals>.<lambda>\u001b[1;34m()\u001b[0m\n\u001b[0;32m    163\u001b[0m \u001b[38;5;124;03m\"\"\"Insert widget at ``key``.\"\"\"\u001b[39;00m\n\u001b[0;32m    164\u001b[0m \u001b[38;5;28;01mif\u001b[39;00m \u001b[38;5;28misinstance\u001b[39m(widget, (ValueWidget, ContainerWidget)):\n\u001b[1;32m--> 165\u001b[0m     widget\u001b[38;5;241m.\u001b[39mchanged\u001b[38;5;241m.\u001b[39mconnect(\u001b[38;5;28;01mlambda\u001b[39;00m: \u001b[38;5;28;43mself\u001b[39;49m\u001b[38;5;241;43m.\u001b[39;49m\u001b[43mchanged\u001b[49m\u001b[38;5;241;43m.\u001b[39;49m\u001b[43memit\u001b[49m\u001b[43m(\u001b[49m\u001b[38;5;28;43mself\u001b[39;49m\u001b[43m)\u001b[49m)\n\u001b[0;32m    166\u001b[0m _widget \u001b[38;5;241m=\u001b[39m widget\n\u001b[0;32m    168\u001b[0m \u001b[38;5;28;01mif\u001b[39;00m \u001b[38;5;28mself\u001b[39m\u001b[38;5;241m.\u001b[39mlabels:\n",
      "File \u001b[1;32m~\\anaconda3\\envs\\np_workflows_v1\\lib\\site-packages\\psygnal\\_signal.py:670\u001b[0m, in \u001b[0;36mpsygnal._signal.SignalInstance.emit\u001b[1;34m()\u001b[0m\n",
      "File \u001b[1;32m~\\anaconda3\\envs\\np_workflows_v1\\lib\\site-packages\\magicgui\\events.py:85\u001b[0m, in \u001b[0;36mSignalInstance._run_emit_loop\u001b[1;34m(self, args)\u001b[0m\n\u001b[0;32m     83\u001b[0m \u001b[38;5;66;03m# TODO: add better exception handling\u001b[39;00m\n\u001b[0;32m     84\u001b[0m \u001b[38;5;28;01mif\u001b[39;00m \u001b[38;5;28mself\u001b[39m\u001b[38;5;241m.\u001b[39m_new_callback\u001b[38;5;241m.\u001b[39mget(slot):\n\u001b[1;32m---> 85\u001b[0m     \u001b[43mcb\u001b[49m\u001b[43m(\u001b[49m\u001b[38;5;241;43m*\u001b[39;49m\u001b[43margs\u001b[49m\u001b[43m[\u001b[49m\u001b[43m:\u001b[49m\u001b[43mmax_args\u001b[49m\u001b[43m]\u001b[49m\u001b[43m)\u001b[49m\n\u001b[0;32m     86\u001b[0m \u001b[38;5;28;01melse\u001b[39;00m:\n\u001b[0;32m     87\u001b[0m     cb(Event(args[\u001b[38;5;241m0\u001b[39m], \u001b[38;5;28mself\u001b[39m\u001b[38;5;241m.\u001b[39mname, \u001b[38;5;28mself\u001b[39m\u001b[38;5;241m.\u001b[39minstance))\n",
      "File \u001b[1;32m~\\anaconda3\\envs\\np_workflows_v1\\lib\\site-packages\\magicgui\\widgets\\_function_gui.py:221\u001b[0m, in \u001b[0;36mFunctionGui._on_change\u001b[1;34m(self)\u001b[0m\n\u001b[0;32m    219\u001b[0m     \u001b[38;5;28mself\u001b[39m\u001b[38;5;241m.\u001b[39m_dump()\n\u001b[0;32m    220\u001b[0m \u001b[38;5;28;01mif\u001b[39;00m \u001b[38;5;28mself\u001b[39m\u001b[38;5;241m.\u001b[39m_auto_call:\n\u001b[1;32m--> 221\u001b[0m     \u001b[38;5;28;43mself\u001b[39;49m\u001b[43m(\u001b[49m\u001b[43m)\u001b[49m\n",
      "File \u001b[1;32m~\\anaconda3\\envs\\np_workflows_v1\\lib\\site-packages\\magicgui\\widgets\\_function_gui.py:303\u001b[0m, in \u001b[0;36mFunctionGui.__call__\u001b[1;34m(self, update_widget, *args, **kwargs)\u001b[0m\n\u001b[0;32m    301\u001b[0m \u001b[38;5;28mself\u001b[39m\u001b[38;5;241m.\u001b[39m_tqdm_depth \u001b[38;5;241m=\u001b[39m \u001b[38;5;241m0\u001b[39m  \u001b[38;5;66;03m# reset the tqdm stack count\u001b[39;00m\n\u001b[0;32m    302\u001b[0m \u001b[38;5;28;01mwith\u001b[39;00m _function_name_pointing_to_widget(\u001b[38;5;28mself\u001b[39m):\n\u001b[1;32m--> 303\u001b[0m     value \u001b[38;5;241m=\u001b[39m \u001b[38;5;28mself\u001b[39m\u001b[38;5;241m.\u001b[39m_function(\u001b[38;5;241m*\u001b[39mbound\u001b[38;5;241m.\u001b[39margs, \u001b[38;5;241m*\u001b[39m\u001b[38;5;241m*\u001b[39mbound\u001b[38;5;241m.\u001b[39mkwargs)\n\u001b[0;32m    305\u001b[0m \u001b[38;5;28mself\u001b[39m\u001b[38;5;241m.\u001b[39m_call_count \u001b[38;5;241m+\u001b[39m\u001b[38;5;241m=\u001b[39m \u001b[38;5;241m1\u001b[39m\n\u001b[0;32m    306\u001b[0m \u001b[38;5;28;01mif\u001b[39;00m \u001b[38;5;28mself\u001b[39m\u001b[38;5;241m.\u001b[39m_result_widget \u001b[38;5;129;01mis\u001b[39;00m \u001b[38;5;129;01mnot\u001b[39;00m \u001b[38;5;28;01mNone\u001b[39;00m:\n",
      "File \u001b[1;32mc:\\users\\ryans\\onedrive\\documents\\bia pol stuff\\napari workflow repositories\\napari-assistant\\napari_assistant\\_gui\\_category_widget.py:394\u001b[0m, in \u001b[0;36mmake_gui_for_category.<locals>.gui_function\u001b[1;34m(**kwargs)\u001b[0m\n\u001b[0;32m    392\u001b[0m     \u001b[38;5;28;01mfrom\u001b[39;00m \u001b[38;5;21;01mnapari_workflows\u001b[39;00m \u001b[38;5;28;01mimport\u001b[39;00m WorkflowManager\n\u001b[0;32m    393\u001b[0m     manager \u001b[38;5;241m=\u001b[39m WorkflowManager\u001b[38;5;241m.\u001b[39minstall(viewer)\n\u001b[1;32m--> 394\u001b[0m     \u001b[43mmanager\u001b[49m\u001b[38;5;241;43m.\u001b[39;49m\u001b[43mupdate\u001b[49m\u001b[43m(\u001b[49m\u001b[43mresult_layer\u001b[49m\u001b[43m,\u001b[49m\u001b[43m \u001b[49m\u001b[43mfind_function\u001b[49m\u001b[43m(\u001b[49m\u001b[43mop_name\u001b[49m\u001b[43m)\u001b[49m\u001b[43m,\u001b[49m\u001b[43m \u001b[49m\u001b[38;5;241;43m*\u001b[39;49m\u001b[43mused_args\u001b[49m\u001b[43m)\u001b[49m\n\u001b[0;32m    395\u001b[0m     \u001b[38;5;66;03m#print(\"notified\", result_layer.name, find_function(op_name))\u001b[39;00m\n\u001b[0;32m    396\u001b[0m \u001b[38;5;28;01mexcept\u001b[39;00m \u001b[38;5;167;01mImportError\u001b[39;00m:\n",
      "File \u001b[1;32mc:\\users\\ryans\\onedrive\\documents\\bia pol stuff\\napari workflow repositories\\napari-workflows\\src\\napari_workflows\\_workflow.py:279\u001b[0m, in \u001b[0;36mWorkflowManager.update\u001b[1;34m(self, target_layer, function, *args, **kwargs)\u001b[0m\n\u001b[0;32m    276\u001b[0m \u001b[38;5;28;01mfrom\u001b[39;00m \u001b[38;5;21;01m.\u001b[39;00m\u001b[38;5;21;01m_workflowmanager_commands\u001b[39;00m \u001b[38;5;28;01mimport\u001b[39;00m Update_workflow_step\n\u001b[0;32m    277\u001b[0m kwargs \u001b[38;5;241m=\u001b[39m {k:v \u001b[38;5;28;01mfor\u001b[39;00m k,v \u001b[38;5;129;01min\u001b[39;00m kwargs\u001b[38;5;241m.\u001b[39mitems() \u001b[38;5;28;01mif\u001b[39;00m \u001b[38;5;129;01mnot\u001b[39;00m ((\u001b[38;5;28misinstance\u001b[39m(v, Viewer)) \u001b[38;5;129;01mor\u001b[39;00m (k \u001b[38;5;241m==\u001b[39m \u001b[38;5;124m'\u001b[39m\u001b[38;5;124mviewer\u001b[39m\u001b[38;5;124m'\u001b[39m))}\n\u001b[1;32m--> 279\u001b[0m \u001b[38;5;28;43mself\u001b[39;49m\u001b[38;5;241;43m.\u001b[39;49m\u001b[43mundo_redo_controller\u001b[49m\u001b[38;5;241;43m.\u001b[39;49m\u001b[43mexecute\u001b[49m\u001b[43m(\u001b[49m\u001b[43mUpdate_workflow_step\u001b[49m\u001b[43m(\u001b[49m\n\u001b[0;32m    280\u001b[0m \u001b[43m    \u001b[49m\u001b[38;5;28;43mself\u001b[39;49m\u001b[38;5;241;43m.\u001b[39;49m\u001b[43mworkflow\u001b[49m\u001b[43m,\u001b[49m\n\u001b[0;32m    281\u001b[0m \u001b[43m    \u001b[49m\u001b[38;5;28;43mself\u001b[39;49m\u001b[38;5;241;43m.\u001b[39;49m\u001b[43mviewer\u001b[49m\u001b[43m,\u001b[49m\n\u001b[0;32m    282\u001b[0m \u001b[43m    \u001b[49m\u001b[43mtarget_layer\u001b[49m\u001b[43m,\u001b[49m\n\u001b[0;32m    283\u001b[0m \u001b[43m    \u001b[49m\u001b[43mfunction\u001b[49m\u001b[43m,\u001b[49m\n\u001b[0;32m    284\u001b[0m \u001b[43m    \u001b[49m\u001b[38;5;241;43m*\u001b[39;49m\u001b[43margs\u001b[49m\u001b[43m,\u001b[49m\n\u001b[0;32m    285\u001b[0m \u001b[43m    \u001b[49m\u001b[38;5;241;43m*\u001b[39;49m\u001b[38;5;241;43m*\u001b[39;49m\u001b[43mkwargs\u001b[49m\u001b[43m,\u001b[49m\n\u001b[0;32m    286\u001b[0m \u001b[43m    \u001b[49m\u001b[43m)\u001b[49m\n\u001b[0;32m    287\u001b[0m \u001b[43m\u001b[49m\u001b[43m)\u001b[49m\n\u001b[0;32m    289\u001b[0m \u001b[38;5;66;03m# set result valid\u001b[39;00m\n\u001b[0;32m    290\u001b[0m target_layer\u001b[38;5;241m.\u001b[39mmetadata[METADATA_WORKFLOW_VALID_KEY] \u001b[38;5;241m=\u001b[39m \u001b[38;5;28;01mTrue\u001b[39;00m\n",
      "File \u001b[1;32mc:\\users\\ryans\\onedrive\\documents\\bia pol stuff\\napari workflow repositories\\napari-workflows\\src\\napari_workflows\\_undo_redo_functionality.py:55\u001b[0m, in \u001b[0;36mUndo_redo_controller.execute\u001b[1;34m(self, action)\u001b[0m\n\u001b[0;32m     51\u001b[0m \u001b[38;5;28;01mif\u001b[39;00m \u001b[38;5;129;01mnot\u001b[39;00m \u001b[38;5;28mself\u001b[39m\u001b[38;5;241m.\u001b[39mfreeze_stacks:\n\u001b[0;32m     52\u001b[0m     \u001b[38;5;28mself\u001b[39m\u001b[38;5;241m.\u001b[39mundo_stack\u001b[38;5;241m.\u001b[39mappend(\n\u001b[0;32m     53\u001b[0m         copy_workflow_state(\u001b[38;5;28mself\u001b[39m\u001b[38;5;241m.\u001b[39mworkflow)\n\u001b[0;32m     54\u001b[0m         )\n\u001b[1;32m---> 55\u001b[0m \u001b[43maction\u001b[49m\u001b[38;5;241;43m.\u001b[39;49m\u001b[43mexecute\u001b[49m\u001b[43m(\u001b[49m\u001b[43m)\u001b[49m\n",
      "File \u001b[1;32mc:\\users\\ryans\\onedrive\\documents\\bia pol stuff\\napari workflow repositories\\napari-workflows\\src\\napari_workflows\\_workflowmanager_commands.py:34\u001b[0m, in \u001b[0;36mUpdate_workflow_step.execute\u001b[1;34m(self)\u001b[0m\n\u001b[0;32m     32\u001b[0m     args \u001b[38;5;241m=\u001b[39m args[:\u001b[38;5;241m-\u001b[39m\u001b[38;5;241m1\u001b[39m]\n\u001b[0;32m     33\u001b[0m args \u001b[38;5;241m=\u001b[39m \u001b[38;5;28mtuple\u001b[39m(args)\n\u001b[1;32m---> 34\u001b[0m \u001b[38;5;28mself\u001b[39m\u001b[38;5;241m.\u001b[39mworkflow\u001b[38;5;241m.\u001b[39mset(\u001b[38;5;28mself\u001b[39m\u001b[38;5;241m.\u001b[39mtarget_layer\u001b[38;5;241m.\u001b[39mname, \u001b[38;5;28mself\u001b[39m\u001b[38;5;241m.\u001b[39mfunction, \u001b[38;5;241m*\u001b[39margs, \u001b[38;5;241m*\u001b[39m\u001b[38;5;241m*\u001b[39m\u001b[38;5;28mself\u001b[39m\u001b[38;5;241m.\u001b[39mkwargs)\n\u001b[0;32m     36\u001b[0m \u001b[38;5;66;03m# plus the remove zombies function\u001b[39;00m\n\u001b[0;32m     37\u001b[0m kill_zombies(\u001b[38;5;28mself\u001b[39m\u001b[38;5;241m.\u001b[39mviewer,\u001b[38;5;28mself\u001b[39m\u001b[38;5;241m.\u001b[39mworkflow)\n",
      "File \u001b[1;32mc:\\users\\ryans\\onedrive\\documents\\bia pol stuff\\napari workflow repositories\\napari-workflows\\src\\napari_workflows\\_workflow.py:72\u001b[0m, in \u001b[0;36mWorkflow.set\u001b[1;34m(self, name, func_or_data, *args, **kwargs)\u001b[0m\n\u001b[0;32m     69\u001b[0m \u001b[38;5;28mprint\u001b[39m(\u001b[38;5;124mf\u001b[39m\u001b[38;5;124m'\u001b[39m\u001b[38;5;124m   kwargs: \u001b[39m\u001b[38;5;132;01m{\u001b[39;00mkwargs\u001b[38;5;132;01m}\u001b[39;00m\u001b[38;5;124m'\u001b[39m)\n\u001b[0;32m     70\u001b[0m \u001b[38;5;28mprint\u001b[39m(\u001b[38;5;124mf\u001b[39m\u001b[38;5;124m'\u001b[39m\u001b[38;5;124msignature: \u001b[39m\u001b[38;5;132;01m{\u001b[39;00msig\u001b[38;5;132;01m}\u001b[39;00m\u001b[38;5;124m'\u001b[39m)\n\u001b[1;32m---> 72\u001b[0m bound \u001b[38;5;241m=\u001b[39m sig\u001b[38;5;241m.\u001b[39mbind(\u001b[38;5;241m*\u001b[39margs, \u001b[38;5;241m*\u001b[39m\u001b[38;5;241m*\u001b[39mkwargs)\n\u001b[0;32m     73\u001b[0m bound\u001b[38;5;241m.\u001b[39mapply_defaults()\n\u001b[0;32m     75\u001b[0m \u001b[38;5;66;03m# Go through arguments and in case it's a callable, remove it\u001b[39;00m\n\u001b[0;32m     76\u001b[0m \u001b[38;5;66;03m# We should only have numbers, strings and images as parameters\u001b[39;00m\n",
      "File \u001b[1;32m~\\anaconda3\\envs\\np_workflows_v1\\lib\\inspect.py:3179\u001b[0m, in \u001b[0;36mSignature.bind\u001b[1;34m(self, *args, **kwargs)\u001b[0m\n\u001b[0;32m   3174\u001b[0m \u001b[38;5;28;01mdef\u001b[39;00m \u001b[38;5;21mbind\u001b[39m(\u001b[38;5;28mself\u001b[39m, \u001b[38;5;241m/\u001b[39m, \u001b[38;5;241m*\u001b[39margs, \u001b[38;5;241m*\u001b[39m\u001b[38;5;241m*\u001b[39mkwargs):\n\u001b[0;32m   3175\u001b[0m     \u001b[38;5;124;03m\"\"\"Get a BoundArguments object, that maps the passed `args`\u001b[39;00m\n\u001b[0;32m   3176\u001b[0m \u001b[38;5;124;03m    and `kwargs` to the function's signature.  Raises `TypeError`\u001b[39;00m\n\u001b[0;32m   3177\u001b[0m \u001b[38;5;124;03m    if the passed arguments can not be bound.\u001b[39;00m\n\u001b[0;32m   3178\u001b[0m \u001b[38;5;124;03m    \"\"\"\u001b[39;00m\n\u001b[1;32m-> 3179\u001b[0m     \u001b[38;5;28;01mreturn\u001b[39;00m \u001b[38;5;28;43mself\u001b[39;49m\u001b[38;5;241;43m.\u001b[39;49m\u001b[43m_bind\u001b[49m\u001b[43m(\u001b[49m\u001b[43margs\u001b[49m\u001b[43m,\u001b[49m\u001b[43m \u001b[49m\u001b[43mkwargs\u001b[49m\u001b[43m)\u001b[49m\n",
      "File \u001b[1;32m~\\anaconda3\\envs\\np_workflows_v1\\lib\\inspect.py:3105\u001b[0m, in \u001b[0;36mSignature._bind\u001b[1;34m(self, args, kwargs, partial)\u001b[0m\n\u001b[0;32m   3101\u001b[0m \u001b[38;5;28;01melse\u001b[39;00m:\n\u001b[0;32m   3102\u001b[0m     \u001b[38;5;28;01mif\u001b[39;00m param\u001b[38;5;241m.\u001b[39mkind \u001b[38;5;129;01min\u001b[39;00m (_VAR_KEYWORD, _KEYWORD_ONLY):\n\u001b[0;32m   3103\u001b[0m         \u001b[38;5;66;03m# Looks like we have no parameter for this positional\u001b[39;00m\n\u001b[0;32m   3104\u001b[0m         \u001b[38;5;66;03m# argument\u001b[39;00m\n\u001b[1;32m-> 3105\u001b[0m         \u001b[38;5;28;01mraise\u001b[39;00m \u001b[38;5;167;01mTypeError\u001b[39;00m(\n\u001b[0;32m   3106\u001b[0m             \u001b[38;5;124m'\u001b[39m\u001b[38;5;124mtoo many positional arguments\u001b[39m\u001b[38;5;124m'\u001b[39m) \u001b[38;5;28;01mfrom\u001b[39;00m \u001b[38;5;28mNone\u001b[39m\n\u001b[0;32m   3108\u001b[0m     \u001b[38;5;28;01mif\u001b[39;00m param\u001b[38;5;241m.\u001b[39mkind \u001b[38;5;241m==\u001b[39m _VAR_POSITIONAL:\n\u001b[0;32m   3109\u001b[0m         \u001b[38;5;66;03m# We have an '*args'-like argument, let's fill it with\u001b[39;00m\n\u001b[0;32m   3110\u001b[0m         \u001b[38;5;66;03m# all positional arguments we have left and move on to\u001b[39;00m\n\u001b[0;32m   3111\u001b[0m         \u001b[38;5;66;03m# the next phase\u001b[39;00m\n\u001b[0;32m   3112\u001b[0m         values \u001b[38;5;241m=\u001b[39m [arg_val]\n",
      "\u001b[1;31mTypeError\u001b[0m: too many positional arguments"
     ]
    },
    {
     "name": "stderr",
     "output_type": "stream",
     "text": [
      "2022-04-11 22:19:56.731 | INFO     | napari_assistant._gui._category_widget:call_op:129 - gaussian_blur (clesperanto)(..., 1.0, 1.0, 0.0)\n",
      "2022-04-11 22:19:56.738 | DEBUG    | napari_assistant._gui._category_widget:_show_result:225 - updating existing layer: Result of gaussian_blur (clesperanto), with id: 1510578556064\n"
     ]
    },
    {
     "name": "stdout",
     "output_type": "stream",
     "text": [
      "set workflow step: Result of gaussian_blur (clesperanto)\n",
      "     args: ['blobs', None, 1.0, 1.0, 0.0]\n",
      "   kwargs: {}\n",
      "signature: (source: Union[numpy.ndarray, pyclesperanto_prototype._tier0._pycl.OCLArray, pyopencl._cl.Image, pyclesperanto_prototype._tier0._pycl._OCLImage], *, destination: Union[numpy.ndarray, pyclesperanto_prototype._tier0._pycl.OCLArray, pyopencl._cl.Image, pyclesperanto_prototype._tier0._pycl._OCLImage] = None, sigma_x: float = 4.0, sigma_y: float = 4.0, sigma_z: float = 0.0) -> Union[numpy.ndarray, pyclesperanto_prototype._tier0._pycl.OCLArray, pyopencl._cl.Image, pyclesperanto_prototype._tier0._pycl._OCLImage]\n"
     ]
    },
    {
     "ename": "TypeError",
     "evalue": "too many positional arguments",
     "output_type": "error",
     "traceback": [
      "\u001b[1;31m---------------------------------------------------------------------------\u001b[0m",
      "\u001b[1;31mTypeError\u001b[0m                                 Traceback (most recent call last)",
      "File \u001b[1;32m~\\anaconda3\\envs\\np_workflows_v1\\lib\\site-packages\\magicgui\\widgets\\_bases\\value_widget.py:57\u001b[0m, in \u001b[0;36mValueWidget._on_value_change\u001b[1;34m(self, value)\u001b[0m\n\u001b[0;32m     55\u001b[0m \u001b[38;5;28;01mif\u001b[39;00m value \u001b[38;5;129;01mis\u001b[39;00m \u001b[38;5;28mself\u001b[39m\u001b[38;5;241m.\u001b[39mnull_value \u001b[38;5;129;01mand\u001b[39;00m \u001b[38;5;129;01mnot\u001b[39;00m \u001b[38;5;28mself\u001b[39m\u001b[38;5;241m.\u001b[39m_nullable:\n\u001b[0;32m     56\u001b[0m     \u001b[38;5;28;01mreturn\u001b[39;00m\n\u001b[1;32m---> 57\u001b[0m \u001b[38;5;28;43mself\u001b[39;49m\u001b[38;5;241;43m.\u001b[39;49m\u001b[43mchanged\u001b[49m\u001b[38;5;241;43m.\u001b[39;49m\u001b[43memit\u001b[49m\u001b[43m(\u001b[49m\u001b[43mvalue\u001b[49m\u001b[43m)\u001b[49m\n",
      "File \u001b[1;32m~\\anaconda3\\envs\\np_workflows_v1\\lib\\site-packages\\psygnal\\_signal.py:670\u001b[0m, in \u001b[0;36mpsygnal._signal.SignalInstance.emit\u001b[1;34m()\u001b[0m\n",
      "File \u001b[1;32m~\\anaconda3\\envs\\np_workflows_v1\\lib\\site-packages\\magicgui\\events.py:85\u001b[0m, in \u001b[0;36mSignalInstance._run_emit_loop\u001b[1;34m(self, args)\u001b[0m\n\u001b[0;32m     83\u001b[0m \u001b[38;5;66;03m# TODO: add better exception handling\u001b[39;00m\n\u001b[0;32m     84\u001b[0m \u001b[38;5;28;01mif\u001b[39;00m \u001b[38;5;28mself\u001b[39m\u001b[38;5;241m.\u001b[39m_new_callback\u001b[38;5;241m.\u001b[39mget(slot):\n\u001b[1;32m---> 85\u001b[0m     \u001b[43mcb\u001b[49m\u001b[43m(\u001b[49m\u001b[38;5;241;43m*\u001b[39;49m\u001b[43margs\u001b[49m\u001b[43m[\u001b[49m\u001b[43m:\u001b[49m\u001b[43mmax_args\u001b[49m\u001b[43m]\u001b[49m\u001b[43m)\u001b[49m\n\u001b[0;32m     86\u001b[0m \u001b[38;5;28;01melse\u001b[39;00m:\n\u001b[0;32m     87\u001b[0m     cb(Event(args[\u001b[38;5;241m0\u001b[39m], \u001b[38;5;28mself\u001b[39m\u001b[38;5;241m.\u001b[39mname, \u001b[38;5;28mself\u001b[39m\u001b[38;5;241m.\u001b[39minstance))\n",
      "File \u001b[1;32m~\\anaconda3\\envs\\np_workflows_v1\\lib\\site-packages\\magicgui\\widgets\\_bases\\container_widget.py:165\u001b[0m, in \u001b[0;36mContainerWidget.insert.<locals>.<lambda>\u001b[1;34m()\u001b[0m\n\u001b[0;32m    163\u001b[0m \u001b[38;5;124;03m\"\"\"Insert widget at ``key``.\"\"\"\u001b[39;00m\n\u001b[0;32m    164\u001b[0m \u001b[38;5;28;01mif\u001b[39;00m \u001b[38;5;28misinstance\u001b[39m(widget, (ValueWidget, ContainerWidget)):\n\u001b[1;32m--> 165\u001b[0m     widget\u001b[38;5;241m.\u001b[39mchanged\u001b[38;5;241m.\u001b[39mconnect(\u001b[38;5;28;01mlambda\u001b[39;00m: \u001b[38;5;28;43mself\u001b[39;49m\u001b[38;5;241;43m.\u001b[39;49m\u001b[43mchanged\u001b[49m\u001b[38;5;241;43m.\u001b[39;49m\u001b[43memit\u001b[49m\u001b[43m(\u001b[49m\u001b[38;5;28;43mself\u001b[39;49m\u001b[43m)\u001b[49m)\n\u001b[0;32m    166\u001b[0m _widget \u001b[38;5;241m=\u001b[39m widget\n\u001b[0;32m    168\u001b[0m \u001b[38;5;28;01mif\u001b[39;00m \u001b[38;5;28mself\u001b[39m\u001b[38;5;241m.\u001b[39mlabels:\n",
      "File \u001b[1;32m~\\anaconda3\\envs\\np_workflows_v1\\lib\\site-packages\\psygnal\\_signal.py:670\u001b[0m, in \u001b[0;36mpsygnal._signal.SignalInstance.emit\u001b[1;34m()\u001b[0m\n",
      "File \u001b[1;32m~\\anaconda3\\envs\\np_workflows_v1\\lib\\site-packages\\magicgui\\events.py:85\u001b[0m, in \u001b[0;36mSignalInstance._run_emit_loop\u001b[1;34m(self, args)\u001b[0m\n\u001b[0;32m     83\u001b[0m \u001b[38;5;66;03m# TODO: add better exception handling\u001b[39;00m\n\u001b[0;32m     84\u001b[0m \u001b[38;5;28;01mif\u001b[39;00m \u001b[38;5;28mself\u001b[39m\u001b[38;5;241m.\u001b[39m_new_callback\u001b[38;5;241m.\u001b[39mget(slot):\n\u001b[1;32m---> 85\u001b[0m     \u001b[43mcb\u001b[49m\u001b[43m(\u001b[49m\u001b[38;5;241;43m*\u001b[39;49m\u001b[43margs\u001b[49m\u001b[43m[\u001b[49m\u001b[43m:\u001b[49m\u001b[43mmax_args\u001b[49m\u001b[43m]\u001b[49m\u001b[43m)\u001b[49m\n\u001b[0;32m     86\u001b[0m \u001b[38;5;28;01melse\u001b[39;00m:\n\u001b[0;32m     87\u001b[0m     cb(Event(args[\u001b[38;5;241m0\u001b[39m], \u001b[38;5;28mself\u001b[39m\u001b[38;5;241m.\u001b[39mname, \u001b[38;5;28mself\u001b[39m\u001b[38;5;241m.\u001b[39minstance))\n",
      "File \u001b[1;32m~\\anaconda3\\envs\\np_workflows_v1\\lib\\site-packages\\magicgui\\widgets\\_function_gui.py:221\u001b[0m, in \u001b[0;36mFunctionGui._on_change\u001b[1;34m(self)\u001b[0m\n\u001b[0;32m    219\u001b[0m     \u001b[38;5;28mself\u001b[39m\u001b[38;5;241m.\u001b[39m_dump()\n\u001b[0;32m    220\u001b[0m \u001b[38;5;28;01mif\u001b[39;00m \u001b[38;5;28mself\u001b[39m\u001b[38;5;241m.\u001b[39m_auto_call:\n\u001b[1;32m--> 221\u001b[0m     \u001b[38;5;28;43mself\u001b[39;49m\u001b[43m(\u001b[49m\u001b[43m)\u001b[49m\n",
      "File \u001b[1;32m~\\anaconda3\\envs\\np_workflows_v1\\lib\\site-packages\\magicgui\\widgets\\_function_gui.py:303\u001b[0m, in \u001b[0;36mFunctionGui.__call__\u001b[1;34m(self, update_widget, *args, **kwargs)\u001b[0m\n\u001b[0;32m    301\u001b[0m \u001b[38;5;28mself\u001b[39m\u001b[38;5;241m.\u001b[39m_tqdm_depth \u001b[38;5;241m=\u001b[39m \u001b[38;5;241m0\u001b[39m  \u001b[38;5;66;03m# reset the tqdm stack count\u001b[39;00m\n\u001b[0;32m    302\u001b[0m \u001b[38;5;28;01mwith\u001b[39;00m _function_name_pointing_to_widget(\u001b[38;5;28mself\u001b[39m):\n\u001b[1;32m--> 303\u001b[0m     value \u001b[38;5;241m=\u001b[39m \u001b[38;5;28mself\u001b[39m\u001b[38;5;241m.\u001b[39m_function(\u001b[38;5;241m*\u001b[39mbound\u001b[38;5;241m.\u001b[39margs, \u001b[38;5;241m*\u001b[39m\u001b[38;5;241m*\u001b[39mbound\u001b[38;5;241m.\u001b[39mkwargs)\n\u001b[0;32m    305\u001b[0m \u001b[38;5;28mself\u001b[39m\u001b[38;5;241m.\u001b[39m_call_count \u001b[38;5;241m+\u001b[39m\u001b[38;5;241m=\u001b[39m \u001b[38;5;241m1\u001b[39m\n\u001b[0;32m    306\u001b[0m \u001b[38;5;28;01mif\u001b[39;00m \u001b[38;5;28mself\u001b[39m\u001b[38;5;241m.\u001b[39m_result_widget \u001b[38;5;129;01mis\u001b[39;00m \u001b[38;5;129;01mnot\u001b[39;00m \u001b[38;5;28;01mNone\u001b[39;00m:\n",
      "File \u001b[1;32mc:\\users\\ryans\\onedrive\\documents\\bia pol stuff\\napari workflow repositories\\napari-assistant\\napari_assistant\\_gui\\_category_widget.py:394\u001b[0m, in \u001b[0;36mmake_gui_for_category.<locals>.gui_function\u001b[1;34m(**kwargs)\u001b[0m\n\u001b[0;32m    392\u001b[0m     \u001b[38;5;28;01mfrom\u001b[39;00m \u001b[38;5;21;01mnapari_workflows\u001b[39;00m \u001b[38;5;28;01mimport\u001b[39;00m WorkflowManager\n\u001b[0;32m    393\u001b[0m     manager \u001b[38;5;241m=\u001b[39m WorkflowManager\u001b[38;5;241m.\u001b[39minstall(viewer)\n\u001b[1;32m--> 394\u001b[0m     \u001b[43mmanager\u001b[49m\u001b[38;5;241;43m.\u001b[39;49m\u001b[43mupdate\u001b[49m\u001b[43m(\u001b[49m\u001b[43mresult_layer\u001b[49m\u001b[43m,\u001b[49m\u001b[43m \u001b[49m\u001b[43mfind_function\u001b[49m\u001b[43m(\u001b[49m\u001b[43mop_name\u001b[49m\u001b[43m)\u001b[49m\u001b[43m,\u001b[49m\u001b[43m \u001b[49m\u001b[38;5;241;43m*\u001b[39;49m\u001b[43mused_args\u001b[49m\u001b[43m)\u001b[49m\n\u001b[0;32m    395\u001b[0m     \u001b[38;5;66;03m#print(\"notified\", result_layer.name, find_function(op_name))\u001b[39;00m\n\u001b[0;32m    396\u001b[0m \u001b[38;5;28;01mexcept\u001b[39;00m \u001b[38;5;167;01mImportError\u001b[39;00m:\n",
      "File \u001b[1;32mc:\\users\\ryans\\onedrive\\documents\\bia pol stuff\\napari workflow repositories\\napari-workflows\\src\\napari_workflows\\_workflow.py:279\u001b[0m, in \u001b[0;36mWorkflowManager.update\u001b[1;34m(self, target_layer, function, *args, **kwargs)\u001b[0m\n\u001b[0;32m    276\u001b[0m \u001b[38;5;28;01mfrom\u001b[39;00m \u001b[38;5;21;01m.\u001b[39;00m\u001b[38;5;21;01m_workflowmanager_commands\u001b[39;00m \u001b[38;5;28;01mimport\u001b[39;00m Update_workflow_step\n\u001b[0;32m    277\u001b[0m kwargs \u001b[38;5;241m=\u001b[39m {k:v \u001b[38;5;28;01mfor\u001b[39;00m k,v \u001b[38;5;129;01min\u001b[39;00m kwargs\u001b[38;5;241m.\u001b[39mitems() \u001b[38;5;28;01mif\u001b[39;00m \u001b[38;5;129;01mnot\u001b[39;00m ((\u001b[38;5;28misinstance\u001b[39m(v, Viewer)) \u001b[38;5;129;01mor\u001b[39;00m (k \u001b[38;5;241m==\u001b[39m \u001b[38;5;124m'\u001b[39m\u001b[38;5;124mviewer\u001b[39m\u001b[38;5;124m'\u001b[39m))}\n\u001b[1;32m--> 279\u001b[0m \u001b[38;5;28;43mself\u001b[39;49m\u001b[38;5;241;43m.\u001b[39;49m\u001b[43mundo_redo_controller\u001b[49m\u001b[38;5;241;43m.\u001b[39;49m\u001b[43mexecute\u001b[49m\u001b[43m(\u001b[49m\u001b[43mUpdate_workflow_step\u001b[49m\u001b[43m(\u001b[49m\n\u001b[0;32m    280\u001b[0m \u001b[43m    \u001b[49m\u001b[38;5;28;43mself\u001b[39;49m\u001b[38;5;241;43m.\u001b[39;49m\u001b[43mworkflow\u001b[49m\u001b[43m,\u001b[49m\n\u001b[0;32m    281\u001b[0m \u001b[43m    \u001b[49m\u001b[38;5;28;43mself\u001b[39;49m\u001b[38;5;241;43m.\u001b[39;49m\u001b[43mviewer\u001b[49m\u001b[43m,\u001b[49m\n\u001b[0;32m    282\u001b[0m \u001b[43m    \u001b[49m\u001b[43mtarget_layer\u001b[49m\u001b[43m,\u001b[49m\n\u001b[0;32m    283\u001b[0m \u001b[43m    \u001b[49m\u001b[43mfunction\u001b[49m\u001b[43m,\u001b[49m\n\u001b[0;32m    284\u001b[0m \u001b[43m    \u001b[49m\u001b[38;5;241;43m*\u001b[39;49m\u001b[43margs\u001b[49m\u001b[43m,\u001b[49m\n\u001b[0;32m    285\u001b[0m \u001b[43m    \u001b[49m\u001b[38;5;241;43m*\u001b[39;49m\u001b[38;5;241;43m*\u001b[39;49m\u001b[43mkwargs\u001b[49m\u001b[43m,\u001b[49m\n\u001b[0;32m    286\u001b[0m \u001b[43m    \u001b[49m\u001b[43m)\u001b[49m\n\u001b[0;32m    287\u001b[0m \u001b[43m\u001b[49m\u001b[43m)\u001b[49m\n\u001b[0;32m    289\u001b[0m \u001b[38;5;66;03m# set result valid\u001b[39;00m\n\u001b[0;32m    290\u001b[0m target_layer\u001b[38;5;241m.\u001b[39mmetadata[METADATA_WORKFLOW_VALID_KEY] \u001b[38;5;241m=\u001b[39m \u001b[38;5;28;01mTrue\u001b[39;00m\n",
      "File \u001b[1;32mc:\\users\\ryans\\onedrive\\documents\\bia pol stuff\\napari workflow repositories\\napari-workflows\\src\\napari_workflows\\_undo_redo_functionality.py:55\u001b[0m, in \u001b[0;36mUndo_redo_controller.execute\u001b[1;34m(self, action)\u001b[0m\n\u001b[0;32m     51\u001b[0m \u001b[38;5;28;01mif\u001b[39;00m \u001b[38;5;129;01mnot\u001b[39;00m \u001b[38;5;28mself\u001b[39m\u001b[38;5;241m.\u001b[39mfreeze_stacks:\n\u001b[0;32m     52\u001b[0m     \u001b[38;5;28mself\u001b[39m\u001b[38;5;241m.\u001b[39mundo_stack\u001b[38;5;241m.\u001b[39mappend(\n\u001b[0;32m     53\u001b[0m         copy_workflow_state(\u001b[38;5;28mself\u001b[39m\u001b[38;5;241m.\u001b[39mworkflow)\n\u001b[0;32m     54\u001b[0m         )\n\u001b[1;32m---> 55\u001b[0m \u001b[43maction\u001b[49m\u001b[38;5;241;43m.\u001b[39;49m\u001b[43mexecute\u001b[49m\u001b[43m(\u001b[49m\u001b[43m)\u001b[49m\n",
      "File \u001b[1;32mc:\\users\\ryans\\onedrive\\documents\\bia pol stuff\\napari workflow repositories\\napari-workflows\\src\\napari_workflows\\_workflowmanager_commands.py:34\u001b[0m, in \u001b[0;36mUpdate_workflow_step.execute\u001b[1;34m(self)\u001b[0m\n\u001b[0;32m     32\u001b[0m     args \u001b[38;5;241m=\u001b[39m args[:\u001b[38;5;241m-\u001b[39m\u001b[38;5;241m1\u001b[39m]\n\u001b[0;32m     33\u001b[0m args \u001b[38;5;241m=\u001b[39m \u001b[38;5;28mtuple\u001b[39m(args)\n\u001b[1;32m---> 34\u001b[0m \u001b[38;5;28mself\u001b[39m\u001b[38;5;241m.\u001b[39mworkflow\u001b[38;5;241m.\u001b[39mset(\u001b[38;5;28mself\u001b[39m\u001b[38;5;241m.\u001b[39mtarget_layer\u001b[38;5;241m.\u001b[39mname, \u001b[38;5;28mself\u001b[39m\u001b[38;5;241m.\u001b[39mfunction, \u001b[38;5;241m*\u001b[39margs, \u001b[38;5;241m*\u001b[39m\u001b[38;5;241m*\u001b[39m\u001b[38;5;28mself\u001b[39m\u001b[38;5;241m.\u001b[39mkwargs)\n\u001b[0;32m     36\u001b[0m \u001b[38;5;66;03m# plus the remove zombies function\u001b[39;00m\n\u001b[0;32m     37\u001b[0m kill_zombies(\u001b[38;5;28mself\u001b[39m\u001b[38;5;241m.\u001b[39mviewer,\u001b[38;5;28mself\u001b[39m\u001b[38;5;241m.\u001b[39mworkflow)\n",
      "File \u001b[1;32mc:\\users\\ryans\\onedrive\\documents\\bia pol stuff\\napari workflow repositories\\napari-workflows\\src\\napari_workflows\\_workflow.py:72\u001b[0m, in \u001b[0;36mWorkflow.set\u001b[1;34m(self, name, func_or_data, *args, **kwargs)\u001b[0m\n\u001b[0;32m     69\u001b[0m \u001b[38;5;28mprint\u001b[39m(\u001b[38;5;124mf\u001b[39m\u001b[38;5;124m'\u001b[39m\u001b[38;5;124m   kwargs: \u001b[39m\u001b[38;5;132;01m{\u001b[39;00mkwargs\u001b[38;5;132;01m}\u001b[39;00m\u001b[38;5;124m'\u001b[39m)\n\u001b[0;32m     70\u001b[0m \u001b[38;5;28mprint\u001b[39m(\u001b[38;5;124mf\u001b[39m\u001b[38;5;124m'\u001b[39m\u001b[38;5;124msignature: \u001b[39m\u001b[38;5;132;01m{\u001b[39;00msig\u001b[38;5;132;01m}\u001b[39;00m\u001b[38;5;124m'\u001b[39m)\n\u001b[1;32m---> 72\u001b[0m bound \u001b[38;5;241m=\u001b[39m sig\u001b[38;5;241m.\u001b[39mbind(\u001b[38;5;241m*\u001b[39margs, \u001b[38;5;241m*\u001b[39m\u001b[38;5;241m*\u001b[39mkwargs)\n\u001b[0;32m     73\u001b[0m bound\u001b[38;5;241m.\u001b[39mapply_defaults()\n\u001b[0;32m     75\u001b[0m \u001b[38;5;66;03m# Go through arguments and in case it's a callable, remove it\u001b[39;00m\n\u001b[0;32m     76\u001b[0m \u001b[38;5;66;03m# We should only have numbers, strings and images as parameters\u001b[39;00m\n",
      "File \u001b[1;32m~\\anaconda3\\envs\\np_workflows_v1\\lib\\inspect.py:3179\u001b[0m, in \u001b[0;36mSignature.bind\u001b[1;34m(self, *args, **kwargs)\u001b[0m\n\u001b[0;32m   3174\u001b[0m \u001b[38;5;28;01mdef\u001b[39;00m \u001b[38;5;21mbind\u001b[39m(\u001b[38;5;28mself\u001b[39m, \u001b[38;5;241m/\u001b[39m, \u001b[38;5;241m*\u001b[39margs, \u001b[38;5;241m*\u001b[39m\u001b[38;5;241m*\u001b[39mkwargs):\n\u001b[0;32m   3175\u001b[0m     \u001b[38;5;124;03m\"\"\"Get a BoundArguments object, that maps the passed `args`\u001b[39;00m\n\u001b[0;32m   3176\u001b[0m \u001b[38;5;124;03m    and `kwargs` to the function's signature.  Raises `TypeError`\u001b[39;00m\n\u001b[0;32m   3177\u001b[0m \u001b[38;5;124;03m    if the passed arguments can not be bound.\u001b[39;00m\n\u001b[0;32m   3178\u001b[0m \u001b[38;5;124;03m    \"\"\"\u001b[39;00m\n\u001b[1;32m-> 3179\u001b[0m     \u001b[38;5;28;01mreturn\u001b[39;00m \u001b[38;5;28;43mself\u001b[39;49m\u001b[38;5;241;43m.\u001b[39;49m\u001b[43m_bind\u001b[49m\u001b[43m(\u001b[49m\u001b[43margs\u001b[49m\u001b[43m,\u001b[49m\u001b[43m \u001b[49m\u001b[43mkwargs\u001b[49m\u001b[43m)\u001b[49m\n",
      "File \u001b[1;32m~\\anaconda3\\envs\\np_workflows_v1\\lib\\inspect.py:3105\u001b[0m, in \u001b[0;36mSignature._bind\u001b[1;34m(self, args, kwargs, partial)\u001b[0m\n\u001b[0;32m   3101\u001b[0m \u001b[38;5;28;01melse\u001b[39;00m:\n\u001b[0;32m   3102\u001b[0m     \u001b[38;5;28;01mif\u001b[39;00m param\u001b[38;5;241m.\u001b[39mkind \u001b[38;5;129;01min\u001b[39;00m (_VAR_KEYWORD, _KEYWORD_ONLY):\n\u001b[0;32m   3103\u001b[0m         \u001b[38;5;66;03m# Looks like we have no parameter for this positional\u001b[39;00m\n\u001b[0;32m   3104\u001b[0m         \u001b[38;5;66;03m# argument\u001b[39;00m\n\u001b[1;32m-> 3105\u001b[0m         \u001b[38;5;28;01mraise\u001b[39;00m \u001b[38;5;167;01mTypeError\u001b[39;00m(\n\u001b[0;32m   3106\u001b[0m             \u001b[38;5;124m'\u001b[39m\u001b[38;5;124mtoo many positional arguments\u001b[39m\u001b[38;5;124m'\u001b[39m) \u001b[38;5;28;01mfrom\u001b[39;00m \u001b[38;5;28mNone\u001b[39m\n\u001b[0;32m   3108\u001b[0m     \u001b[38;5;28;01mif\u001b[39;00m param\u001b[38;5;241m.\u001b[39mkind \u001b[38;5;241m==\u001b[39m _VAR_POSITIONAL:\n\u001b[0;32m   3109\u001b[0m         \u001b[38;5;66;03m# We have an '*args'-like argument, let's fill it with\u001b[39;00m\n\u001b[0;32m   3110\u001b[0m         \u001b[38;5;66;03m# all positional arguments we have left and move on to\u001b[39;00m\n\u001b[0;32m   3111\u001b[0m         \u001b[38;5;66;03m# the next phase\u001b[39;00m\n\u001b[0;32m   3112\u001b[0m         values \u001b[38;5;241m=\u001b[39m [arg_val]\n",
      "\u001b[1;31mTypeError\u001b[0m: too many positional arguments"
     ]
    },
    {
     "name": "stderr",
     "output_type": "stream",
     "text": [
      "2022-04-11 22:19:56.865 | INFO     | napari_assistant._gui._category_widget:call_op:129 - gaussian_blur (clesperanto)(..., 1.0, 1.0, 0.0)\n",
      "2022-04-11 22:19:56.872 | DEBUG    | napari_assistant._gui._category_widget:_show_result:225 - updating existing layer: Result of gaussian_blur (clesperanto), with id: 1510578556064\n"
     ]
    },
    {
     "name": "stdout",
     "output_type": "stream",
     "text": [
      "set workflow step: Result of gaussian_blur (clesperanto)\n",
      "     args: ['blobs', None, 1.0, 1.0, 0.0]\n",
      "   kwargs: {}\n",
      "signature: (source: Union[numpy.ndarray, pyclesperanto_prototype._tier0._pycl.OCLArray, pyopencl._cl.Image, pyclesperanto_prototype._tier0._pycl._OCLImage], *, destination: Union[numpy.ndarray, pyclesperanto_prototype._tier0._pycl.OCLArray, pyopencl._cl.Image, pyclesperanto_prototype._tier0._pycl._OCLImage] = None, sigma_x: float = 4.0, sigma_y: float = 4.0, sigma_z: float = 0.0) -> Union[numpy.ndarray, pyclesperanto_prototype._tier0._pycl.OCLArray, pyopencl._cl.Image, pyclesperanto_prototype._tier0._pycl._OCLImage]\n"
     ]
    },
    {
     "ename": "TypeError",
     "evalue": "too many positional arguments",
     "output_type": "error",
     "traceback": [
      "\u001b[1;31m---------------------------------------------------------------------------\u001b[0m",
      "\u001b[1;31mTypeError\u001b[0m                                 Traceback (most recent call last)",
      "Input \u001b[1;32mIn [2]\u001b[0m, in \u001b[0;36m<cell line: 1>\u001b[1;34m()\u001b[0m\n\u001b[1;32m----> 1\u001b[0m \u001b[43massistant\u001b[49m\u001b[38;5;241;43m.\u001b[39;49m\u001b[43mload_workflow\u001b[49m\u001b[43m(\u001b[49m\u001b[38;5;124;43m'\u001b[39;49m\u001b[38;5;124;43mtest_only_blur.yaml\u001b[39;49m\u001b[38;5;124;43m'\u001b[39;49m\u001b[43m)\u001b[49m\n",
      "File \u001b[1;32mc:\\users\\ryans\\onedrive\\documents\\bia pol stuff\\napari workflow repositories\\napari-assistant\\napari_assistant\\_gui\\_Assistant.py:316\u001b[0m, in \u001b[0;36mAssistant.load_workflow\u001b[1;34m(self, filename)\u001b[0m\n\u001b[0;32m    313\u001b[0m     filename, _ \u001b[38;5;241m=\u001b[39m QFileDialog\u001b[38;5;241m.\u001b[39mgetOpenFileName(\u001b[38;5;28mself\u001b[39m, \u001b[38;5;124m\"\u001b[39m\u001b[38;5;124mImport workflow ...\u001b[39m\u001b[38;5;124m\"\u001b[39m, \u001b[38;5;124m\"\u001b[39m\u001b[38;5;124m.\u001b[39m\u001b[38;5;124m\"\u001b[39m, \u001b[38;5;124m\"\u001b[39m\u001b[38;5;124m*.yaml\u001b[39m\u001b[38;5;124m\"\u001b[39m)\n\u001b[0;32m    314\u001b[0m \u001b[38;5;28mself\u001b[39m\u001b[38;5;241m.\u001b[39mworkflow \u001b[38;5;241m=\u001b[39m _io_yaml_v1\u001b[38;5;241m.\u001b[39mload_workflow(filename)\n\u001b[1;32m--> 316\u001b[0m \u001b[43minitialise_root_functions\u001b[49m\u001b[43m(\u001b[49m\u001b[38;5;28;43mself\u001b[39;49m\u001b[38;5;241;43m.\u001b[39;49m\u001b[43mworkflow\u001b[49m\u001b[43m,\u001b[49m\n\u001b[0;32m    317\u001b[0m \u001b[43m                          \u001b[49m\u001b[38;5;28;43mself\u001b[39;49m\u001b[38;5;241;43m.\u001b[39;49m\u001b[43m_viewer\u001b[49m\u001b[43m)\u001b[49m\n\u001b[0;32m    318\u001b[0m load_remaining_workflow(workflow\u001b[38;5;241m=\u001b[39m\u001b[38;5;28mself\u001b[39m\u001b[38;5;241m.\u001b[39mworkflow,\n\u001b[0;32m    319\u001b[0m                         viewer\u001b[38;5;241m=\u001b[39m\u001b[38;5;28mself\u001b[39m\u001b[38;5;241m.\u001b[39m_viewer)\n",
      "File \u001b[1;32mc:\\users\\ryans\\onedrive\\documents\\bia pol stuff\\napari workflow repositories\\napari-assistant\\napari_assistant\\_workflow_io_utility.py:75\u001b[0m, in \u001b[0;36minitialise_root_functions\u001b[1;34m(workflow, viewer)\u001b[0m\n\u001b[0;32m     72\u001b[0m     viewer\u001b[38;5;241m.\u001b[39mwindow\u001b[38;5;241m.\u001b[39madd_dock_widget(widget, name \u001b[38;5;241m=\u001b[39m wf_step_name[\u001b[38;5;241m10\u001b[39m:] \u001b[38;5;241m+\u001b[39m \u001b[38;5;124m'\u001b[39m\u001b[38;5;124m<b> - SELECT INPUT</b>\u001b[39m\u001b[38;5;124m'\u001b[39m)\n\u001b[0;32m     74\u001b[0m \u001b[38;5;66;03m# calling the widget with the correct input images\u001b[39;00m\n\u001b[1;32m---> 75\u001b[0m \u001b[43mwidget\u001b[49m\u001b[43m(\u001b[49m\u001b[43m)\u001b[49m\n",
      "File \u001b[1;32m~\\anaconda3\\envs\\np_workflows_v1\\lib\\site-packages\\magicgui\\widgets\\_function_gui.py:303\u001b[0m, in \u001b[0;36mFunctionGui.__call__\u001b[1;34m(self, update_widget, *args, **kwargs)\u001b[0m\n\u001b[0;32m    301\u001b[0m \u001b[38;5;28mself\u001b[39m\u001b[38;5;241m.\u001b[39m_tqdm_depth \u001b[38;5;241m=\u001b[39m \u001b[38;5;241m0\u001b[39m  \u001b[38;5;66;03m# reset the tqdm stack count\u001b[39;00m\n\u001b[0;32m    302\u001b[0m \u001b[38;5;28;01mwith\u001b[39;00m _function_name_pointing_to_widget(\u001b[38;5;28mself\u001b[39m):\n\u001b[1;32m--> 303\u001b[0m     value \u001b[38;5;241m=\u001b[39m \u001b[38;5;28mself\u001b[39m\u001b[38;5;241m.\u001b[39m_function(\u001b[38;5;241m*\u001b[39mbound\u001b[38;5;241m.\u001b[39margs, \u001b[38;5;241m*\u001b[39m\u001b[38;5;241m*\u001b[39mbound\u001b[38;5;241m.\u001b[39mkwargs)\n\u001b[0;32m    305\u001b[0m \u001b[38;5;28mself\u001b[39m\u001b[38;5;241m.\u001b[39m_call_count \u001b[38;5;241m+\u001b[39m\u001b[38;5;241m=\u001b[39m \u001b[38;5;241m1\u001b[39m\n\u001b[0;32m    306\u001b[0m \u001b[38;5;28;01mif\u001b[39;00m \u001b[38;5;28mself\u001b[39m\u001b[38;5;241m.\u001b[39m_result_widget \u001b[38;5;129;01mis\u001b[39;00m \u001b[38;5;129;01mnot\u001b[39;00m \u001b[38;5;28;01mNone\u001b[39;00m:\n",
      "File \u001b[1;32mc:\\users\\ryans\\onedrive\\documents\\bia pol stuff\\napari workflow repositories\\napari-assistant\\napari_assistant\\_gui\\_category_widget.py:394\u001b[0m, in \u001b[0;36mmake_gui_for_category.<locals>.gui_function\u001b[1;34m(**kwargs)\u001b[0m\n\u001b[0;32m    392\u001b[0m     \u001b[38;5;28;01mfrom\u001b[39;00m \u001b[38;5;21;01mnapari_workflows\u001b[39;00m \u001b[38;5;28;01mimport\u001b[39;00m WorkflowManager\n\u001b[0;32m    393\u001b[0m     manager \u001b[38;5;241m=\u001b[39m WorkflowManager\u001b[38;5;241m.\u001b[39minstall(viewer)\n\u001b[1;32m--> 394\u001b[0m     \u001b[43mmanager\u001b[49m\u001b[38;5;241;43m.\u001b[39;49m\u001b[43mupdate\u001b[49m\u001b[43m(\u001b[49m\u001b[43mresult_layer\u001b[49m\u001b[43m,\u001b[49m\u001b[43m \u001b[49m\u001b[43mfind_function\u001b[49m\u001b[43m(\u001b[49m\u001b[43mop_name\u001b[49m\u001b[43m)\u001b[49m\u001b[43m,\u001b[49m\u001b[43m \u001b[49m\u001b[38;5;241;43m*\u001b[39;49m\u001b[43mused_args\u001b[49m\u001b[43m)\u001b[49m\n\u001b[0;32m    395\u001b[0m     \u001b[38;5;66;03m#print(\"notified\", result_layer.name, find_function(op_name))\u001b[39;00m\n\u001b[0;32m    396\u001b[0m \u001b[38;5;28;01mexcept\u001b[39;00m \u001b[38;5;167;01mImportError\u001b[39;00m:\n",
      "File \u001b[1;32mc:\\users\\ryans\\onedrive\\documents\\bia pol stuff\\napari workflow repositories\\napari-workflows\\src\\napari_workflows\\_workflow.py:279\u001b[0m, in \u001b[0;36mWorkflowManager.update\u001b[1;34m(self, target_layer, function, *args, **kwargs)\u001b[0m\n\u001b[0;32m    276\u001b[0m \u001b[38;5;28;01mfrom\u001b[39;00m \u001b[38;5;21;01m.\u001b[39;00m\u001b[38;5;21;01m_workflowmanager_commands\u001b[39;00m \u001b[38;5;28;01mimport\u001b[39;00m Update_workflow_step\n\u001b[0;32m    277\u001b[0m kwargs \u001b[38;5;241m=\u001b[39m {k:v \u001b[38;5;28;01mfor\u001b[39;00m k,v \u001b[38;5;129;01min\u001b[39;00m kwargs\u001b[38;5;241m.\u001b[39mitems() \u001b[38;5;28;01mif\u001b[39;00m \u001b[38;5;129;01mnot\u001b[39;00m ((\u001b[38;5;28misinstance\u001b[39m(v, Viewer)) \u001b[38;5;129;01mor\u001b[39;00m (k \u001b[38;5;241m==\u001b[39m \u001b[38;5;124m'\u001b[39m\u001b[38;5;124mviewer\u001b[39m\u001b[38;5;124m'\u001b[39m))}\n\u001b[1;32m--> 279\u001b[0m \u001b[38;5;28;43mself\u001b[39;49m\u001b[38;5;241;43m.\u001b[39;49m\u001b[43mundo_redo_controller\u001b[49m\u001b[38;5;241;43m.\u001b[39;49m\u001b[43mexecute\u001b[49m\u001b[43m(\u001b[49m\u001b[43mUpdate_workflow_step\u001b[49m\u001b[43m(\u001b[49m\n\u001b[0;32m    280\u001b[0m \u001b[43m    \u001b[49m\u001b[38;5;28;43mself\u001b[39;49m\u001b[38;5;241;43m.\u001b[39;49m\u001b[43mworkflow\u001b[49m\u001b[43m,\u001b[49m\n\u001b[0;32m    281\u001b[0m \u001b[43m    \u001b[49m\u001b[38;5;28;43mself\u001b[39;49m\u001b[38;5;241;43m.\u001b[39;49m\u001b[43mviewer\u001b[49m\u001b[43m,\u001b[49m\n\u001b[0;32m    282\u001b[0m \u001b[43m    \u001b[49m\u001b[43mtarget_layer\u001b[49m\u001b[43m,\u001b[49m\n\u001b[0;32m    283\u001b[0m \u001b[43m    \u001b[49m\u001b[43mfunction\u001b[49m\u001b[43m,\u001b[49m\n\u001b[0;32m    284\u001b[0m \u001b[43m    \u001b[49m\u001b[38;5;241;43m*\u001b[39;49m\u001b[43margs\u001b[49m\u001b[43m,\u001b[49m\n\u001b[0;32m    285\u001b[0m \u001b[43m    \u001b[49m\u001b[38;5;241;43m*\u001b[39;49m\u001b[38;5;241;43m*\u001b[39;49m\u001b[43mkwargs\u001b[49m\u001b[43m,\u001b[49m\n\u001b[0;32m    286\u001b[0m \u001b[43m    \u001b[49m\u001b[43m)\u001b[49m\n\u001b[0;32m    287\u001b[0m \u001b[43m\u001b[49m\u001b[43m)\u001b[49m\n\u001b[0;32m    289\u001b[0m \u001b[38;5;66;03m# set result valid\u001b[39;00m\n\u001b[0;32m    290\u001b[0m target_layer\u001b[38;5;241m.\u001b[39mmetadata[METADATA_WORKFLOW_VALID_KEY] \u001b[38;5;241m=\u001b[39m \u001b[38;5;28;01mTrue\u001b[39;00m\n",
      "File \u001b[1;32mc:\\users\\ryans\\onedrive\\documents\\bia pol stuff\\napari workflow repositories\\napari-workflows\\src\\napari_workflows\\_undo_redo_functionality.py:55\u001b[0m, in \u001b[0;36mUndo_redo_controller.execute\u001b[1;34m(self, action)\u001b[0m\n\u001b[0;32m     51\u001b[0m \u001b[38;5;28;01mif\u001b[39;00m \u001b[38;5;129;01mnot\u001b[39;00m \u001b[38;5;28mself\u001b[39m\u001b[38;5;241m.\u001b[39mfreeze_stacks:\n\u001b[0;32m     52\u001b[0m     \u001b[38;5;28mself\u001b[39m\u001b[38;5;241m.\u001b[39mundo_stack\u001b[38;5;241m.\u001b[39mappend(\n\u001b[0;32m     53\u001b[0m         copy_workflow_state(\u001b[38;5;28mself\u001b[39m\u001b[38;5;241m.\u001b[39mworkflow)\n\u001b[0;32m     54\u001b[0m         )\n\u001b[1;32m---> 55\u001b[0m \u001b[43maction\u001b[49m\u001b[38;5;241;43m.\u001b[39;49m\u001b[43mexecute\u001b[49m\u001b[43m(\u001b[49m\u001b[43m)\u001b[49m\n",
      "File \u001b[1;32mc:\\users\\ryans\\onedrive\\documents\\bia pol stuff\\napari workflow repositories\\napari-workflows\\src\\napari_workflows\\_workflowmanager_commands.py:34\u001b[0m, in \u001b[0;36mUpdate_workflow_step.execute\u001b[1;34m(self)\u001b[0m\n\u001b[0;32m     32\u001b[0m     args \u001b[38;5;241m=\u001b[39m args[:\u001b[38;5;241m-\u001b[39m\u001b[38;5;241m1\u001b[39m]\n\u001b[0;32m     33\u001b[0m args \u001b[38;5;241m=\u001b[39m \u001b[38;5;28mtuple\u001b[39m(args)\n\u001b[1;32m---> 34\u001b[0m \u001b[38;5;28mself\u001b[39m\u001b[38;5;241m.\u001b[39mworkflow\u001b[38;5;241m.\u001b[39mset(\u001b[38;5;28mself\u001b[39m\u001b[38;5;241m.\u001b[39mtarget_layer\u001b[38;5;241m.\u001b[39mname, \u001b[38;5;28mself\u001b[39m\u001b[38;5;241m.\u001b[39mfunction, \u001b[38;5;241m*\u001b[39margs, \u001b[38;5;241m*\u001b[39m\u001b[38;5;241m*\u001b[39m\u001b[38;5;28mself\u001b[39m\u001b[38;5;241m.\u001b[39mkwargs)\n\u001b[0;32m     36\u001b[0m \u001b[38;5;66;03m# plus the remove zombies function\u001b[39;00m\n\u001b[0;32m     37\u001b[0m kill_zombies(\u001b[38;5;28mself\u001b[39m\u001b[38;5;241m.\u001b[39mviewer,\u001b[38;5;28mself\u001b[39m\u001b[38;5;241m.\u001b[39mworkflow)\n",
      "File \u001b[1;32mc:\\users\\ryans\\onedrive\\documents\\bia pol stuff\\napari workflow repositories\\napari-workflows\\src\\napari_workflows\\_workflow.py:72\u001b[0m, in \u001b[0;36mWorkflow.set\u001b[1;34m(self, name, func_or_data, *args, **kwargs)\u001b[0m\n\u001b[0;32m     69\u001b[0m \u001b[38;5;28mprint\u001b[39m(\u001b[38;5;124mf\u001b[39m\u001b[38;5;124m'\u001b[39m\u001b[38;5;124m   kwargs: \u001b[39m\u001b[38;5;132;01m{\u001b[39;00mkwargs\u001b[38;5;132;01m}\u001b[39;00m\u001b[38;5;124m'\u001b[39m)\n\u001b[0;32m     70\u001b[0m \u001b[38;5;28mprint\u001b[39m(\u001b[38;5;124mf\u001b[39m\u001b[38;5;124m'\u001b[39m\u001b[38;5;124msignature: \u001b[39m\u001b[38;5;132;01m{\u001b[39;00msig\u001b[38;5;132;01m}\u001b[39;00m\u001b[38;5;124m'\u001b[39m)\n\u001b[1;32m---> 72\u001b[0m bound \u001b[38;5;241m=\u001b[39m sig\u001b[38;5;241m.\u001b[39mbind(\u001b[38;5;241m*\u001b[39margs, \u001b[38;5;241m*\u001b[39m\u001b[38;5;241m*\u001b[39mkwargs)\n\u001b[0;32m     73\u001b[0m bound\u001b[38;5;241m.\u001b[39mapply_defaults()\n\u001b[0;32m     75\u001b[0m \u001b[38;5;66;03m# Go through arguments and in case it's a callable, remove it\u001b[39;00m\n\u001b[0;32m     76\u001b[0m \u001b[38;5;66;03m# We should only have numbers, strings and images as parameters\u001b[39;00m\n",
      "File \u001b[1;32m~\\anaconda3\\envs\\np_workflows_v1\\lib\\inspect.py:3179\u001b[0m, in \u001b[0;36mSignature.bind\u001b[1;34m(self, *args, **kwargs)\u001b[0m\n\u001b[0;32m   3174\u001b[0m \u001b[38;5;28;01mdef\u001b[39;00m \u001b[38;5;21mbind\u001b[39m(\u001b[38;5;28mself\u001b[39m, \u001b[38;5;241m/\u001b[39m, \u001b[38;5;241m*\u001b[39margs, \u001b[38;5;241m*\u001b[39m\u001b[38;5;241m*\u001b[39mkwargs):\n\u001b[0;32m   3175\u001b[0m     \u001b[38;5;124;03m\"\"\"Get a BoundArguments object, that maps the passed `args`\u001b[39;00m\n\u001b[0;32m   3176\u001b[0m \u001b[38;5;124;03m    and `kwargs` to the function's signature.  Raises `TypeError`\u001b[39;00m\n\u001b[0;32m   3177\u001b[0m \u001b[38;5;124;03m    if the passed arguments can not be bound.\u001b[39;00m\n\u001b[0;32m   3178\u001b[0m \u001b[38;5;124;03m    \"\"\"\u001b[39;00m\n\u001b[1;32m-> 3179\u001b[0m     \u001b[38;5;28;01mreturn\u001b[39;00m \u001b[38;5;28;43mself\u001b[39;49m\u001b[38;5;241;43m.\u001b[39;49m\u001b[43m_bind\u001b[49m\u001b[43m(\u001b[49m\u001b[43margs\u001b[49m\u001b[43m,\u001b[49m\u001b[43m \u001b[49m\u001b[43mkwargs\u001b[49m\u001b[43m)\u001b[49m\n",
      "File \u001b[1;32m~\\anaconda3\\envs\\np_workflows_v1\\lib\\inspect.py:3105\u001b[0m, in \u001b[0;36mSignature._bind\u001b[1;34m(self, args, kwargs, partial)\u001b[0m\n\u001b[0;32m   3101\u001b[0m \u001b[38;5;28;01melse\u001b[39;00m:\n\u001b[0;32m   3102\u001b[0m     \u001b[38;5;28;01mif\u001b[39;00m param\u001b[38;5;241m.\u001b[39mkind \u001b[38;5;129;01min\u001b[39;00m (_VAR_KEYWORD, _KEYWORD_ONLY):\n\u001b[0;32m   3103\u001b[0m         \u001b[38;5;66;03m# Looks like we have no parameter for this positional\u001b[39;00m\n\u001b[0;32m   3104\u001b[0m         \u001b[38;5;66;03m# argument\u001b[39;00m\n\u001b[1;32m-> 3105\u001b[0m         \u001b[38;5;28;01mraise\u001b[39;00m \u001b[38;5;167;01mTypeError\u001b[39;00m(\n\u001b[0;32m   3106\u001b[0m             \u001b[38;5;124m'\u001b[39m\u001b[38;5;124mtoo many positional arguments\u001b[39m\u001b[38;5;124m'\u001b[39m) \u001b[38;5;28;01mfrom\u001b[39;00m \u001b[38;5;28mNone\u001b[39m\n\u001b[0;32m   3108\u001b[0m     \u001b[38;5;28;01mif\u001b[39;00m param\u001b[38;5;241m.\u001b[39mkind \u001b[38;5;241m==\u001b[39m _VAR_POSITIONAL:\n\u001b[0;32m   3109\u001b[0m         \u001b[38;5;66;03m# We have an '*args'-like argument, let's fill it with\u001b[39;00m\n\u001b[0;32m   3110\u001b[0m         \u001b[38;5;66;03m# all positional arguments we have left and move on to\u001b[39;00m\n\u001b[0;32m   3111\u001b[0m         \u001b[38;5;66;03m# the next phase\u001b[39;00m\n\u001b[0;32m   3112\u001b[0m         values \u001b[38;5;241m=\u001b[39m [arg_val]\n",
      "\u001b[1;31mTypeError\u001b[0m: too many positional arguments"
     ]
    },
    {
     "name": "stderr",
     "output_type": "stream",
     "text": [
      "2022-04-11 22:23:00.942 | INFO     | napari_assistant._gui._category_widget:call_op:129 - gaussian_blur (clesperanto)(..., 1.0, 1.0, 0.0)\n",
      "2022-04-11 22:23:00.950 | DEBUG    | napari_assistant._gui._category_widget:_show_result:231 - creating new layer for id: 1511569442128\n",
      "2022-04-11 22:23:00.959 | INFO     | napari_assistant._gui._category_widget:call_op:129 - gaussian_blur (clesperanto)(..., 1.0, 1.0, 0.0)\n",
      "2022-04-11 22:23:00.965 | DEBUG    | napari_assistant._gui._category_widget:_show_result:225 - updating existing layer: Result of gaussian_blur (clesperanto), with id: 1510578556064\n"
     ]
    },
    {
     "name": "stdout",
     "output_type": "stream",
     "text": [
      "set workflow step: Result of gaussian_blur (clesperanto)\n",
      "     args: ['blobs', None, 1.0, 1.0, 0.0]\n",
      "   kwargs: {}\n",
      "signature: (source: Union[numpy.ndarray, pyclesperanto_prototype._tier0._pycl.OCLArray, pyopencl._cl.Image, pyclesperanto_prototype._tier0._pycl._OCLImage], *, destination: Union[numpy.ndarray, pyclesperanto_prototype._tier0._pycl.OCLArray, pyopencl._cl.Image, pyclesperanto_prototype._tier0._pycl._OCLImage] = None, sigma_x: float = 4.0, sigma_y: float = 4.0, sigma_z: float = 0.0) -> Union[numpy.ndarray, pyclesperanto_prototype._tier0._pycl.OCLArray, pyopencl._cl.Image, pyclesperanto_prototype._tier0._pycl._OCLImage]\n",
      "set workflow step: Result of gaussian_blur (clesperanto) [1]\n",
      "     args: [cl.Array([[ 41.42875 ,  34.696438,  27.733936, ..., 220.92714 , 211.21162 ,\n",
      "        206.71573 ],\n",
      "       [ 47.421425,  38.878723,  30.323011, ..., 228.32323 , 220.60194 ,\n",
      "        216.83534 ],\n",
      "       [ 48.121433,  40.610855,  33.357384, ..., 235.32935 , 229.7049  ,\n",
      "        226.8882  ],\n",
      "       ...,\n",
      "       [ 74.4386  ,  76.32904 ,  77.03725 , ...,  48.00032 ,  48.00075 ,\n",
      "         48.001007],\n",
      "       [ 81.793655,  81.17787 ,  79.80763 , ...,  48.      ,  48.      ,\n",
      "         48.      ],\n",
      "       [ 88.816925,  85.382095,  81.478806, ...,  48.      ,  48.      ,\n",
      "         48.      ]], dtype=float32), None, 1.0, 1.0, 0.0]\n",
      "   kwargs: {}\n",
      "signature: (source: Union[numpy.ndarray, pyclesperanto_prototype._tier0._pycl.OCLArray, pyopencl._cl.Image, pyclesperanto_prototype._tier0._pycl._OCLImage], *, destination: Union[numpy.ndarray, pyclesperanto_prototype._tier0._pycl.OCLArray, pyopencl._cl.Image, pyclesperanto_prototype._tier0._pycl._OCLImage] = None, sigma_x: float = 4.0, sigma_y: float = 4.0, sigma_z: float = 0.0) -> Union[numpy.ndarray, pyclesperanto_prototype._tier0._pycl.OCLArray, pyopencl._cl.Image, pyclesperanto_prototype._tier0._pycl._OCLImage]\n"
     ]
    }
   ],
   "source": [
    "assistant.load_workflow('test_only_blur.yaml')"
   ]
  },
  {
   "cell_type": "code",
   "execution_count": 3,
   "id": "96ecacb5",
   "metadata": {},
   "outputs": [
    {
     "name": "stdout",
     "output_type": "stream",
     "text": [
      "Workflow:\n",
      "Result of gaussian_blur (clesperanto) <- (<function gaussian_blur at 0x000001FECA58FB50>, 'blobs', None, 1.0, 1.0, 0.0)\n",
      "\n"
     ]
    }
   ],
   "source": [
    "from napari_workflows import WorkflowManager\n",
    "manager = WorkflowManager.install(viewer)\n",
    "print(manager.workflow)"
   ]
  },
  {
   "cell_type": "code",
   "execution_count": null,
   "id": "02b4eea5",
   "metadata": {},
   "outputs": [],
   "source": []
  },
  {
   "cell_type": "code",
   "execution_count": 4,
   "id": "502b56f6",
   "metadata": {},
   "outputs": [
    {
     "data": {
      "text/plain": [
       "['Gaussian (scikit-image, nsbatwm)',\n",
       " 'Median (scipy, nsbatwm)',\n",
       " 'Percentile (scipy, nsbatwm)']"
      ]
     },
     "execution_count": 4,
     "metadata": {},
     "output_type": "execute_result"
    }
   ],
   "source": [
    "from napari_assistant._categories import CATEGORIES, filter_categories, filter_operations\n",
    "def op_names_in_menu(category, search_string: str = None):\n",
    "    \"\"\"\n",
    "    Return all functions as list in a given category that contain a\n",
    "    given search string.\n",
    "    \"\"\"\n",
    "    if not hasattr(category, \"tools_menu\"):\n",
    "        return []\n",
    "    menu_name = category.tools_menu\n",
    "    choices = filter_operations(menu_name)\n",
    "    if search_string is not None and len(search_string) > 0:\n",
    "        choices = [c for c in choices if search_string in c.lower()]\n",
    "    choices = [c.split(\">\")[1].strip() for c in choices]\n",
    "    choices = sorted(choices, key=str.casefold)\n",
    "    \n",
    "    return choices\n",
    "\n",
    "op_names_in_menu(CATEGORIES[\"Remove noise\"],'nsb')"
   ]
  },
  {
   "cell_type": "code",
   "execution_count": 5,
   "id": "cb6b0e12",
   "metadata": {},
   "outputs": [
    {
     "data": {
      "text/plain": [
       "['Gaussian (scikit-image, nsbatwm)',\n",
       " 'Median (scipy, nsbatwm)',\n",
       " 'Percentile (scipy, nsbatwm)']"
      ]
     },
     "execution_count": 5,
     "metadata": {},
     "output_type": "execute_result"
    }
   ],
   "source": [
    "from napari_assistant._categories import operations_in_menu, Category\n",
    "choices = list(operations_in_menu(category = CATEGORIES[\"Remove noise\"], \n",
    "                                  search_string='nsb'))\n",
    "choices"
   ]
  },
  {
   "cell_type": "code",
   "execution_count": 6,
   "id": "0b3a6fa2",
   "metadata": {},
   "outputs": [
    {
     "ename": "ImportError",
     "evalue": "attempted relative import with no known parent package",
     "output_type": "error",
     "traceback": [
      "\u001b[1;31m---------------------------------------------------------------------------\u001b[0m",
      "\u001b[1;31mImportError\u001b[0m                               Traceback (most recent call last)",
      "Input \u001b[1;32mIn [6]\u001b[0m, in \u001b[0;36m<cell line: 21>\u001b[1;34m()\u001b[0m\n\u001b[0;32m     18\u001b[0m     \u001b[38;5;28;01melse\u001b[39;00m:\n\u001b[0;32m     19\u001b[0m         \u001b[38;5;28;01mreturn\u001b[39;00m default_op\n\u001b[1;32m---> 21\u001b[0m test \u001b[38;5;241m=\u001b[39m \u001b[43m_get_operation_name_for_category_clicked\u001b[49m\u001b[43m(\u001b[49m\u001b[43mcategory\u001b[49m\u001b[43m \u001b[49m\u001b[38;5;241;43m=\u001b[39;49m\u001b[43m \u001b[49m\u001b[43mCATEGORIES\u001b[49m\u001b[43m[\u001b[49m\u001b[38;5;124;43m\"\u001b[39;49m\u001b[38;5;124;43mRemove noise\u001b[39;49m\u001b[38;5;124;43m\"\u001b[39;49m\u001b[43m]\u001b[49m\u001b[43m,\u001b[49m\u001b[43m \u001b[49m\n\u001b[0;32m     22\u001b[0m \u001b[43m                                  \u001b[49m\u001b[43msearch_string\u001b[49m\u001b[38;5;241;43m=\u001b[39;49m\u001b[38;5;124;43m'\u001b[39;49m\u001b[38;5;124;43m'\u001b[39;49m\u001b[43m)\u001b[49m\n\u001b[0;32m     23\u001b[0m test\n",
      "Input \u001b[1;32mIn [6]\u001b[0m, in \u001b[0;36m_get_operation_name_for_category_clicked\u001b[1;34m(category, search_string)\u001b[0m\n\u001b[0;32m      2\u001b[0m \u001b[38;5;124;03m\"\"\"Create an inspect.Signature object representing a cle Category.\u001b[39;00m\n\u001b[0;32m      3\u001b[0m \n\u001b[0;32m      4\u001b[0m \u001b[38;5;124;03mThe output of this function is the operation name for a clicked cataegory given a search string\u001b[39;00m\n\u001b[0;32m      5\u001b[0m \u001b[38;5;124;03m\"\"\"\u001b[39;00m\n\u001b[0;32m      6\u001b[0m \u001b[38;5;66;03m# Add valid operations choices (will create the combo box)\u001b[39;00m\n\u001b[1;32m----> 7\u001b[0m \u001b[38;5;28;01mfrom\u001b[39;00m \u001b[38;5;21;01m.\u001b[39;00m\u001b[38;5;21;01m.\u001b[39;00m\u001b[38;5;21;01m_categories\u001b[39;00m \u001b[38;5;28;01mimport\u001b[39;00m operations_in_menu\n\u001b[0;32m      8\u001b[0m choices \u001b[38;5;241m=\u001b[39m \u001b[38;5;28mlist\u001b[39m(operations_in_menu(category, search_string))\n\u001b[0;32m     10\u001b[0m default_op \u001b[38;5;241m=\u001b[39m category\u001b[38;5;241m.\u001b[39mdefault_op\n",
      "\u001b[1;31mImportError\u001b[0m: attempted relative import with no known parent package"
     ]
    }
   ],
   "source": [
    "def _get_operation_name_for_category_clicked(category: Category, search_string:str= None) -> str:\n",
    "    \"\"\"Create an inspect.Signature object representing a cle Category.\n",
    "\n",
    "    The output of this function is the operation name for a clicked cataegory given a search string\n",
    "    \"\"\"\n",
    "    # Add valid operations choices (will create the combo box)\n",
    "    #from .._categories import operations_in_menu\n",
    "    choices = list(operations_in_menu(category, search_string))\n",
    "\n",
    "    default_op = category.default_op\n",
    "    if not any(default_op == op for op in choices):\n",
    "        #print(\"Default-operation is not in list!\")\n",
    "        default_op = None\n",
    "\n",
    "    if default_op is None:\n",
    "        return choices[0]\n",
    "        \n",
    "    else:\n",
    "        return default_op\n",
    "\n",
    "test = _get_operation_name_for_category_clicked(category = CATEGORIES[\"Remove noise\"], \n",
    "                                  search_string='')\n",
    "test"
   ]
  },
  {
   "cell_type": "code",
   "execution_count": null,
   "id": "e86717ce",
   "metadata": {},
   "outputs": [
    {
     "name": "stderr",
     "output_type": "stream",
     "text": [
      "2022-04-11 22:00:55.496 | INFO     | napari_assistant._gui._category_widget:call_op:129 - gaussian_blur (clesperanto)(..., 1.0, 1.0, 0.0)\n",
      "2022-04-11 22:00:55.504 | DEBUG    | napari_assistant._gui._category_widget:_show_result:231 - creating new layer for id: 2194613105376\n",
      "2022-04-11 22:00:55.514 | INFO     | napari_assistant._gui._category_widget:call_op:129 - gaussian_blur (clesperanto)(..., 1.0, 1.0, 0.0)\n",
      "2022-04-11 22:00:55.522 | DEBUG    | napari_assistant._gui._category_widget:_show_result:225 - updating existing layer: Result of gaussian_blur (clesperanto), with id: 2194606972576\n"
     ]
    },
    {
     "name": "stdout",
     "output_type": "stream",
     "text": [
      "opname = gaussian_blur (clesperanto)\n"
     ]
    },
    {
     "name": "stderr",
     "output_type": "stream",
     "text": [
      "2022-04-11 22:01:00.939 | INFO     | napari_assistant._gui._category_widget:call_op:129 - gaussian_blur (clesperanto)(..., 2.0, 1.0, 0.0)\n",
      "2022-04-11 22:01:00.948 | DEBUG    | napari_assistant._gui._category_widget:_show_result:225 - updating existing layer: Result of gaussian_blur (clesperanto) [1], with id: 2194613105376\n",
      "2022-04-11 22:01:01.134 | INFO     | napari_assistant._gui._category_widget:call_op:129 - gaussian_blur (clesperanto)(..., 3.0, 1.0, 0.0)\n",
      "2022-04-11 22:01:01.145 | DEBUG    | napari_assistant._gui._category_widget:_show_result:225 - updating existing layer: Result of gaussian_blur (clesperanto) [1], with id: 2194613105376\n",
      "2022-04-11 22:01:01.330 | INFO     | napari_assistant._gui._category_widget:call_op:129 - gaussian_blur (clesperanto)(..., 4.0, 1.0, 0.0)\n",
      "2022-04-11 22:01:01.341 | DEBUG    | napari_assistant._gui._category_widget:_show_result:225 - updating existing layer: Result of gaussian_blur (clesperanto) [1], with id: 2194613105376\n",
      "2022-04-11 22:01:02.791 | INFO     | napari_assistant._gui._category_widget:call_op:129 - gaussian_blur (clesperanto)(..., 3.0, 1.0, 0.0)\n",
      "2022-04-11 22:01:02.801 | DEBUG    | napari_assistant._gui._category_widget:_show_result:225 - updating existing layer: Result of gaussian_blur (clesperanto) [1], with id: 2194613105376\n",
      "2022-04-11 22:01:02.970 | INFO     | napari_assistant._gui._category_widget:call_op:129 - gaussian_blur (clesperanto)(..., 2.0, 1.0, 0.0)\n",
      "2022-04-11 22:01:02.981 | DEBUG    | napari_assistant._gui._category_widget:_show_result:225 - updating existing layer: Result of gaussian_blur (clesperanto) [1], with id: 2194613105376\n",
      "2022-04-11 22:01:03.158 | INFO     | napari_assistant._gui._category_widget:call_op:129 - gaussian_blur (clesperanto)(..., 1.0, 1.0, 0.0)\n",
      "2022-04-11 22:01:03.169 | DEBUG    | napari_assistant._gui._category_widget:_show_result:225 - updating existing layer: Result of gaussian_blur (clesperanto) [1], with id: 2194613105376\n"
     ]
    }
   ],
   "source": [
    "test2 = _get_operation_name_for_category_clicked(category = CATEGORIES[\"Remove noise\"], \n",
    "                                  search_string='median')\n",
    "test2"
   ]
  },
  {
   "cell_type": "code",
   "execution_count": null,
   "id": "0a11bb99",
   "metadata": {},
   "outputs": [],
   "source": []
  }
 ],
 "metadata": {
  "kernelspec": {
   "display_name": "Python 3 (ipykernel)",
   "language": "python",
   "name": "python3"
  },
  "language_info": {
   "codemirror_mode": {
    "name": "ipython",
    "version": 3
   },
   "file_extension": ".py",
   "mimetype": "text/x-python",
   "name": "python",
   "nbconvert_exporter": "python",
   "pygments_lexer": "ipython3",
   "version": "3.10.2"
  }
 },
 "nbformat": 4,
 "nbformat_minor": 5
}
