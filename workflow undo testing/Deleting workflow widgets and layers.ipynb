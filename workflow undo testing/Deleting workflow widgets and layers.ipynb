{
 "cells": [
  {
   "cell_type": "code",
   "execution_count": 2,
   "id": "509f6b1b",
   "metadata": {},
   "outputs": [
    {
     "name": "stderr",
     "output_type": "stream",
     "text": [
      "C:\\Users\\ryans\\anaconda3\\envs\\np_workflows_v1\\lib\\site-packages\\napari_tools_menu\\__init__.py:165: FutureWarning: Public access to Window.qt_viewer is deprecated and will be removed in\n",
      "v0.5.0. It is considered an \"implementation detail\" of the napari\n",
      "application, not part of the napari viewer model. If your use case\n",
      "requires access to qt_viewer, please open an issue to discuss.\n",
      "  self.tools_menu = ToolsMenu(self, self.qt_viewer.viewer)\n"
     ]
    },
    {
     "data": {
      "text/plain": [
       "<Image layer 'img2' at 0x1ad68f0fdc0>"
      ]
     },
     "execution_count": 2,
     "metadata": {},
     "output_type": "execute_result"
    }
   ],
   "source": [
    "from napari_assistant._workflow_io_utility import *\n",
    "from napari_workflows._io_yaml_v1 import *\n",
    "import napari\n",
    "from skimage.io import imread\n",
    "from napari_workflows import WorkflowManager\n",
    "\n",
    "def to_file(viewer, filename=None):\n",
    "    from napari_workflows import WorkflowManager, _io_yaml_v1\n",
    "    \n",
    "    \n",
    "    if not filename:\n",
    "        print('no file name given')\n",
    "        return\n",
    "\n",
    "    # get the workflow, should one be installed\n",
    "    workflow_manager = WorkflowManager.install(viewer)\n",
    "    workflow = workflow_manager.workflow\n",
    "    workflow.remove_viewers\n",
    "    _io_yaml_v1.save_workflow(filename, workflow)\n",
    "\n",
    "desktop = 'C:/Users/ryans/Desktop/'\n",
    "\n",
    "img1 = imread(desktop+'blobs.tif')\n",
    "img2 = imread(desktop+'blobs_messed_up.tiff')\n",
    "\n",
    "viewer = napari.Viewer()\n",
    "viewer.add_image(img1)\n",
    "viewer.add_image(img2)"
   ]
  },
  {
   "cell_type": "code",
   "execution_count": 3,
   "id": "2cab66db",
   "metadata": {},
   "outputs": [],
   "source": [
    "workflow = load_workflow('test_workflow_long.yaml')\n",
    "initialise_root_functions(workflow, viewer)\n",
    "load_remaining_workflow(workflow,viewer)"
   ]
  },
  {
   "cell_type": "code",
   "execution_count": 23,
   "id": "bd6c1bd4",
   "metadata": {},
   "outputs": [
    {
     "name": "stdout",
     "output_type": "stream",
     "text": [
      "Gaussian (scikit-image, nsbatwm)<b> - SELECT INPUT</b>: <napari._qt.widgets.qt_viewer_dock_widget.QtViewerDockWidget object at 0x000001AD720992D0>\n",
      "working\n",
      "Gaussian (scikit-image, nsbatwm) [1]<b> - SELECT INPUT</b>: <napari._qt.widgets.qt_viewer_dock_widget.QtViewerDockWidget object at 0x000001AD721504C0>\n",
      "working\n",
      "Minimum (scipy, nsbatwm): <napari._qt.widgets.qt_viewer_dock_widget.QtViewerDockWidget object at 0x000001AD72171480>\n",
      "working\n",
      "Percentile (scipy, nsbatwm): <napari._qt.widgets.qt_viewer_dock_widget.QtViewerDockWidget object at 0x000001AD732E0160>\n",
      "working\n",
      "Black top-hat (scipy, nsbatwm): <napari._qt.widgets.qt_viewer_dock_widget.QtViewerDockWidget object at 0x000001AD7333FF40>\n",
      "working\n",
      "Multiply images (numpy, nsbatwm): <napari._qt.widgets.qt_viewer_dock_widget.QtViewerDockWidget object at 0x000001AD733DB910>\n",
      "working\n",
      "Seeded watershed using local minima as seeds (nsbatwm): <napari._qt.widgets.qt_viewer_dock_widget.QtViewerDockWidget object at 0x000001AD7345FD00>\n",
      "working\n",
      "Remove labeled objects at the image border (scikit-image, nsbatwm): <napari._qt.widgets.qt_viewer_dock_widget.QtViewerDockWidget object at 0x000001AD7354C550>\n",
      "working\n"
     ]
    }
   ],
   "source": [
    "def deleting_workflow_widgets(workflow,viewer):\n",
    "    dock_widgets = viewer.window._dock_widgets\n",
    "    workflow_nodes = list(workflow._tasks.keys())\n",
    "    for key, widget in dock_widgets.items():\n",
    "        print(f'{key}: {widget}')\n",
    "        if ('Result of ' + key in workflow_nodes) or ('Result of '+key[:-22] in workflow_nodes):\n",
    "            print('working')\n",
    "deleting_workflow_widgets(workflow, viewer)"
   ]
  },
  {
   "cell_type": "code",
   "execution_count": 9,
   "id": "e40f9057",
   "metadata": {},
   "outputs": [],
   "source": []
  },
  {
   "cell_type": "code",
   "execution_count": 17,
   "id": "7c0dd6c8",
   "metadata": {},
   "outputs": [
    {
     "data": {
      "text/plain": [
       "True"
      ]
     },
     "execution_count": 17,
     "metadata": {},
     "output_type": "execute_result"
    }
   ],
   "source": [
    "nodes = list(workflow._tasks.keys())\n",
    "'Result of Minimum (scipy, nsbatwm)' in nodes"
   ]
  },
  {
   "cell_type": "code",
   "execution_count": 21,
   "id": "5c3e90c5",
   "metadata": {},
   "outputs": [
    {
     "data": {
      "text/plain": [
       "22"
      ]
     },
     "execution_count": 21,
     "metadata": {},
     "output_type": "execute_result"
    }
   ],
   "source": [
    "k = 'Gaussian (scikit-image, nsbatwm)<b> - SELECT INPUT</b>'\n",
    "len('<b> - SELECT INPUT</b>')"
   ]
  },
  {
   "cell_type": "code",
   "execution_count": 22,
   "id": "377e4f10",
   "metadata": {},
   "outputs": [
    {
     "data": {
      "text/plain": [
       "'Gaussian (scikit-image, nsbatwm)'"
      ]
     },
     "execution_count": 22,
     "metadata": {},
     "output_type": "execute_result"
    }
   ],
   "source": [
    "k[:-22]"
   ]
  },
  {
   "cell_type": "code",
   "execution_count": 27,
   "id": "b885934b",
   "metadata": {},
   "outputs": [],
   "source": [
    "def deleting_workflow_widgets(workflow,viewer):\n",
    "    dock_widgets = viewer.window._dock_widgets\n",
    "    workflow_nodes = list(workflow._tasks.keys())\n",
    "    for key, widget in list(dock_widgets.items()):\n",
    "        if ('Result of ' + key in workflow_nodes) or ('Result of '+key[:-22] in workflow_nodes):\n",
    "            viewer.window.remove_dock_widget(widget=widget)\n",
    "deleting_workflow_widgets(workflow, viewer)"
   ]
  },
  {
   "cell_type": "code",
   "execution_count": 28,
   "id": "bfc2d89b",
   "metadata": {},
   "outputs": [
    {
     "data": {
      "text/plain": [
       "['img1',\n",
       " 'img2',\n",
       " 'Result of Gaussian (scikit-image, nsbatwm)',\n",
       " 'Result of Gaussian (scikit-image, nsbatwm) [1]',\n",
       " 'Result of Minimum (scipy, nsbatwm)',\n",
       " 'Result of Percentile (scipy, nsbatwm)',\n",
       " 'Result of Black top-hat (scipy, nsbatwm)',\n",
       " 'Result of Multiply images (numpy, nsbatwm)',\n",
       " 'Result of Seeded watershed using local minima as seeds (nsbatwm)',\n",
       " 'Result of Remove labeled objects at the image border (scikit-image, nsbatwm)']"
      ]
     },
     "execution_count": 28,
     "metadata": {},
     "output_type": "execute_result"
    }
   ],
   "source": [
    "layer_names = [str(lay) for lay in viewer.layers]\n",
    "layer_names"
   ]
  },
  {
   "cell_type": "code",
   "execution_count": 30,
   "id": "045586f2",
   "metadata": {},
   "outputs": [
    {
     "name": "stdout",
     "output_type": "stream",
     "text": [
      "img1\n",
      "img2\n",
      "Result of Gaussian (scikit-image, nsbatwm)\n",
      "removal attempted\n",
      "Result of Gaussian (scikit-image, nsbatwm) [1]\n",
      "removal attempted\n",
      "Result of Minimum (scipy, nsbatwm)\n",
      "removal attempted\n",
      "Result of Percentile (scipy, nsbatwm)\n",
      "removal attempted\n",
      "Result of Black top-hat (scipy, nsbatwm)\n",
      "removal attempted\n",
      "Result of Multiply images (numpy, nsbatwm)\n",
      "removal attempted\n",
      "Result of Seeded watershed using local minima as seeds (nsbatwm)\n",
      "removal attempted\n",
      "Result of Remove labeled objects at the image border (scikit-image, nsbatwm)\n",
      "removal attempted\n"
     ]
    }
   ],
   "source": [
    "layers = viewer.layers\n",
    "for layer_name in layer_names:\n",
    "    print(layer_name)\n",
    "    if layers[layer_name].source.widget:\n",
    "        layers.remove(layer_name)\n",
    "        print('removal attempted')    "
   ]
  },
  {
   "cell_type": "markdown",
   "id": "5fb4f1b9",
   "metadata": {},
   "source": [
    "Both of these functions worked so I will use them in the next notebook to try and attempt the undo function"
   ]
  },
  {
   "cell_type": "code",
   "execution_count": null,
   "id": "ec9a31e8",
   "metadata": {},
   "outputs": [],
   "source": [
    "def delete_workflow_widgets_layers(workflow, viewer):\n",
    "    #deleting the widgets\n",
    "    dock_widgets = viewer.window._dock_widgets\n",
    "    workflow_nodes = list(workflow._tasks.keys())\n",
    "    for key, widget in list(dock_widgets.items()):\n",
    "        if ('Result of ' + key in workflow_nodes) or ('Result of '+key[:-22] in workflow_nodes):\n",
    "            viewer.window.remove_dock_widget(widget=widget)\n",
    "    \n",
    "    #deleting the layers\n",
    "    layers = viewer.layers\n",
    "    layer_names = [lay.name for lay in layers]\n",
    "    for layer_name in layer_names:\n",
    "        print(layer_name)\n",
    "        if layers[layer_name].source.widget:\n",
    "            layers.remove(layer_name)"
   ]
  }
 ],
 "metadata": {
  "kernelspec": {
   "display_name": "Python 3 (ipykernel)",
   "language": "python",
   "name": "python3"
  },
  "language_info": {
   "codemirror_mode": {
    "name": "ipython",
    "version": 3
   },
   "file_extension": ".py",
   "mimetype": "text/x-python",
   "name": "python",
   "nbconvert_exporter": "python",
   "pygments_lexer": "ipython3",
   "version": "3.10.2"
  }
 },
 "nbformat": 4,
 "nbformat_minor": 5
}
