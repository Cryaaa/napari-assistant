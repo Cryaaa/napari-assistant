{
 "cells": [
  {
   "cell_type": "code",
   "execution_count": 1,
   "id": "552e81bd",
   "metadata": {},
   "outputs": [
    {
     "name": "stderr",
     "output_type": "stream",
     "text": [
      "C:\\Users\\ryans\\Anaconda3\\envs\\np_workflows_v1\\lib\\site-packages\\napari_tools_menu\\__init__.py:165: FutureWarning: Public access to Window.qt_viewer is deprecated and will be removed in\n",
      "v0.5.0. It is considered an \"implementation detail\" of the napari\n",
      "application, not part of the napari viewer model. If your use case\n",
      "requires access to qt_viewer, please open an issue to discuss.\n",
      "  self.tools_menu = ToolsMenu(self, self.qt_viewer.viewer)\n"
     ]
    },
    {
     "data": {
      "text/plain": [
       "<Image layer 'blobs' at 0x2c90d2e7580>"
      ]
     },
     "execution_count": 1,
     "metadata": {},
     "output_type": "execute_result"
    }
   ],
   "source": [
    "import napari\n",
    "from napari_assistant._gui._Assistant import Assistant\n",
    "from skimage.io import imread\n",
    "from napari_assistant._categories import CATEGORIES\n",
    "\n",
    "filename = 'C:/Users/ryans/OneDrive/Desktop/blobs.tif'\n",
    "blobs = imread(filename)\n",
    "blobs_modified = imread('C:/Users/ryans/OneDrive/Desktop/blobs_messed_up.tiff') \n",
    "\n",
    "viewer = napari.Viewer()\n",
    "viewer.add_image(blobs_modified, name = 'not blobs')\n",
    "viewer.add_image(blobs, name = 'blobs')"
   ]
  },
  {
   "cell_type": "code",
   "execution_count": 2,
   "id": "cbac18a4",
   "metadata": {},
   "outputs": [],
   "source": [
    "from napari_workflows._io_yaml_v1 import load_workflow\n",
    "\n",
    "workflow = load_workflow(filename='test_only_blur.yaml')"
   ]
  },
  {
   "cell_type": "code",
   "execution_count": 3,
   "id": "0c1f73a6",
   "metadata": {},
   "outputs": [
    {
     "name": "stderr",
     "output_type": "stream",
     "text": [
      "2022-04-12 16:52:43.327 | INFO     | napari_assistant._gui._category_widget:call_op:129 - gaussian_blur (clesperanto)(..., 1.0, 1.0, 0.0)\n",
      "2022-04-12 16:52:43.356 | DEBUG    | napari_assistant._gui._category_widget:_show_result:231 - creating new layer for id: 3062376607312\n",
      "2022-04-12 16:52:43.454 | INFO     | napari_assistant._gui._category_widget:call_op:129 - gaussian_blur (clesperanto)(..., 1.0, 1.0, 0.0)\n",
      "2022-04-12 16:52:43.462 | DEBUG    | napari_assistant._gui._category_widget:_show_result:225 - updating existing layer: Result of gaussian_blur (clesperanto), with id: 3062376607312\n",
      "2022-04-12 16:52:43.481 | INFO     | napari_assistant._gui._category_widget:call_op:129 - gaussian_blur (clesperanto)(..., 4.0, 1.0, 0.0)\n",
      "2022-04-12 16:52:43.492 | DEBUG    | napari_assistant._gui._category_widget:_show_result:225 - updating existing layer: Result of gaussian_blur (clesperanto), with id: 3062376607312\n",
      "2022-04-12 16:52:43.510 | INFO     | napari_assistant._gui._category_widget:call_op:129 - gaussian_blur (clesperanto)(..., 4.0, 4.0, 0.0)\n",
      "2022-04-12 16:52:43.521 | DEBUG    | napari_assistant._gui._category_widget:_show_result:225 - updating existing layer: Result of gaussian_blur (clesperanto), with id: 3062376607312\n",
      "2022-04-12 16:52:43.539 | INFO     | napari_assistant._gui._category_widget:call_op:129 - gaussian_blur (clesperanto)(..., 4.0, 4.0, 0.0)\n",
      "2022-04-12 16:52:43.548 | DEBUG    | napari_assistant._gui._category_widget:_show_result:225 - updating existing layer: Result of gaussian_blur (clesperanto), with id: 3062376607312\n"
     ]
    },
    {
     "name": "stdout",
     "output_type": "stream",
     "text": [
      "set workflow step: Result of gaussian_blur (clesperanto)\n",
      "     args: ['not blobs']\n",
      "   kwargs: {'destination': None, 'sigma_x': 1.0, 'sigma_y': 1.0, 'sigma_z': 0.0}\n",
      "signature: (source: Union[numpy.ndarray, pyclesperanto_prototype._tier0._pycl.OCLArray, pyopencl._cl.Image, pyclesperanto_prototype._tier0._pycl._OCLImage], destination: Union[numpy.ndarray, pyclesperanto_prototype._tier0._pycl.OCLArray, pyopencl._cl.Image, pyclesperanto_prototype._tier0._pycl._OCLImage] = None, sigma_x: float = 0, sigma_y: float = 0, sigma_z: float = 0) -> Union[numpy.ndarray, pyclesperanto_prototype._tier0._pycl.OCLArray, pyopencl._cl.Image, pyclesperanto_prototype._tier0._pycl._OCLImage]\n",
      "set workflow step: Result of gaussian_blur (clesperanto)\n",
      "     args: ['blobs']\n",
      "   kwargs: {'destination': None, 'sigma_x': 1.0, 'sigma_y': 1.0, 'sigma_z': 0.0}\n",
      "signature: (source: Union[numpy.ndarray, pyclesperanto_prototype._tier0._pycl.OCLArray, pyopencl._cl.Image, pyclesperanto_prototype._tier0._pycl._OCLImage], destination: Union[numpy.ndarray, pyclesperanto_prototype._tier0._pycl.OCLArray, pyopencl._cl.Image, pyclesperanto_prototype._tier0._pycl._OCLImage] = None, sigma_x: float = 0, sigma_y: float = 0, sigma_z: float = 0) -> Union[numpy.ndarray, pyclesperanto_prototype._tier0._pycl.OCLArray, pyopencl._cl.Image, pyclesperanto_prototype._tier0._pycl._OCLImage]\n",
      "set workflow step: Result of gaussian_blur (clesperanto)\n",
      "     args: ['blobs']\n",
      "   kwargs: {'destination': None, 'sigma_x': 4.0, 'sigma_y': 1.0, 'sigma_z': 0.0}\n",
      "signature: (source: Union[numpy.ndarray, pyclesperanto_prototype._tier0._pycl.OCLArray, pyopencl._cl.Image, pyclesperanto_prototype._tier0._pycl._OCLImage], destination: Union[numpy.ndarray, pyclesperanto_prototype._tier0._pycl.OCLArray, pyopencl._cl.Image, pyclesperanto_prototype._tier0._pycl._OCLImage] = None, sigma_x: float = 0, sigma_y: float = 0, sigma_z: float = 0) -> Union[numpy.ndarray, pyclesperanto_prototype._tier0._pycl.OCLArray, pyopencl._cl.Image, pyclesperanto_prototype._tier0._pycl._OCLImage]\n",
      "set workflow step: Result of gaussian_blur (clesperanto)\n",
      "     args: ['blobs']\n",
      "   kwargs: {'destination': None, 'sigma_x': 4.0, 'sigma_y': 4.0, 'sigma_z': 0.0}\n",
      "signature: (source: Union[numpy.ndarray, pyclesperanto_prototype._tier0._pycl.OCLArray, pyopencl._cl.Image, pyclesperanto_prototype._tier0._pycl._OCLImage], destination: Union[numpy.ndarray, pyclesperanto_prototype._tier0._pycl.OCLArray, pyopencl._cl.Image, pyclesperanto_prototype._tier0._pycl._OCLImage] = None, sigma_x: float = 0, sigma_y: float = 0, sigma_z: float = 0) -> Union[numpy.ndarray, pyclesperanto_prototype._tier0._pycl.OCLArray, pyopencl._cl.Image, pyclesperanto_prototype._tier0._pycl._OCLImage]\n",
      "set workflow step: Result of gaussian_blur (clesperanto)\n",
      "     args: ['blobs']\n",
      "   kwargs: {'destination': None, 'sigma_x': 4.0, 'sigma_y': 4.0, 'sigma_z': 0.0}\n",
      "signature: (source: Union[numpy.ndarray, pyclesperanto_prototype._tier0._pycl.OCLArray, pyopencl._cl.Image, pyclesperanto_prototype._tier0._pycl._OCLImage], destination: Union[numpy.ndarray, pyclesperanto_prototype._tier0._pycl.OCLArray, pyopencl._cl.Image, pyclesperanto_prototype._tier0._pycl._OCLImage] = None, sigma_x: float = 0, sigma_y: float = 0, sigma_z: float = 0) -> Union[numpy.ndarray, pyclesperanto_prototype._tier0._pycl.OCLArray, pyopencl._cl.Image, pyclesperanto_prototype._tier0._pycl._OCLImage]\n"
     ]
    }
   ],
   "source": [
    "from napari_assistant._workflow_io_utility import make_flexible_gui, wf_steps_with_root_as_input, set_choices, get_source_keywords_and_sources,category_kwargs,kwargs_of_wf_step\n",
    "\n",
    "# find all workflow steps with functions which have root images as an input\n",
    "root_functions = wf_steps_with_root_as_input(workflow)\n",
    "layer_names = [lay.name for lay in viewer.layers]\n",
    "\n",
    "# iterate over root function workflow steps\n",
    "for wf_step_name in root_functions:\n",
    "    # get the fuction from the workflow step and change its signature to\n",
    "    # the values specified by the workflow\n",
    "    func = workflow._tasks[wf_step_name][0]\n",
    "\n",
    "    # create the widget based on the adjusted function and turn off autocall\n",
    "    # for functions with more than 1 input image\n",
    "    sources = workflow.sources_of(wf_step_name)\n",
    "    if len(sources) > 1:\n",
    "        widget = make_flexible_gui(func, \n",
    "                                   viewer,\n",
    "                                   workflow,\n",
    "                                   wf_step_name,\n",
    "                                   autocall= False)\n",
    "    else:\n",
    "        widget = make_flexible_gui(func, \n",
    "                                   viewer, \n",
    "                                   workflow,\n",
    "                                   wf_step_name)\n",
    "\n",
    "    # determine if all input images are in layer names\n",
    "    sources_present = True\n",
    "    for source in sources:\n",
    "        if source not in layer_names:\n",
    "            sources_present = False\n",
    "\n",
    "    # if all input images are present in the layers we can preselct them\n",
    "    if sources_present:\n",
    "        viewer.window.add_dock_widget(widget, name= wf_step_name[10:])\n",
    "        set_choices(workflow= workflow,\n",
    "                    wf_step_name= wf_step_name,\n",
    "                    viewer= viewer,\n",
    "                    widget= widget)\n",
    "    \n",
    "    # if the input images aren't present we will leave the dropdowns\n",
    "    # open to chose the right image - needs fixing\n",
    "    \n",
    "    else:\n",
    "        '''\n",
    "            # make a tooltip which tells the user to select the input image\n",
    "            # specified by the workflow\n",
    "            key_source_list = get_source_keywords_and_sources(workflow,\n",
    "                                                              wf_step_name)\n",
    "            for key, source in key_source_list:\n",
    "                widget[key].tooltip = f'Select {source} or equivalent'\n",
    "        '''\n",
    "        # add the final widget to the napari viewer\n",
    "        viewer.window.add_dock_widget(widget, name = wf_step_name[10:] + '<b> - SELECT INPUT</b>')\n",
    "    \n",
    "    # setting the right parameters\n",
    "    cat_kwargs = category_kwargs(\n",
    "        func,\n",
    "        kwargs_of_wf_step(workflow,wf_step_name),\n",
    "    )\n",
    "    for k,v in cat_kwargs.items():\n",
    "        widget[k].value = v\n",
    "    \n",
    "    # calling the widget with the correct input images\n",
    "    widget()"
   ]
  },
  {
   "cell_type": "code",
   "execution_count": null,
   "id": "1a608ed6",
   "metadata": {},
   "outputs": [],
   "source": [
    "widget"
   ]
  },
  {
   "cell_type": "code",
   "execution_count": null,
   "id": "cb99e9ac",
   "metadata": {},
   "outputs": [],
   "source": [
    "widget.asdict()"
   ]
  },
  {
   "cell_type": "code",
   "execution_count": null,
   "id": "8ec70ab5",
   "metadata": {},
   "outputs": [],
   "source": [
    "numeric = widget['x']\n",
    "numeric.value = 3\n",
    "numeric"
   ]
  },
  {
   "cell_type": "code",
   "execution_count": null,
   "id": "9cd271b7",
   "metadata": {},
   "outputs": [],
   "source": [
    "numeric.value = 1"
   ]
  },
  {
   "cell_type": "code",
   "execution_count": null,
   "id": "53e15967",
   "metadata": {},
   "outputs": [],
   "source": [
    "from napari_assistant._gui._category_widget import (\n",
    "    separate_argnames_by_type, \n",
    "    num_positional_args, \n",
    "    category_args_bool,\n",
    "    category_args_numeric,\n",
    "    category_args_text,\n",
    ")\n",
    "from inspect import signature\n",
    "def get_numeric_str_bool_param_dictionary(function,kwargs):\n",
    "    cle_function = function\n",
    "    nargs = num_positional_args(cle_function)\n",
    "    category_kwargs = {}\n",
    "    new_sig = signature(cle_function)\n",
    "    # get the names of positional parameters in the new operation\n",
    "    param_names, numeric_param_names, bool_param_names, str_param_names = separate_argnames_by_type(\n",
    "        new_sig.parameters.items())\n",
    "\n",
    "    # go through all parameters and collect their values in an args-array\n",
    "    num_count = 0\n",
    "    str_count = 0\n",
    "    bool_count = 0\n",
    "    for key in param_names: \n",
    "        if key in numeric_param_names:\n",
    "            category_kwargs[category_args_numeric[num_count]] = kwargs[key]\n",
    "            num_count = num_count + 1\n",
    "        elif key in bool_param_names:\n",
    "            category_kwargs[category_args_bool[bool_count]] = kwargs[key]\n",
    "            bool_count = bool_count + 1\n",
    "        elif key in str_param_names:\n",
    "            category_kwargs[category_args_text[str_count]] = kwargs[key]\n",
    "            str_count = str_count + 1\n",
    "        \n",
    "    return category_kwargs\n",
    "\n",
    "def kwargs_of_wf_step(workflow,wf_step_name):\n",
    "    func     = workflow._tasks[wf_step_name][0]\n",
    "    arg_vals = workflow._tasks[wf_step_name][1:]\n",
    "\n",
    "    # getting the keywords corresponding to the values\n",
    "    keyword_list = list(signature(func).parameters.keys())\n",
    "\n",
    "    # creating the kwargs dict\n",
    "    kw_dict = {}\n",
    "    for kw, val in zip(keyword_list, arg_vals):\n",
    "        kw_dict[kw] = val\n",
    "        \n",
    "    return kw_dict\n",
    "\n",
    "kwargs = kwargs_of_wf_step(workflow,'Result of gaussian_blur (clesperanto)')\n",
    "print(f'kwargs: {kwargs}')\n",
    "category_kwargs  =  get_numeric_str_bool_param_dictionary(func,kwargs)\n",
    "print(f'category_kwargs: {category_kwargs}')"
   ]
  },
  {
   "cell_type": "code",
   "execution_count": null,
   "id": "e4635faa",
   "metadata": {},
   "outputs": [],
   "source": [
    "for k,v in category_kwargs.items():\n",
    "    widget[k].value = v"
   ]
  },
  {
   "cell_type": "code",
   "execution_count": null,
   "id": "ba9a9b62",
   "metadata": {},
   "outputs": [],
   "source": []
  }
 ],
 "metadata": {
  "kernelspec": {
   "display_name": "Python 3 (ipykernel)",
   "language": "python",
   "name": "python3"
  },
  "language_info": {
   "codemirror_mode": {
    "name": "ipython",
    "version": 3
   },
   "file_extension": ".py",
   "mimetype": "text/x-python",
   "name": "python",
   "nbconvert_exporter": "python",
   "pygments_lexer": "ipython3",
   "version": "3.9.7"
  }
 },
 "nbformat": 4,
 "nbformat_minor": 5
}
