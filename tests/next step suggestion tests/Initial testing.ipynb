{
 "cells": [
  {
   "cell_type": "code",
   "execution_count": 1,
   "id": "482fec68-4f1a-4f60-9028-35cb3506a7d7",
   "metadata": {},
   "outputs": [],
   "source": [
    "from napari_assistant._gui._button_grid import ButtonGrid\n",
    "from napari_assistant._categories import CATEGORIES\n",
    "from qtpy.QtWidgets import QWidget\n",
    "from qtpy import QtWidgets\n",
    "import sys\n",
    "if not QtWidgets.QApplication.instance():\n",
    "    app = QtWidgets.QApplication(sys.argv)\n",
    "else:\n",
    "    app = QtWidgets.QApplication.instance() "
   ]
  },
  {
   "cell_type": "code",
   "execution_count": 2,
   "id": "52dae35d-5c8a-4277-b210-aa668f334792",
   "metadata": {},
   "outputs": [],
   "source": [
    "widget = QWidget()\n",
    "grid = ButtonGrid(widget)"
   ]
  },
  {
   "cell_type": "code",
   "execution_count": 3,
   "id": "031ab1ef-e8d1-4f1b-9bb1-0e3c828af872",
   "metadata": {},
   "outputs": [
    {
     "data": {
      "text/plain": [
       "<PyQt5.QtWidgets.QWidget at 0x195a66300d0>"
      ]
     },
     "execution_count": 3,
     "metadata": {},
     "output_type": "execute_result"
    }
   ],
   "source": [
    "widget"
   ]
  },
  {
   "cell_type": "code",
   "execution_count": 4,
   "id": "b9395e12-2f7b-410c-9d9a-44559d027594",
   "metadata": {},
   "outputs": [
    {
     "data": {
      "text/plain": [
       "{}"
      ]
     },
     "execution_count": 4,
     "metadata": {},
     "output_type": "execute_result"
    }
   ],
   "source": [
    "grid.item_mapping"
   ]
  },
  {
   "cell_type": "code",
   "execution_count": 5,
   "id": "88f6b201-d6a2-4410-a69a-6c6b04a09463",
   "metadata": {},
   "outputs": [],
   "source": [
    "grid.addItems(CATEGORIES)"
   ]
  },
  {
   "cell_type": "code",
   "execution_count": 6,
   "id": "63b7c829-4330-4322-9d24-d2f43ce1c0d2",
   "metadata": {},
   "outputs": [
    {
     "data": {
      "text/plain": [
       "{'Remove noise': <PyQt5.QtWidgets.QListWidgetItem at 0x195a66550d0>,\n",
       " 'Remove background': <PyQt5.QtWidgets.QListWidgetItem at 0x195a6655160>,\n",
       " 'Filter': <PyQt5.QtWidgets.QListWidgetItem at 0x195a66551f0>,\n",
       " 'Combine': <PyQt5.QtWidgets.QListWidgetItem at 0x195a6655040>,\n",
       " 'Transform': <PyQt5.QtWidgets.QListWidgetItem at 0x195a6630dc0>,\n",
       " 'Projection': <PyQt5.QtWidgets.QListWidgetItem at 0x195a6630c10>,\n",
       " 'Binarize': <PyQt5.QtWidgets.QListWidgetItem at 0x195a6655280>,\n",
       " 'Label': <PyQt5.QtWidgets.QListWidgetItem at 0x195a6655310>,\n",
       " 'Process labels': <PyQt5.QtWidgets.QListWidgetItem at 0x195a66553a0>,\n",
       " 'Combine labels': <PyQt5.QtWidgets.QListWidgetItem at 0x195a6655430>,\n",
       " 'Measure labels': <PyQt5.QtWidgets.QListWidgetItem at 0x195a66554c0>,\n",
       " 'Measure labeled image': <PyQt5.QtWidgets.QListWidgetItem at 0x195a6655550>,\n",
       " 'Compare label images': <PyQt5.QtWidgets.QListWidgetItem at 0x195a66555e0>,\n",
       " 'Label neighbor filters': <PyQt5.QtWidgets.QListWidgetItem at 0x195a6655670>,\n",
       " 'Label filters': <PyQt5.QtWidgets.QListWidgetItem at 0x195a6655700>,\n",
       " 'Mesh': <PyQt5.QtWidgets.QListWidgetItem at 0x195a6655790>,\n",
       " 'Measurement': <PyQt5.QtWidgets.QListWidgetItem at 0x195a6655820>}"
      ]
     },
     "execution_count": 6,
     "metadata": {},
     "output_type": "execute_result"
    }
   ],
   "source": [
    "grid.item_mapping"
   ]
  },
  {
   "cell_type": "code",
   "execution_count": 7,
   "id": "8f18c7a8-6d51-4d8b-9796-8832bd3920b8",
   "metadata": {},
   "outputs": [],
   "source": [
    "from qtpy.QtGui import QBrush, QColor\n",
    "color = QColor()\n",
    "color.setNamedColor(\"white\")\n",
    "\n",
    "highlight = QBrush(1)\n",
    "highlight.setColor(color)\n",
    "grid.item_mapping[\"Remove noise\"].setBackground(highlight)\n",
    "grid.item_mapping[\"Remove noise\"].setForeground(highlight)"
   ]
  },
  {
   "cell_type": "code",
   "execution_count": 8,
   "id": "2a72efe8-eabd-4a2f-9ebc-940e69502385",
   "metadata": {},
   "outputs": [
    {
     "name": "stderr",
     "output_type": "stream",
     "text": [
      "C:\\Users\\ryans\\Anaconda3\\envs\\np_workflows_v1\\lib\\site-packages\\napari_tools_menu\\__init__.py:165: FutureWarning: Public access to Window.qt_viewer is deprecated and will be removed in\n",
      "v0.5.0. It is considered an \"implementation detail\" of the napari\n",
      "application, not part of the napari viewer model. If your use case\n",
      "requires access to qt_viewer, please open an issue to discuss.\n",
      "  self.tools_menu = ToolsMenu(self, self.qt_viewer.viewer)\n"
     ]
    }
   ],
   "source": [
    "import napari\n",
    "viewer = napari.Viewer()"
   ]
  },
  {
   "cell_type": "code",
   "execution_count": 9,
   "id": "b21e8381-3567-451c-9300-0f4d7efb80e6",
   "metadata": {},
   "outputs": [],
   "source": [
    "front = grid.item_mapping['Compare label images'].foreground()\n",
    "back = grid.item_mapping['Compare label images'].background()"
   ]
  },
  {
   "cell_type": "code",
   "execution_count": 10,
   "id": "a4eaff62-f781-4f7e-8cec-5f7730b783c6",
   "metadata": {},
   "outputs": [],
   "source": [
    "from qtpy.QtWidgets import QVBoxLayout\n",
    "widget.setLayout(QVBoxLayout())\n",
    "widget.layout().addWidget(grid)"
   ]
  },
  {
   "cell_type": "code",
   "execution_count": 11,
   "id": "377da01f-8d2a-4bd5-954b-c162648d1db8",
   "metadata": {},
   "outputs": [
    {
     "data": {
      "text/plain": [
       "<napari._qt.widgets.qt_viewer_dock_widget.QtViewerDockWidget at 0x195ba4b65e0>"
      ]
     },
     "execution_count": 11,
     "metadata": {},
     "output_type": "execute_result"
    }
   ],
   "source": [
    "viewer.window.add_dock_widget(widget)"
   ]
  },
  {
   "cell_type": "code",
   "execution_count": 12,
   "id": "7d551d7c-4bd1-4a7c-9040-dd991d497455",
   "metadata": {},
   "outputs": [
    {
     "data": {
      "text/plain": [
       "255"
      ]
     },
     "execution_count": 12,
     "metadata": {},
     "output_type": "execute_result"
    }
   ],
   "source": [
    "back.color().alpha()"
   ]
  },
  {
   "cell_type": "code",
   "execution_count": 13,
   "id": "3c4468e7-e20c-4af4-bede-344124480ef0",
   "metadata": {},
   "outputs": [
    {
     "data": {
      "text/plain": [
       "<PyQt5.QtGui.QPixmap at 0x195a85eb580>"
      ]
     },
     "execution_count": 13,
     "metadata": {},
     "output_type": "execute_result"
    }
   ],
   "source": [
    "back.texture()"
   ]
  },
  {
   "cell_type": "code",
   "execution_count": 14,
   "id": "8ba9aba1-8aca-4294-99c5-8aef98a67915",
   "metadata": {},
   "outputs": [
    {
     "data": {
      "text/plain": [
       "<PyQt5.QtWidgets.QListWidgetItem at 0x195a66555e0>"
      ]
     },
     "execution_count": 14,
     "metadata": {},
     "output_type": "execute_result"
    }
   ],
   "source": [
    "label = grid.item_mapping['Compare label images']\n",
    "label"
   ]
  },
  {
   "cell_type": "code",
   "execution_count": 15,
   "id": "1fa1ce8b-6d07-40dc-bb07-8abd805f6367",
   "metadata": {},
   "outputs": [],
   "source": [
    "color = QColor()\n",
    "color.setNamedColor(\"#70adff2f\")\n",
    "highlight = QBrush(1)\n",
    "highlight.setColor(color)\n",
    "\n",
    "label.setBackground(highlight)"
   ]
  },
  {
   "cell_type": "code",
   "execution_count": 16,
   "id": "4c4ad3fc-ca4b-4385-a137-2231462f2704",
   "metadata": {},
   "outputs": [
    {
     "data": {
      "text/plain": [
       "1"
      ]
     },
     "execution_count": 16,
     "metadata": {},
     "output_type": "execute_result"
    }
   ],
   "source": [
    "highlight.style()"
   ]
  },
  {
   "cell_type": "code",
   "execution_count": 17,
   "id": "d07c92a5-b9b2-4f93-b79c-b1f2131b8d0d",
   "metadata": {},
   "outputs": [
    {
     "data": {
      "text/plain": [
       "\u001b[1;31mType:\u001b[0m        QBrush\n",
       "\u001b[1;31mString form:\u001b[0m <PyQt5.QtGui.QBrush object at 0x00000195A65F8900>\n",
       "\u001b[1;31mFile:\u001b[0m        c:\\users\\ryans\\anaconda3\\envs\\np_workflows_v1\\lib\\site-packages\\pyqt5\\qtgui.pyd\n",
       "\u001b[1;31mDocstring:\u001b[0m  \n",
       "QBrush()\n",
       "QBrush(Qt.BrushStyle)\n",
       "QBrush(Union[QColor, Qt.GlobalColor, QGradient], style: Qt.BrushStyle = Qt.SolidPattern)\n",
       "QBrush(Union[QColor, Qt.GlobalColor, QGradient], QPixmap)\n",
       "QBrush(QPixmap)\n",
       "QBrush(QImage)\n",
       "QBrush(Union[QBrush, QColor, Qt.GlobalColor, QGradient])\n",
       "QBrush(Any)\n"
      ]
     },
     "metadata": {},
     "output_type": "display_data"
    }
   ],
   "source": [
    "highlight?"
   ]
  },
  {
   "cell_type": "code",
   "execution_count": 18,
   "id": "eb68cfb4-96cb-41e6-84f0-85c76ca98a6b",
   "metadata": {},
   "outputs": [],
   "source": [
    "from qtpy.QtCore import QSize\n",
    "\n",
    "size = QSize(68,85)\n"
   ]
  },
  {
   "cell_type": "code",
   "execution_count": 19,
   "id": "93c2e25b-ca01-4403-a8f5-0943a3424499",
   "metadata": {},
   "outputs": [],
   "source": [
    "label.data(4)"
   ]
  },
  {
   "cell_type": "code",
   "execution_count": 20,
   "id": "6fc507f8-6022-4563-a329-ee1c79e76e2b",
   "metadata": {},
   "outputs": [],
   "source": [
    "selection = viewer.layers.selection"
   ]
  },
  {
   "cell_type": "code",
   "execution_count": 21,
   "id": "cbd04250-2c2c-4bc6-9ad3-a82d411bd409",
   "metadata": {},
   "outputs": [
    {
     "name": "stdout",
     "output_type": "stream",
     "text": [
      "works\n"
     ]
    },
    {
     "name": "stderr",
     "output_type": "stream",
     "text": [
      "2022-06-14 13:56:03.635 | INFO     | napari_assistant._gui._category_widget:call_op:162 - gaussian_blur (clesperanto)(..., 1.0, 1.0, 0.0)\n",
      "2022-06-14 13:56:54.912 | INFO     | napari_assistant._gui._category_widget:call_op:162 - top_hat_box (clesperanto)(..., 10.0, 10.0, 0.0)\n",
      "2022-06-14 13:57:27.506 | INFO     | napari_assistant._gui._category_widget:call_op:162 - gamma_correction (clesperanto)(..., 1.0)\n"
     ]
    }
   ],
   "source": [
    "if \"Remove noise\" in CATEGORIES:\n",
    "    print(\"works\")"
   ]
  },
  {
   "cell_type": "code",
   "execution_count": null,
   "id": "6e08ee8e-2460-4526-a901-2fe645ed5526",
   "metadata": {},
   "outputs": [],
   "source": []
  }
 ],
 "metadata": {
  "kernelspec": {
   "display_name": "Python 3 (ipykernel)",
   "language": "python",
   "name": "python3"
  },
  "language_info": {
   "codemirror_mode": {
    "name": "ipython",
    "version": 3
   },
   "file_extension": ".py",
   "mimetype": "text/x-python",
   "name": "python",
   "nbconvert_exporter": "python",
   "pygments_lexer": "ipython3",
   "version": "3.9.7"
  }
 },
 "nbformat": 4,
 "nbformat_minor": 5
}
