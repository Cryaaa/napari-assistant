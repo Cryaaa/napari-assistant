{
 "cells": [
  {
   "cell_type": "code",
   "execution_count": 1,
   "id": "509f6b1b",
   "metadata": {},
   "outputs": [
    {
     "name": "stderr",
     "output_type": "stream",
     "text": [
      "C:\\Users\\ryans\\anaconda3\\envs\\np_workflows_v1\\lib\\site-packages\\napari_tools_menu\\__init__.py:165: FutureWarning: Public access to Window.qt_viewer is deprecated and will be removed in\n",
      "v0.5.0. It is considered an \"implementation detail\" of the napari\n",
      "application, not part of the napari viewer model. If your use case\n",
      "requires access to qt_viewer, please open an issue to discuss.\n",
      "  self.tools_menu = ToolsMenu(self, self.qt_viewer.viewer)\n"
     ]
    },
    {
     "data": {
      "text/plain": [
       "<Image layer 'img2' at 0x16e7d03cd60>"
      ]
     },
     "execution_count": 1,
     "metadata": {},
     "output_type": "execute_result"
    }
   ],
   "source": [
    "from napari_assistant._workflow_io_utility import *\n",
    "from napari_workflows._io_yaml_v1 import *\n",
    "import napari\n",
    "from skimage.io import imread\n",
    "from napari_workflows import WorkflowManager\n",
    "desktop = 'C:/Users/ryans/Desktop/'\n",
    "\n",
    "img1 = imread(desktop+'blobs.tif')\n",
    "img2 = imread(desktop+'blobs_messed_up.tiff')\n",
    "\n",
    "viewer = napari.Viewer()\n",
    "viewer.add_image(img1)\n",
    "viewer.add_image(img2)"
   ]
  },
  {
   "cell_type": "code",
   "execution_count": 2,
   "id": "2cab66db",
   "metadata": {},
   "outputs": [],
   "source": [
    "workflow = load_workflow('test_workflow_long.yaml')\n",
    "initialise_root_functions(workflow, viewer)\n",
    "load_remaining_workflow(workflow,viewer)"
   ]
  },
  {
   "cell_type": "code",
   "execution_count": 3,
   "id": "d35b69bb",
   "metadata": {},
   "outputs": [
    {
     "ename": "NotImplementedError",
     "evalue": "object proxy must define __reduce_ex__()",
     "output_type": "error",
     "traceback": [
      "\u001b[1;31m---------------------------------------------------------------------------\u001b[0m",
      "\u001b[1;31mNotImplementedError\u001b[0m                       Traceback (most recent call last)",
      "Input \u001b[1;32mIn [3]\u001b[0m, in \u001b[0;36m<module>\u001b[1;34m\u001b[0m\n\u001b[0;32m     10\u001b[0m     workflow_manager \u001b[38;5;241m=\u001b[39m WorkflowManager\u001b[38;5;241m.\u001b[39minstall(viewer)\n\u001b[0;32m     11\u001b[0m     _io_yaml_v1\u001b[38;5;241m.\u001b[39msave_workflow(filename, workflow_manager\u001b[38;5;241m.\u001b[39mworkflow)\n\u001b[1;32m---> 13\u001b[0m \u001b[43mto_file\u001b[49m\u001b[43m(\u001b[49m\u001b[43mviewer\u001b[49m\u001b[43m,\u001b[49m\u001b[43m \u001b[49m\u001b[38;5;124;43m'\u001b[39;49m\u001b[38;5;124;43mwhatever\u001b[39;49m\u001b[38;5;124;43m'\u001b[39;49m\u001b[43m)\u001b[49m\n",
      "Input \u001b[1;32mIn [3]\u001b[0m, in \u001b[0;36mto_file\u001b[1;34m(viewer, filename)\u001b[0m\n\u001b[0;32m      9\u001b[0m \u001b[38;5;66;03m# get the workflow, should one be installed\u001b[39;00m\n\u001b[0;32m     10\u001b[0m workflow_manager \u001b[38;5;241m=\u001b[39m WorkflowManager\u001b[38;5;241m.\u001b[39minstall(viewer)\n\u001b[1;32m---> 11\u001b[0m \u001b[43m_io_yaml_v1\u001b[49m\u001b[38;5;241;43m.\u001b[39;49m\u001b[43msave_workflow\u001b[49m\u001b[43m(\u001b[49m\u001b[43mfilename\u001b[49m\u001b[43m,\u001b[49m\u001b[43m \u001b[49m\u001b[43mworkflow_manager\u001b[49m\u001b[38;5;241;43m.\u001b[39;49m\u001b[43mworkflow\u001b[49m\u001b[43m)\u001b[49m\n",
      "File \u001b[1;32mc:\\users\\ryans\\onedrive\\documents\\bia pol stuff\\napari workflow repositories\\napari-workflows\\src\\napari_workflows\\_io_yaml_v1.py:21\u001b[0m, in \u001b[0;36msave_workflow\u001b[1;34m(filename, workflow)\u001b[0m\n\u001b[0;32m     19\u001b[0m \u001b[38;5;28;01mfrom\u001b[39;00m \u001b[38;5;21;01myaml\u001b[39;00m \u001b[38;5;28;01mimport\u001b[39;00m dump\n\u001b[0;32m     20\u001b[0m \u001b[38;5;28;01mwith\u001b[39;00m \u001b[38;5;28mopen\u001b[39m(filename, \u001b[38;5;124m'\u001b[39m\u001b[38;5;124mw\u001b[39m\u001b[38;5;124m'\u001b[39m) \u001b[38;5;28;01mas\u001b[39;00m stream:\n\u001b[1;32m---> 21\u001b[0m     \u001b[43mdump\u001b[49m\u001b[43m(\u001b[49m\u001b[43mworkflow_to_save\u001b[49m\u001b[43m,\u001b[49m\u001b[43mstream\u001b[49m\u001b[43m)\u001b[49m\n",
      "File \u001b[1;32m~\\anaconda3\\envs\\np_workflows_v1\\lib\\site-packages\\yaml\\__init__.py:253\u001b[0m, in \u001b[0;36mdump\u001b[1;34m(data, stream, Dumper, **kwds)\u001b[0m\n\u001b[0;32m    248\u001b[0m \u001b[38;5;28;01mdef\u001b[39;00m \u001b[38;5;21mdump\u001b[39m(data, stream\u001b[38;5;241m=\u001b[39m\u001b[38;5;28;01mNone\u001b[39;00m, Dumper\u001b[38;5;241m=\u001b[39mDumper, \u001b[38;5;241m*\u001b[39m\u001b[38;5;241m*\u001b[39mkwds):\n\u001b[0;32m    249\u001b[0m     \u001b[38;5;124;03m\"\"\"\u001b[39;00m\n\u001b[0;32m    250\u001b[0m \u001b[38;5;124;03m    Serialize a Python object into a YAML stream.\u001b[39;00m\n\u001b[0;32m    251\u001b[0m \u001b[38;5;124;03m    If stream is None, return the produced string instead.\u001b[39;00m\n\u001b[0;32m    252\u001b[0m \u001b[38;5;124;03m    \"\"\"\u001b[39;00m\n\u001b[1;32m--> 253\u001b[0m     \u001b[38;5;28;01mreturn\u001b[39;00m dump_all([data], stream, Dumper\u001b[38;5;241m=\u001b[39mDumper, \u001b[38;5;241m*\u001b[39m\u001b[38;5;241m*\u001b[39mkwds)\n",
      "File \u001b[1;32m~\\anaconda3\\envs\\np_workflows_v1\\lib\\site-packages\\yaml\\__init__.py:241\u001b[0m, in \u001b[0;36mdump_all\u001b[1;34m(documents, stream, Dumper, default_style, default_flow_style, canonical, indent, width, allow_unicode, line_break, encoding, explicit_start, explicit_end, version, tags, sort_keys)\u001b[0m\n\u001b[0;32m    239\u001b[0m     dumper\u001b[38;5;241m.\u001b[39mopen()\n\u001b[0;32m    240\u001b[0m     \u001b[38;5;28;01mfor\u001b[39;00m data \u001b[38;5;129;01min\u001b[39;00m documents:\n\u001b[1;32m--> 241\u001b[0m         \u001b[43mdumper\u001b[49m\u001b[38;5;241;43m.\u001b[39;49m\u001b[43mrepresent\u001b[49m\u001b[43m(\u001b[49m\u001b[43mdata\u001b[49m\u001b[43m)\u001b[49m\n\u001b[0;32m    242\u001b[0m     dumper\u001b[38;5;241m.\u001b[39mclose()\n\u001b[0;32m    243\u001b[0m \u001b[38;5;28;01mfinally\u001b[39;00m:\n",
      "File \u001b[1;32m~\\anaconda3\\envs\\np_workflows_v1\\lib\\site-packages\\yaml\\representer.py:27\u001b[0m, in \u001b[0;36mBaseRepresenter.represent\u001b[1;34m(self, data)\u001b[0m\n\u001b[0;32m     26\u001b[0m \u001b[38;5;28;01mdef\u001b[39;00m \u001b[38;5;21mrepresent\u001b[39m(\u001b[38;5;28mself\u001b[39m, data):\n\u001b[1;32m---> 27\u001b[0m     node \u001b[38;5;241m=\u001b[39m \u001b[38;5;28;43mself\u001b[39;49m\u001b[38;5;241;43m.\u001b[39;49m\u001b[43mrepresent_data\u001b[49m\u001b[43m(\u001b[49m\u001b[43mdata\u001b[49m\u001b[43m)\u001b[49m\n\u001b[0;32m     28\u001b[0m     \u001b[38;5;28mself\u001b[39m\u001b[38;5;241m.\u001b[39mserialize(node)\n\u001b[0;32m     29\u001b[0m     \u001b[38;5;28mself\u001b[39m\u001b[38;5;241m.\u001b[39mrepresented_objects \u001b[38;5;241m=\u001b[39m {}\n",
      "File \u001b[1;32m~\\anaconda3\\envs\\np_workflows_v1\\lib\\site-packages\\yaml\\representer.py:52\u001b[0m, in \u001b[0;36mBaseRepresenter.represent_data\u001b[1;34m(self, data)\u001b[0m\n\u001b[0;32m     50\u001b[0m \u001b[38;5;28;01mfor\u001b[39;00m data_type \u001b[38;5;129;01min\u001b[39;00m data_types:\n\u001b[0;32m     51\u001b[0m     \u001b[38;5;28;01mif\u001b[39;00m data_type \u001b[38;5;129;01min\u001b[39;00m \u001b[38;5;28mself\u001b[39m\u001b[38;5;241m.\u001b[39myaml_multi_representers:\n\u001b[1;32m---> 52\u001b[0m         node \u001b[38;5;241m=\u001b[39m \u001b[38;5;28;43mself\u001b[39;49m\u001b[38;5;241;43m.\u001b[39;49m\u001b[43myaml_multi_representers\u001b[49m\u001b[43m[\u001b[49m\u001b[43mdata_type\u001b[49m\u001b[43m]\u001b[49m\u001b[43m(\u001b[49m\u001b[38;5;28;43mself\u001b[39;49m\u001b[43m,\u001b[49m\u001b[43m \u001b[49m\u001b[43mdata\u001b[49m\u001b[43m)\u001b[49m\n\u001b[0;32m     53\u001b[0m         \u001b[38;5;28;01mbreak\u001b[39;00m\n\u001b[0;32m     54\u001b[0m \u001b[38;5;28;01melse\u001b[39;00m:\n",
      "File \u001b[1;32m~\\anaconda3\\envs\\np_workflows_v1\\lib\\site-packages\\yaml\\representer.py:342\u001b[0m, in \u001b[0;36mRepresenter.represent_object\u001b[1;34m(self, data)\u001b[0m\n\u001b[0;32m    339\u001b[0m function_name \u001b[38;5;241m=\u001b[39m \u001b[38;5;124m'\u001b[39m\u001b[38;5;132;01m%s\u001b[39;00m\u001b[38;5;124m.\u001b[39m\u001b[38;5;132;01m%s\u001b[39;00m\u001b[38;5;124m'\u001b[39m \u001b[38;5;241m%\u001b[39m (function\u001b[38;5;241m.\u001b[39m\u001b[38;5;18m__module__\u001b[39m, function\u001b[38;5;241m.\u001b[39m\u001b[38;5;18m__name__\u001b[39m)\n\u001b[0;32m    340\u001b[0m \u001b[38;5;28;01mif\u001b[39;00m \u001b[38;5;129;01mnot\u001b[39;00m args \u001b[38;5;129;01mand\u001b[39;00m \u001b[38;5;129;01mnot\u001b[39;00m listitems \u001b[38;5;129;01mand\u001b[39;00m \u001b[38;5;129;01mnot\u001b[39;00m dictitems \\\n\u001b[0;32m    341\u001b[0m         \u001b[38;5;129;01mand\u001b[39;00m \u001b[38;5;28misinstance\u001b[39m(state, \u001b[38;5;28mdict\u001b[39m) \u001b[38;5;129;01mand\u001b[39;00m newobj:\n\u001b[1;32m--> 342\u001b[0m     \u001b[38;5;28;01mreturn\u001b[39;00m \u001b[38;5;28;43mself\u001b[39;49m\u001b[38;5;241;43m.\u001b[39;49m\u001b[43mrepresent_mapping\u001b[49m\u001b[43m(\u001b[49m\n\u001b[0;32m    343\u001b[0m \u001b[43m            \u001b[49m\u001b[38;5;124;43m'\u001b[39;49m\u001b[38;5;124;43mtag:yaml.org,2002:python/object:\u001b[39;49m\u001b[38;5;124;43m'\u001b[39;49m\u001b[38;5;241;43m+\u001b[39;49m\u001b[43mfunction_name\u001b[49m\u001b[43m,\u001b[49m\u001b[43m \u001b[49m\u001b[43mstate\u001b[49m\u001b[43m)\u001b[49m\n\u001b[0;32m    344\u001b[0m \u001b[38;5;28;01mif\u001b[39;00m \u001b[38;5;129;01mnot\u001b[39;00m listitems \u001b[38;5;129;01mand\u001b[39;00m \u001b[38;5;129;01mnot\u001b[39;00m dictitems  \\\n\u001b[0;32m    345\u001b[0m         \u001b[38;5;129;01mand\u001b[39;00m \u001b[38;5;28misinstance\u001b[39m(state, \u001b[38;5;28mdict\u001b[39m) \u001b[38;5;129;01mand\u001b[39;00m \u001b[38;5;129;01mnot\u001b[39;00m state:\n\u001b[0;32m    346\u001b[0m     \u001b[38;5;28;01mreturn\u001b[39;00m \u001b[38;5;28mself\u001b[39m\u001b[38;5;241m.\u001b[39mrepresent_sequence(tag\u001b[38;5;241m+\u001b[39mfunction_name, args)\n",
      "File \u001b[1;32m~\\anaconda3\\envs\\np_workflows_v1\\lib\\site-packages\\yaml\\representer.py:118\u001b[0m, in \u001b[0;36mBaseRepresenter.represent_mapping\u001b[1;34m(self, tag, mapping, flow_style)\u001b[0m\n\u001b[0;32m    116\u001b[0m \u001b[38;5;28;01mfor\u001b[39;00m item_key, item_value \u001b[38;5;129;01min\u001b[39;00m mapping:\n\u001b[0;32m    117\u001b[0m     node_key \u001b[38;5;241m=\u001b[39m \u001b[38;5;28mself\u001b[39m\u001b[38;5;241m.\u001b[39mrepresent_data(item_key)\n\u001b[1;32m--> 118\u001b[0m     node_value \u001b[38;5;241m=\u001b[39m \u001b[38;5;28;43mself\u001b[39;49m\u001b[38;5;241;43m.\u001b[39;49m\u001b[43mrepresent_data\u001b[49m\u001b[43m(\u001b[49m\u001b[43mitem_value\u001b[49m\u001b[43m)\u001b[49m\n\u001b[0;32m    119\u001b[0m     \u001b[38;5;28;01mif\u001b[39;00m \u001b[38;5;129;01mnot\u001b[39;00m (\u001b[38;5;28misinstance\u001b[39m(node_key, ScalarNode) \u001b[38;5;129;01mand\u001b[39;00m \u001b[38;5;129;01mnot\u001b[39;00m node_key\u001b[38;5;241m.\u001b[39mstyle):\n\u001b[0;32m    120\u001b[0m         best_style \u001b[38;5;241m=\u001b[39m \u001b[38;5;28;01mFalse\u001b[39;00m\n",
      "File \u001b[1;32m~\\anaconda3\\envs\\np_workflows_v1\\lib\\site-packages\\yaml\\representer.py:48\u001b[0m, in \u001b[0;36mBaseRepresenter.represent_data\u001b[1;34m(self, data)\u001b[0m\n\u001b[0;32m     46\u001b[0m data_types \u001b[38;5;241m=\u001b[39m \u001b[38;5;28mtype\u001b[39m(data)\u001b[38;5;241m.\u001b[39m\u001b[38;5;18m__mro__\u001b[39m\n\u001b[0;32m     47\u001b[0m \u001b[38;5;28;01mif\u001b[39;00m data_types[\u001b[38;5;241m0\u001b[39m] \u001b[38;5;129;01min\u001b[39;00m \u001b[38;5;28mself\u001b[39m\u001b[38;5;241m.\u001b[39myaml_representers:\n\u001b[1;32m---> 48\u001b[0m     node \u001b[38;5;241m=\u001b[39m \u001b[38;5;28;43mself\u001b[39;49m\u001b[38;5;241;43m.\u001b[39;49m\u001b[43myaml_representers\u001b[49m\u001b[43m[\u001b[49m\u001b[43mdata_types\u001b[49m\u001b[43m[\u001b[49m\u001b[38;5;241;43m0\u001b[39;49m\u001b[43m]\u001b[49m\u001b[43m]\u001b[49m\u001b[43m(\u001b[49m\u001b[38;5;28;43mself\u001b[39;49m\u001b[43m,\u001b[49m\u001b[43m \u001b[49m\u001b[43mdata\u001b[49m\u001b[43m)\u001b[49m\n\u001b[0;32m     49\u001b[0m \u001b[38;5;28;01melse\u001b[39;00m:\n\u001b[0;32m     50\u001b[0m     \u001b[38;5;28;01mfor\u001b[39;00m data_type \u001b[38;5;129;01min\u001b[39;00m data_types:\n",
      "File \u001b[1;32m~\\anaconda3\\envs\\np_workflows_v1\\lib\\site-packages\\yaml\\representer.py:207\u001b[0m, in \u001b[0;36mSafeRepresenter.represent_dict\u001b[1;34m(self, data)\u001b[0m\n\u001b[0;32m    206\u001b[0m \u001b[38;5;28;01mdef\u001b[39;00m \u001b[38;5;21mrepresent_dict\u001b[39m(\u001b[38;5;28mself\u001b[39m, data):\n\u001b[1;32m--> 207\u001b[0m     \u001b[38;5;28;01mreturn\u001b[39;00m \u001b[38;5;28;43mself\u001b[39;49m\u001b[38;5;241;43m.\u001b[39;49m\u001b[43mrepresent_mapping\u001b[49m\u001b[43m(\u001b[49m\u001b[38;5;124;43m'\u001b[39;49m\u001b[38;5;124;43mtag:yaml.org,2002:map\u001b[39;49m\u001b[38;5;124;43m'\u001b[39;49m\u001b[43m,\u001b[49m\u001b[43m \u001b[49m\u001b[43mdata\u001b[49m\u001b[43m)\u001b[49m\n",
      "File \u001b[1;32m~\\anaconda3\\envs\\np_workflows_v1\\lib\\site-packages\\yaml\\representer.py:118\u001b[0m, in \u001b[0;36mBaseRepresenter.represent_mapping\u001b[1;34m(self, tag, mapping, flow_style)\u001b[0m\n\u001b[0;32m    116\u001b[0m \u001b[38;5;28;01mfor\u001b[39;00m item_key, item_value \u001b[38;5;129;01min\u001b[39;00m mapping:\n\u001b[0;32m    117\u001b[0m     node_key \u001b[38;5;241m=\u001b[39m \u001b[38;5;28mself\u001b[39m\u001b[38;5;241m.\u001b[39mrepresent_data(item_key)\n\u001b[1;32m--> 118\u001b[0m     node_value \u001b[38;5;241m=\u001b[39m \u001b[38;5;28;43mself\u001b[39;49m\u001b[38;5;241;43m.\u001b[39;49m\u001b[43mrepresent_data\u001b[49m\u001b[43m(\u001b[49m\u001b[43mitem_value\u001b[49m\u001b[43m)\u001b[49m\n\u001b[0;32m    119\u001b[0m     \u001b[38;5;28;01mif\u001b[39;00m \u001b[38;5;129;01mnot\u001b[39;00m (\u001b[38;5;28misinstance\u001b[39m(node_key, ScalarNode) \u001b[38;5;129;01mand\u001b[39;00m \u001b[38;5;129;01mnot\u001b[39;00m node_key\u001b[38;5;241m.\u001b[39mstyle):\n\u001b[0;32m    120\u001b[0m         best_style \u001b[38;5;241m=\u001b[39m \u001b[38;5;28;01mFalse\u001b[39;00m\n",
      "File \u001b[1;32m~\\anaconda3\\envs\\np_workflows_v1\\lib\\site-packages\\yaml\\representer.py:48\u001b[0m, in \u001b[0;36mBaseRepresenter.represent_data\u001b[1;34m(self, data)\u001b[0m\n\u001b[0;32m     46\u001b[0m data_types \u001b[38;5;241m=\u001b[39m \u001b[38;5;28mtype\u001b[39m(data)\u001b[38;5;241m.\u001b[39m\u001b[38;5;18m__mro__\u001b[39m\n\u001b[0;32m     47\u001b[0m \u001b[38;5;28;01mif\u001b[39;00m data_types[\u001b[38;5;241m0\u001b[39m] \u001b[38;5;129;01min\u001b[39;00m \u001b[38;5;28mself\u001b[39m\u001b[38;5;241m.\u001b[39myaml_representers:\n\u001b[1;32m---> 48\u001b[0m     node \u001b[38;5;241m=\u001b[39m \u001b[38;5;28;43mself\u001b[39;49m\u001b[38;5;241;43m.\u001b[39;49m\u001b[43myaml_representers\u001b[49m\u001b[43m[\u001b[49m\u001b[43mdata_types\u001b[49m\u001b[43m[\u001b[49m\u001b[38;5;241;43m0\u001b[39;49m\u001b[43m]\u001b[49m\u001b[43m]\u001b[49m\u001b[43m(\u001b[49m\u001b[38;5;28;43mself\u001b[39;49m\u001b[43m,\u001b[49m\u001b[43m \u001b[49m\u001b[43mdata\u001b[49m\u001b[43m)\u001b[49m\n\u001b[0;32m     49\u001b[0m \u001b[38;5;28;01melse\u001b[39;00m:\n\u001b[0;32m     50\u001b[0m     \u001b[38;5;28;01mfor\u001b[39;00m data_type \u001b[38;5;129;01min\u001b[39;00m data_types:\n",
      "File \u001b[1;32m~\\anaconda3\\envs\\np_workflows_v1\\lib\\site-packages\\yaml\\representer.py:286\u001b[0m, in \u001b[0;36mRepresenter.represent_tuple\u001b[1;34m(self, data)\u001b[0m\n\u001b[0;32m    285\u001b[0m \u001b[38;5;28;01mdef\u001b[39;00m \u001b[38;5;21mrepresent_tuple\u001b[39m(\u001b[38;5;28mself\u001b[39m, data):\n\u001b[1;32m--> 286\u001b[0m     \u001b[38;5;28;01mreturn\u001b[39;00m \u001b[38;5;28;43mself\u001b[39;49m\u001b[38;5;241;43m.\u001b[39;49m\u001b[43mrepresent_sequence\u001b[49m\u001b[43m(\u001b[49m\u001b[38;5;124;43m'\u001b[39;49m\u001b[38;5;124;43mtag:yaml.org,2002:python/tuple\u001b[39;49m\u001b[38;5;124;43m'\u001b[39;49m\u001b[43m,\u001b[49m\u001b[43m \u001b[49m\u001b[43mdata\u001b[49m\u001b[43m)\u001b[49m\n",
      "File \u001b[1;32m~\\anaconda3\\envs\\np_workflows_v1\\lib\\site-packages\\yaml\\representer.py:92\u001b[0m, in \u001b[0;36mBaseRepresenter.represent_sequence\u001b[1;34m(self, tag, sequence, flow_style)\u001b[0m\n\u001b[0;32m     90\u001b[0m best_style \u001b[38;5;241m=\u001b[39m \u001b[38;5;28;01mTrue\u001b[39;00m\n\u001b[0;32m     91\u001b[0m \u001b[38;5;28;01mfor\u001b[39;00m item \u001b[38;5;129;01min\u001b[39;00m sequence:\n\u001b[1;32m---> 92\u001b[0m     node_item \u001b[38;5;241m=\u001b[39m \u001b[38;5;28;43mself\u001b[39;49m\u001b[38;5;241;43m.\u001b[39;49m\u001b[43mrepresent_data\u001b[49m\u001b[43m(\u001b[49m\u001b[43mitem\u001b[49m\u001b[43m)\u001b[49m\n\u001b[0;32m     93\u001b[0m     \u001b[38;5;28;01mif\u001b[39;00m \u001b[38;5;129;01mnot\u001b[39;00m (\u001b[38;5;28misinstance\u001b[39m(node_item, ScalarNode) \u001b[38;5;129;01mand\u001b[39;00m \u001b[38;5;129;01mnot\u001b[39;00m node_item\u001b[38;5;241m.\u001b[39mstyle):\n\u001b[0;32m     94\u001b[0m         best_style \u001b[38;5;241m=\u001b[39m \u001b[38;5;28;01mFalse\u001b[39;00m\n",
      "File \u001b[1;32m~\\anaconda3\\envs\\np_workflows_v1\\lib\\site-packages\\yaml\\representer.py:52\u001b[0m, in \u001b[0;36mBaseRepresenter.represent_data\u001b[1;34m(self, data)\u001b[0m\n\u001b[0;32m     50\u001b[0m \u001b[38;5;28;01mfor\u001b[39;00m data_type \u001b[38;5;129;01min\u001b[39;00m data_types:\n\u001b[0;32m     51\u001b[0m     \u001b[38;5;28;01mif\u001b[39;00m data_type \u001b[38;5;129;01min\u001b[39;00m \u001b[38;5;28mself\u001b[39m\u001b[38;5;241m.\u001b[39myaml_multi_representers:\n\u001b[1;32m---> 52\u001b[0m         node \u001b[38;5;241m=\u001b[39m \u001b[38;5;28;43mself\u001b[39;49m\u001b[38;5;241;43m.\u001b[39;49m\u001b[43myaml_multi_representers\u001b[49m\u001b[43m[\u001b[49m\u001b[43mdata_type\u001b[49m\u001b[43m]\u001b[49m\u001b[43m(\u001b[49m\u001b[38;5;28;43mself\u001b[39;49m\u001b[43m,\u001b[49m\u001b[43m \u001b[49m\u001b[43mdata\u001b[49m\u001b[43m)\u001b[49m\n\u001b[0;32m     53\u001b[0m         \u001b[38;5;28;01mbreak\u001b[39;00m\n\u001b[0;32m     54\u001b[0m \u001b[38;5;28;01melse\u001b[39;00m:\n",
      "File \u001b[1;32m~\\anaconda3\\envs\\np_workflows_v1\\lib\\site-packages\\yaml\\representer.py:317\u001b[0m, in \u001b[0;36mRepresenter.represent_object\u001b[1;34m(self, data)\u001b[0m\n\u001b[0;32m    315\u001b[0m     reduce \u001b[38;5;241m=\u001b[39m copyreg\u001b[38;5;241m.\u001b[39mdispatch_table[\u001b[38;5;28mcls\u001b[39m](data)\n\u001b[0;32m    316\u001b[0m \u001b[38;5;28;01melif\u001b[39;00m \u001b[38;5;28mhasattr\u001b[39m(data, \u001b[38;5;124m'\u001b[39m\u001b[38;5;124m__reduce_ex__\u001b[39m\u001b[38;5;124m'\u001b[39m):\n\u001b[1;32m--> 317\u001b[0m     reduce \u001b[38;5;241m=\u001b[39m \u001b[43mdata\u001b[49m\u001b[38;5;241;43m.\u001b[39;49m\u001b[43m__reduce_ex__\u001b[49m\u001b[43m(\u001b[49m\u001b[38;5;241;43m2\u001b[39;49m\u001b[43m)\u001b[49m\n\u001b[0;32m    318\u001b[0m \u001b[38;5;28;01melif\u001b[39;00m \u001b[38;5;28mhasattr\u001b[39m(data, \u001b[38;5;124m'\u001b[39m\u001b[38;5;124m__reduce__\u001b[39m\u001b[38;5;124m'\u001b[39m):\n\u001b[0;32m    319\u001b[0m     reduce \u001b[38;5;241m=\u001b[39m data\u001b[38;5;241m.\u001b[39m__reduce__()\n",
      "\u001b[1;31mNotImplementedError\u001b[0m: object proxy must define __reduce_ex__()"
     ]
    }
   ],
   "source": [
    "def to_file(viewer, filename=None):\n",
    "    from napari_workflows import WorkflowManager, _io_yaml_v1\n",
    "    \n",
    "    \n",
    "    if not filename:\n",
    "        print('no file name given')\n",
    "        return\n",
    "\n",
    "    # get the workflow, should one be installed\n",
    "    workflow_manager = WorkflowManager.install(viewer)\n",
    "    _io_yaml_v1.save_workflow(filename, workflow_manager.workflow)\n",
    "    \n",
    "to_file(viewer, 'whatever')"
   ]
  },
  {
   "cell_type": "code",
   "execution_count": 4,
   "id": "27c44232",
   "metadata": {},
   "outputs": [],
   "source": [
    "workflow_manager = WorkflowManager.install(viewer)"
   ]
  },
  {
   "cell_type": "code",
   "execution_count": 5,
   "id": "ec36c100",
   "metadata": {},
   "outputs": [
    {
     "name": "stdout",
     "output_type": "stream",
     "text": [
      "Workflow:\n",
      "Result of Gaussian (scikit-image, nsbatwm) <- (<function gaussian_blur at 0x0000016E7CFF04C0>, 'img1', 12.0)\n",
      "Result of Gaussian (scikit-image, nsbatwm) [1] <- (<function gaussian_blur at 0x0000016E7CFF04C0>, 'img1', 8.0)\n",
      "Result of Minimum (scipy, nsbatwm) <- (<function minimum_filter at 0x0000016E7CFF0B80>, 'Result of Gaussian (scikit-image, nsbatwm)', 3.0)\n",
      "Result of Percentile (scipy, nsbatwm) <- (<function percentile_filter at 0x0000016E7CFF0820>, 'Result of Gaussian (scikit-image, nsbatwm) [1]', 7.0, 4.0)\n",
      "Result of Black top-hat (scipy, nsbatwm) <- (<function black_tophat at 0x0000016E7CFF0A60>, 'Result of Percentile (scipy, nsbatwm)', 16.0)\n",
      "Result of Multiply images (numpy, nsbatwm) <- (<function multiply_images at 0x0000016E7CFF1B40>, 'Result of Black top-hat (scipy, nsbatwm)', 'Result of Minimum (scipy, nsbatwm)')\n",
      "Result of Seeded watershed using local minima as seeds (nsbatwm) <- (<function local_minima_seeded_watershed at 0x0000016E7CFF1750>, 'Result of Multiply images (numpy, nsbatwm)', 9.0, 8.0)\n",
      "Result of Remove labeled objects at the image border (scikit-image, nsbatwm) <- (<function remove_labels_on_edges at 0x0000016E7CFF1240>, 'Result of Seeded watershed using local minima as seeds (nsbatwm)')\n",
      "\n"
     ]
    }
   ],
   "source": [
    "workflow_new = workflow_manager.workflow\n",
    "print(workflow_new)"
   ]
  },
  {
   "cell_type": "code",
   "execution_count": 6,
   "id": "6293ef16",
   "metadata": {},
   "outputs": [
    {
     "ename": "NotImplementedError",
     "evalue": "object proxy must define __reduce_ex__()",
     "output_type": "error",
     "traceback": [
      "\u001b[1;31m---------------------------------------------------------------------------\u001b[0m",
      "\u001b[1;31mNotImplementedError\u001b[0m                       Traceback (most recent call last)",
      "Input \u001b[1;32mIn [6]\u001b[0m, in \u001b[0;36m<module>\u001b[1;34m\u001b[0m\n\u001b[1;32m----> 1\u001b[0m \u001b[43msave_workflow\u001b[49m\u001b[43m(\u001b[49m\u001b[43mfilename\u001b[49m\u001b[38;5;241;43m=\u001b[39;49m\u001b[38;5;124;43m'\u001b[39;49m\u001b[38;5;124;43mworkflow_changed.yaml\u001b[39;49m\u001b[38;5;124;43m'\u001b[39;49m\u001b[43m,\u001b[49m\u001b[43mworkflow\u001b[49m\u001b[38;5;241;43m=\u001b[39;49m\u001b[43mworkflow_new\u001b[49m\u001b[43m)\u001b[49m\n",
      "File \u001b[1;32mc:\\users\\ryans\\onedrive\\documents\\bia pol stuff\\napari workflow repositories\\napari-workflows\\src\\napari_workflows\\_io_yaml_v1.py:21\u001b[0m, in \u001b[0;36msave_workflow\u001b[1;34m(filename, workflow)\u001b[0m\n\u001b[0;32m     19\u001b[0m \u001b[38;5;28;01mfrom\u001b[39;00m \u001b[38;5;21;01myaml\u001b[39;00m \u001b[38;5;28;01mimport\u001b[39;00m dump\n\u001b[0;32m     20\u001b[0m \u001b[38;5;28;01mwith\u001b[39;00m \u001b[38;5;28mopen\u001b[39m(filename, \u001b[38;5;124m'\u001b[39m\u001b[38;5;124mw\u001b[39m\u001b[38;5;124m'\u001b[39m) \u001b[38;5;28;01mas\u001b[39;00m stream:\n\u001b[1;32m---> 21\u001b[0m     \u001b[43mdump\u001b[49m\u001b[43m(\u001b[49m\u001b[43mworkflow_to_save\u001b[49m\u001b[43m,\u001b[49m\u001b[43mstream\u001b[49m\u001b[43m)\u001b[49m\n",
      "File \u001b[1;32m~\\anaconda3\\envs\\np_workflows_v1\\lib\\site-packages\\yaml\\__init__.py:253\u001b[0m, in \u001b[0;36mdump\u001b[1;34m(data, stream, Dumper, **kwds)\u001b[0m\n\u001b[0;32m    248\u001b[0m \u001b[38;5;28;01mdef\u001b[39;00m \u001b[38;5;21mdump\u001b[39m(data, stream\u001b[38;5;241m=\u001b[39m\u001b[38;5;28;01mNone\u001b[39;00m, Dumper\u001b[38;5;241m=\u001b[39mDumper, \u001b[38;5;241m*\u001b[39m\u001b[38;5;241m*\u001b[39mkwds):\n\u001b[0;32m    249\u001b[0m     \u001b[38;5;124;03m\"\"\"\u001b[39;00m\n\u001b[0;32m    250\u001b[0m \u001b[38;5;124;03m    Serialize a Python object into a YAML stream.\u001b[39;00m\n\u001b[0;32m    251\u001b[0m \u001b[38;5;124;03m    If stream is None, return the produced string instead.\u001b[39;00m\n\u001b[0;32m    252\u001b[0m \u001b[38;5;124;03m    \"\"\"\u001b[39;00m\n\u001b[1;32m--> 253\u001b[0m     \u001b[38;5;28;01mreturn\u001b[39;00m dump_all([data], stream, Dumper\u001b[38;5;241m=\u001b[39mDumper, \u001b[38;5;241m*\u001b[39m\u001b[38;5;241m*\u001b[39mkwds)\n",
      "File \u001b[1;32m~\\anaconda3\\envs\\np_workflows_v1\\lib\\site-packages\\yaml\\__init__.py:241\u001b[0m, in \u001b[0;36mdump_all\u001b[1;34m(documents, stream, Dumper, default_style, default_flow_style, canonical, indent, width, allow_unicode, line_break, encoding, explicit_start, explicit_end, version, tags, sort_keys)\u001b[0m\n\u001b[0;32m    239\u001b[0m     dumper\u001b[38;5;241m.\u001b[39mopen()\n\u001b[0;32m    240\u001b[0m     \u001b[38;5;28;01mfor\u001b[39;00m data \u001b[38;5;129;01min\u001b[39;00m documents:\n\u001b[1;32m--> 241\u001b[0m         \u001b[43mdumper\u001b[49m\u001b[38;5;241;43m.\u001b[39;49m\u001b[43mrepresent\u001b[49m\u001b[43m(\u001b[49m\u001b[43mdata\u001b[49m\u001b[43m)\u001b[49m\n\u001b[0;32m    242\u001b[0m     dumper\u001b[38;5;241m.\u001b[39mclose()\n\u001b[0;32m    243\u001b[0m \u001b[38;5;28;01mfinally\u001b[39;00m:\n",
      "File \u001b[1;32m~\\anaconda3\\envs\\np_workflows_v1\\lib\\site-packages\\yaml\\representer.py:27\u001b[0m, in \u001b[0;36mBaseRepresenter.represent\u001b[1;34m(self, data)\u001b[0m\n\u001b[0;32m     26\u001b[0m \u001b[38;5;28;01mdef\u001b[39;00m \u001b[38;5;21mrepresent\u001b[39m(\u001b[38;5;28mself\u001b[39m, data):\n\u001b[1;32m---> 27\u001b[0m     node \u001b[38;5;241m=\u001b[39m \u001b[38;5;28;43mself\u001b[39;49m\u001b[38;5;241;43m.\u001b[39;49m\u001b[43mrepresent_data\u001b[49m\u001b[43m(\u001b[49m\u001b[43mdata\u001b[49m\u001b[43m)\u001b[49m\n\u001b[0;32m     28\u001b[0m     \u001b[38;5;28mself\u001b[39m\u001b[38;5;241m.\u001b[39mserialize(node)\n\u001b[0;32m     29\u001b[0m     \u001b[38;5;28mself\u001b[39m\u001b[38;5;241m.\u001b[39mrepresented_objects \u001b[38;5;241m=\u001b[39m {}\n",
      "File \u001b[1;32m~\\anaconda3\\envs\\np_workflows_v1\\lib\\site-packages\\yaml\\representer.py:52\u001b[0m, in \u001b[0;36mBaseRepresenter.represent_data\u001b[1;34m(self, data)\u001b[0m\n\u001b[0;32m     50\u001b[0m \u001b[38;5;28;01mfor\u001b[39;00m data_type \u001b[38;5;129;01min\u001b[39;00m data_types:\n\u001b[0;32m     51\u001b[0m     \u001b[38;5;28;01mif\u001b[39;00m data_type \u001b[38;5;129;01min\u001b[39;00m \u001b[38;5;28mself\u001b[39m\u001b[38;5;241m.\u001b[39myaml_multi_representers:\n\u001b[1;32m---> 52\u001b[0m         node \u001b[38;5;241m=\u001b[39m \u001b[38;5;28;43mself\u001b[39;49m\u001b[38;5;241;43m.\u001b[39;49m\u001b[43myaml_multi_representers\u001b[49m\u001b[43m[\u001b[49m\u001b[43mdata_type\u001b[49m\u001b[43m]\u001b[49m\u001b[43m(\u001b[49m\u001b[38;5;28;43mself\u001b[39;49m\u001b[43m,\u001b[49m\u001b[43m \u001b[49m\u001b[43mdata\u001b[49m\u001b[43m)\u001b[49m\n\u001b[0;32m     53\u001b[0m         \u001b[38;5;28;01mbreak\u001b[39;00m\n\u001b[0;32m     54\u001b[0m \u001b[38;5;28;01melse\u001b[39;00m:\n",
      "File \u001b[1;32m~\\anaconda3\\envs\\np_workflows_v1\\lib\\site-packages\\yaml\\representer.py:342\u001b[0m, in \u001b[0;36mRepresenter.represent_object\u001b[1;34m(self, data)\u001b[0m\n\u001b[0;32m    339\u001b[0m function_name \u001b[38;5;241m=\u001b[39m \u001b[38;5;124m'\u001b[39m\u001b[38;5;132;01m%s\u001b[39;00m\u001b[38;5;124m.\u001b[39m\u001b[38;5;132;01m%s\u001b[39;00m\u001b[38;5;124m'\u001b[39m \u001b[38;5;241m%\u001b[39m (function\u001b[38;5;241m.\u001b[39m\u001b[38;5;18m__module__\u001b[39m, function\u001b[38;5;241m.\u001b[39m\u001b[38;5;18m__name__\u001b[39m)\n\u001b[0;32m    340\u001b[0m \u001b[38;5;28;01mif\u001b[39;00m \u001b[38;5;129;01mnot\u001b[39;00m args \u001b[38;5;129;01mand\u001b[39;00m \u001b[38;5;129;01mnot\u001b[39;00m listitems \u001b[38;5;129;01mand\u001b[39;00m \u001b[38;5;129;01mnot\u001b[39;00m dictitems \\\n\u001b[0;32m    341\u001b[0m         \u001b[38;5;129;01mand\u001b[39;00m \u001b[38;5;28misinstance\u001b[39m(state, \u001b[38;5;28mdict\u001b[39m) \u001b[38;5;129;01mand\u001b[39;00m newobj:\n\u001b[1;32m--> 342\u001b[0m     \u001b[38;5;28;01mreturn\u001b[39;00m \u001b[38;5;28;43mself\u001b[39;49m\u001b[38;5;241;43m.\u001b[39;49m\u001b[43mrepresent_mapping\u001b[49m\u001b[43m(\u001b[49m\n\u001b[0;32m    343\u001b[0m \u001b[43m            \u001b[49m\u001b[38;5;124;43m'\u001b[39;49m\u001b[38;5;124;43mtag:yaml.org,2002:python/object:\u001b[39;49m\u001b[38;5;124;43m'\u001b[39;49m\u001b[38;5;241;43m+\u001b[39;49m\u001b[43mfunction_name\u001b[49m\u001b[43m,\u001b[49m\u001b[43m \u001b[49m\u001b[43mstate\u001b[49m\u001b[43m)\u001b[49m\n\u001b[0;32m    344\u001b[0m \u001b[38;5;28;01mif\u001b[39;00m \u001b[38;5;129;01mnot\u001b[39;00m listitems \u001b[38;5;129;01mand\u001b[39;00m \u001b[38;5;129;01mnot\u001b[39;00m dictitems  \\\n\u001b[0;32m    345\u001b[0m         \u001b[38;5;129;01mand\u001b[39;00m \u001b[38;5;28misinstance\u001b[39m(state, \u001b[38;5;28mdict\u001b[39m) \u001b[38;5;129;01mand\u001b[39;00m \u001b[38;5;129;01mnot\u001b[39;00m state:\n\u001b[0;32m    346\u001b[0m     \u001b[38;5;28;01mreturn\u001b[39;00m \u001b[38;5;28mself\u001b[39m\u001b[38;5;241m.\u001b[39mrepresent_sequence(tag\u001b[38;5;241m+\u001b[39mfunction_name, args)\n",
      "File \u001b[1;32m~\\anaconda3\\envs\\np_workflows_v1\\lib\\site-packages\\yaml\\representer.py:118\u001b[0m, in \u001b[0;36mBaseRepresenter.represent_mapping\u001b[1;34m(self, tag, mapping, flow_style)\u001b[0m\n\u001b[0;32m    116\u001b[0m \u001b[38;5;28;01mfor\u001b[39;00m item_key, item_value \u001b[38;5;129;01min\u001b[39;00m mapping:\n\u001b[0;32m    117\u001b[0m     node_key \u001b[38;5;241m=\u001b[39m \u001b[38;5;28mself\u001b[39m\u001b[38;5;241m.\u001b[39mrepresent_data(item_key)\n\u001b[1;32m--> 118\u001b[0m     node_value \u001b[38;5;241m=\u001b[39m \u001b[38;5;28;43mself\u001b[39;49m\u001b[38;5;241;43m.\u001b[39;49m\u001b[43mrepresent_data\u001b[49m\u001b[43m(\u001b[49m\u001b[43mitem_value\u001b[49m\u001b[43m)\u001b[49m\n\u001b[0;32m    119\u001b[0m     \u001b[38;5;28;01mif\u001b[39;00m \u001b[38;5;129;01mnot\u001b[39;00m (\u001b[38;5;28misinstance\u001b[39m(node_key, ScalarNode) \u001b[38;5;129;01mand\u001b[39;00m \u001b[38;5;129;01mnot\u001b[39;00m node_key\u001b[38;5;241m.\u001b[39mstyle):\n\u001b[0;32m    120\u001b[0m         best_style \u001b[38;5;241m=\u001b[39m \u001b[38;5;28;01mFalse\u001b[39;00m\n",
      "File \u001b[1;32m~\\anaconda3\\envs\\np_workflows_v1\\lib\\site-packages\\yaml\\representer.py:48\u001b[0m, in \u001b[0;36mBaseRepresenter.represent_data\u001b[1;34m(self, data)\u001b[0m\n\u001b[0;32m     46\u001b[0m data_types \u001b[38;5;241m=\u001b[39m \u001b[38;5;28mtype\u001b[39m(data)\u001b[38;5;241m.\u001b[39m\u001b[38;5;18m__mro__\u001b[39m\n\u001b[0;32m     47\u001b[0m \u001b[38;5;28;01mif\u001b[39;00m data_types[\u001b[38;5;241m0\u001b[39m] \u001b[38;5;129;01min\u001b[39;00m \u001b[38;5;28mself\u001b[39m\u001b[38;5;241m.\u001b[39myaml_representers:\n\u001b[1;32m---> 48\u001b[0m     node \u001b[38;5;241m=\u001b[39m \u001b[38;5;28;43mself\u001b[39;49m\u001b[38;5;241;43m.\u001b[39;49m\u001b[43myaml_representers\u001b[49m\u001b[43m[\u001b[49m\u001b[43mdata_types\u001b[49m\u001b[43m[\u001b[49m\u001b[38;5;241;43m0\u001b[39;49m\u001b[43m]\u001b[49m\u001b[43m]\u001b[49m\u001b[43m(\u001b[49m\u001b[38;5;28;43mself\u001b[39;49m\u001b[43m,\u001b[49m\u001b[43m \u001b[49m\u001b[43mdata\u001b[49m\u001b[43m)\u001b[49m\n\u001b[0;32m     49\u001b[0m \u001b[38;5;28;01melse\u001b[39;00m:\n\u001b[0;32m     50\u001b[0m     \u001b[38;5;28;01mfor\u001b[39;00m data_type \u001b[38;5;129;01min\u001b[39;00m data_types:\n",
      "File \u001b[1;32m~\\anaconda3\\envs\\np_workflows_v1\\lib\\site-packages\\yaml\\representer.py:207\u001b[0m, in \u001b[0;36mSafeRepresenter.represent_dict\u001b[1;34m(self, data)\u001b[0m\n\u001b[0;32m    206\u001b[0m \u001b[38;5;28;01mdef\u001b[39;00m \u001b[38;5;21mrepresent_dict\u001b[39m(\u001b[38;5;28mself\u001b[39m, data):\n\u001b[1;32m--> 207\u001b[0m     \u001b[38;5;28;01mreturn\u001b[39;00m \u001b[38;5;28;43mself\u001b[39;49m\u001b[38;5;241;43m.\u001b[39;49m\u001b[43mrepresent_mapping\u001b[49m\u001b[43m(\u001b[49m\u001b[38;5;124;43m'\u001b[39;49m\u001b[38;5;124;43mtag:yaml.org,2002:map\u001b[39;49m\u001b[38;5;124;43m'\u001b[39;49m\u001b[43m,\u001b[49m\u001b[43m \u001b[49m\u001b[43mdata\u001b[49m\u001b[43m)\u001b[49m\n",
      "File \u001b[1;32m~\\anaconda3\\envs\\np_workflows_v1\\lib\\site-packages\\yaml\\representer.py:118\u001b[0m, in \u001b[0;36mBaseRepresenter.represent_mapping\u001b[1;34m(self, tag, mapping, flow_style)\u001b[0m\n\u001b[0;32m    116\u001b[0m \u001b[38;5;28;01mfor\u001b[39;00m item_key, item_value \u001b[38;5;129;01min\u001b[39;00m mapping:\n\u001b[0;32m    117\u001b[0m     node_key \u001b[38;5;241m=\u001b[39m \u001b[38;5;28mself\u001b[39m\u001b[38;5;241m.\u001b[39mrepresent_data(item_key)\n\u001b[1;32m--> 118\u001b[0m     node_value \u001b[38;5;241m=\u001b[39m \u001b[38;5;28;43mself\u001b[39;49m\u001b[38;5;241;43m.\u001b[39;49m\u001b[43mrepresent_data\u001b[49m\u001b[43m(\u001b[49m\u001b[43mitem_value\u001b[49m\u001b[43m)\u001b[49m\n\u001b[0;32m    119\u001b[0m     \u001b[38;5;28;01mif\u001b[39;00m \u001b[38;5;129;01mnot\u001b[39;00m (\u001b[38;5;28misinstance\u001b[39m(node_key, ScalarNode) \u001b[38;5;129;01mand\u001b[39;00m \u001b[38;5;129;01mnot\u001b[39;00m node_key\u001b[38;5;241m.\u001b[39mstyle):\n\u001b[0;32m    120\u001b[0m         best_style \u001b[38;5;241m=\u001b[39m \u001b[38;5;28;01mFalse\u001b[39;00m\n",
      "File \u001b[1;32m~\\anaconda3\\envs\\np_workflows_v1\\lib\\site-packages\\yaml\\representer.py:48\u001b[0m, in \u001b[0;36mBaseRepresenter.represent_data\u001b[1;34m(self, data)\u001b[0m\n\u001b[0;32m     46\u001b[0m data_types \u001b[38;5;241m=\u001b[39m \u001b[38;5;28mtype\u001b[39m(data)\u001b[38;5;241m.\u001b[39m\u001b[38;5;18m__mro__\u001b[39m\n\u001b[0;32m     47\u001b[0m \u001b[38;5;28;01mif\u001b[39;00m data_types[\u001b[38;5;241m0\u001b[39m] \u001b[38;5;129;01min\u001b[39;00m \u001b[38;5;28mself\u001b[39m\u001b[38;5;241m.\u001b[39myaml_representers:\n\u001b[1;32m---> 48\u001b[0m     node \u001b[38;5;241m=\u001b[39m \u001b[38;5;28;43mself\u001b[39;49m\u001b[38;5;241;43m.\u001b[39;49m\u001b[43myaml_representers\u001b[49m\u001b[43m[\u001b[49m\u001b[43mdata_types\u001b[49m\u001b[43m[\u001b[49m\u001b[38;5;241;43m0\u001b[39;49m\u001b[43m]\u001b[49m\u001b[43m]\u001b[49m\u001b[43m(\u001b[49m\u001b[38;5;28;43mself\u001b[39;49m\u001b[43m,\u001b[49m\u001b[43m \u001b[49m\u001b[43mdata\u001b[49m\u001b[43m)\u001b[49m\n\u001b[0;32m     49\u001b[0m \u001b[38;5;28;01melse\u001b[39;00m:\n\u001b[0;32m     50\u001b[0m     \u001b[38;5;28;01mfor\u001b[39;00m data_type \u001b[38;5;129;01min\u001b[39;00m data_types:\n",
      "File \u001b[1;32m~\\anaconda3\\envs\\np_workflows_v1\\lib\\site-packages\\yaml\\representer.py:286\u001b[0m, in \u001b[0;36mRepresenter.represent_tuple\u001b[1;34m(self, data)\u001b[0m\n\u001b[0;32m    285\u001b[0m \u001b[38;5;28;01mdef\u001b[39;00m \u001b[38;5;21mrepresent_tuple\u001b[39m(\u001b[38;5;28mself\u001b[39m, data):\n\u001b[1;32m--> 286\u001b[0m     \u001b[38;5;28;01mreturn\u001b[39;00m \u001b[38;5;28;43mself\u001b[39;49m\u001b[38;5;241;43m.\u001b[39;49m\u001b[43mrepresent_sequence\u001b[49m\u001b[43m(\u001b[49m\u001b[38;5;124;43m'\u001b[39;49m\u001b[38;5;124;43mtag:yaml.org,2002:python/tuple\u001b[39;49m\u001b[38;5;124;43m'\u001b[39;49m\u001b[43m,\u001b[49m\u001b[43m \u001b[49m\u001b[43mdata\u001b[49m\u001b[43m)\u001b[49m\n",
      "File \u001b[1;32m~\\anaconda3\\envs\\np_workflows_v1\\lib\\site-packages\\yaml\\representer.py:92\u001b[0m, in \u001b[0;36mBaseRepresenter.represent_sequence\u001b[1;34m(self, tag, sequence, flow_style)\u001b[0m\n\u001b[0;32m     90\u001b[0m best_style \u001b[38;5;241m=\u001b[39m \u001b[38;5;28;01mTrue\u001b[39;00m\n\u001b[0;32m     91\u001b[0m \u001b[38;5;28;01mfor\u001b[39;00m item \u001b[38;5;129;01min\u001b[39;00m sequence:\n\u001b[1;32m---> 92\u001b[0m     node_item \u001b[38;5;241m=\u001b[39m \u001b[38;5;28;43mself\u001b[39;49m\u001b[38;5;241;43m.\u001b[39;49m\u001b[43mrepresent_data\u001b[49m\u001b[43m(\u001b[49m\u001b[43mitem\u001b[49m\u001b[43m)\u001b[49m\n\u001b[0;32m     93\u001b[0m     \u001b[38;5;28;01mif\u001b[39;00m \u001b[38;5;129;01mnot\u001b[39;00m (\u001b[38;5;28misinstance\u001b[39m(node_item, ScalarNode) \u001b[38;5;129;01mand\u001b[39;00m \u001b[38;5;129;01mnot\u001b[39;00m node_item\u001b[38;5;241m.\u001b[39mstyle):\n\u001b[0;32m     94\u001b[0m         best_style \u001b[38;5;241m=\u001b[39m \u001b[38;5;28;01mFalse\u001b[39;00m\n",
      "File \u001b[1;32m~\\anaconda3\\envs\\np_workflows_v1\\lib\\site-packages\\yaml\\representer.py:52\u001b[0m, in \u001b[0;36mBaseRepresenter.represent_data\u001b[1;34m(self, data)\u001b[0m\n\u001b[0;32m     50\u001b[0m \u001b[38;5;28;01mfor\u001b[39;00m data_type \u001b[38;5;129;01min\u001b[39;00m data_types:\n\u001b[0;32m     51\u001b[0m     \u001b[38;5;28;01mif\u001b[39;00m data_type \u001b[38;5;129;01min\u001b[39;00m \u001b[38;5;28mself\u001b[39m\u001b[38;5;241m.\u001b[39myaml_multi_representers:\n\u001b[1;32m---> 52\u001b[0m         node \u001b[38;5;241m=\u001b[39m \u001b[38;5;28;43mself\u001b[39;49m\u001b[38;5;241;43m.\u001b[39;49m\u001b[43myaml_multi_representers\u001b[49m\u001b[43m[\u001b[49m\u001b[43mdata_type\u001b[49m\u001b[43m]\u001b[49m\u001b[43m(\u001b[49m\u001b[38;5;28;43mself\u001b[39;49m\u001b[43m,\u001b[49m\u001b[43m \u001b[49m\u001b[43mdata\u001b[49m\u001b[43m)\u001b[49m\n\u001b[0;32m     53\u001b[0m         \u001b[38;5;28;01mbreak\u001b[39;00m\n\u001b[0;32m     54\u001b[0m \u001b[38;5;28;01melse\u001b[39;00m:\n",
      "File \u001b[1;32m~\\anaconda3\\envs\\np_workflows_v1\\lib\\site-packages\\yaml\\representer.py:317\u001b[0m, in \u001b[0;36mRepresenter.represent_object\u001b[1;34m(self, data)\u001b[0m\n\u001b[0;32m    315\u001b[0m     reduce \u001b[38;5;241m=\u001b[39m copyreg\u001b[38;5;241m.\u001b[39mdispatch_table[\u001b[38;5;28mcls\u001b[39m](data)\n\u001b[0;32m    316\u001b[0m \u001b[38;5;28;01melif\u001b[39;00m \u001b[38;5;28mhasattr\u001b[39m(data, \u001b[38;5;124m'\u001b[39m\u001b[38;5;124m__reduce_ex__\u001b[39m\u001b[38;5;124m'\u001b[39m):\n\u001b[1;32m--> 317\u001b[0m     reduce \u001b[38;5;241m=\u001b[39m \u001b[43mdata\u001b[49m\u001b[38;5;241;43m.\u001b[39;49m\u001b[43m__reduce_ex__\u001b[49m\u001b[43m(\u001b[49m\u001b[38;5;241;43m2\u001b[39;49m\u001b[43m)\u001b[49m\n\u001b[0;32m    318\u001b[0m \u001b[38;5;28;01melif\u001b[39;00m \u001b[38;5;28mhasattr\u001b[39m(data, \u001b[38;5;124m'\u001b[39m\u001b[38;5;124m__reduce__\u001b[39m\u001b[38;5;124m'\u001b[39m):\n\u001b[0;32m    319\u001b[0m     reduce \u001b[38;5;241m=\u001b[39m data\u001b[38;5;241m.\u001b[39m__reduce__()\n",
      "\u001b[1;31mNotImplementedError\u001b[0m: object proxy must define __reduce_ex__()"
     ]
    }
   ],
   "source": [
    "save_workflow(filename='workflow_changed.yaml',workflow=workflow_new)"
   ]
  },
  {
   "cell_type": "code",
   "execution_count": 8,
   "id": "6bcb5520",
   "metadata": {},
   "outputs": [
    {
     "data": {
      "text/plain": [
       "{'Result of Black top-hat (scipy, nsbatwm)': (<function napari_segment_blobs_and_things_with_membranes.black_tophat(image: napari.types.ImageData, *, radius: float = 16.0, viewer: napari.viewer.Viewer = None) -> napari.types.ImageData>,\n",
       "  'Result of Percentile (scipy, nsbatwm)',\n",
       "  16.0),\n",
       " 'Result of Gaussian (scikit-image, nsbatwm)': (<function napari_segment_blobs_and_things_with_membranes.gaussian_blur(image: napari.types.ImageData, *, sigma: float = 8.0, viewer: napari.viewer.Viewer = None) -> napari.types.ImageData>,\n",
       "  'blobs',\n",
       "  4.0),\n",
       " 'Result of Gaussian (scikit-image, nsbatwm) [1]': (<function napari_segment_blobs_and_things_with_membranes.gaussian_blur(image: napari.types.ImageData, *, sigma: float = 8.0, viewer: napari.viewer.Viewer = None) -> napari.types.ImageData>,\n",
       "  'blobs_messed_up',\n",
       "  8.0),\n",
       " 'Result of Minimum (scipy, nsbatwm)': (<function napari_segment_blobs_and_things_with_membranes.minimum_filter(image: napari.types.ImageData, *, radius: float = 3.0, viewer: napari.viewer.Viewer = None) -> napari.types.ImageData>,\n",
       "  'Result of Gaussian (scikit-image, nsbatwm)',\n",
       "  3.0),\n",
       " 'Result of Multiply images (numpy, nsbatwm)': (<function napari_segment_blobs_and_things_with_membranes.multiply_images(image1: napari.types.ImageData, image2: napari.types.ImageData, viewer: napari.viewer.Viewer = None) -> napari.types.ImageData>,\n",
       "  'Result of Black top-hat (scipy, nsbatwm)',\n",
       "  'Result of Minimum (scipy, nsbatwm)'),\n",
       " 'Result of Percentile (scipy, nsbatwm)': (<function napari_segment_blobs_and_things_with_membranes.percentile_filter(image: napari.types.ImageData, *, percentile: float = 7.0, radius: float = 9.0, viewer: napari.viewer.Viewer = None) -> napari.types.ImageData>,\n",
       "  'Result of Gaussian (scikit-image, nsbatwm) [1]',\n",
       "  7.0,\n",
       "  9.0),\n",
       " 'Result of Remove labeled objects at the image border (scikit-image, nsbatwm)': (<function napari_segment_blobs_and_things_with_membranes.remove_labels_on_edges(label_image: napari.types.LabelsData, viewer: napari.viewer.Viewer = None) -> napari.types.LabelsData>,\n",
       "  'Result of Seeded watershed using local minima as seeds (nsbatwm)'),\n",
       " 'Result of Seeded watershed using local minima as seeds (nsbatwm)': (<function napari_segment_blobs_and_things_with_membranes.local_minima_seeded_watershed(image: napari.types.ImageData, *, spot_sigma: float = 9.0, outline_sigma: float = 8.0, viewer: napari.viewer.Viewer = None) -> napari.types.LabelsData>,\n",
       "  'Result of Multiply images (numpy, nsbatwm)',\n",
       "  9.0,\n",
       "  8.0)}"
      ]
     },
     "execution_count": 8,
     "metadata": {},
     "output_type": "execute_result"
    }
   ],
   "source": [
    "workflow._tasks"
   ]
  },
  {
   "cell_type": "code",
   "execution_count": 9,
   "id": "cf6c7a3e",
   "metadata": {},
   "outputs": [
    {
     "data": {
      "text/plain": [
       "{'Result of Gaussian (scikit-image, nsbatwm)': (<function napari_segment_blobs_and_things_with_membranes.gaussian_blur(image: napari.types.ImageData, *, sigma: float = 8.0, viewer: napari.viewer.Viewer = None) -> napari.types.ImageData>,\n",
       "  'img1',\n",
       "  12.0,\n",
       "  Viewer(axes=Axes(visible=False, labels=True, colored=True, dashed=False, arrows=True), camera=Camera(center=(0.0, 126.5, 127.5), zoom=1.180078125, angles=(0.0, 0.0, 90.0), perspective=0.0, interactive=True), cursor=Cursor(position=(-15.43975990818663, 229.18817809052095), scaled=True, size=10, style=<CursorStyle.STANDARD: 'standard'>), dims=Dims(ndim=2, ndisplay=2, last_used=0, range=((0.0, 254.0, 1.0), (0.0, 256.0, 1.0)), current_step=(127, 128), order=(0, 1), axis_labels=('0', '1')), grid=GridCanvas(stride=-1, shape=(-1, -1), enabled=False), layers=[<Image layer 'img1' at 0x16e53268fd0>, <Image layer 'img2' at 0x16e7d03cd60>, <Image layer 'Result of Gaussian (scikit-image, nsbatwm)' at 0x16e7d7192d0>, <Image layer 'Result of Gaussian (scikit-image, nsbatwm) [1]' at 0x16e7d7cafb0>, <Image layer 'Result of Minimum (scipy, nsbatwm)' at 0x16e7d87cd30>, <Image layer 'Result of Percentile (scipy, nsbatwm)' at 0x16e7d9042e0>, <Image layer 'Result of Black top-hat (scipy, nsbatwm)' at 0x16e7d989450>, <Image layer 'Result of Multiply images (numpy, nsbatwm)' at 0x16e74061b70>, <Labels layer 'Result of Seeded watershed using local minima as seeds (nsbatwm)' at 0x16e740e9570>, <Labels layer 'Result of Remove labeled objects at the image border (scikit-image, nsbatwm)' at 0x16e741c8880>], scale_bar=ScaleBar(visible=False, colored=False, ticks=True, position=<Position.BOTTOM_RIGHT: 'bottom_right'>, font_size=10.0, unit=None), text_overlay=TextOverlay(visible=False, color=array([0.5, 0.5, 0.5, 1. ]), font_size=10.0, position=<TextOverlayPosition.TOP_LEFT: 'top_left'>, text=''), overlays=Overlays(interaction_box=InteractionBox(points=None, show=False, show_handle=False, show_vertices=False, selection_box_drag=None, selection_box_final=None, transform_start=<napari.utils.transforms.transforms.Affine object at 0x0000016E737E19C0>, transform_drag=<napari.utils.transforms.transforms.Affine object at 0x0000016E737E1A20>, transform_final=<napari.utils.transforms.transforms.Affine object at 0x0000016E737E1A80>, transform=<napari.utils.transforms.transforms.Affine object at 0x0000016E737E1AE0>, allow_new_selection=True, selected_vertex=None)), help='enter paint or fill mode to edit labels', status='Result of Remove labeled objects at the image border (scikit-image, nsbatwm) [-15 229]', tooltip=Tooltip(visible=False, text=''), theme='dark', title='napari', mouse_move_callbacks=[<function InteractionBoxMouseBindings.initialize_mouse_events.<locals>.mouse_move at 0x0000016E7AC170A0>], mouse_drag_callbacks=[<function InteractionBoxMouseBindings.initialize_mouse_events.<locals>.mouse_drag at 0x0000016E7AC16950>], mouse_double_click_callbacks=[], mouse_wheel_callbacks=[<function dims_scroll at 0x0000016E716AE560>], _persisted_mouse_event={}, _mouse_drag_gen={}, _mouse_wheel_gen={}, keymap={'Shift': <function InteractionBoxMouseBindings.initialize_key_events.<locals>.hold_to_lock_aspect_ratio at 0x0000016E7AB829E0>, 'Control-Shift-R': <function InteractionBoxMouseBindings._reset_active_layer_affine at 0x0000016E7ABD4CA0>, 'Control-Shift-A': <function InteractionBoxMouseBindings._transform_active_layer at 0x0000016E7ABD4670>})),\n",
       " 'Result of Gaussian (scikit-image, nsbatwm) [1]': (<function napari_segment_blobs_and_things_with_membranes.gaussian_blur(image: napari.types.ImageData, *, sigma: float = 8.0, viewer: napari.viewer.Viewer = None) -> napari.types.ImageData>,\n",
       "  'img1',\n",
       "  8.0,\n",
       "  Viewer(axes=Axes(visible=False, labels=True, colored=True, dashed=False, arrows=True), camera=Camera(center=(0.0, 126.5, 127.5), zoom=1.180078125, angles=(0.0, 0.0, 90.0), perspective=0.0, interactive=True), cursor=Cursor(position=(-15.43975990818663, 229.18817809052095), scaled=True, size=10, style=<CursorStyle.STANDARD: 'standard'>), dims=Dims(ndim=2, ndisplay=2, last_used=0, range=((0.0, 254.0, 1.0), (0.0, 256.0, 1.0)), current_step=(127, 128), order=(0, 1), axis_labels=('0', '1')), grid=GridCanvas(stride=-1, shape=(-1, -1), enabled=False), layers=[<Image layer 'img1' at 0x16e53268fd0>, <Image layer 'img2' at 0x16e7d03cd60>, <Image layer 'Result of Gaussian (scikit-image, nsbatwm)' at 0x16e7d7192d0>, <Image layer 'Result of Gaussian (scikit-image, nsbatwm) [1]' at 0x16e7d7cafb0>, <Image layer 'Result of Minimum (scipy, nsbatwm)' at 0x16e7d87cd30>, <Image layer 'Result of Percentile (scipy, nsbatwm)' at 0x16e7d9042e0>, <Image layer 'Result of Black top-hat (scipy, nsbatwm)' at 0x16e7d989450>, <Image layer 'Result of Multiply images (numpy, nsbatwm)' at 0x16e74061b70>, <Labels layer 'Result of Seeded watershed using local minima as seeds (nsbatwm)' at 0x16e740e9570>, <Labels layer 'Result of Remove labeled objects at the image border (scikit-image, nsbatwm)' at 0x16e741c8880>], scale_bar=ScaleBar(visible=False, colored=False, ticks=True, position=<Position.BOTTOM_RIGHT: 'bottom_right'>, font_size=10.0, unit=None), text_overlay=TextOverlay(visible=False, color=array([0.5, 0.5, 0.5, 1. ]), font_size=10.0, position=<TextOverlayPosition.TOP_LEFT: 'top_left'>, text=''), overlays=Overlays(interaction_box=InteractionBox(points=None, show=False, show_handle=False, show_vertices=False, selection_box_drag=None, selection_box_final=None, transform_start=<napari.utils.transforms.transforms.Affine object at 0x0000016E737E19C0>, transform_drag=<napari.utils.transforms.transforms.Affine object at 0x0000016E737E1A20>, transform_final=<napari.utils.transforms.transforms.Affine object at 0x0000016E737E1A80>, transform=<napari.utils.transforms.transforms.Affine object at 0x0000016E737E1AE0>, allow_new_selection=True, selected_vertex=None)), help='enter paint or fill mode to edit labels', status='Result of Remove labeled objects at the image border (scikit-image, nsbatwm) [-15 229]', tooltip=Tooltip(visible=False, text=''), theme='dark', title='napari', mouse_move_callbacks=[<function InteractionBoxMouseBindings.initialize_mouse_events.<locals>.mouse_move at 0x0000016E7AC170A0>], mouse_drag_callbacks=[<function InteractionBoxMouseBindings.initialize_mouse_events.<locals>.mouse_drag at 0x0000016E7AC16950>], mouse_double_click_callbacks=[], mouse_wheel_callbacks=[<function dims_scroll at 0x0000016E716AE560>], _persisted_mouse_event={}, _mouse_drag_gen={}, _mouse_wheel_gen={}, keymap={'Shift': <function InteractionBoxMouseBindings.initialize_key_events.<locals>.hold_to_lock_aspect_ratio at 0x0000016E7AB829E0>, 'Control-Shift-R': <function InteractionBoxMouseBindings._reset_active_layer_affine at 0x0000016E7ABD4CA0>, 'Control-Shift-A': <function InteractionBoxMouseBindings._transform_active_layer at 0x0000016E7ABD4670>})),\n",
       " 'Result of Minimum (scipy, nsbatwm)': (<function napari_segment_blobs_and_things_with_membranes.minimum_filter(image: napari.types.ImageData, *, radius: float = 3.0, viewer: napari.viewer.Viewer = None) -> napari.types.ImageData>,\n",
       "  'Result of Gaussian (scikit-image, nsbatwm)',\n",
       "  3.0,\n",
       "  Viewer(axes=Axes(visible=False, labels=True, colored=True, dashed=False, arrows=True), camera=Camera(center=(0.0, 126.5, 127.5), zoom=1.180078125, angles=(0.0, 0.0, 90.0), perspective=0.0, interactive=True), cursor=Cursor(position=(-15.43975990818663, 229.18817809052095), scaled=True, size=10, style=<CursorStyle.STANDARD: 'standard'>), dims=Dims(ndim=2, ndisplay=2, last_used=0, range=((0.0, 254.0, 1.0), (0.0, 256.0, 1.0)), current_step=(127, 128), order=(0, 1), axis_labels=('0', '1')), grid=GridCanvas(stride=-1, shape=(-1, -1), enabled=False), layers=[<Image layer 'img1' at 0x16e53268fd0>, <Image layer 'img2' at 0x16e7d03cd60>, <Image layer 'Result of Gaussian (scikit-image, nsbatwm)' at 0x16e7d7192d0>, <Image layer 'Result of Gaussian (scikit-image, nsbatwm) [1]' at 0x16e7d7cafb0>, <Image layer 'Result of Minimum (scipy, nsbatwm)' at 0x16e7d87cd30>, <Image layer 'Result of Percentile (scipy, nsbatwm)' at 0x16e7d9042e0>, <Image layer 'Result of Black top-hat (scipy, nsbatwm)' at 0x16e7d989450>, <Image layer 'Result of Multiply images (numpy, nsbatwm)' at 0x16e74061b70>, <Labels layer 'Result of Seeded watershed using local minima as seeds (nsbatwm)' at 0x16e740e9570>, <Labels layer 'Result of Remove labeled objects at the image border (scikit-image, nsbatwm)' at 0x16e741c8880>], scale_bar=ScaleBar(visible=False, colored=False, ticks=True, position=<Position.BOTTOM_RIGHT: 'bottom_right'>, font_size=10.0, unit=None), text_overlay=TextOverlay(visible=False, color=array([0.5, 0.5, 0.5, 1. ]), font_size=10.0, position=<TextOverlayPosition.TOP_LEFT: 'top_left'>, text=''), overlays=Overlays(interaction_box=InteractionBox(points=None, show=False, show_handle=False, show_vertices=False, selection_box_drag=None, selection_box_final=None, transform_start=<napari.utils.transforms.transforms.Affine object at 0x0000016E737E19C0>, transform_drag=<napari.utils.transforms.transforms.Affine object at 0x0000016E737E1A20>, transform_final=<napari.utils.transforms.transforms.Affine object at 0x0000016E737E1A80>, transform=<napari.utils.transforms.transforms.Affine object at 0x0000016E737E1AE0>, allow_new_selection=True, selected_vertex=None)), help='enter paint or fill mode to edit labels', status='Result of Remove labeled objects at the image border (scikit-image, nsbatwm) [-15 229]', tooltip=Tooltip(visible=False, text=''), theme='dark', title='napari', mouse_move_callbacks=[<function InteractionBoxMouseBindings.initialize_mouse_events.<locals>.mouse_move at 0x0000016E7AC170A0>], mouse_drag_callbacks=[<function InteractionBoxMouseBindings.initialize_mouse_events.<locals>.mouse_drag at 0x0000016E7AC16950>], mouse_double_click_callbacks=[], mouse_wheel_callbacks=[<function dims_scroll at 0x0000016E716AE560>], _persisted_mouse_event={}, _mouse_drag_gen={}, _mouse_wheel_gen={}, keymap={'Shift': <function InteractionBoxMouseBindings.initialize_key_events.<locals>.hold_to_lock_aspect_ratio at 0x0000016E7AB829E0>, 'Control-Shift-R': <function InteractionBoxMouseBindings._reset_active_layer_affine at 0x0000016E7ABD4CA0>, 'Control-Shift-A': <function InteractionBoxMouseBindings._transform_active_layer at 0x0000016E7ABD4670>})),\n",
       " 'Result of Percentile (scipy, nsbatwm)': (<function napari_segment_blobs_and_things_with_membranes.percentile_filter(image: napari.types.ImageData, *, percentile: float = 7.0, radius: float = 9.0, viewer: napari.viewer.Viewer = None) -> napari.types.ImageData>,\n",
       "  'Result of Gaussian (scikit-image, nsbatwm) [1]',\n",
       "  7.0,\n",
       "  4.0,\n",
       "  Viewer(axes=Axes(visible=False, labels=True, colored=True, dashed=False, arrows=True), camera=Camera(center=(0.0, 126.5, 127.5), zoom=1.180078125, angles=(0.0, 0.0, 90.0), perspective=0.0, interactive=True), cursor=Cursor(position=(-15.43975990818663, 229.18817809052095), scaled=True, size=10, style=<CursorStyle.STANDARD: 'standard'>), dims=Dims(ndim=2, ndisplay=2, last_used=0, range=((0.0, 254.0, 1.0), (0.0, 256.0, 1.0)), current_step=(127, 128), order=(0, 1), axis_labels=('0', '1')), grid=GridCanvas(stride=-1, shape=(-1, -1), enabled=False), layers=[<Image layer 'img1' at 0x16e53268fd0>, <Image layer 'img2' at 0x16e7d03cd60>, <Image layer 'Result of Gaussian (scikit-image, nsbatwm)' at 0x16e7d7192d0>, <Image layer 'Result of Gaussian (scikit-image, nsbatwm) [1]' at 0x16e7d7cafb0>, <Image layer 'Result of Minimum (scipy, nsbatwm)' at 0x16e7d87cd30>, <Image layer 'Result of Percentile (scipy, nsbatwm)' at 0x16e7d9042e0>, <Image layer 'Result of Black top-hat (scipy, nsbatwm)' at 0x16e7d989450>, <Image layer 'Result of Multiply images (numpy, nsbatwm)' at 0x16e74061b70>, <Labels layer 'Result of Seeded watershed using local minima as seeds (nsbatwm)' at 0x16e740e9570>, <Labels layer 'Result of Remove labeled objects at the image border (scikit-image, nsbatwm)' at 0x16e741c8880>], scale_bar=ScaleBar(visible=False, colored=False, ticks=True, position=<Position.BOTTOM_RIGHT: 'bottom_right'>, font_size=10.0, unit=None), text_overlay=TextOverlay(visible=False, color=array([0.5, 0.5, 0.5, 1. ]), font_size=10.0, position=<TextOverlayPosition.TOP_LEFT: 'top_left'>, text=''), overlays=Overlays(interaction_box=InteractionBox(points=None, show=False, show_handle=False, show_vertices=False, selection_box_drag=None, selection_box_final=None, transform_start=<napari.utils.transforms.transforms.Affine object at 0x0000016E737E19C0>, transform_drag=<napari.utils.transforms.transforms.Affine object at 0x0000016E737E1A20>, transform_final=<napari.utils.transforms.transforms.Affine object at 0x0000016E737E1A80>, transform=<napari.utils.transforms.transforms.Affine object at 0x0000016E737E1AE0>, allow_new_selection=True, selected_vertex=None)), help='enter paint or fill mode to edit labels', status='Result of Remove labeled objects at the image border (scikit-image, nsbatwm) [-15 229]', tooltip=Tooltip(visible=False, text=''), theme='dark', title='napari', mouse_move_callbacks=[<function InteractionBoxMouseBindings.initialize_mouse_events.<locals>.mouse_move at 0x0000016E7AC170A0>], mouse_drag_callbacks=[<function InteractionBoxMouseBindings.initialize_mouse_events.<locals>.mouse_drag at 0x0000016E7AC16950>], mouse_double_click_callbacks=[], mouse_wheel_callbacks=[<function dims_scroll at 0x0000016E716AE560>], _persisted_mouse_event={}, _mouse_drag_gen={}, _mouse_wheel_gen={}, keymap={'Shift': <function InteractionBoxMouseBindings.initialize_key_events.<locals>.hold_to_lock_aspect_ratio at 0x0000016E7AB829E0>, 'Control-Shift-R': <function InteractionBoxMouseBindings._reset_active_layer_affine at 0x0000016E7ABD4CA0>, 'Control-Shift-A': <function InteractionBoxMouseBindings._transform_active_layer at 0x0000016E7ABD4670>})),\n",
       " 'Result of Black top-hat (scipy, nsbatwm)': (<function napari_segment_blobs_and_things_with_membranes.black_tophat(image: napari.types.ImageData, *, radius: float = 16.0, viewer: napari.viewer.Viewer = None) -> napari.types.ImageData>,\n",
       "  'Result of Percentile (scipy, nsbatwm)',\n",
       "  16.0,\n",
       "  Viewer(axes=Axes(visible=False, labels=True, colored=True, dashed=False, arrows=True), camera=Camera(center=(0.0, 126.5, 127.5), zoom=1.180078125, angles=(0.0, 0.0, 90.0), perspective=0.0, interactive=True), cursor=Cursor(position=(-15.43975990818663, 229.18817809052095), scaled=True, size=10, style=<CursorStyle.STANDARD: 'standard'>), dims=Dims(ndim=2, ndisplay=2, last_used=0, range=((0.0, 254.0, 1.0), (0.0, 256.0, 1.0)), current_step=(127, 128), order=(0, 1), axis_labels=('0', '1')), grid=GridCanvas(stride=-1, shape=(-1, -1), enabled=False), layers=[<Image layer 'img1' at 0x16e53268fd0>, <Image layer 'img2' at 0x16e7d03cd60>, <Image layer 'Result of Gaussian (scikit-image, nsbatwm)' at 0x16e7d7192d0>, <Image layer 'Result of Gaussian (scikit-image, nsbatwm) [1]' at 0x16e7d7cafb0>, <Image layer 'Result of Minimum (scipy, nsbatwm)' at 0x16e7d87cd30>, <Image layer 'Result of Percentile (scipy, nsbatwm)' at 0x16e7d9042e0>, <Image layer 'Result of Black top-hat (scipy, nsbatwm)' at 0x16e7d989450>, <Image layer 'Result of Multiply images (numpy, nsbatwm)' at 0x16e74061b70>, <Labels layer 'Result of Seeded watershed using local minima as seeds (nsbatwm)' at 0x16e740e9570>, <Labels layer 'Result of Remove labeled objects at the image border (scikit-image, nsbatwm)' at 0x16e741c8880>], scale_bar=ScaleBar(visible=False, colored=False, ticks=True, position=<Position.BOTTOM_RIGHT: 'bottom_right'>, font_size=10.0, unit=None), text_overlay=TextOverlay(visible=False, color=array([0.5, 0.5, 0.5, 1. ]), font_size=10.0, position=<TextOverlayPosition.TOP_LEFT: 'top_left'>, text=''), overlays=Overlays(interaction_box=InteractionBox(points=None, show=False, show_handle=False, show_vertices=False, selection_box_drag=None, selection_box_final=None, transform_start=<napari.utils.transforms.transforms.Affine object at 0x0000016E737E19C0>, transform_drag=<napari.utils.transforms.transforms.Affine object at 0x0000016E737E1A20>, transform_final=<napari.utils.transforms.transforms.Affine object at 0x0000016E737E1A80>, transform=<napari.utils.transforms.transforms.Affine object at 0x0000016E737E1AE0>, allow_new_selection=True, selected_vertex=None)), help='enter paint or fill mode to edit labels', status='Result of Remove labeled objects at the image border (scikit-image, nsbatwm) [-15 229]', tooltip=Tooltip(visible=False, text=''), theme='dark', title='napari', mouse_move_callbacks=[<function InteractionBoxMouseBindings.initialize_mouse_events.<locals>.mouse_move at 0x0000016E7AC170A0>], mouse_drag_callbacks=[<function InteractionBoxMouseBindings.initialize_mouse_events.<locals>.mouse_drag at 0x0000016E7AC16950>], mouse_double_click_callbacks=[], mouse_wheel_callbacks=[<function dims_scroll at 0x0000016E716AE560>], _persisted_mouse_event={}, _mouse_drag_gen={}, _mouse_wheel_gen={}, keymap={'Shift': <function InteractionBoxMouseBindings.initialize_key_events.<locals>.hold_to_lock_aspect_ratio at 0x0000016E7AB829E0>, 'Control-Shift-R': <function InteractionBoxMouseBindings._reset_active_layer_affine at 0x0000016E7ABD4CA0>, 'Control-Shift-A': <function InteractionBoxMouseBindings._transform_active_layer at 0x0000016E7ABD4670>})),\n",
       " 'Result of Multiply images (numpy, nsbatwm)': (<function napari_segment_blobs_and_things_with_membranes.multiply_images(image1: napari.types.ImageData, image2: napari.types.ImageData, viewer: napari.viewer.Viewer = None) -> napari.types.ImageData>,\n",
       "  'Result of Black top-hat (scipy, nsbatwm)',\n",
       "  'Result of Minimum (scipy, nsbatwm)'),\n",
       " 'Result of Seeded watershed using local minima as seeds (nsbatwm)': (<function napari_segment_blobs_and_things_with_membranes.local_minima_seeded_watershed(image: napari.types.ImageData, *, spot_sigma: float = 9.0, outline_sigma: float = 8.0, viewer: napari.viewer.Viewer = None) -> napari.types.LabelsData>,\n",
       "  'Result of Multiply images (numpy, nsbatwm)',\n",
       "  9.0,\n",
       "  8.0,\n",
       "  Viewer(axes=Axes(visible=False, labels=True, colored=True, dashed=False, arrows=True), camera=Camera(center=(0.0, 126.5, 127.5), zoom=1.180078125, angles=(0.0, 0.0, 90.0), perspective=0.0, interactive=True), cursor=Cursor(position=(-15.43975990818663, 229.18817809052095), scaled=True, size=10, style=<CursorStyle.STANDARD: 'standard'>), dims=Dims(ndim=2, ndisplay=2, last_used=0, range=((0.0, 254.0, 1.0), (0.0, 256.0, 1.0)), current_step=(127, 128), order=(0, 1), axis_labels=('0', '1')), grid=GridCanvas(stride=-1, shape=(-1, -1), enabled=False), layers=[<Image layer 'img1' at 0x16e53268fd0>, <Image layer 'img2' at 0x16e7d03cd60>, <Image layer 'Result of Gaussian (scikit-image, nsbatwm)' at 0x16e7d7192d0>, <Image layer 'Result of Gaussian (scikit-image, nsbatwm) [1]' at 0x16e7d7cafb0>, <Image layer 'Result of Minimum (scipy, nsbatwm)' at 0x16e7d87cd30>, <Image layer 'Result of Percentile (scipy, nsbatwm)' at 0x16e7d9042e0>, <Image layer 'Result of Black top-hat (scipy, nsbatwm)' at 0x16e7d989450>, <Image layer 'Result of Multiply images (numpy, nsbatwm)' at 0x16e74061b70>, <Labels layer 'Result of Seeded watershed using local minima as seeds (nsbatwm)' at 0x16e740e9570>, <Labels layer 'Result of Remove labeled objects at the image border (scikit-image, nsbatwm)' at 0x16e741c8880>], scale_bar=ScaleBar(visible=False, colored=False, ticks=True, position=<Position.BOTTOM_RIGHT: 'bottom_right'>, font_size=10.0, unit=None), text_overlay=TextOverlay(visible=False, color=array([0.5, 0.5, 0.5, 1. ]), font_size=10.0, position=<TextOverlayPosition.TOP_LEFT: 'top_left'>, text=''), overlays=Overlays(interaction_box=InteractionBox(points=None, show=False, show_handle=False, show_vertices=False, selection_box_drag=None, selection_box_final=None, transform_start=<napari.utils.transforms.transforms.Affine object at 0x0000016E737E19C0>, transform_drag=<napari.utils.transforms.transforms.Affine object at 0x0000016E737E1A20>, transform_final=<napari.utils.transforms.transforms.Affine object at 0x0000016E737E1A80>, transform=<napari.utils.transforms.transforms.Affine object at 0x0000016E737E1AE0>, allow_new_selection=True, selected_vertex=None)), help='enter paint or fill mode to edit labels', status='Result of Remove labeled objects at the image border (scikit-image, nsbatwm) [-15 229]', tooltip=Tooltip(visible=False, text=''), theme='dark', title='napari', mouse_move_callbacks=[<function InteractionBoxMouseBindings.initialize_mouse_events.<locals>.mouse_move at 0x0000016E7AC170A0>], mouse_drag_callbacks=[<function InteractionBoxMouseBindings.initialize_mouse_events.<locals>.mouse_drag at 0x0000016E7AC16950>], mouse_double_click_callbacks=[], mouse_wheel_callbacks=[<function dims_scroll at 0x0000016E716AE560>], _persisted_mouse_event={}, _mouse_drag_gen={}, _mouse_wheel_gen={}, keymap={'Shift': <function InteractionBoxMouseBindings.initialize_key_events.<locals>.hold_to_lock_aspect_ratio at 0x0000016E7AB829E0>, 'Control-Shift-R': <function InteractionBoxMouseBindings._reset_active_layer_affine at 0x0000016E7ABD4CA0>, 'Control-Shift-A': <function InteractionBoxMouseBindings._transform_active_layer at 0x0000016E7ABD4670>})),\n",
       " 'Result of Remove labeled objects at the image border (scikit-image, nsbatwm)': (<function napari_segment_blobs_and_things_with_membranes.remove_labels_on_edges(label_image: napari.types.LabelsData, viewer: napari.viewer.Viewer = None) -> napari.types.LabelsData>,\n",
       "  'Result of Seeded watershed using local minima as seeds (nsbatwm)')}"
      ]
     },
     "execution_count": 9,
     "metadata": {},
     "output_type": "execute_result"
    }
   ],
   "source": [
    "workflow_new._tasks"
   ]
  },
  {
   "cell_type": "code",
   "execution_count": 10,
   "id": "47e457ff",
   "metadata": {},
   "outputs": [
    {
     "name": "stderr",
     "output_type": "stream",
     "text": [
      "C:\\Users\\ryans\\anaconda3\\envs\\np_workflows_v1\\lib\\site-packages\\IPython\\utils\\dir2.py:65: FutureWarning: Private attribute access ('Viewer._ipython_canary_method_should_not_exist_') in this context (e.g. inside a plugin widget or dock widget) is deprecated and will be unavailable in version 0.5.0\n",
      "  canary = getattr(obj, '_ipython_canary_method_should_not_exist_', None)\n",
      "C:\\Users\\ryans\\anaconda3\\envs\\np_workflows_v1\\lib\\site-packages\\IPython\\utils\\dir2.py:74: FutureWarning: Private attribute access ('Viewer._ipython_display_') in this context (e.g. inside a plugin widget or dock widget) is deprecated and will be unavailable in version 0.5.0\n",
      "  m = getattr(obj, name, None)\n",
      "C:\\Users\\ryans\\anaconda3\\envs\\np_workflows_v1\\lib\\site-packages\\IPython\\utils\\dir2.py:74: FutureWarning: Private attribute access ('Viewer._repr_mimebundle_') in this context (e.g. inside a plugin widget or dock widget) is deprecated and will be unavailable in version 0.5.0\n",
      "  m = getattr(obj, name, None)\n",
      "C:\\Users\\ryans\\anaconda3\\envs\\np_workflows_v1\\lib\\site-packages\\IPython\\utils\\dir2.py:74: FutureWarning: Private attribute access ('Viewer._repr_html_') in this context (e.g. inside a plugin widget or dock widget) is deprecated and will be unavailable in version 0.5.0\n",
      "  m = getattr(obj, name, None)\n",
      "C:\\Users\\ryans\\anaconda3\\envs\\np_workflows_v1\\lib\\site-packages\\IPython\\utils\\dir2.py:74: FutureWarning: Private attribute access ('Viewer._repr_markdown_') in this context (e.g. inside a plugin widget or dock widget) is deprecated and will be unavailable in version 0.5.0\n",
      "  m = getattr(obj, name, None)\n",
      "C:\\Users\\ryans\\anaconda3\\envs\\np_workflows_v1\\lib\\site-packages\\IPython\\utils\\dir2.py:74: FutureWarning: Private attribute access ('Viewer._repr_svg_') in this context (e.g. inside a plugin widget or dock widget) is deprecated and will be unavailable in version 0.5.0\n",
      "  m = getattr(obj, name, None)\n",
      "C:\\Users\\ryans\\anaconda3\\envs\\np_workflows_v1\\lib\\site-packages\\IPython\\utils\\dir2.py:74: FutureWarning: Private attribute access ('Viewer._repr_png_') in this context (e.g. inside a plugin widget or dock widget) is deprecated and will be unavailable in version 0.5.0\n",
      "  m = getattr(obj, name, None)\n",
      "C:\\Users\\ryans\\anaconda3\\envs\\np_workflows_v1\\lib\\site-packages\\IPython\\utils\\dir2.py:74: FutureWarning: Private attribute access ('Viewer._repr_pdf_') in this context (e.g. inside a plugin widget or dock widget) is deprecated and will be unavailable in version 0.5.0\n",
      "  m = getattr(obj, name, None)\n",
      "C:\\Users\\ryans\\anaconda3\\envs\\np_workflows_v1\\lib\\site-packages\\IPython\\utils\\dir2.py:74: FutureWarning: Private attribute access ('Viewer._repr_jpeg_') in this context (e.g. inside a plugin widget or dock widget) is deprecated and will be unavailable in version 0.5.0\n",
      "  m = getattr(obj, name, None)\n",
      "C:\\Users\\ryans\\anaconda3\\envs\\np_workflows_v1\\lib\\site-packages\\IPython\\utils\\dir2.py:74: FutureWarning: Private attribute access ('Viewer._repr_latex_') in this context (e.g. inside a plugin widget or dock widget) is deprecated and will be unavailable in version 0.5.0\n",
      "  m = getattr(obj, name, None)\n",
      "C:\\Users\\ryans\\anaconda3\\envs\\np_workflows_v1\\lib\\site-packages\\IPython\\utils\\dir2.py:74: FutureWarning: Private attribute access ('Viewer._repr_json_') in this context (e.g. inside a plugin widget or dock widget) is deprecated and will be unavailable in version 0.5.0\n",
      "  m = getattr(obj, name, None)\n",
      "C:\\Users\\ryans\\anaconda3\\envs\\np_workflows_v1\\lib\\site-packages\\IPython\\utils\\dir2.py:74: FutureWarning: Private attribute access ('Viewer._repr_javascript_') in this context (e.g. inside a plugin widget or dock widget) is deprecated and will be unavailable in version 0.5.0\n",
      "  m = getattr(obj, name, None)\n"
     ]
    },
    {
     "data": {
      "text/plain": [
       "Viewer(axes=Axes(visible=False, labels=True, colored=True, dashed=False, arrows=True), camera=Camera(center=(0.0, 126.5, 127.5), zoom=1.180078125, angles=(0.0, 0.0, 90.0), perspective=0.0, interactive=True), cursor=Cursor(position=(-15.43975990818663, 229.18817809052095), scaled=True, size=10, style=<CursorStyle.STANDARD: 'standard'>), dims=Dims(ndim=2, ndisplay=2, last_used=0, range=((0.0, 254.0, 1.0), (0.0, 256.0, 1.0)), current_step=(127, 128), order=(0, 1), axis_labels=('0', '1')), grid=GridCanvas(stride=-1, shape=(-1, -1), enabled=False), layers=[<Image layer 'img1' at 0x16e53268fd0>, <Image layer 'img2' at 0x16e7d03cd60>, <Image layer 'Result of Gaussian (scikit-image, nsbatwm)' at 0x16e7d7192d0>, <Image layer 'Result of Gaussian (scikit-image, nsbatwm) [1]' at 0x16e7d7cafb0>, <Image layer 'Result of Minimum (scipy, nsbatwm)' at 0x16e7d87cd30>, <Image layer 'Result of Percentile (scipy, nsbatwm)' at 0x16e7d9042e0>, <Image layer 'Result of Black top-hat (scipy, nsbatwm)' at 0x16e7d989450>, <Image layer 'Result of Multiply images (numpy, nsbatwm)' at 0x16e74061b70>, <Labels layer 'Result of Seeded watershed using local minima as seeds (nsbatwm)' at 0x16e740e9570>, <Labels layer 'Result of Remove labeled objects at the image border (scikit-image, nsbatwm)' at 0x16e741c8880>], scale_bar=ScaleBar(visible=False, colored=False, ticks=True, position=<Position.BOTTOM_RIGHT: 'bottom_right'>, font_size=10.0, unit=None), text_overlay=TextOverlay(visible=False, color=array([0.5, 0.5, 0.5, 1. ]), font_size=10.0, position=<TextOverlayPosition.TOP_LEFT: 'top_left'>, text=''), overlays=Overlays(interaction_box=InteractionBox(points=None, show=False, show_handle=False, show_vertices=False, selection_box_drag=None, selection_box_final=None, transform_start=<napari.utils.transforms.transforms.Affine object at 0x0000016E737E19C0>, transform_drag=<napari.utils.transforms.transforms.Affine object at 0x0000016E737E1A20>, transform_final=<napari.utils.transforms.transforms.Affine object at 0x0000016E737E1A80>, transform=<napari.utils.transforms.transforms.Affine object at 0x0000016E737E1AE0>, allow_new_selection=True, selected_vertex=None)), help='enter paint or fill mode to edit labels', status='Result of Remove labeled objects at the image border (scikit-image, nsbatwm) [-15 229]', tooltip=Tooltip(visible=False, text=''), theme='dark', title='napari', mouse_move_callbacks=[<function InteractionBoxMouseBindings.initialize_mouse_events.<locals>.mouse_move at 0x0000016E7AC170A0>], mouse_drag_callbacks=[<function InteractionBoxMouseBindings.initialize_mouse_events.<locals>.mouse_drag at 0x0000016E7AC16950>], mouse_double_click_callbacks=[], mouse_wheel_callbacks=[<function dims_scroll at 0x0000016E716AE560>], _persisted_mouse_event={}, _mouse_drag_gen={}, _mouse_wheel_gen={}, keymap={'Shift': <function InteractionBoxMouseBindings.initialize_key_events.<locals>.hold_to_lock_aspect_ratio at 0x0000016E7AB829E0>, 'Control-Shift-R': <function InteractionBoxMouseBindings._reset_active_layer_affine at 0x0000016E7ABD4CA0>, 'Control-Shift-A': <function InteractionBoxMouseBindings._transform_active_layer at 0x0000016E7ABD4670>})"
      ]
     },
     "execution_count": 10,
     "metadata": {},
     "output_type": "execute_result"
    }
   ],
   "source": [
    "wf_step1 = workflow_new._tasks['Result of Gaussian (scikit-image, nsbatwm)']\n",
    "wf_step1[3]\n"
   ]
  },
  {
   "cell_type": "code",
   "execution_count": 11,
   "id": "b7a44d3d",
   "metadata": {},
   "outputs": [
    {
     "data": {
      "text/plain": [
       "True"
      ]
     },
     "execution_count": 11,
     "metadata": {},
     "output_type": "execute_result"
    }
   ],
   "source": [
    "from napari import Viewer\n",
    "isinstance(wf_step1[3], Viewer)"
   ]
  },
  {
   "cell_type": "code",
   "execution_count": 12,
   "id": "964cb094",
   "metadata": {},
   "outputs": [
    {
     "data": {
      "text/plain": [
       "(<function napari_segment_blobs_and_things_with_membranes.gaussian_blur(image: napari.types.ImageData, *, sigma: float = 8.0, viewer: napari.viewer.Viewer = None) -> napari.types.ImageData>,\n",
       " 'img1',\n",
       " 12.0)"
      ]
     },
     "execution_count": 12,
     "metadata": {},
     "output_type": "execute_result"
    }
   ],
   "source": [
    "wf_step1_viewer_removed = tuple([entry for entry in wf_step1 if not isinstance(entry, Viewer)])\n",
    "wf_step1_viewer_removed"
   ]
  },
  {
   "cell_type": "code",
   "execution_count": 13,
   "id": "51c758b6",
   "metadata": {},
   "outputs": [],
   "source": [
    "def remove_viewers(workflow):\n",
    "    from napari import Viewer\n",
    "    for key,value in workflow._tasks.items():\n",
    "        viewer_removed = tuple([entry for entry in value if not isinstance(entry, Viewer)])\n",
    "        workflow._tasks[key] = viewer_removed      "
   ]
  },
  {
   "cell_type": "code",
   "execution_count": 14,
   "id": "62cba4f1",
   "metadata": {},
   "outputs": [
    {
     "data": {
      "text/plain": [
       "{'Result of Gaussian (scikit-image, nsbatwm)': (<function napari_segment_blobs_and_things_with_membranes.gaussian_blur(image: napari.types.ImageData, *, sigma: float = 8.0, viewer: napari.viewer.Viewer = None) -> napari.types.ImageData>,\n",
       "  'img1',\n",
       "  12.0),\n",
       " 'Result of Gaussian (scikit-image, nsbatwm) [1]': (<function napari_segment_blobs_and_things_with_membranes.gaussian_blur(image: napari.types.ImageData, *, sigma: float = 8.0, viewer: napari.viewer.Viewer = None) -> napari.types.ImageData>,\n",
       "  'img1',\n",
       "  8.0),\n",
       " 'Result of Minimum (scipy, nsbatwm)': (<function napari_segment_blobs_and_things_with_membranes.minimum_filter(image: napari.types.ImageData, *, radius: float = 3.0, viewer: napari.viewer.Viewer = None) -> napari.types.ImageData>,\n",
       "  'Result of Gaussian (scikit-image, nsbatwm)',\n",
       "  3.0),\n",
       " 'Result of Percentile (scipy, nsbatwm)': (<function napari_segment_blobs_and_things_with_membranes.percentile_filter(image: napari.types.ImageData, *, percentile: float = 7.0, radius: float = 9.0, viewer: napari.viewer.Viewer = None) -> napari.types.ImageData>,\n",
       "  'Result of Gaussian (scikit-image, nsbatwm) [1]',\n",
       "  7.0,\n",
       "  4.0),\n",
       " 'Result of Black top-hat (scipy, nsbatwm)': (<function napari_segment_blobs_and_things_with_membranes.black_tophat(image: napari.types.ImageData, *, radius: float = 16.0, viewer: napari.viewer.Viewer = None) -> napari.types.ImageData>,\n",
       "  'Result of Percentile (scipy, nsbatwm)',\n",
       "  16.0),\n",
       " 'Result of Multiply images (numpy, nsbatwm)': (<function napari_segment_blobs_and_things_with_membranes.multiply_images(image1: napari.types.ImageData, image2: napari.types.ImageData, viewer: napari.viewer.Viewer = None) -> napari.types.ImageData>,\n",
       "  'Result of Black top-hat (scipy, nsbatwm)',\n",
       "  'Result of Minimum (scipy, nsbatwm)'),\n",
       " 'Result of Seeded watershed using local minima as seeds (nsbatwm)': (<function napari_segment_blobs_and_things_with_membranes.local_minima_seeded_watershed(image: napari.types.ImageData, *, spot_sigma: float = 9.0, outline_sigma: float = 8.0, viewer: napari.viewer.Viewer = None) -> napari.types.LabelsData>,\n",
       "  'Result of Multiply images (numpy, nsbatwm)',\n",
       "  9.0,\n",
       "  8.0),\n",
       " 'Result of Remove labeled objects at the image border (scikit-image, nsbatwm)': (<function napari_segment_blobs_and_things_with_membranes.remove_labels_on_edges(label_image: napari.types.LabelsData, viewer: napari.viewer.Viewer = None) -> napari.types.LabelsData>,\n",
       "  'Result of Seeded watershed using local minima as seeds (nsbatwm)')}"
      ]
     },
     "execution_count": 14,
     "metadata": {},
     "output_type": "execute_result"
    }
   ],
   "source": [
    "remove_viewers(workflow_new)\n",
    "workflow_new._tasks"
   ]
  },
  {
   "cell_type": "code",
   "execution_count": 16,
   "id": "66d70f53",
   "metadata": {},
   "outputs": [],
   "source": [
    "save_workflow('test.yaml', workflow_new)"
   ]
  },
  {
   "cell_type": "code",
   "execution_count": 17,
   "id": "dc3bd3de",
   "metadata": {},
   "outputs": [],
   "source": [
    "def to_file(viewer, filename=None):\n",
    "    from napari_workflows import WorkflowManager, _io_yaml_v1\n",
    "    \n",
    "    \n",
    "    if not filename:\n",
    "        print('no file name given')\n",
    "        return\n",
    "\n",
    "    # get the workflow, should one be installed\n",
    "    workflow_manager = WorkflowManager.install(viewer)\n",
    "    workflow = workflow_manager.workflow\n",
    "    workflow.remove_viewers\n",
    "    _io_yaml_v1.save_workflow(filename, workflow)\n",
    "    \n",
    "to_file(viewer, filename = 'saved_from_viewer.yaml')"
   ]
  },
  {
   "cell_type": "code",
   "execution_count": null,
   "id": "5c2a4586",
   "metadata": {},
   "outputs": [],
   "source": []
  }
 ],
 "metadata": {
  "kernelspec": {
   "display_name": "Python 3 (ipykernel)",
   "language": "python",
   "name": "python3"
  },
  "language_info": {
   "codemirror_mode": {
    "name": "ipython",
    "version": 3
   },
   "file_extension": ".py",
   "mimetype": "text/x-python",
   "name": "python",
   "nbconvert_exporter": "python",
   "pygments_lexer": "ipython3",
   "version": "3.9.7"
  }
 },
 "nbformat": 4,
 "nbformat_minor": 5
}
