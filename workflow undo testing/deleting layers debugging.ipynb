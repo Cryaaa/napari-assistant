{
 "cells": [
  {
   "cell_type": "code",
   "execution_count": 1,
   "id": "509f6b1b",
   "metadata": {},
   "outputs": [
    {
     "name": "stderr",
     "output_type": "stream",
     "text": [
      "C:\\Users\\ryans\\anaconda3\\envs\\np_workflows_v1\\lib\\site-packages\\napari_tools_menu\\__init__.py:165: FutureWarning: Public access to Window.qt_viewer is deprecated and will be removed in\n",
      "v0.5.0. It is considered an \"implementation detail\" of the napari\n",
      "application, not part of the napari viewer model. If your use case\n",
      "requires access to qt_viewer, please open an issue to discuss.\n",
      "  self.tools_menu = ToolsMenu(self, self.qt_viewer.viewer)\n"
     ]
    },
    {
     "data": {
      "text/plain": [
       "<Image layer 'img2' at 0x226199194e0>"
      ]
     },
     "execution_count": 1,
     "metadata": {},
     "output_type": "execute_result"
    }
   ],
   "source": [
    "from napari_assistant._workflow_io_utility import *\n",
    "from napari_workflows._io_yaml_v1 import *\n",
    "import napari\n",
    "from skimage.io import imread\n",
    "from napari_workflows import WorkflowManager\n",
    "\n",
    "def to_file(viewer, filename=None):\n",
    "    from napari_workflows import WorkflowManager, _io_yaml_v1\n",
    "    \n",
    "    \n",
    "    if not filename:\n",
    "        print('no file name given')\n",
    "        return\n",
    "\n",
    "    # get the workflow, should one be installed\n",
    "    workflow_manager = WorkflowManager.install(viewer)\n",
    "    workflow = workflow_manager.workflow\n",
    "    workflow.remove_viewers\n",
    "    _io_yaml_v1.save_workflow(filename, workflow)\n",
    "\n",
    "desktop = 'C:/Users/ryans/Desktop/'\n",
    "\n",
    "img1 = imread(desktop+'blobs.tif')\n",
    "img2 = imread(desktop+'blobs_messed_up.tiff')\n",
    "\n",
    "viewer = napari.Viewer()\n",
    "viewer.add_image(img1)\n",
    "viewer.add_image(img2)"
   ]
  },
  {
   "cell_type": "code",
   "execution_count": 2,
   "id": "2cab66db",
   "metadata": {},
   "outputs": [],
   "source": [
    "workflow = load_workflow('test_workflow_long.yaml')\n",
    "initialise_root_functions(workflow, viewer)\n",
    "load_remaining_workflow(workflow,viewer)"
   ]
  },
  {
   "cell_type": "code",
   "execution_count": 3,
   "id": "dde6113d",
   "metadata": {},
   "outputs": [
    {
     "data": {
      "text/plain": [
       "[<Image layer 'img1' at 0x22669c2b490>, <Image layer 'img2' at 0x226199194e0>, <Image layer 'Result of Gaussian (scikit-image, nsbatwm)' at 0x22619fb9c60>, <Image layer 'Result of Gaussian (scikit-image, nsbatwm) [1]' at 0x2261a06f130>, <Image layer 'Result of Minimum (scipy, nsbatwm)' at 0x2261a15e9b0>, <Image layer 'Result of Percentile (scipy, nsbatwm)' at 0x2261a1f2d40>, <Image layer 'Result of Black top-hat (scipy, nsbatwm)' at 0x2261b2533d0>, <Image layer 'Result of Multiply images (numpy, nsbatwm)' at 0x2261b2e3a90>, <Labels layer 'Result of Seeded watershed using local minima as seeds (nsbatwm)' at 0x2261b37b070>, <Labels layer 'Result of Remove labeled objects at the image border (scikit-image, nsbatwm)' at 0x2261b43e290>]"
      ]
     },
     "execution_count": 3,
     "metadata": {},
     "output_type": "execute_result"
    }
   ],
   "source": [
    "layers = viewer.layers\n",
    "layers"
   ]
  },
  {
   "cell_type": "code",
   "execution_count": 4,
   "id": "15241670",
   "metadata": {},
   "outputs": [],
   "source": [
    "layer1 = layers[0]"
   ]
  },
  {
   "cell_type": "code",
   "execution_count": 5,
   "id": "1109fb59",
   "metadata": {},
   "outputs": [
    {
     "data": {
      "text/plain": [
       "Source(path=None, reader_plugin=None, sample=None, widget=None)"
      ]
     },
     "execution_count": 5,
     "metadata": {},
     "output_type": "execute_result"
    }
   ],
   "source": [
    "layer1.source"
   ]
  },
  {
   "cell_type": "code",
   "execution_count": 6,
   "id": "85ca62b0",
   "metadata": {},
   "outputs": [
    {
     "data": {
      "text/plain": [
       "<Image layer 'Result of Gaussian (scikit-image, nsbatwm) [1]' at 0x2261a06f130>"
      ]
     },
     "execution_count": 6,
     "metadata": {},
     "output_type": "execute_result"
    }
   ],
   "source": [
    "layers[3]"
   ]
  },
  {
   "cell_type": "code",
   "execution_count": 7,
   "id": "a1ca5658",
   "metadata": {},
   "outputs": [
    {
     "data": {
      "text/plain": [
       "Source(path=None, reader_plugin=None, sample=None, widget=<FunctionGui gaussian_blur(image: napari.types.ImageData = array([[ 40,  32,  24, ..., 216, 200, 200],\n",
       "       [ 56,  40,  24, ..., 232, 216, 216],\n",
       "       [ 64,  48,  24, ..., 240, 232, 232],\n",
       "       ...,\n",
       "       [ 72,  80,  80, ...,  48,  48,  48],\n",
       "       [ 80,  80,  80, ...,  48,  48,  48],\n",
       "       [ 96,  88,  80, ...,  48,  48,  48]], dtype=uint8), *, sigma: float = 8.0, viewer: napari.viewer.Viewer = Viewer(axes=Axes(visible=False, labels=True, colored=True, dashed=False, arrows=True), camera=Camera(center=(0.0, 126.5, 127.5), zoom=0.8920275590551179, angles=(0.0, 0.0, 90.0), perspective=0.0, interactive=True), cursor=Cursor(position=(1.0, 1.0), scaled=True, size=10, style=<CursorStyle.STANDARD: 'standard'>), dims=Dims(ndim=2, ndisplay=2, last_used=0, range=((0.0, 254.0, 1.0), (0.0, 256.0, 1.0)), current_step=(127, 128), order=(0, 1), axis_labels=('0', '1')), grid=GridCanvas(stride=-1, shape=(-1, -1), enabled=False), layers=[<Image layer 'img1' at 0x22669c2b490>, <Image layer 'img2' at 0x226199194e0>, <Image layer 'Result of Gaussian (scikit-image, nsbatwm)' at 0x22619fb9c60>, <Image layer 'Result of Gaussian (scikit-image, nsbatwm) [1]' at 0x2261a06f130>, <Image layer 'Result of Minimum (scipy, nsbatwm)' at 0x2261a15e9b0>, <Image layer 'Result of Percentile (scipy, nsbatwm)' at 0x2261a1f2d40>, <Image layer 'Result of Black top-hat (scipy, nsbatwm)' at 0x2261b2533d0>, <Image layer 'Result of Multiply images (numpy, nsbatwm)' at 0x2261b2e3a90>, <Labels layer 'Result of Seeded watershed using local minima as seeds (nsbatwm)' at 0x2261b37b070>, <Labels layer 'Result of Remove labeled objects at the image border (scikit-image, nsbatwm)' at 0x2261b43e290>], scale_bar=ScaleBar(visible=False, colored=False, ticks=True, position=<Position.BOTTOM_RIGHT: 'bottom_right'>, font_size=10.0, unit=None), text_overlay=TextOverlay(visible=False, color=array([0.5, 0.5, 0.5, 1. ]), font_size=10.0, position=<TextOverlayPosition.TOP_LEFT: 'top_left'>, text=''), overlays=Overlays(interaction_box=InteractionBox(points=None, show=False, show_handle=False, show_vertices=False, selection_box_drag=None, selection_box_final=None, transform_start=<napari.utils.transforms.transforms.Affine object at 0x000002260A472140>, transform_drag=<napari.utils.transforms.transforms.Affine object at 0x000002260A4721A0>, transform_final=<napari.utils.transforms.transforms.Affine object at 0x000002260A472200>, transform=<napari.utils.transforms.transforms.Affine object at 0x000002260A472260>, allow_new_selection=True, selected_vertex=None)), help='enter paint or fill mode to edit labels', status='Ready', tooltip=Tooltip(visible=False, text=''), theme='dark', title='napari', mouse_move_callbacks=[<function InteractionBoxMouseBindings.initialize_mouse_events.<locals>.mouse_move at 0x00000226114B3130>], mouse_drag_callbacks=[<function InteractionBoxMouseBindings.initialize_mouse_events.<locals>.mouse_drag at 0x00000226114B0430>], mouse_double_click_callbacks=[], mouse_wheel_callbacks=[<function dims_scroll at 0x000002260833E560>], _persisted_mouse_event={}, _mouse_drag_gen={}, _mouse_wheel_gen={}, keymap={'Shift': <function InteractionBoxMouseBindings.initialize_key_events.<locals>.hold_to_lock_aspect_ratio at 0x000002261141E4D0>, 'Control-Shift-R': <function InteractionBoxMouseBindings._reset_active_layer_affine at 0x000002261146D090>, 'Control-Shift-A': <function InteractionBoxMouseBindings._transform_active_layer at 0x000002261146CA60>})) -> napari.types.ImageData>)"
      ]
     },
     "execution_count": 7,
     "metadata": {},
     "output_type": "execute_result"
    }
   ],
   "source": [
    "layers[3].source"
   ]
  },
  {
   "cell_type": "code",
   "execution_count": 8,
   "id": "5351358e",
   "metadata": {},
   "outputs": [
    {
     "name": "stdout",
     "output_type": "stream",
     "text": [
      "made by widget\n"
     ]
    }
   ],
   "source": [
    "if layers[3].source.widget:\n",
    "    print('made by widget')"
   ]
  },
  {
   "cell_type": "code",
   "execution_count": 9,
   "id": "2daa997e",
   "metadata": {},
   "outputs": [],
   "source": [
    "if layers[0].source.widget:\n",
    "    print('made by widget')"
   ]
  },
  {
   "cell_type": "code",
   "execution_count": 10,
   "id": "41fbc332",
   "metadata": {},
   "outputs": [
    {
     "data": {
      "text/plain": [
       "'img1'"
      ]
     },
     "execution_count": 10,
     "metadata": {},
     "output_type": "execute_result"
    }
   ],
   "source": [
    "str(layers[0])"
   ]
  },
  {
   "cell_type": "code",
   "execution_count": 11,
   "id": "682e74a0",
   "metadata": {},
   "outputs": [
    {
     "name": "stdout",
     "output_type": "stream",
     "text": [
      "all layers look like [<Image layer 'img1' at 0x1a345a7b6d0>, <Image layer 'img2' at 0x1a3753a94e0>, <Image layer 'Result of Gaussian (scikit-image, nsbatwm)' at 0x1a375ad9c00>, <Image layer 'Result of Gaussian (scikit-image, nsbatwm) [1]' at 0x1a375b8f130>, <Image layer 'Result of Minimum (scipy, nsbatwm)' at 0x1a375c40eb0>, <Image layer 'Result of Percentile (scipy, nsbatwm)' at 0x1a375cc45e0>, <Image layer 'Result of Black top-hat (scipy, nsbatwm)' at 0x1a375d495d0>, <Image layer 'Result of Multiply images (numpy, nsbatwm)' at 0x1a376db1cf0>, <Labels layer 'Result of Seeded watershed using local minima as seeds (nsbatwm)' at 0x1a376e356f0>, <Labels layer 'Result of Remove labeled objects at the image border (scikit-image, nsbatwm)' at 0x1a376f0c490>]\n",
      "img1: path=None reader_plugin=None sample=None widget=None\n",
      "img2: path=None reader_plugin=None sample=None widget=None\n",
      "Result of Gaussian (scikit-image, nsbatwm): path=None reader_plugin=None sample=None widget=<FunctionGui gaussian_blur(image: napari.types.ImageData = array([[ 40,  32,  24, ..., 216, 200, 200],\n",
      "       [ 56,  40,  24, ..., 232, 216, 216],\n",
      "       [ 64,  48,  24, ..., 240, 232, 232],\n",
      "       ...,\n",
      "       [ 72,  80,  80, ...,  48,  48,  48],\n",
      "       [ 80,  80,  80, ...,  48,  48,  48],\n",
      "       [ 96,  88,  80, ...,  48,  48,  48]], dtype=uint8), *, sigma: float = 4.0, viewer: napari.viewer.Viewer = Viewer(axes=Axes(visible=False, labels=True, colored=True, dashed=False, arrows=True), camera=Camera(center=(0.0, 126.5, 127.5), zoom=1.180078125, angles=(0.0, 0.0, 90.0), perspective=0.0, interactive=True), cursor=Cursor(position=(1.0, 1.0), scaled=True, size=10, style=<CursorStyle.STANDARD: 'standard'>), dims=Dims(ndim=2, ndisplay=2, last_used=0, range=((0.0, 254.0, 1.0), (0.0, 256.0, 1.0)), current_step=(127, 128), order=(0, 1), axis_labels=('0', '1')), grid=GridCanvas(stride=-1, shape=(-1, -1), enabled=False), layers=[<Image layer 'img1' at 0x1a345a7b6d0>, <Image layer 'img2' at 0x1a3753a94e0>, <Image layer 'Result of Gaussian (scikit-image, nsbatwm)' at 0x1a375ad9c00>, <Image layer 'Result of Gaussian (scikit-image, nsbatwm) [1]' at 0x1a375b8f130>, <Image layer 'Result of Minimum (scipy, nsbatwm)' at 0x1a375c40eb0>, <Image layer 'Result of Percentile (scipy, nsbatwm)' at 0x1a375cc45e0>, <Image layer 'Result of Black top-hat (scipy, nsbatwm)' at 0x1a375d495d0>, <Image layer 'Result of Multiply images (numpy, nsbatwm)' at 0x1a376db1cf0>, <Labels layer 'Result of Seeded watershed using local minima as seeds (nsbatwm)' at 0x1a376e356f0>, <Labels layer 'Result of Remove labeled objects at the image border (scikit-image, nsbatwm)' at 0x1a376f0c490>], scale_bar=ScaleBar(visible=False, colored=False, ticks=True, position=<Position.BOTTOM_RIGHT: 'bottom_right'>, font_size=10.0, unit=None), text_overlay=TextOverlay(visible=False, color=array([0.5, 0.5, 0.5, 1. ]), font_size=10.0, position=<TextOverlayPosition.TOP_LEFT: 'top_left'>, text=''), overlays=Overlays(interaction_box=InteractionBox(points=None, show=False, show_handle=False, show_vertices=False, selection_box_drag=None, selection_box_final=None, transform_start=<napari.utils.transforms.transforms.Affine object at 0x000001A365F8E140>, transform_drag=<napari.utils.transforms.transforms.Affine object at 0x000001A365F8E1A0>, transform_final=<napari.utils.transforms.transforms.Affine object at 0x000001A365F8E200>, transform=<napari.utils.transforms.transforms.Affine object at 0x000001A365F8E260>, allow_new_selection=True, selected_vertex=None)), help='enter paint or fill mode to edit labels', status='Ready', tooltip=Tooltip(visible=False, text=''), theme='dark', title='napari', mouse_move_callbacks=[<function InteractionBoxMouseBindings.initialize_mouse_events.<locals>.mouse_move at 0x000001A36CFD7130>], mouse_drag_callbacks=[<function InteractionBoxMouseBindings.initialize_mouse_events.<locals>.mouse_drag at 0x000001A36CFD4430>], mouse_double_click_callbacks=[], mouse_wheel_callbacks=[<function dims_scroll at 0x000001A363E5E560>], _persisted_mouse_event={}, _mouse_drag_gen={}, _mouse_wheel_gen={}, keymap={'Shift': <function InteractionBoxMouseBindings.initialize_key_events.<locals>.hold_to_lock_aspect_ratio at 0x000001A36CF464D0>, 'Control-Shift-R': <function InteractionBoxMouseBindings._reset_active_layer_affine at 0x000001A36CF91090>, 'Control-Shift-A': <function InteractionBoxMouseBindings._transform_active_layer at 0x000001A36CF90A60>})) -> napari.types.ImageData>\n",
      "removal attempted\n",
      "Result of Minimum (scipy, nsbatwm): path=None reader_plugin=None sample=None widget=<FunctionGui minimum_filter(image: napari.types.ImageData = array([[ 40,  32,  24, ..., 216, 200, 200],\n",
      "       [ 56,  40,  24, ..., 232, 216, 216],\n",
      "       [ 64,  48,  24, ..., 240, 232, 232],\n",
      "       ...,\n",
      "       [ 72,  80,  80, ...,  48,  48,  48],\n",
      "       [ 80,  80,  80, ...,  48,  48,  48],\n",
      "       [ 96,  88,  80, ...,  48,  48,  48]], dtype=uint8), *, radius: float = 3.0, viewer: napari.viewer.Viewer = Viewer(axes=Axes(visible=False, labels=True, colored=True, dashed=False, arrows=True), camera=Camera(center=(0.0, 126.5, 127.5), zoom=1.180078125, angles=(0.0, 0.0, 90.0), perspective=0.0, interactive=True), cursor=Cursor(position=(1.0, 1.0), scaled=True, size=10, style=<CursorStyle.STANDARD: 'standard'>), dims=Dims(ndim=2, ndisplay=2, last_used=0, range=((0.0, 254.0, 1.0), (0.0, 256.0, 1.0)), current_step=(127, 128), order=(0, 1), axis_labels=('0', '1')), grid=GridCanvas(stride=-1, shape=(-1, -1), enabled=False), layers=[<Image layer 'img1' at 0x1a345a7b6d0>, <Image layer 'img2' at 0x1a3753a94e0>, <Image layer 'Result of Gaussian (scikit-image, nsbatwm) [1]' at 0x1a375b8f130>, <Image layer 'Result of Minimum (scipy, nsbatwm)' at 0x1a375c40eb0>, <Image layer 'Result of Percentile (scipy, nsbatwm)' at 0x1a375cc45e0>, <Image layer 'Result of Black top-hat (scipy, nsbatwm)' at 0x1a375d495d0>, <Image layer 'Result of Multiply images (numpy, nsbatwm)' at 0x1a376db1cf0>, <Labels layer 'Result of Seeded watershed using local minima as seeds (nsbatwm)' at 0x1a376e356f0>, <Labels layer 'Result of Remove labeled objects at the image border (scikit-image, nsbatwm)' at 0x1a376f0c490>], scale_bar=ScaleBar(visible=False, colored=False, ticks=True, position=<Position.BOTTOM_RIGHT: 'bottom_right'>, font_size=10.0, unit=None), text_overlay=TextOverlay(visible=False, color=array([0.5, 0.5, 0.5, 1. ]), font_size=10.0, position=<TextOverlayPosition.TOP_LEFT: 'top_left'>, text=''), overlays=Overlays(interaction_box=InteractionBox(points=None, show=False, show_handle=False, show_vertices=False, selection_box_drag=None, selection_box_final=None, transform_start=<napari.utils.transforms.transforms.Affine object at 0x000001A365F8E140>, transform_drag=<napari.utils.transforms.transforms.Affine object at 0x000001A365F8E1A0>, transform_final=<napari.utils.transforms.transforms.Affine object at 0x000001A365F8E200>, transform=<napari.utils.transforms.transforms.Affine object at 0x000001A365F8E260>, allow_new_selection=True, selected_vertex=None)), help='enter paint or fill mode to edit labels', status='Ready', tooltip=Tooltip(visible=False, text=''), theme='dark', title='napari', mouse_move_callbacks=[<function InteractionBoxMouseBindings.initialize_mouse_events.<locals>.mouse_move at 0x000001A36CFD7130>], mouse_drag_callbacks=[<function InteractionBoxMouseBindings.initialize_mouse_events.<locals>.mouse_drag at 0x000001A36CFD4430>], mouse_double_click_callbacks=[], mouse_wheel_callbacks=[<function dims_scroll at 0x000001A363E5E560>], _persisted_mouse_event={}, _mouse_drag_gen={}, _mouse_wheel_gen={}, keymap={'Shift': <function InteractionBoxMouseBindings.initialize_key_events.<locals>.hold_to_lock_aspect_ratio at 0x000001A36CF464D0>, 'Control-Shift-R': <function InteractionBoxMouseBindings._reset_active_layer_affine at 0x000001A36CF91090>, 'Control-Shift-A': <function InteractionBoxMouseBindings._transform_active_layer at 0x000001A36CF90A60>})) -> napari.types.ImageData>\n",
      "removal attempted\n",
      "Result of Black top-hat (scipy, nsbatwm): path=None reader_plugin=None sample=None widget=<FunctionGui black_tophat(image: napari.types.ImageData = array([[0.17579871, 0.17579871, 0.17579871, ..., 0.69000243, 0.71770848,\n",
      "        0.73740805],\n",
      "       [0.17579871, 0.17579871, 0.17579871, ..., 0.69000243, 0.71770848,\n",
      "        0.73740805],\n",
      "       [0.17579871, 0.17579871, 0.17579871, ..., 0.69000243, 0.71770848,\n",
      "        0.73740805],\n",
      "       ...,\n",
      "       [0.25981883, 0.25878485, 0.25466081, ..., 0.21718652, 0.21718652,\n",
      "        0.21718652],\n",
      "       [0.25981883, 0.25878485, 0.25466081, ..., 0.21718652, 0.21718652,\n",
      "        0.21718652],\n",
      "       [0.25981883, 0.25878485, 0.25466081, ..., 0.21718652, 0.21718652,\n",
      "        0.21718652]]), *, radius: float = 16.0, viewer: napari.viewer.Viewer = Viewer(axes=Axes(visible=False, labels=True, colored=True, dashed=False, arrows=True), camera=Camera(center=(0.0, 126.5, 127.5), zoom=1.180078125, angles=(0.0, 0.0, 90.0), perspective=0.0, interactive=True), cursor=Cursor(position=(1.0, 1.0), scaled=True, size=10, style=<CursorStyle.STANDARD: 'standard'>), dims=Dims(ndim=2, ndisplay=2, last_used=0, range=((0.0, 254.0, 1.0), (0.0, 256.0, 1.0)), current_step=(127, 128), order=(0, 1), axis_labels=('0', '1')), grid=GridCanvas(stride=-1, shape=(-1, -1), enabled=False), layers=[<Image layer 'img1' at 0x1a345a7b6d0>, <Image layer 'img2' at 0x1a3753a94e0>, <Image layer 'Result of Gaussian (scikit-image, nsbatwm) [1]' at 0x1a375b8f130>, <Image layer 'Result of Percentile (scipy, nsbatwm)' at 0x1a375cc45e0>, <Image layer 'Result of Black top-hat (scipy, nsbatwm)' at 0x1a375d495d0>, <Image layer 'Result of Multiply images (numpy, nsbatwm)' at 0x1a376db1cf0>, <Labels layer 'Result of Seeded watershed using local minima as seeds (nsbatwm)' at 0x1a376e356f0>, <Labels layer 'Result of Remove labeled objects at the image border (scikit-image, nsbatwm)' at 0x1a376f0c490>], scale_bar=ScaleBar(visible=False, colored=False, ticks=True, position=<Position.BOTTOM_RIGHT: 'bottom_right'>, font_size=10.0, unit=None), text_overlay=TextOverlay(visible=False, color=array([0.5, 0.5, 0.5, 1. ]), font_size=10.0, position=<TextOverlayPosition.TOP_LEFT: 'top_left'>, text=''), overlays=Overlays(interaction_box=InteractionBox(points=None, show=False, show_handle=False, show_vertices=False, selection_box_drag=None, selection_box_final=None, transform_start=<napari.utils.transforms.transforms.Affine object at 0x000001A365F8E140>, transform_drag=<napari.utils.transforms.transforms.Affine object at 0x000001A365F8E1A0>, transform_final=<napari.utils.transforms.transforms.Affine object at 0x000001A365F8E200>, transform=<napari.utils.transforms.transforms.Affine object at 0x000001A365F8E260>, allow_new_selection=True, selected_vertex=None)), help='enter paint or fill mode to edit labels', status='Ready', tooltip=Tooltip(visible=False, text=''), theme='dark', title='napari', mouse_move_callbacks=[<function InteractionBoxMouseBindings.initialize_mouse_events.<locals>.mouse_move at 0x000001A36CFD7130>], mouse_drag_callbacks=[<function InteractionBoxMouseBindings.initialize_mouse_events.<locals>.mouse_drag at 0x000001A36CFD4430>], mouse_double_click_callbacks=[], mouse_wheel_callbacks=[<function dims_scroll at 0x000001A363E5E560>], _persisted_mouse_event={}, _mouse_drag_gen={}, _mouse_wheel_gen={}, keymap={'Shift': <function InteractionBoxMouseBindings.initialize_key_events.<locals>.hold_to_lock_aspect_ratio at 0x000001A36CF464D0>, 'Control-Shift-R': <function InteractionBoxMouseBindings._reset_active_layer_affine at 0x000001A36CF91090>, 'Control-Shift-A': <function InteractionBoxMouseBindings._transform_active_layer at 0x000001A36CF90A60>})) -> napari.types.ImageData>\n",
      "removal attempted\n",
      "Result of Seeded watershed using local minima as seeds (nsbatwm): path=None reader_plugin=None sample=None widget=<FunctionGui local_minima_seeded_watershed(image: napari.types.ImageData = array([[2.59365830e-02, 2.52613864e-02, 2.48132125e-02, ...,\n",
      "        7.20245373e-06, 0.00000000e+00, 0.00000000e+00],\n",
      "       [2.59365830e-02, 2.52613864e-02, 2.48132125e-02, ...,\n",
      "        7.20245373e-06, 0.00000000e+00, 0.00000000e+00],\n",
      "       [2.59365830e-02, 2.52613864e-02, 2.48132125e-02, ...,\n",
      "        7.20245373e-06, 0.00000000e+00, 0.00000000e+00],\n",
      "       ...,\n",
      "       [9.91506224e-03, 1.00149634e-02, 9.62912258e-03, ...,\n",
      "        2.48951766e-02, 2.48951766e-02, 2.48951766e-02],\n",
      "       [1.02482665e-02, 1.03297689e-02, 9.90857487e-03, ...,\n",
      "        2.48951766e-02, 2.48951766e-02, 2.48951766e-02],\n",
      "       [1.06082560e-02, 1.06640723e-02, 1.02001335e-02, ...,\n",
      "        2.48951766e-02, 2.48951766e-02, 2.48951766e-02]]), *, spot_sigma: float = 9.0, outline_sigma: float = 8.0, viewer: napari.viewer.Viewer = Viewer(axes=Axes(visible=False, labels=True, colored=True, dashed=False, arrows=True), camera=Camera(center=(0.0, 126.5, 127.5), zoom=1.180078125, angles=(0.0, 0.0, 90.0), perspective=0.0, interactive=True), cursor=Cursor(position=(1.0, 1.0), scaled=True, size=10, style=<CursorStyle.STANDARD: 'standard'>), dims=Dims(ndim=2, ndisplay=2, last_used=0, range=((0.0, 254.0, 1.0), (0.0, 256.0, 1.0)), current_step=(127, 128), order=(0, 1), axis_labels=('0', '1')), grid=GridCanvas(stride=-1, shape=(-1, -1), enabled=False), layers=[<Image layer 'img1' at 0x1a345a7b6d0>, <Image layer 'img2' at 0x1a3753a94e0>, <Image layer 'Result of Gaussian (scikit-image, nsbatwm) [1]' at 0x1a375b8f130>, <Image layer 'Result of Percentile (scipy, nsbatwm)' at 0x1a375cc45e0>, <Image layer 'Result of Multiply images (numpy, nsbatwm)' at 0x1a376db1cf0>, <Labels layer 'Result of Seeded watershed using local minima as seeds (nsbatwm)' at 0x1a376e356f0>, <Labels layer 'Result of Remove labeled objects at the image border (scikit-image, nsbatwm)' at 0x1a376f0c490>], scale_bar=ScaleBar(visible=False, colored=False, ticks=True, position=<Position.BOTTOM_RIGHT: 'bottom_right'>, font_size=10.0, unit=None), text_overlay=TextOverlay(visible=False, color=array([0.5, 0.5, 0.5, 1. ]), font_size=10.0, position=<TextOverlayPosition.TOP_LEFT: 'top_left'>, text=''), overlays=Overlays(interaction_box=InteractionBox(points=None, show=False, show_handle=False, show_vertices=False, selection_box_drag=None, selection_box_final=None, transform_start=<napari.utils.transforms.transforms.Affine object at 0x000001A365F8E140>, transform_drag=<napari.utils.transforms.transforms.Affine object at 0x000001A365F8E1A0>, transform_final=<napari.utils.transforms.transforms.Affine object at 0x000001A365F8E200>, transform=<napari.utils.transforms.transforms.Affine object at 0x000001A365F8E260>, allow_new_selection=True, selected_vertex=None)), help='enter paint or fill mode to edit labels', status='Ready', tooltip=Tooltip(visible=False, text=''), theme='dark', title='napari', mouse_move_callbacks=[<function InteractionBoxMouseBindings.initialize_mouse_events.<locals>.mouse_move at 0x000001A36CFD7130>], mouse_drag_callbacks=[<function InteractionBoxMouseBindings.initialize_mouse_events.<locals>.mouse_drag at 0x000001A36CFD4430>], mouse_double_click_callbacks=[], mouse_wheel_callbacks=[<function dims_scroll at 0x000001A363E5E560>], _persisted_mouse_event={}, _mouse_drag_gen={}, _mouse_wheel_gen={}, keymap={'Shift': <function InteractionBoxMouseBindings.initialize_key_events.<locals>.hold_to_lock_aspect_ratio at 0x000001A36CF464D0>, 'Control-Shift-R': <function InteractionBoxMouseBindings._reset_active_layer_affine at 0x000001A36CF91090>, 'Control-Shift-A': <function InteractionBoxMouseBindings._transform_active_layer at 0x000001A36CF90A60>})) -> napari.types.LabelsData>\n"
     ]
    },
    {
     "ename": "RecursionError",
     "evalue": "maximum recursion depth exceeded in comparison",
     "output_type": "error",
     "traceback": [
      "\u001b[1;31m---------------------------------------------------------------------------\u001b[0m",
      "\u001b[1;31mRecursionError\u001b[0m                            Traceback (most recent call last)",
      "File \u001b[1;32m~\\anaconda3\\envs\\np_workflows_v1\\lib\\site-packages\\magicgui\\widgets\\_bases\\value_widget.py:57\u001b[0m, in \u001b[0;36mValueWidget._on_value_change\u001b[1;34m(self, value)\u001b[0m\n\u001b[0;32m     55\u001b[0m \u001b[38;5;28;01mif\u001b[39;00m value \u001b[38;5;129;01mis\u001b[39;00m \u001b[38;5;28mself\u001b[39m\u001b[38;5;241m.\u001b[39mnull_value \u001b[38;5;129;01mand\u001b[39;00m \u001b[38;5;129;01mnot\u001b[39;00m \u001b[38;5;28mself\u001b[39m\u001b[38;5;241m.\u001b[39m_nullable:\n\u001b[0;32m     56\u001b[0m     \u001b[38;5;28;01mreturn\u001b[39;00m\n\u001b[1;32m---> 57\u001b[0m \u001b[38;5;28;43mself\u001b[39;49m\u001b[38;5;241;43m.\u001b[39;49m\u001b[43mchanged\u001b[49m\u001b[38;5;241;43m.\u001b[39;49m\u001b[43memit\u001b[49m\u001b[43m(\u001b[49m\u001b[43mvalue\u001b[49m\u001b[43m)\u001b[49m\n",
      "File \u001b[1;32m~\\anaconda3\\envs\\np_workflows_v1\\lib\\site-packages\\psygnal\\_signal.py:670\u001b[0m, in \u001b[0;36mpsygnal._signal.SignalInstance.emit\u001b[1;34m()\u001b[0m\n",
      "File \u001b[1;32m~\\anaconda3\\envs\\np_workflows_v1\\lib\\site-packages\\magicgui\\events.py:85\u001b[0m, in \u001b[0;36mSignalInstance._run_emit_loop\u001b[1;34m(self, args)\u001b[0m\n\u001b[0;32m     83\u001b[0m \u001b[38;5;66;03m# TODO: add better exception handling\u001b[39;00m\n\u001b[0;32m     84\u001b[0m \u001b[38;5;28;01mif\u001b[39;00m \u001b[38;5;28mself\u001b[39m\u001b[38;5;241m.\u001b[39m_new_callback\u001b[38;5;241m.\u001b[39mget(slot):\n\u001b[1;32m---> 85\u001b[0m     \u001b[43mcb\u001b[49m\u001b[43m(\u001b[49m\u001b[38;5;241;43m*\u001b[39;49m\u001b[43margs\u001b[49m\u001b[43m[\u001b[49m\u001b[43m:\u001b[49m\u001b[43mmax_args\u001b[49m\u001b[43m]\u001b[49m\u001b[43m)\u001b[49m\n\u001b[0;32m     86\u001b[0m \u001b[38;5;28;01melse\u001b[39;00m:\n\u001b[0;32m     87\u001b[0m     cb(Event(args[\u001b[38;5;241m0\u001b[39m], \u001b[38;5;28mself\u001b[39m\u001b[38;5;241m.\u001b[39mname, \u001b[38;5;28mself\u001b[39m\u001b[38;5;241m.\u001b[39minstance))\n",
      "File \u001b[1;32m~\\anaconda3\\envs\\np_workflows_v1\\lib\\site-packages\\magicgui\\widgets\\_bases\\container_widget.py:165\u001b[0m, in \u001b[0;36mContainerWidget.insert.<locals>.<lambda>\u001b[1;34m()\u001b[0m\n\u001b[0;32m    163\u001b[0m \u001b[38;5;124;03m\"\"\"Insert widget at ``key``.\"\"\"\u001b[39;00m\n\u001b[0;32m    164\u001b[0m \u001b[38;5;28;01mif\u001b[39;00m \u001b[38;5;28misinstance\u001b[39m(widget, (ValueWidget, ContainerWidget)):\n\u001b[1;32m--> 165\u001b[0m     widget\u001b[38;5;241m.\u001b[39mchanged\u001b[38;5;241m.\u001b[39mconnect(\u001b[38;5;28;01mlambda\u001b[39;00m: \u001b[38;5;28;43mself\u001b[39;49m\u001b[38;5;241;43m.\u001b[39;49m\u001b[43mchanged\u001b[49m\u001b[38;5;241;43m.\u001b[39;49m\u001b[43memit\u001b[49m\u001b[43m(\u001b[49m\u001b[38;5;28;43mself\u001b[39;49m\u001b[43m)\u001b[49m)\n\u001b[0;32m    166\u001b[0m _widget \u001b[38;5;241m=\u001b[39m widget\n\u001b[0;32m    168\u001b[0m \u001b[38;5;28;01mif\u001b[39;00m \u001b[38;5;28mself\u001b[39m\u001b[38;5;241m.\u001b[39mlabels:\n",
      "File \u001b[1;32m~\\anaconda3\\envs\\np_workflows_v1\\lib\\site-packages\\psygnal\\_signal.py:670\u001b[0m, in \u001b[0;36mpsygnal._signal.SignalInstance.emit\u001b[1;34m()\u001b[0m\n",
      "File \u001b[1;32m~\\anaconda3\\envs\\np_workflows_v1\\lib\\site-packages\\magicgui\\events.py:85\u001b[0m, in \u001b[0;36mSignalInstance._run_emit_loop\u001b[1;34m(self, args)\u001b[0m\n\u001b[0;32m     83\u001b[0m \u001b[38;5;66;03m# TODO: add better exception handling\u001b[39;00m\n\u001b[0;32m     84\u001b[0m \u001b[38;5;28;01mif\u001b[39;00m \u001b[38;5;28mself\u001b[39m\u001b[38;5;241m.\u001b[39m_new_callback\u001b[38;5;241m.\u001b[39mget(slot):\n\u001b[1;32m---> 85\u001b[0m     \u001b[43mcb\u001b[49m\u001b[43m(\u001b[49m\u001b[38;5;241;43m*\u001b[39;49m\u001b[43margs\u001b[49m\u001b[43m[\u001b[49m\u001b[43m:\u001b[49m\u001b[43mmax_args\u001b[49m\u001b[43m]\u001b[49m\u001b[43m)\u001b[49m\n\u001b[0;32m     86\u001b[0m \u001b[38;5;28;01melse\u001b[39;00m:\n\u001b[0;32m     87\u001b[0m     cb(Event(args[\u001b[38;5;241m0\u001b[39m], \u001b[38;5;28mself\u001b[39m\u001b[38;5;241m.\u001b[39mname, \u001b[38;5;28mself\u001b[39m\u001b[38;5;241m.\u001b[39minstance))\n",
      "File \u001b[1;32m~\\anaconda3\\envs\\np_workflows_v1\\lib\\site-packages\\magicgui\\widgets\\_function_gui.py:221\u001b[0m, in \u001b[0;36mFunctionGui._on_change\u001b[1;34m(self)\u001b[0m\n\u001b[0;32m    219\u001b[0m     \u001b[38;5;28mself\u001b[39m\u001b[38;5;241m.\u001b[39m_dump()\n\u001b[0;32m    220\u001b[0m \u001b[38;5;28;01mif\u001b[39;00m \u001b[38;5;28mself\u001b[39m\u001b[38;5;241m.\u001b[39m_auto_call:\n\u001b[1;32m--> 221\u001b[0m     \u001b[38;5;28;43mself\u001b[39;49m\u001b[43m(\u001b[49m\u001b[43m)\u001b[49m\n",
      "File \u001b[1;32m~\\anaconda3\\envs\\np_workflows_v1\\lib\\site-packages\\magicgui\\widgets\\_function_gui.py:303\u001b[0m, in \u001b[0;36mFunctionGui.__call__\u001b[1;34m(self, update_widget, *args, **kwargs)\u001b[0m\n\u001b[0;32m    301\u001b[0m \u001b[38;5;28mself\u001b[39m\u001b[38;5;241m.\u001b[39m_tqdm_depth \u001b[38;5;241m=\u001b[39m \u001b[38;5;241m0\u001b[39m  \u001b[38;5;66;03m# reset the tqdm stack count\u001b[39;00m\n\u001b[0;32m    302\u001b[0m \u001b[38;5;28;01mwith\u001b[39;00m _function_name_pointing_to_widget(\u001b[38;5;28mself\u001b[39m):\n\u001b[1;32m--> 303\u001b[0m     value \u001b[38;5;241m=\u001b[39m \u001b[38;5;28mself\u001b[39m\u001b[38;5;241m.\u001b[39m_function(\u001b[38;5;241m*\u001b[39mbound\u001b[38;5;241m.\u001b[39margs, \u001b[38;5;241m*\u001b[39m\u001b[38;5;241m*\u001b[39mbound\u001b[38;5;241m.\u001b[39mkwargs)\n\u001b[0;32m    305\u001b[0m \u001b[38;5;28mself\u001b[39m\u001b[38;5;241m.\u001b[39m_call_count \u001b[38;5;241m+\u001b[39m\u001b[38;5;241m=\u001b[39m \u001b[38;5;241m1\u001b[39m\n\u001b[0;32m    306\u001b[0m \u001b[38;5;28;01mif\u001b[39;00m \u001b[38;5;28mself\u001b[39m\u001b[38;5;241m.\u001b[39m_result_widget \u001b[38;5;129;01mis\u001b[39;00m \u001b[38;5;129;01mnot\u001b[39;00m \u001b[38;5;28;01mNone\u001b[39;00m:\n",
      "File \u001b[1;32mc:\\users\\ryans\\onedrive\\documents\\bia pol stuff\\napari workflow repositories\\napari-assistant\\napari_assistant\\_workflow_io_utility.py:167\u001b[0m, in \u001b[0;36mmake_flexible_gui.<locals>.worker_func\u001b[1;34m(*iargs, **ikwargs)\u001b[0m\n\u001b[0;32m    164\u001b[0m \u001b[38;5;28;01mtry\u001b[39;00m:\n\u001b[0;32m    165\u001b[0m     \u001b[38;5;66;03m# look for an existing layer\u001b[39;00m\n\u001b[0;32m    166\u001b[0m     target_layer \u001b[38;5;241m=\u001b[39m \u001b[38;5;28mnext\u001b[39m(x \u001b[38;5;28;01mfor\u001b[39;00m x \u001b[38;5;129;01min\u001b[39;00m viewer\u001b[38;5;241m.\u001b[39mlayers \u001b[38;5;28;01mif\u001b[39;00m x\u001b[38;5;241m.\u001b[39msource\u001b[38;5;241m.\u001b[39mwidget \u001b[38;5;129;01mis\u001b[39;00m gui)\n\u001b[1;32m--> 167\u001b[0m     target_layer\u001b[38;5;241m.\u001b[39mdata \u001b[38;5;241m=\u001b[39m data\n\u001b[0;32m    168\u001b[0m     target_layer\u001b[38;5;241m.\u001b[39mname \u001b[38;5;241m=\u001b[39m new_name\n\u001b[0;32m    169\u001b[0m     \u001b[38;5;66;03m# layer.translate = translate\u001b[39;00m\n",
      "File \u001b[1;32m~\\anaconda3\\envs\\np_workflows_v1\\lib\\site-packages\\napari\\layers\\labels\\labels.py:431\u001b[0m, in \u001b[0;36mLabels.data\u001b[1;34m(self, data)\u001b[0m\n\u001b[0;32m    429\u001b[0m \u001b[38;5;28mself\u001b[39m\u001b[38;5;241m.\u001b[39m_data \u001b[38;5;241m=\u001b[39m data\n\u001b[0;32m    430\u001b[0m \u001b[38;5;28mself\u001b[39m\u001b[38;5;241m.\u001b[39m_update_dims()\n\u001b[1;32m--> 431\u001b[0m \u001b[38;5;28;43mself\u001b[39;49m\u001b[38;5;241;43m.\u001b[39;49m\u001b[43mevents\u001b[49m\u001b[38;5;241;43m.\u001b[39;49m\u001b[43mdata\u001b[49m\u001b[43m(\u001b[49m\u001b[43mvalue\u001b[49m\u001b[38;5;241;43m=\u001b[39;49m\u001b[38;5;28;43mself\u001b[39;49m\u001b[38;5;241;43m.\u001b[39;49m\u001b[43mdata\u001b[49m\u001b[43m)\u001b[49m\n\u001b[0;32m    432\u001b[0m \u001b[38;5;28mself\u001b[39m\u001b[38;5;241m.\u001b[39m_set_editable()\n",
      "File \u001b[1;32m~\\anaconda3\\envs\\np_workflows_v1\\lib\\site-packages\\napari\\utils\\events\\event.py:715\u001b[0m, in \u001b[0;36mEventEmitter.__call__\u001b[1;34m(self, *args, **kwargs)\u001b[0m\n\u001b[0;32m    712\u001b[0m     \u001b[38;5;28mself\u001b[39m\u001b[38;5;241m.\u001b[39m_block_counter\u001b[38;5;241m.\u001b[39mupdate([cb])\n\u001b[0;32m    713\u001b[0m     \u001b[38;5;28;01mcontinue\u001b[39;00m\n\u001b[1;32m--> 715\u001b[0m \u001b[38;5;28;43mself\u001b[39;49m\u001b[38;5;241;43m.\u001b[39;49m\u001b[43m_invoke_callback\u001b[49m\u001b[43m(\u001b[49m\u001b[43mcb\u001b[49m\u001b[43m,\u001b[49m\u001b[43m \u001b[49m\u001b[43mevent\u001b[49m\u001b[43m \u001b[49m\u001b[38;5;28;43;01mif\u001b[39;49;00m\u001b[43m \u001b[49m\u001b[43mpass_event\u001b[49m\u001b[43m \u001b[49m\u001b[38;5;28;43;01melse\u001b[39;49;00m\u001b[43m \u001b[49m\u001b[38;5;28;43;01mNone\u001b[39;49;00m\u001b[43m)\u001b[49m\n\u001b[0;32m    716\u001b[0m \u001b[38;5;28;01mif\u001b[39;00m event\u001b[38;5;241m.\u001b[39mblocked:\n\u001b[0;32m    717\u001b[0m     \u001b[38;5;28;01mbreak\u001b[39;00m\n",
      "File \u001b[1;32m~\\anaconda3\\envs\\np_workflows_v1\\lib\\site-packages\\napari\\utils\\events\\event.py:752\u001b[0m, in \u001b[0;36mEventEmitter._invoke_callback\u001b[1;34m(self, cb, event)\u001b[0m\n\u001b[0;32m    750\u001b[0m     \u001b[38;5;28mself\u001b[39m\u001b[38;5;241m.\u001b[39mdisconnect(cb)\n\u001b[0;32m    751\u001b[0m     \u001b[38;5;28;01mreturn\u001b[39;00m\n\u001b[1;32m--> 752\u001b[0m \u001b[43m_handle_exception\u001b[49m\u001b[43m(\u001b[49m\n\u001b[0;32m    753\u001b[0m \u001b[43m    \u001b[49m\u001b[38;5;28;43mself\u001b[39;49m\u001b[38;5;241;43m.\u001b[39;49m\u001b[43mignore_callback_errors\u001b[49m\u001b[43m,\u001b[49m\n\u001b[0;32m    754\u001b[0m \u001b[43m    \u001b[49m\u001b[38;5;28;43mself\u001b[39;49m\u001b[38;5;241;43m.\u001b[39;49m\u001b[43mprint_callback_errors\u001b[49m\u001b[43m,\u001b[49m\n\u001b[0;32m    755\u001b[0m \u001b[43m    \u001b[49m\u001b[38;5;28;43mself\u001b[39;49m\u001b[43m,\u001b[49m\n\u001b[0;32m    756\u001b[0m \u001b[43m    \u001b[49m\u001b[43mcb_event\u001b[49m\u001b[38;5;241;43m=\u001b[39;49m\u001b[43m(\u001b[49m\u001b[43mcb\u001b[49m\u001b[43m,\u001b[49m\u001b[43m \u001b[49m\u001b[43mevent\u001b[49m\u001b[43m)\u001b[49m\u001b[43m,\u001b[49m\n\u001b[0;32m    757\u001b[0m \u001b[43m\u001b[49m\u001b[43m)\u001b[49m\n",
      "File \u001b[1;32m~\\anaconda3\\envs\\np_workflows_v1\\lib\\site-packages\\napari\\utils\\events\\event.py:739\u001b[0m, in \u001b[0;36mEventEmitter._invoke_callback\u001b[1;34m(self, cb, event)\u001b[0m\n\u001b[0;32m    737\u001b[0m \u001b[38;5;28;01mtry\u001b[39;00m:\n\u001b[0;32m    738\u001b[0m     \u001b[38;5;28;01mif\u001b[39;00m event \u001b[38;5;129;01mis\u001b[39;00m \u001b[38;5;129;01mnot\u001b[39;00m \u001b[38;5;28;01mNone\u001b[39;00m:\n\u001b[1;32m--> 739\u001b[0m         \u001b[43mcb\u001b[49m\u001b[43m(\u001b[49m\u001b[43mevent\u001b[49m\u001b[43m)\u001b[49m\n\u001b[0;32m    740\u001b[0m     \u001b[38;5;28;01melse\u001b[39;00m:\n\u001b[0;32m    741\u001b[0m         cb()\n",
      "File \u001b[1;32m~\\anaconda3\\envs\\np_workflows_v1\\lib\\site-packages\\napari\\utils\\_magicgui.py:390\u001b[0m, in \u001b[0;36m_make_choice_data_setter.<locals>.setter\u001b[1;34m(event)\u001b[0m\n\u001b[0;32m    388\u001b[0m _gui \u001b[38;5;241m=\u001b[39m gui_ref()\n\u001b[0;32m    389\u001b[0m \u001b[38;5;28;01mif\u001b[39;00m _gui \u001b[38;5;129;01mis\u001b[39;00m \u001b[38;5;129;01mnot\u001b[39;00m \u001b[38;5;28;01mNone\u001b[39;00m:\n\u001b[1;32m--> 390\u001b[0m     \u001b[43m_gui\u001b[49m\u001b[38;5;241;43m.\u001b[39;49m\u001b[43mset_choice\u001b[49m\u001b[43m(\u001b[49m\u001b[43mchoice_name\u001b[49m\u001b[43m,\u001b[49m\u001b[43m \u001b[49m\u001b[43mevent\u001b[49m\u001b[38;5;241;43m.\u001b[39;49m\u001b[43mvalue\u001b[49m\u001b[43m)\u001b[49m\n",
      "File \u001b[1;32m~\\anaconda3\\envs\\np_workflows_v1\\lib\\site-packages\\magicgui\\widgets\\_bases\\categorical_widget.py:86\u001b[0m, in \u001b[0;36mCategoricalWidget.set_choice\u001b[1;34m(self, choice_name, data)\u001b[0m\n\u001b[0;32m     84\u001b[0m \u001b[38;5;28mself\u001b[39m\u001b[38;5;241m.\u001b[39m_widget\u001b[38;5;241m.\u001b[39m_mgui_set_choice(choice_name, data)\n\u001b[0;32m     85\u001b[0m \u001b[38;5;28;01mif\u001b[39;00m choice_name \u001b[38;5;241m==\u001b[39m \u001b[38;5;28mself\u001b[39m\u001b[38;5;241m.\u001b[39mcurrent_choice:\n\u001b[1;32m---> 86\u001b[0m     \u001b[38;5;28;43mself\u001b[39;49m\u001b[38;5;241;43m.\u001b[39;49m\u001b[43mchanged\u001b[49m\u001b[38;5;241;43m.\u001b[39;49m\u001b[43memit\u001b[49m\u001b[43m(\u001b[49m\u001b[38;5;28;43mself\u001b[39;49m\u001b[38;5;241;43m.\u001b[39;49m\u001b[43mvalue\u001b[49m\u001b[43m)\u001b[49m\n",
      "    \u001b[1;31m[... skipping similar frames: SignalInstance._run_emit_loop at line 85 (1 times), psygnal._signal.SignalInstance.emit at line 670 (1 times)]\u001b[0m\n",
      "File \u001b[1;32m~\\anaconda3\\envs\\np_workflows_v1\\lib\\site-packages\\magicgui\\widgets\\_bases\\container_widget.py:165\u001b[0m, in \u001b[0;36mContainerWidget.insert.<locals>.<lambda>\u001b[1;34m()\u001b[0m\n\u001b[0;32m    163\u001b[0m \u001b[38;5;124;03m\"\"\"Insert widget at ``key``.\"\"\"\u001b[39;00m\n\u001b[0;32m    164\u001b[0m \u001b[38;5;28;01mif\u001b[39;00m \u001b[38;5;28misinstance\u001b[39m(widget, (ValueWidget, ContainerWidget)):\n\u001b[1;32m--> 165\u001b[0m     widget\u001b[38;5;241m.\u001b[39mchanged\u001b[38;5;241m.\u001b[39mconnect(\u001b[38;5;28;01mlambda\u001b[39;00m: \u001b[38;5;28;43mself\u001b[39;49m\u001b[38;5;241;43m.\u001b[39;49m\u001b[43mchanged\u001b[49m\u001b[38;5;241;43m.\u001b[39;49m\u001b[43memit\u001b[49m\u001b[43m(\u001b[49m\u001b[38;5;28;43mself\u001b[39;49m\u001b[43m)\u001b[49m)\n\u001b[0;32m    166\u001b[0m _widget \u001b[38;5;241m=\u001b[39m widget\n\u001b[0;32m    168\u001b[0m \u001b[38;5;28;01mif\u001b[39;00m \u001b[38;5;28mself\u001b[39m\u001b[38;5;241m.\u001b[39mlabels:\n",
      "    \u001b[1;31m[... skipping similar frames: SignalInstance._run_emit_loop at line 85 (1 times), psygnal._signal.SignalInstance.emit at line 670 (1 times)]\u001b[0m\n",
      "File \u001b[1;32m~\\anaconda3\\envs\\np_workflows_v1\\lib\\site-packages\\magicgui\\widgets\\_function_gui.py:221\u001b[0m, in \u001b[0;36mFunctionGui._on_change\u001b[1;34m(self)\u001b[0m\n\u001b[0;32m    219\u001b[0m     \u001b[38;5;28mself\u001b[39m\u001b[38;5;241m.\u001b[39m_dump()\n\u001b[0;32m    220\u001b[0m \u001b[38;5;28;01mif\u001b[39;00m \u001b[38;5;28mself\u001b[39m\u001b[38;5;241m.\u001b[39m_auto_call:\n\u001b[1;32m--> 221\u001b[0m     \u001b[38;5;28;43mself\u001b[39;49m\u001b[43m(\u001b[49m\u001b[43m)\u001b[49m\n",
      "File \u001b[1;32m~\\anaconda3\\envs\\np_workflows_v1\\lib\\site-packages\\magicgui\\widgets\\_function_gui.py:303\u001b[0m, in \u001b[0;36mFunctionGui.__call__\u001b[1;34m(self, update_widget, *args, **kwargs)\u001b[0m\n\u001b[0;32m    301\u001b[0m \u001b[38;5;28mself\u001b[39m\u001b[38;5;241m.\u001b[39m_tqdm_depth \u001b[38;5;241m=\u001b[39m \u001b[38;5;241m0\u001b[39m  \u001b[38;5;66;03m# reset the tqdm stack count\u001b[39;00m\n\u001b[0;32m    302\u001b[0m \u001b[38;5;28;01mwith\u001b[39;00m _function_name_pointing_to_widget(\u001b[38;5;28mself\u001b[39m):\n\u001b[1;32m--> 303\u001b[0m     value \u001b[38;5;241m=\u001b[39m \u001b[38;5;28mself\u001b[39m\u001b[38;5;241m.\u001b[39m_function(\u001b[38;5;241m*\u001b[39mbound\u001b[38;5;241m.\u001b[39margs, \u001b[38;5;241m*\u001b[39m\u001b[38;5;241m*\u001b[39mbound\u001b[38;5;241m.\u001b[39mkwargs)\n\u001b[0;32m    305\u001b[0m \u001b[38;5;28mself\u001b[39m\u001b[38;5;241m.\u001b[39m_call_count \u001b[38;5;241m+\u001b[39m\u001b[38;5;241m=\u001b[39m \u001b[38;5;241m1\u001b[39m\n\u001b[0;32m    306\u001b[0m \u001b[38;5;28;01mif\u001b[39;00m \u001b[38;5;28mself\u001b[39m\u001b[38;5;241m.\u001b[39m_result_widget \u001b[38;5;129;01mis\u001b[39;00m \u001b[38;5;129;01mnot\u001b[39;00m \u001b[38;5;28;01mNone\u001b[39;00m:\n",
      "File \u001b[1;32mc:\\users\\ryans\\onedrive\\documents\\bia pol stuff\\napari workflow repositories\\napari-assistant\\napari_assistant\\_workflow_io_utility.py:167\u001b[0m, in \u001b[0;36mmake_flexible_gui.<locals>.worker_func\u001b[1;34m(*iargs, **ikwargs)\u001b[0m\n\u001b[0;32m    164\u001b[0m \u001b[38;5;28;01mtry\u001b[39;00m:\n\u001b[0;32m    165\u001b[0m     \u001b[38;5;66;03m# look for an existing layer\u001b[39;00m\n\u001b[0;32m    166\u001b[0m     target_layer \u001b[38;5;241m=\u001b[39m \u001b[38;5;28mnext\u001b[39m(x \u001b[38;5;28;01mfor\u001b[39;00m x \u001b[38;5;129;01min\u001b[39;00m viewer\u001b[38;5;241m.\u001b[39mlayers \u001b[38;5;28;01mif\u001b[39;00m x\u001b[38;5;241m.\u001b[39msource\u001b[38;5;241m.\u001b[39mwidget \u001b[38;5;129;01mis\u001b[39;00m gui)\n\u001b[1;32m--> 167\u001b[0m     target_layer\u001b[38;5;241m.\u001b[39mdata \u001b[38;5;241m=\u001b[39m data\n\u001b[0;32m    168\u001b[0m     target_layer\u001b[38;5;241m.\u001b[39mname \u001b[38;5;241m=\u001b[39m new_name\n\u001b[0;32m    169\u001b[0m     \u001b[38;5;66;03m# layer.translate = translate\u001b[39;00m\n",
      "File \u001b[1;32m~\\anaconda3\\envs\\np_workflows_v1\\lib\\site-packages\\napari\\layers\\labels\\labels.py:431\u001b[0m, in \u001b[0;36mLabels.data\u001b[1;34m(self, data)\u001b[0m\n\u001b[0;32m    429\u001b[0m \u001b[38;5;28mself\u001b[39m\u001b[38;5;241m.\u001b[39m_data \u001b[38;5;241m=\u001b[39m data\n\u001b[0;32m    430\u001b[0m \u001b[38;5;28mself\u001b[39m\u001b[38;5;241m.\u001b[39m_update_dims()\n\u001b[1;32m--> 431\u001b[0m \u001b[38;5;28;43mself\u001b[39;49m\u001b[38;5;241;43m.\u001b[39;49m\u001b[43mevents\u001b[49m\u001b[38;5;241;43m.\u001b[39;49m\u001b[43mdata\u001b[49m\u001b[43m(\u001b[49m\u001b[43mvalue\u001b[49m\u001b[38;5;241;43m=\u001b[39;49m\u001b[38;5;28;43mself\u001b[39;49m\u001b[38;5;241;43m.\u001b[39;49m\u001b[43mdata\u001b[49m\u001b[43m)\u001b[49m\n\u001b[0;32m    432\u001b[0m \u001b[38;5;28mself\u001b[39m\u001b[38;5;241m.\u001b[39m_set_editable()\n",
      "File \u001b[1;32m~\\anaconda3\\envs\\np_workflows_v1\\lib\\site-packages\\napari\\utils\\events\\event.py:715\u001b[0m, in \u001b[0;36mEventEmitter.__call__\u001b[1;34m(self, *args, **kwargs)\u001b[0m\n\u001b[0;32m    712\u001b[0m     \u001b[38;5;28mself\u001b[39m\u001b[38;5;241m.\u001b[39m_block_counter\u001b[38;5;241m.\u001b[39mupdate([cb])\n\u001b[0;32m    713\u001b[0m     \u001b[38;5;28;01mcontinue\u001b[39;00m\n\u001b[1;32m--> 715\u001b[0m \u001b[38;5;28;43mself\u001b[39;49m\u001b[38;5;241;43m.\u001b[39;49m\u001b[43m_invoke_callback\u001b[49m\u001b[43m(\u001b[49m\u001b[43mcb\u001b[49m\u001b[43m,\u001b[49m\u001b[43m \u001b[49m\u001b[43mevent\u001b[49m\u001b[43m \u001b[49m\u001b[38;5;28;43;01mif\u001b[39;49;00m\u001b[43m \u001b[49m\u001b[43mpass_event\u001b[49m\u001b[43m \u001b[49m\u001b[38;5;28;43;01melse\u001b[39;49;00m\u001b[43m \u001b[49m\u001b[38;5;28;43;01mNone\u001b[39;49;00m\u001b[43m)\u001b[49m\n\u001b[0;32m    716\u001b[0m \u001b[38;5;28;01mif\u001b[39;00m event\u001b[38;5;241m.\u001b[39mblocked:\n\u001b[0;32m    717\u001b[0m     \u001b[38;5;28;01mbreak\u001b[39;00m\n",
      "File \u001b[1;32m~\\anaconda3\\envs\\np_workflows_v1\\lib\\site-packages\\napari\\utils\\events\\event.py:752\u001b[0m, in \u001b[0;36mEventEmitter._invoke_callback\u001b[1;34m(self, cb, event)\u001b[0m\n\u001b[0;32m    750\u001b[0m     \u001b[38;5;28mself\u001b[39m\u001b[38;5;241m.\u001b[39mdisconnect(cb)\n\u001b[0;32m    751\u001b[0m     \u001b[38;5;28;01mreturn\u001b[39;00m\n\u001b[1;32m--> 752\u001b[0m \u001b[43m_handle_exception\u001b[49m\u001b[43m(\u001b[49m\n\u001b[0;32m    753\u001b[0m \u001b[43m    \u001b[49m\u001b[38;5;28;43mself\u001b[39;49m\u001b[38;5;241;43m.\u001b[39;49m\u001b[43mignore_callback_errors\u001b[49m\u001b[43m,\u001b[49m\n\u001b[0;32m    754\u001b[0m \u001b[43m    \u001b[49m\u001b[38;5;28;43mself\u001b[39;49m\u001b[38;5;241;43m.\u001b[39;49m\u001b[43mprint_callback_errors\u001b[49m\u001b[43m,\u001b[49m\n\u001b[0;32m    755\u001b[0m \u001b[43m    \u001b[49m\u001b[38;5;28;43mself\u001b[39;49m\u001b[43m,\u001b[49m\n\u001b[0;32m    756\u001b[0m \u001b[43m    \u001b[49m\u001b[43mcb_event\u001b[49m\u001b[38;5;241;43m=\u001b[39;49m\u001b[43m(\u001b[49m\u001b[43mcb\u001b[49m\u001b[43m,\u001b[49m\u001b[43m \u001b[49m\u001b[43mevent\u001b[49m\u001b[43m)\u001b[49m\u001b[43m,\u001b[49m\n\u001b[0;32m    757\u001b[0m \u001b[43m\u001b[49m\u001b[43m)\u001b[49m\n",
      "File \u001b[1;32m~\\anaconda3\\envs\\np_workflows_v1\\lib\\site-packages\\napari\\utils\\events\\event.py:739\u001b[0m, in \u001b[0;36mEventEmitter._invoke_callback\u001b[1;34m(self, cb, event)\u001b[0m\n\u001b[0;32m    737\u001b[0m \u001b[38;5;28;01mtry\u001b[39;00m:\n\u001b[0;32m    738\u001b[0m     \u001b[38;5;28;01mif\u001b[39;00m event \u001b[38;5;129;01mis\u001b[39;00m \u001b[38;5;129;01mnot\u001b[39;00m \u001b[38;5;28;01mNone\u001b[39;00m:\n\u001b[1;32m--> 739\u001b[0m         \u001b[43mcb\u001b[49m\u001b[43m(\u001b[49m\u001b[43mevent\u001b[49m\u001b[43m)\u001b[49m\n\u001b[0;32m    740\u001b[0m     \u001b[38;5;28;01melse\u001b[39;00m:\n\u001b[0;32m    741\u001b[0m         cb()\n",
      "File \u001b[1;32m~\\anaconda3\\envs\\np_workflows_v1\\lib\\site-packages\\napari\\utils\\_magicgui.py:390\u001b[0m, in \u001b[0;36m_make_choice_data_setter.<locals>.setter\u001b[1;34m(event)\u001b[0m\n\u001b[0;32m    388\u001b[0m _gui \u001b[38;5;241m=\u001b[39m gui_ref()\n\u001b[0;32m    389\u001b[0m \u001b[38;5;28;01mif\u001b[39;00m _gui \u001b[38;5;129;01mis\u001b[39;00m \u001b[38;5;129;01mnot\u001b[39;00m \u001b[38;5;28;01mNone\u001b[39;00m:\n\u001b[1;32m--> 390\u001b[0m     \u001b[43m_gui\u001b[49m\u001b[38;5;241;43m.\u001b[39;49m\u001b[43mset_choice\u001b[49m\u001b[43m(\u001b[49m\u001b[43mchoice_name\u001b[49m\u001b[43m,\u001b[49m\u001b[43m \u001b[49m\u001b[43mevent\u001b[49m\u001b[38;5;241;43m.\u001b[39;49m\u001b[43mvalue\u001b[49m\u001b[43m)\u001b[49m\n",
      "File \u001b[1;32m~\\anaconda3\\envs\\np_workflows_v1\\lib\\site-packages\\magicgui\\widgets\\_bases\\categorical_widget.py:86\u001b[0m, in \u001b[0;36mCategoricalWidget.set_choice\u001b[1;34m(self, choice_name, data)\u001b[0m\n\u001b[0;32m     84\u001b[0m \u001b[38;5;28mself\u001b[39m\u001b[38;5;241m.\u001b[39m_widget\u001b[38;5;241m.\u001b[39m_mgui_set_choice(choice_name, data)\n\u001b[0;32m     85\u001b[0m \u001b[38;5;28;01mif\u001b[39;00m choice_name \u001b[38;5;241m==\u001b[39m \u001b[38;5;28mself\u001b[39m\u001b[38;5;241m.\u001b[39mcurrent_choice:\n\u001b[1;32m---> 86\u001b[0m     \u001b[38;5;28;43mself\u001b[39;49m\u001b[38;5;241;43m.\u001b[39;49m\u001b[43mchanged\u001b[49m\u001b[38;5;241;43m.\u001b[39;49m\u001b[43memit\u001b[49m\u001b[43m(\u001b[49m\u001b[38;5;28;43mself\u001b[39;49m\u001b[38;5;241;43m.\u001b[39;49m\u001b[43mvalue\u001b[49m\u001b[43m)\u001b[49m\n",
      "    \u001b[1;31m[... skipping similar frames: SignalInstance._run_emit_loop at line 85 (340 times), psygnal._signal.SignalInstance.emit at line 670 (340 times), ContainerWidget.insert.<locals>.<lambda> at line 165 (170 times), FunctionGui.__call__ at line 303 (170 times), FunctionGui._on_change at line 221 (170 times), make_flexible_gui.<locals>.worker_func at line 167 (170 times), EventEmitter.__call__ at line 715 (169 times), EventEmitter._invoke_callback at line 752 (169 times), EventEmitter._invoke_callback at line 739 (169 times), Labels.data at line 431 (169 times), CategoricalWidget.set_choice at line 86 (169 times), _make_choice_data_setter.<locals>.setter at line 390 (169 times)]\u001b[0m\n",
      "File \u001b[1;32m~\\anaconda3\\envs\\np_workflows_v1\\lib\\site-packages\\napari\\layers\\labels\\labels.py:431\u001b[0m, in \u001b[0;36mLabels.data\u001b[1;34m(self, data)\u001b[0m\n\u001b[0;32m    429\u001b[0m \u001b[38;5;28mself\u001b[39m\u001b[38;5;241m.\u001b[39m_data \u001b[38;5;241m=\u001b[39m data\n\u001b[0;32m    430\u001b[0m \u001b[38;5;28mself\u001b[39m\u001b[38;5;241m.\u001b[39m_update_dims()\n\u001b[1;32m--> 431\u001b[0m \u001b[38;5;28;43mself\u001b[39;49m\u001b[38;5;241;43m.\u001b[39;49m\u001b[43mevents\u001b[49m\u001b[38;5;241;43m.\u001b[39;49m\u001b[43mdata\u001b[49m\u001b[43m(\u001b[49m\u001b[43mvalue\u001b[49m\u001b[38;5;241;43m=\u001b[39;49m\u001b[38;5;28;43mself\u001b[39;49m\u001b[38;5;241;43m.\u001b[39;49m\u001b[43mdata\u001b[49m\u001b[43m)\u001b[49m\n\u001b[0;32m    432\u001b[0m \u001b[38;5;28mself\u001b[39m\u001b[38;5;241m.\u001b[39m_set_editable()\n",
      "File \u001b[1;32m~\\anaconda3\\envs\\np_workflows_v1\\lib\\site-packages\\napari\\utils\\events\\event.py:715\u001b[0m, in \u001b[0;36mEventEmitter.__call__\u001b[1;34m(self, *args, **kwargs)\u001b[0m\n\u001b[0;32m    712\u001b[0m     \u001b[38;5;28mself\u001b[39m\u001b[38;5;241m.\u001b[39m_block_counter\u001b[38;5;241m.\u001b[39mupdate([cb])\n\u001b[0;32m    713\u001b[0m     \u001b[38;5;28;01mcontinue\u001b[39;00m\n\u001b[1;32m--> 715\u001b[0m \u001b[38;5;28;43mself\u001b[39;49m\u001b[38;5;241;43m.\u001b[39;49m\u001b[43m_invoke_callback\u001b[49m\u001b[43m(\u001b[49m\u001b[43mcb\u001b[49m\u001b[43m,\u001b[49m\u001b[43m \u001b[49m\u001b[43mevent\u001b[49m\u001b[43m \u001b[49m\u001b[38;5;28;43;01mif\u001b[39;49;00m\u001b[43m \u001b[49m\u001b[43mpass_event\u001b[49m\u001b[43m \u001b[49m\u001b[38;5;28;43;01melse\u001b[39;49;00m\u001b[43m \u001b[49m\u001b[38;5;28;43;01mNone\u001b[39;49;00m\u001b[43m)\u001b[49m\n\u001b[0;32m    716\u001b[0m \u001b[38;5;28;01mif\u001b[39;00m event\u001b[38;5;241m.\u001b[39mblocked:\n\u001b[0;32m    717\u001b[0m     \u001b[38;5;28;01mbreak\u001b[39;00m\n",
      "File \u001b[1;32m~\\anaconda3\\envs\\np_workflows_v1\\lib\\site-packages\\napari\\utils\\events\\event.py:752\u001b[0m, in \u001b[0;36mEventEmitter._invoke_callback\u001b[1;34m(self, cb, event)\u001b[0m\n\u001b[0;32m    750\u001b[0m     \u001b[38;5;28mself\u001b[39m\u001b[38;5;241m.\u001b[39mdisconnect(cb)\n\u001b[0;32m    751\u001b[0m     \u001b[38;5;28;01mreturn\u001b[39;00m\n\u001b[1;32m--> 752\u001b[0m \u001b[43m_handle_exception\u001b[49m\u001b[43m(\u001b[49m\n\u001b[0;32m    753\u001b[0m \u001b[43m    \u001b[49m\u001b[38;5;28;43mself\u001b[39;49m\u001b[38;5;241;43m.\u001b[39;49m\u001b[43mignore_callback_errors\u001b[49m\u001b[43m,\u001b[49m\n\u001b[0;32m    754\u001b[0m \u001b[43m    \u001b[49m\u001b[38;5;28;43mself\u001b[39;49m\u001b[38;5;241;43m.\u001b[39;49m\u001b[43mprint_callback_errors\u001b[49m\u001b[43m,\u001b[49m\n\u001b[0;32m    755\u001b[0m \u001b[43m    \u001b[49m\u001b[38;5;28;43mself\u001b[39;49m\u001b[43m,\u001b[49m\n\u001b[0;32m    756\u001b[0m \u001b[43m    \u001b[49m\u001b[43mcb_event\u001b[49m\u001b[38;5;241;43m=\u001b[39;49m\u001b[43m(\u001b[49m\u001b[43mcb\u001b[49m\u001b[43m,\u001b[49m\u001b[43m \u001b[49m\u001b[43mevent\u001b[49m\u001b[43m)\u001b[49m\u001b[43m,\u001b[49m\n\u001b[0;32m    757\u001b[0m \u001b[43m\u001b[49m\u001b[43m)\u001b[49m\n",
      "File \u001b[1;32m~\\anaconda3\\envs\\np_workflows_v1\\lib\\site-packages\\napari\\utils\\events\\event.py:739\u001b[0m, in \u001b[0;36mEventEmitter._invoke_callback\u001b[1;34m(self, cb, event)\u001b[0m\n\u001b[0;32m    737\u001b[0m \u001b[38;5;28;01mtry\u001b[39;00m:\n\u001b[0;32m    738\u001b[0m     \u001b[38;5;28;01mif\u001b[39;00m event \u001b[38;5;129;01mis\u001b[39;00m \u001b[38;5;129;01mnot\u001b[39;00m \u001b[38;5;28;01mNone\u001b[39;00m:\n\u001b[1;32m--> 739\u001b[0m         \u001b[43mcb\u001b[49m\u001b[43m(\u001b[49m\u001b[43mevent\u001b[49m\u001b[43m)\u001b[49m\n\u001b[0;32m    740\u001b[0m     \u001b[38;5;28;01melse\u001b[39;00m:\n\u001b[0;32m    741\u001b[0m         cb()\n",
      "File \u001b[1;32m~\\anaconda3\\envs\\np_workflows_v1\\lib\\site-packages\\napari\\utils\\_magicgui.py:390\u001b[0m, in \u001b[0;36m_make_choice_data_setter.<locals>.setter\u001b[1;34m(event)\u001b[0m\n\u001b[0;32m    388\u001b[0m _gui \u001b[38;5;241m=\u001b[39m gui_ref()\n\u001b[0;32m    389\u001b[0m \u001b[38;5;28;01mif\u001b[39;00m _gui \u001b[38;5;129;01mis\u001b[39;00m \u001b[38;5;129;01mnot\u001b[39;00m \u001b[38;5;28;01mNone\u001b[39;00m:\n\u001b[1;32m--> 390\u001b[0m     \u001b[43m_gui\u001b[49m\u001b[38;5;241;43m.\u001b[39;49m\u001b[43mset_choice\u001b[49m\u001b[43m(\u001b[49m\u001b[43mchoice_name\u001b[49m\u001b[43m,\u001b[49m\u001b[43m \u001b[49m\u001b[43mevent\u001b[49m\u001b[38;5;241;43m.\u001b[39;49m\u001b[43mvalue\u001b[49m\u001b[43m)\u001b[49m\n",
      "File \u001b[1;32m~\\anaconda3\\envs\\np_workflows_v1\\lib\\site-packages\\magicgui\\widgets\\_bases\\categorical_widget.py:86\u001b[0m, in \u001b[0;36mCategoricalWidget.set_choice\u001b[1;34m(self, choice_name, data)\u001b[0m\n\u001b[0;32m     84\u001b[0m \u001b[38;5;28mself\u001b[39m\u001b[38;5;241m.\u001b[39m_widget\u001b[38;5;241m.\u001b[39m_mgui_set_choice(choice_name, data)\n\u001b[0;32m     85\u001b[0m \u001b[38;5;28;01mif\u001b[39;00m choice_name \u001b[38;5;241m==\u001b[39m \u001b[38;5;28mself\u001b[39m\u001b[38;5;241m.\u001b[39mcurrent_choice:\n\u001b[1;32m---> 86\u001b[0m     \u001b[38;5;28;43mself\u001b[39;49m\u001b[38;5;241;43m.\u001b[39;49m\u001b[43mchanged\u001b[49m\u001b[38;5;241;43m.\u001b[39;49m\u001b[43memit\u001b[49m\u001b[43m(\u001b[49m\u001b[38;5;28;43mself\u001b[39;49m\u001b[38;5;241;43m.\u001b[39;49m\u001b[43mvalue\u001b[49m\u001b[43m)\u001b[49m\n",
      "    \u001b[1;31m[... skipping similar frames: SignalInstance._run_emit_loop at line 85 (1 times), psygnal._signal.SignalInstance.emit at line 670 (1 times)]\u001b[0m\n",
      "File \u001b[1;32m~\\anaconda3\\envs\\np_workflows_v1\\lib\\site-packages\\magicgui\\widgets\\_bases\\container_widget.py:165\u001b[0m, in \u001b[0;36mContainerWidget.insert.<locals>.<lambda>\u001b[1;34m()\u001b[0m\n\u001b[0;32m    163\u001b[0m \u001b[38;5;124;03m\"\"\"Insert widget at ``key``.\"\"\"\u001b[39;00m\n\u001b[0;32m    164\u001b[0m \u001b[38;5;28;01mif\u001b[39;00m \u001b[38;5;28misinstance\u001b[39m(widget, (ValueWidget, ContainerWidget)):\n\u001b[1;32m--> 165\u001b[0m     widget\u001b[38;5;241m.\u001b[39mchanged\u001b[38;5;241m.\u001b[39mconnect(\u001b[38;5;28;01mlambda\u001b[39;00m: \u001b[38;5;28;43mself\u001b[39;49m\u001b[38;5;241;43m.\u001b[39;49m\u001b[43mchanged\u001b[49m\u001b[38;5;241;43m.\u001b[39;49m\u001b[43memit\u001b[49m\u001b[43m(\u001b[49m\u001b[38;5;28;43mself\u001b[39;49m\u001b[43m)\u001b[49m)\n\u001b[0;32m    166\u001b[0m _widget \u001b[38;5;241m=\u001b[39m widget\n\u001b[0;32m    168\u001b[0m \u001b[38;5;28;01mif\u001b[39;00m \u001b[38;5;28mself\u001b[39m\u001b[38;5;241m.\u001b[39mlabels:\n",
      "File \u001b[1;32m~\\anaconda3\\envs\\np_workflows_v1\\lib\\site-packages\\psygnal\\_signal.py:670\u001b[0m, in \u001b[0;36mpsygnal._signal.SignalInstance.emit\u001b[1;34m()\u001b[0m\n",
      "File \u001b[1;32m~\\anaconda3\\envs\\np_workflows_v1\\lib\\site-packages\\magicgui\\events.py:85\u001b[0m, in \u001b[0;36mSignalInstance._run_emit_loop\u001b[1;34m(self, args)\u001b[0m\n\u001b[0;32m     83\u001b[0m \u001b[38;5;66;03m# TODO: add better exception handling\u001b[39;00m\n\u001b[0;32m     84\u001b[0m \u001b[38;5;28;01mif\u001b[39;00m \u001b[38;5;28mself\u001b[39m\u001b[38;5;241m.\u001b[39m_new_callback\u001b[38;5;241m.\u001b[39mget(slot):\n\u001b[1;32m---> 85\u001b[0m     \u001b[43mcb\u001b[49m\u001b[43m(\u001b[49m\u001b[38;5;241;43m*\u001b[39;49m\u001b[43margs\u001b[49m\u001b[43m[\u001b[49m\u001b[43m:\u001b[49m\u001b[43mmax_args\u001b[49m\u001b[43m]\u001b[49m\u001b[43m)\u001b[49m\n\u001b[0;32m     86\u001b[0m \u001b[38;5;28;01melse\u001b[39;00m:\n\u001b[0;32m     87\u001b[0m     cb(Event(args[\u001b[38;5;241m0\u001b[39m], \u001b[38;5;28mself\u001b[39m\u001b[38;5;241m.\u001b[39mname, \u001b[38;5;28mself\u001b[39m\u001b[38;5;241m.\u001b[39minstance))\n",
      "File \u001b[1;32m~\\anaconda3\\envs\\np_workflows_v1\\lib\\site-packages\\magicgui\\widgets\\_function_gui.py:221\u001b[0m, in \u001b[0;36mFunctionGui._on_change\u001b[1;34m(self)\u001b[0m\n\u001b[0;32m    219\u001b[0m     \u001b[38;5;28mself\u001b[39m\u001b[38;5;241m.\u001b[39m_dump()\n\u001b[0;32m    220\u001b[0m \u001b[38;5;28;01mif\u001b[39;00m \u001b[38;5;28mself\u001b[39m\u001b[38;5;241m.\u001b[39m_auto_call:\n\u001b[1;32m--> 221\u001b[0m     \u001b[38;5;28;43mself\u001b[39;49m\u001b[43m(\u001b[49m\u001b[43m)\u001b[49m\n",
      "File \u001b[1;32m~\\anaconda3\\envs\\np_workflows_v1\\lib\\site-packages\\magicgui\\widgets\\_function_gui.py:303\u001b[0m, in \u001b[0;36mFunctionGui.__call__\u001b[1;34m(self, update_widget, *args, **kwargs)\u001b[0m\n\u001b[0;32m    301\u001b[0m \u001b[38;5;28mself\u001b[39m\u001b[38;5;241m.\u001b[39m_tqdm_depth \u001b[38;5;241m=\u001b[39m \u001b[38;5;241m0\u001b[39m  \u001b[38;5;66;03m# reset the tqdm stack count\u001b[39;00m\n\u001b[0;32m    302\u001b[0m \u001b[38;5;28;01mwith\u001b[39;00m _function_name_pointing_to_widget(\u001b[38;5;28mself\u001b[39m):\n\u001b[1;32m--> 303\u001b[0m     value \u001b[38;5;241m=\u001b[39m \u001b[38;5;28mself\u001b[39m\u001b[38;5;241m.\u001b[39m_function(\u001b[38;5;241m*\u001b[39mbound\u001b[38;5;241m.\u001b[39margs, \u001b[38;5;241m*\u001b[39m\u001b[38;5;241m*\u001b[39mbound\u001b[38;5;241m.\u001b[39mkwargs)\n\u001b[0;32m    305\u001b[0m \u001b[38;5;28mself\u001b[39m\u001b[38;5;241m.\u001b[39m_call_count \u001b[38;5;241m+\u001b[39m\u001b[38;5;241m=\u001b[39m \u001b[38;5;241m1\u001b[39m\n\u001b[0;32m    306\u001b[0m \u001b[38;5;28;01mif\u001b[39;00m \u001b[38;5;28mself\u001b[39m\u001b[38;5;241m.\u001b[39m_result_widget \u001b[38;5;129;01mis\u001b[39;00m \u001b[38;5;129;01mnot\u001b[39;00m \u001b[38;5;28;01mNone\u001b[39;00m:\n",
      "File \u001b[1;32mc:\\users\\ryans\\onedrive\\documents\\bia pol stuff\\napari workflow repositories\\napari-assistant\\napari_assistant\\_workflow_io_utility.py:167\u001b[0m, in \u001b[0;36mmake_flexible_gui.<locals>.worker_func\u001b[1;34m(*iargs, **ikwargs)\u001b[0m\n\u001b[0;32m    164\u001b[0m \u001b[38;5;28;01mtry\u001b[39;00m:\n\u001b[0;32m    165\u001b[0m     \u001b[38;5;66;03m# look for an existing layer\u001b[39;00m\n\u001b[0;32m    166\u001b[0m     target_layer \u001b[38;5;241m=\u001b[39m \u001b[38;5;28mnext\u001b[39m(x \u001b[38;5;28;01mfor\u001b[39;00m x \u001b[38;5;129;01min\u001b[39;00m viewer\u001b[38;5;241m.\u001b[39mlayers \u001b[38;5;28;01mif\u001b[39;00m x\u001b[38;5;241m.\u001b[39msource\u001b[38;5;241m.\u001b[39mwidget \u001b[38;5;129;01mis\u001b[39;00m gui)\n\u001b[1;32m--> 167\u001b[0m     target_layer\u001b[38;5;241m.\u001b[39mdata \u001b[38;5;241m=\u001b[39m data\n\u001b[0;32m    168\u001b[0m     target_layer\u001b[38;5;241m.\u001b[39mname \u001b[38;5;241m=\u001b[39m new_name\n\u001b[0;32m    169\u001b[0m     \u001b[38;5;66;03m# layer.translate = translate\u001b[39;00m\n",
      "File \u001b[1;32m~\\anaconda3\\envs\\np_workflows_v1\\lib\\site-packages\\napari\\layers\\labels\\labels.py:430\u001b[0m, in \u001b[0;36mLabels.data\u001b[1;34m(self, data)\u001b[0m\n\u001b[0;32m    428\u001b[0m data \u001b[38;5;241m=\u001b[39m \u001b[38;5;28mself\u001b[39m\u001b[38;5;241m.\u001b[39m_ensure_int_labels(data)\n\u001b[0;32m    429\u001b[0m \u001b[38;5;28mself\u001b[39m\u001b[38;5;241m.\u001b[39m_data \u001b[38;5;241m=\u001b[39m data\n\u001b[1;32m--> 430\u001b[0m \u001b[38;5;28;43mself\u001b[39;49m\u001b[38;5;241;43m.\u001b[39;49m\u001b[43m_update_dims\u001b[49m\u001b[43m(\u001b[49m\u001b[43m)\u001b[49m\n\u001b[0;32m    431\u001b[0m \u001b[38;5;28mself\u001b[39m\u001b[38;5;241m.\u001b[39mevents\u001b[38;5;241m.\u001b[39mdata(value\u001b[38;5;241m=\u001b[39m\u001b[38;5;28mself\u001b[39m\u001b[38;5;241m.\u001b[39mdata)\n\u001b[0;32m    432\u001b[0m \u001b[38;5;28mself\u001b[39m\u001b[38;5;241m.\u001b[39m_set_editable()\n",
      "File \u001b[1;32m~\\anaconda3\\envs\\np_workflows_v1\\lib\\site-packages\\napari\\layers\\base\\base.py:675\u001b[0m, in \u001b[0;36mLayer._update_dims\u001b[1;34m(self, event)\u001b[0m\n\u001b[0;32m    672\u001b[0m \u001b[38;5;28;01mif\u001b[39;00m \u001b[38;5;124m'\u001b[39m\u001b[38;5;124mextent\u001b[39m\u001b[38;5;124m'\u001b[39m \u001b[38;5;129;01min\u001b[39;00m \u001b[38;5;28mself\u001b[39m\u001b[38;5;241m.\u001b[39m\u001b[38;5;18m__dict__\u001b[39m:\n\u001b[0;32m    673\u001b[0m     \u001b[38;5;28;01mdel\u001b[39;00m \u001b[38;5;28mself\u001b[39m\u001b[38;5;241m.\u001b[39mextent\n\u001b[1;32m--> 675\u001b[0m \u001b[38;5;28;43mself\u001b[39;49m\u001b[38;5;241;43m.\u001b[39;49m\u001b[43mrefresh\u001b[49m\u001b[43m(\u001b[49m\u001b[43m)\u001b[49m\n",
      "File \u001b[1;32m~\\anaconda3\\envs\\np_workflows_v1\\lib\\site-packages\\napari\\layers\\base\\base.py:1173\u001b[0m, in \u001b[0;36mLayer.refresh\u001b[1;34m(self, event)\u001b[0m\n\u001b[0;32m   1171\u001b[0m \u001b[38;5;28;01mif\u001b[39;00m \u001b[38;5;28mself\u001b[39m\u001b[38;5;241m.\u001b[39mvisible:\n\u001b[0;32m   1172\u001b[0m     \u001b[38;5;28mself\u001b[39m\u001b[38;5;241m.\u001b[39mset_view_slice()\n\u001b[1;32m-> 1173\u001b[0m     \u001b[38;5;28;43mself\u001b[39;49m\u001b[38;5;241;43m.\u001b[39;49m\u001b[43mevents\u001b[49m\u001b[38;5;241;43m.\u001b[39;49m\u001b[43mset_data\u001b[49m\u001b[43m(\u001b[49m\u001b[43m)\u001b[49m\n\u001b[0;32m   1174\u001b[0m     \u001b[38;5;28mself\u001b[39m\u001b[38;5;241m.\u001b[39m_update_thumbnail()\n\u001b[0;32m   1175\u001b[0m     \u001b[38;5;28mself\u001b[39m\u001b[38;5;241m.\u001b[39m_set_highlight(force\u001b[38;5;241m=\u001b[39m\u001b[38;5;28;01mTrue\u001b[39;00m)\n",
      "File \u001b[1;32m~\\anaconda3\\envs\\np_workflows_v1\\lib\\site-packages\\napari\\utils\\events\\event.py:715\u001b[0m, in \u001b[0;36mEventEmitter.__call__\u001b[1;34m(self, *args, **kwargs)\u001b[0m\n\u001b[0;32m    712\u001b[0m     \u001b[38;5;28mself\u001b[39m\u001b[38;5;241m.\u001b[39m_block_counter\u001b[38;5;241m.\u001b[39mupdate([cb])\n\u001b[0;32m    713\u001b[0m     \u001b[38;5;28;01mcontinue\u001b[39;00m\n\u001b[1;32m--> 715\u001b[0m \u001b[38;5;28;43mself\u001b[39;49m\u001b[38;5;241;43m.\u001b[39;49m\u001b[43m_invoke_callback\u001b[49m\u001b[43m(\u001b[49m\u001b[43mcb\u001b[49m\u001b[43m,\u001b[49m\u001b[43m \u001b[49m\u001b[43mevent\u001b[49m\u001b[43m \u001b[49m\u001b[38;5;28;43;01mif\u001b[39;49;00m\u001b[43m \u001b[49m\u001b[43mpass_event\u001b[49m\u001b[43m \u001b[49m\u001b[38;5;28;43;01melse\u001b[39;49;00m\u001b[43m \u001b[49m\u001b[38;5;28;43;01mNone\u001b[39;49;00m\u001b[43m)\u001b[49m\n\u001b[0;32m    716\u001b[0m \u001b[38;5;28;01mif\u001b[39;00m event\u001b[38;5;241m.\u001b[39mblocked:\n\u001b[0;32m    717\u001b[0m     \u001b[38;5;28;01mbreak\u001b[39;00m\n",
      "File \u001b[1;32m~\\anaconda3\\envs\\np_workflows_v1\\lib\\site-packages\\napari\\utils\\events\\event.py:752\u001b[0m, in \u001b[0;36mEventEmitter._invoke_callback\u001b[1;34m(self, cb, event)\u001b[0m\n\u001b[0;32m    750\u001b[0m     \u001b[38;5;28mself\u001b[39m\u001b[38;5;241m.\u001b[39mdisconnect(cb)\n\u001b[0;32m    751\u001b[0m     \u001b[38;5;28;01mreturn\u001b[39;00m\n\u001b[1;32m--> 752\u001b[0m \u001b[43m_handle_exception\u001b[49m\u001b[43m(\u001b[49m\n\u001b[0;32m    753\u001b[0m \u001b[43m    \u001b[49m\u001b[38;5;28;43mself\u001b[39;49m\u001b[38;5;241;43m.\u001b[39;49m\u001b[43mignore_callback_errors\u001b[49m\u001b[43m,\u001b[49m\n\u001b[0;32m    754\u001b[0m \u001b[43m    \u001b[49m\u001b[38;5;28;43mself\u001b[39;49m\u001b[38;5;241;43m.\u001b[39;49m\u001b[43mprint_callback_errors\u001b[49m\u001b[43m,\u001b[49m\n\u001b[0;32m    755\u001b[0m \u001b[43m    \u001b[49m\u001b[38;5;28;43mself\u001b[39;49m\u001b[43m,\u001b[49m\n\u001b[0;32m    756\u001b[0m \u001b[43m    \u001b[49m\u001b[43mcb_event\u001b[49m\u001b[38;5;241;43m=\u001b[39;49m\u001b[43m(\u001b[49m\u001b[43mcb\u001b[49m\u001b[43m,\u001b[49m\u001b[43m \u001b[49m\u001b[43mevent\u001b[49m\u001b[43m)\u001b[49m\u001b[43m,\u001b[49m\n\u001b[0;32m    757\u001b[0m \u001b[43m\u001b[49m\u001b[43m)\u001b[49m\n",
      "File \u001b[1;32m~\\anaconda3\\envs\\np_workflows_v1\\lib\\site-packages\\napari\\utils\\events\\event.py:741\u001b[0m, in \u001b[0;36mEventEmitter._invoke_callback\u001b[1;34m(self, cb, event)\u001b[0m\n\u001b[0;32m    739\u001b[0m         cb(event)\n\u001b[0;32m    740\u001b[0m     \u001b[38;5;28;01melse\u001b[39;00m:\n\u001b[1;32m--> 741\u001b[0m         \u001b[43mcb\u001b[49m\u001b[43m(\u001b[49m\u001b[43m)\u001b[49m\n\u001b[0;32m    742\u001b[0m \u001b[38;5;28;01mexcept\u001b[39;00m \u001b[38;5;167;01mException\u001b[39;00m \u001b[38;5;28;01mas\u001b[39;00m e:\n\u001b[0;32m    743\u001b[0m     \u001b[38;5;66;03m# dead Qt object with living python pointer. not importing Qt\u001b[39;00m\n\u001b[0;32m    744\u001b[0m     \u001b[38;5;66;03m# here... but this error is consistent across backends\u001b[39;00m\n\u001b[0;32m    745\u001b[0m     \u001b[38;5;28;01mif\u001b[39;00m (\n\u001b[0;32m    746\u001b[0m         \u001b[38;5;28misinstance\u001b[39m(e, \u001b[38;5;167;01mRuntimeError\u001b[39;00m)\n\u001b[0;32m    747\u001b[0m         \u001b[38;5;129;01mand\u001b[39;00m \u001b[38;5;124m'\u001b[39m\u001b[38;5;124mC++\u001b[39m\u001b[38;5;124m'\u001b[39m \u001b[38;5;129;01min\u001b[39;00m \u001b[38;5;28mstr\u001b[39m(e)\n\u001b[0;32m    748\u001b[0m         \u001b[38;5;129;01mand\u001b[39;00m \u001b[38;5;28mstr\u001b[39m(e)\u001b[38;5;241m.\u001b[39mendswith((\u001b[38;5;124m'\u001b[39m\u001b[38;5;124mhas been deleted\u001b[39m\u001b[38;5;124m'\u001b[39m, \u001b[38;5;124m'\u001b[39m\u001b[38;5;124malready deleted.\u001b[39m\u001b[38;5;124m'\u001b[39m))\n\u001b[0;32m    749\u001b[0m     ):\n",
      "File \u001b[1;32m~\\anaconda3\\envs\\np_workflows_v1\\lib\\site-packages\\napari\\_vispy\\layers\\image.py:116\u001b[0m, in \u001b[0;36mVispyImageLayer._on_data_change\u001b[1;34m(self)\u001b[0m\n\u001b[0;32m    111\u001b[0m \u001b[38;5;28;01mif\u001b[39;00m \u001b[38;5;129;01mnot\u001b[39;00m \u001b[38;5;28mself\u001b[39m\u001b[38;5;241m.\u001b[39mlayer\u001b[38;5;241m.\u001b[39mloaded:\n\u001b[0;32m    112\u001b[0m     \u001b[38;5;66;03m# Do nothing if we are not yet loaded. Calling astype below could\u001b[39;00m\n\u001b[0;32m    113\u001b[0m     \u001b[38;5;66;03m# be very expensive. Lets not do it until our data has been loaded.\u001b[39;00m\n\u001b[0;32m    114\u001b[0m     \u001b[38;5;28;01mreturn\u001b[39;00m\n\u001b[1;32m--> 116\u001b[0m \u001b[38;5;28;43mself\u001b[39;49m\u001b[38;5;241;43m.\u001b[39;49m\u001b[43m_set_node_data\u001b[49m\u001b[43m(\u001b[49m\u001b[38;5;28;43mself\u001b[39;49m\u001b[38;5;241;43m.\u001b[39;49m\u001b[43mnode\u001b[49m\u001b[43m,\u001b[49m\u001b[43m \u001b[49m\u001b[38;5;28;43mself\u001b[39;49m\u001b[38;5;241;43m.\u001b[39;49m\u001b[43mlayer\u001b[49m\u001b[38;5;241;43m.\u001b[39;49m\u001b[43m_data_view\u001b[49m\u001b[43m)\u001b[49m\n",
      "File \u001b[1;32m~\\anaconda3\\envs\\np_workflows_v1\\lib\\site-packages\\napari\\_vispy\\layers\\image.py:148\u001b[0m, in \u001b[0;36mVispyImageLayer._set_node_data\u001b[1;34m(self, node, data)\u001b[0m\n\u001b[0;32m    145\u001b[0m     node\u001b[38;5;241m.\u001b[39mvisible \u001b[38;5;241m=\u001b[39m \u001b[38;5;28mself\u001b[39m\u001b[38;5;241m.\u001b[39mlayer\u001b[38;5;241m.\u001b[39mvisible\n\u001b[0;32m    147\u001b[0m \u001b[38;5;66;03m# Call to update order of translation values with new dims:\u001b[39;00m\n\u001b[1;32m--> 148\u001b[0m \u001b[38;5;28;43mself\u001b[39;49m\u001b[38;5;241;43m.\u001b[39;49m\u001b[43m_on_matrix_change\u001b[49m\u001b[43m(\u001b[49m\u001b[43m)\u001b[49m\n\u001b[0;32m    149\u001b[0m node\u001b[38;5;241m.\u001b[39mupdate()\n",
      "File \u001b[1;32m~\\anaconda3\\envs\\np_workflows_v1\\lib\\site-packages\\napari\\_vispy\\layers\\base.py:126\u001b[0m, in \u001b[0;36mVispyBaseLayer._on_matrix_change\u001b[1;34m(self)\u001b[0m\n\u001b[0;32m    125\u001b[0m \u001b[38;5;28;01mdef\u001b[39;00m \u001b[38;5;21m_on_matrix_change\u001b[39m(\u001b[38;5;28mself\u001b[39m):\n\u001b[1;32m--> 126\u001b[0m     transform \u001b[38;5;241m=\u001b[39m \u001b[38;5;28;43mself\u001b[39;49m\u001b[38;5;241;43m.\u001b[39;49m\u001b[43mlayer\u001b[49m\u001b[38;5;241;43m.\u001b[39;49m\u001b[43m_transforms\u001b[49m\u001b[38;5;241;43m.\u001b[39;49m\u001b[43msimplified\u001b[49m\u001b[38;5;241m.\u001b[39mset_slice(\n\u001b[0;32m    127\u001b[0m         \u001b[38;5;28mself\u001b[39m\u001b[38;5;241m.\u001b[39mlayer\u001b[38;5;241m.\u001b[39m_dims_displayed\n\u001b[0;32m    128\u001b[0m     )\n\u001b[0;32m    129\u001b[0m     \u001b[38;5;66;03m# convert NumPy axis ordering to VisPy axis ordering\u001b[39;00m\n\u001b[0;32m    130\u001b[0m     \u001b[38;5;66;03m# by reversing the axes order and flipping the linear\u001b[39;00m\n\u001b[0;32m    131\u001b[0m     \u001b[38;5;66;03m# matrix\u001b[39;00m\n\u001b[0;32m    132\u001b[0m     translate \u001b[38;5;241m=\u001b[39m transform\u001b[38;5;241m.\u001b[39mtranslate[::\u001b[38;5;241m-\u001b[39m\u001b[38;5;241m1\u001b[39m]\n",
      "File \u001b[1;32m~\\anaconda3\\envs\\np_workflows_v1\\lib\\site-packages\\napari\\utils\\transforms\\transforms.py:130\u001b[0m, in \u001b[0;36mTransformChain.simplified\u001b[1;34m(self)\u001b[0m\n\u001b[0;32m    128\u001b[0m     \u001b[38;5;28;01mreturn\u001b[39;00m \u001b[38;5;28mself\u001b[39m[\u001b[38;5;241m0\u001b[39m]\n\u001b[0;32m    129\u001b[0m \u001b[38;5;28;01melse\u001b[39;00m:\n\u001b[1;32m--> 130\u001b[0m     \u001b[38;5;28;01mreturn\u001b[39;00m tz\u001b[38;5;241m.\u001b[39mpipe(\u001b[38;5;28mself\u001b[39m[\u001b[38;5;241m0\u001b[39m], \u001b[38;5;241m*\u001b[39m[tf\u001b[38;5;241m.\u001b[39mcompose \u001b[38;5;28;01mfor\u001b[39;00m tf \u001b[38;5;129;01min\u001b[39;00m \u001b[38;5;28;43mself\u001b[39;49m\u001b[43m[\u001b[49m\u001b[38;5;241;43m1\u001b[39;49m\u001b[43m:\u001b[49m\u001b[43m]\u001b[49m])\n",
      "File \u001b[1;32m~\\anaconda3\\envs\\np_workflows_v1\\lib\\site-packages\\napari\\utils\\events\\containers\\_typed.py:150\u001b[0m, in \u001b[0;36mTypedMutableSequence.__getitem__\u001b[1;34m(self, key)\u001b[0m\n\u001b[0;32m    147\u001b[0m         \u001b[38;5;28;01mraise\u001b[39;00m \u001b[38;5;167;01mKeyError\u001b[39;00m(\u001b[38;5;28mstr\u001b[39m(e)) \u001b[38;5;28;01mfrom\u001b[39;00m \u001b[38;5;21;01me\u001b[39;00m\n\u001b[0;32m    149\u001b[0m result \u001b[38;5;241m=\u001b[39m \u001b[38;5;28mself\u001b[39m\u001b[38;5;241m.\u001b[39m_list[key]\n\u001b[1;32m--> 150\u001b[0m \u001b[38;5;28;01mreturn\u001b[39;00m \u001b[38;5;28;43mself\u001b[39;49m\u001b[38;5;241;43m.\u001b[39;49m\u001b[43m__newlike__\u001b[49m\u001b[43m(\u001b[49m\u001b[43mresult\u001b[49m\u001b[43m)\u001b[49m \u001b[38;5;28;01mif\u001b[39;00m \u001b[38;5;28misinstance\u001b[39m(result, \u001b[38;5;28mlist\u001b[39m) \u001b[38;5;28;01melse\u001b[39;00m result\n",
      "File \u001b[1;32m~\\anaconda3\\envs\\np_workflows_v1\\lib\\site-packages\\napari\\utils\\transforms\\transforms.py:115\u001b[0m, in \u001b[0;36mTransformChain.__newlike__\u001b[1;34m(self, iterable)\u001b[0m\n\u001b[0;32m    114\u001b[0m \u001b[38;5;28;01mdef\u001b[39;00m \u001b[38;5;21m__newlike__\u001b[39m(\u001b[38;5;28mself\u001b[39m, iterable):\n\u001b[1;32m--> 115\u001b[0m     \u001b[38;5;28;01mreturn\u001b[39;00m \u001b[43mTransformChain\u001b[49m\u001b[43m(\u001b[49m\u001b[43miterable\u001b[49m\u001b[43m)\u001b[49m\n",
      "File \u001b[1;32m~\\anaconda3\\envs\\np_workflows_v1\\lib\\site-packages\\napari\\utils\\transforms\\transforms.py:101\u001b[0m, in \u001b[0;36mTransformChain.__init__\u001b[1;34m(self, transforms)\u001b[0m\n\u001b[0;32m     99\u001b[0m \u001b[38;5;28;01mif\u001b[39;00m transforms \u001b[38;5;129;01mis\u001b[39;00m \u001b[38;5;28;01mNone\u001b[39;00m:\n\u001b[0;32m    100\u001b[0m     transforms \u001b[38;5;241m=\u001b[39m []\n\u001b[1;32m--> 101\u001b[0m \u001b[38;5;28;43msuper\u001b[39;49m\u001b[43m(\u001b[49m\u001b[43m)\u001b[49m\u001b[38;5;241;43m.\u001b[39;49m\u001b[38;5;21;43m__init__\u001b[39;49m\u001b[43m(\u001b[49m\n\u001b[0;32m    102\u001b[0m \u001b[43m    \u001b[49m\u001b[43mdata\u001b[49m\u001b[38;5;241;43m=\u001b[39;49m\u001b[43mtransforms\u001b[49m\u001b[43m,\u001b[49m\n\u001b[0;32m    103\u001b[0m \u001b[43m    \u001b[49m\u001b[43mbasetype\u001b[49m\u001b[38;5;241;43m=\u001b[39;49m\u001b[43mTransform\u001b[49m\u001b[43m,\u001b[49m\n\u001b[0;32m    104\u001b[0m \u001b[43m    \u001b[49m\u001b[43mlookup\u001b[49m\u001b[38;5;241;43m=\u001b[39;49m\u001b[43m{\u001b[49m\u001b[38;5;28;43mstr\u001b[39;49m\u001b[43m:\u001b[49m\u001b[43m \u001b[49m\u001b[38;5;28;43;01mlambda\u001b[39;49;00m\u001b[43m \u001b[49m\u001b[43mx\u001b[49m\u001b[43m:\u001b[49m\u001b[43m \u001b[49m\u001b[43mx\u001b[49m\u001b[38;5;241;43m.\u001b[39;49m\u001b[43mname\u001b[49m\u001b[43m}\u001b[49m\u001b[43m,\u001b[49m\n\u001b[0;32m    105\u001b[0m \u001b[43m\u001b[49m\u001b[43m)\u001b[49m\n\u001b[0;32m    106\u001b[0m \u001b[38;5;66;03m# The above super().__init__() will not call Transform.__init__().\u001b[39;00m\n\u001b[0;32m    107\u001b[0m \u001b[38;5;66;03m# For that to work every __init__() called using super() needs to\u001b[39;00m\n\u001b[0;32m    108\u001b[0m \u001b[38;5;66;03m# in turn call super().__init__(). So we call it explicitly here.\u001b[39;00m\n\u001b[0;32m    109\u001b[0m Transform\u001b[38;5;241m.\u001b[39m\u001b[38;5;21m__init__\u001b[39m(\u001b[38;5;28mself\u001b[39m)\n",
      "File \u001b[1;32m~\\anaconda3\\envs\\np_workflows_v1\\lib\\site-packages\\napari\\utils\\events\\containers\\_evented_list.py:101\u001b[0m, in \u001b[0;36mEventedList.__init__\u001b[1;34m(self, data, basetype, lookup)\u001b[0m\n\u001b[0;32m     98\u001b[0m \u001b[38;5;28;01melse\u001b[39;00m:\n\u001b[0;32m     99\u001b[0m     \u001b[38;5;66;03m# otherwise create a new one\u001b[39;00m\n\u001b[0;32m    100\u001b[0m     \u001b[38;5;28mself\u001b[39m\u001b[38;5;241m.\u001b[39mevents \u001b[38;5;241m=\u001b[39m EmitterGroup(source\u001b[38;5;241m=\u001b[39m\u001b[38;5;28mself\u001b[39m, \u001b[38;5;241m*\u001b[39m\u001b[38;5;241m*\u001b[39m_events)\n\u001b[1;32m--> 101\u001b[0m \u001b[38;5;28;43msuper\u001b[39;49m\u001b[43m(\u001b[49m\u001b[43m)\u001b[49m\u001b[38;5;241;43m.\u001b[39;49m\u001b[38;5;21;43m__init__\u001b[39;49m\u001b[43m(\u001b[49m\u001b[43mdata\u001b[49m\u001b[43m,\u001b[49m\u001b[43m \u001b[49m\u001b[43mbasetype\u001b[49m\u001b[38;5;241;43m=\u001b[39;49m\u001b[43mbasetype\u001b[49m\u001b[43m,\u001b[49m\u001b[43m \u001b[49m\u001b[43mlookup\u001b[49m\u001b[38;5;241;43m=\u001b[39;49m\u001b[43mlookup\u001b[49m\u001b[43m)\u001b[49m\n",
      "File \u001b[1;32m~\\anaconda3\\envs\\np_workflows_v1\\lib\\site-packages\\napari\\utils\\events\\containers\\_typed.py:61\u001b[0m, in \u001b[0;36mTypedMutableSequence.__init__\u001b[1;34m(self, data, basetype, lookup)\u001b[0m\n\u001b[0;32m     52\u001b[0m \u001b[38;5;28;01mdef\u001b[39;00m \u001b[38;5;21m__init__\u001b[39m(\n\u001b[0;32m     53\u001b[0m     \u001b[38;5;28mself\u001b[39m,\n\u001b[0;32m     54\u001b[0m     data: Iterable[_T] \u001b[38;5;241m=\u001b[39m (),\n\u001b[1;32m   (...)\u001b[0m\n\u001b[0;32m     57\u001b[0m     lookup: Dict[Type[_L], Callable[[_T], Union[_T, _L]]] \u001b[38;5;241m=\u001b[39m \u001b[38;5;28mdict\u001b[39m(),\n\u001b[0;32m     58\u001b[0m ):\n\u001b[0;32m     59\u001b[0m     \u001b[38;5;28mself\u001b[39m\u001b[38;5;241m.\u001b[39m_list: List[_T] \u001b[38;5;241m=\u001b[39m []\n\u001b[0;32m     60\u001b[0m     \u001b[38;5;28mself\u001b[39m\u001b[38;5;241m.\u001b[39m_basetypes \u001b[38;5;241m=\u001b[39m (\n\u001b[1;32m---> 61\u001b[0m         basetype \u001b[38;5;28;01mif\u001b[39;00m \u001b[38;5;28;43misinstance\u001b[39;49m\u001b[43m(\u001b[49m\u001b[43mbasetype\u001b[49m\u001b[43m,\u001b[49m\u001b[43m \u001b[49m\u001b[43mSequence\u001b[49m\u001b[43m)\u001b[49m \u001b[38;5;28;01melse\u001b[39;00m (basetype,)\n\u001b[0;32m     62\u001b[0m     )\n\u001b[0;32m     63\u001b[0m     \u001b[38;5;28mself\u001b[39m\u001b[38;5;241m.\u001b[39m_lookup \u001b[38;5;241m=\u001b[39m lookup\u001b[38;5;241m.\u001b[39mcopy()\n\u001b[0;32m     64\u001b[0m     \u001b[38;5;28mself\u001b[39m\u001b[38;5;241m.\u001b[39mextend(data)\n",
      "File \u001b[1;32m~\\anaconda3\\envs\\np_workflows_v1\\lib\\typing.py:980\u001b[0m, in \u001b[0;36m_BaseGenericAlias.__instancecheck__\u001b[1;34m(self, obj)\u001b[0m\n\u001b[0;32m    979\u001b[0m \u001b[38;5;28;01mdef\u001b[39;00m \u001b[38;5;21m__instancecheck__\u001b[39m(\u001b[38;5;28mself\u001b[39m, obj):\n\u001b[1;32m--> 980\u001b[0m     \u001b[38;5;28;01mreturn\u001b[39;00m \u001b[38;5;28;43mself\u001b[39;49m\u001b[38;5;241;43m.\u001b[39;49m\u001b[38;5;21;43m__subclasscheck__\u001b[39;49m\u001b[43m(\u001b[49m\u001b[38;5;28;43mtype\u001b[39;49m\u001b[43m(\u001b[49m\u001b[43mobj\u001b[49m\u001b[43m)\u001b[49m\u001b[43m)\u001b[49m\n",
      "File \u001b[1;32m~\\anaconda3\\envs\\np_workflows_v1\\lib\\typing.py:1141\u001b[0m, in \u001b[0;36m_SpecialGenericAlias.__subclasscheck__\u001b[1;34m(self, cls)\u001b[0m\n\u001b[0;32m   1139\u001b[0m     \u001b[38;5;28;01mreturn\u001b[39;00m \u001b[38;5;28missubclass\u001b[39m(\u001b[38;5;28mcls\u001b[39m\u001b[38;5;241m.\u001b[39m__origin__, \u001b[38;5;28mself\u001b[39m\u001b[38;5;241m.\u001b[39m__origin__)\n\u001b[0;32m   1140\u001b[0m \u001b[38;5;28;01mif\u001b[39;00m \u001b[38;5;129;01mnot\u001b[39;00m \u001b[38;5;28misinstance\u001b[39m(\u001b[38;5;28mcls\u001b[39m, _GenericAlias):\n\u001b[1;32m-> 1141\u001b[0m     \u001b[38;5;28;01mreturn\u001b[39;00m \u001b[38;5;28;43missubclass\u001b[39;49m\u001b[43m(\u001b[49m\u001b[38;5;28;43mcls\u001b[39;49m\u001b[43m,\u001b[49m\u001b[43m \u001b[49m\u001b[38;5;28;43mself\u001b[39;49m\u001b[38;5;241;43m.\u001b[39;49m\u001b[43m__origin__\u001b[49m\u001b[43m)\u001b[49m\n\u001b[0;32m   1142\u001b[0m \u001b[38;5;28;01mreturn\u001b[39;00m \u001b[38;5;28msuper\u001b[39m()\u001b[38;5;241m.\u001b[39m\u001b[38;5;21m__subclasscheck__\u001b[39m(\u001b[38;5;28mcls\u001b[39m)\n",
      "File \u001b[1;32m~\\anaconda3\\envs\\np_workflows_v1\\lib\\abc.py:123\u001b[0m, in \u001b[0;36mABCMeta.__subclasscheck__\u001b[1;34m(cls, subclass)\u001b[0m\n\u001b[0;32m    121\u001b[0m \u001b[38;5;28;01mdef\u001b[39;00m \u001b[38;5;21m__subclasscheck__\u001b[39m(\u001b[38;5;28mcls\u001b[39m, subclass):\n\u001b[0;32m    122\u001b[0m     \u001b[38;5;124;03m\"\"\"Override for issubclass(subclass, cls).\"\"\"\u001b[39;00m\n\u001b[1;32m--> 123\u001b[0m     \u001b[38;5;28;01mreturn\u001b[39;00m \u001b[43m_abc_subclasscheck\u001b[49m\u001b[43m(\u001b[49m\u001b[38;5;28;43mcls\u001b[39;49m\u001b[43m,\u001b[49m\u001b[43m \u001b[49m\u001b[43msubclass\u001b[49m\u001b[43m)\u001b[49m\n",
      "\u001b[1;31mRecursionError\u001b[0m: maximum recursion depth exceeded in comparison"
     ]
    },
    {
     "name": "stdout",
     "output_type": "stream",
     "text": [
      "removal attempted\n"
     ]
    }
   ],
   "source": [
    "layers = viewer.layers\n",
    "print(f'all layers look like {layers}')\n",
    "for lay in layers:\n",
    "    print(f'{lay}: {lay.source}')\n",
    "    if lay.source.widget:\n",
    "        layers.remove(str(lay))\n",
    "        print('removal attempted')"
   ]
  },
  {
   "cell_type": "code",
   "execution_count": 17,
   "id": "d5c47041",
   "metadata": {},
   "outputs": [
    {
     "name": "stdout",
     "output_type": "stream",
     "text": [
      "all layers look like [<Image layer 'img1' at 0x20ccaeeb640>, <Image layer 'img2' at 0x20cfa9b94e0>, <Image layer 'Result of Gaussian (scikit-image, nsbatwm) [1]' at 0x20c820c0b20>, <Image layer 'Result of Percentile (scipy, nsbatwm)' at 0x20c812b86a0>, <Image layer 'Result of Multiply images (numpy, nsbatwm)' at 0x20c813d40a0>, <Labels layer 'Result of Remove labeled objects at the image border (scikit-image, nsbatwm)' at 0x20c814eeb00>]\n",
      "img1: path=None reader_plugin=None sample=None widget=None\n",
      "img2: path=None reader_plugin=None sample=None widget=None\n",
      "Result of Gaussian (scikit-image, nsbatwm) [1]: path=None reader_plugin=None sample=None widget=<FunctionGui gaussian_blur(image: napari.types.ImageData = None, *, sigma: float = 8.0, viewer: napari.viewer.Viewer = None) -> napari.types.ImageData>\n",
      "removal attempted\n",
      "Result of Multiply images (numpy, nsbatwm): path=None reader_plugin=None sample=None widget=<FunctionGui multiply_images(image1: napari.types.ImageData = None, image2: napari.types.ImageData = None, viewer: napari.viewer.Viewer = None) -> napari.types.ImageData>\n",
      "removal attempted\n"
     ]
    }
   ],
   "source": [
    "layers = viewer.layers\n",
    "print(f'all layers look like {layers}')\n",
    "for lay in layers:\n",
    "    print(f'{lay}: {lay.source}')\n",
    "    \n",
    "    if lay.source.widget:\n",
    "        layers.remove(str(lay))\n",
    "        print('removal attempted')"
   ]
  },
  {
   "cell_type": "code",
   "execution_count": 18,
   "id": "eb4bea31",
   "metadata": {},
   "outputs": [
    {
     "name": "stdout",
     "output_type": "stream",
     "text": [
      "all layers look like [<Image layer 'img1' at 0x20ccaeeb640>, <Image layer 'img2' at 0x20cfa9b94e0>, <Image layer 'Result of Percentile (scipy, nsbatwm)' at 0x20c812b86a0>, <Labels layer 'Result of Remove labeled objects at the image border (scikit-image, nsbatwm)' at 0x20c814eeb00>]\n",
      "img1: path=None reader_plugin=None sample=None widget=None\n",
      "img2: path=None reader_plugin=None sample=None widget=None\n",
      "Result of Percentile (scipy, nsbatwm): path=None reader_plugin=None sample=None widget=<FunctionGui percentile_filter(image: napari.types.ImageData = None, *, percentile: float = 7.0, radius: float = 9.0, viewer: napari.viewer.Viewer = None) -> napari.types.ImageData>\n",
      "removal attempted\n"
     ]
    }
   ],
   "source": [
    "layers = viewer.layers\n",
    "print(f'all layers look like {layers}')\n",
    "for lay in layers:\n",
    "    print(f'{lay}: {lay.source}')\n",
    "    if lay.source.widget:\n",
    "        layers.remove(str(lay))\n",
    "        print('removal attempted')"
   ]
  },
  {
   "cell_type": "code",
   "execution_count": 19,
   "id": "b60cad99",
   "metadata": {},
   "outputs": [
    {
     "name": "stdout",
     "output_type": "stream",
     "text": [
      "all layers look like [<Image layer 'img1' at 0x20ccaeeb640>, <Image layer 'img2' at 0x20cfa9b94e0>, <Labels layer 'Result of Remove labeled objects at the image border (scikit-image, nsbatwm)' at 0x20c814eeb00>]\n",
      "img1: path=None reader_plugin=None sample=None widget=None\n",
      "img2: path=None reader_plugin=None sample=None widget=None\n",
      "Result of Remove labeled objects at the image border (scikit-image, nsbatwm): path=None reader_plugin=None sample=None widget=<FunctionGui remove_labels_on_edges(label_image: napari.types.LabelsData = None, viewer: napari.viewer.Viewer = None) -> napari.types.LabelsData>\n",
      "removal attempted\n"
     ]
    }
   ],
   "source": [
    "layers = viewer.layers\n",
    "print(f'all layers look like {layers}')\n",
    "for lay in layers:\n",
    "    print(f'{lay}: {lay.source}')\n",
    "    if lay.source.widget:\n",
    "        layers.remove(str(lay))\n",
    "        print('removal attempted')"
   ]
  },
  {
   "cell_type": "code",
   "execution_count": 21,
   "id": "e0f4d681",
   "metadata": {},
   "outputs": [
    {
     "name": "stdout",
     "output_type": "stream",
     "text": [
      "Gaussian (scikit-image, nsbatwm)<b> - SELECT INPUT</b> : <napari._qt.widgets.qt_viewer_dock_widget.QtViewerDockWidget object at 0x0000022619FBD750>\n",
      "Gaussian (scikit-image, nsbatwm) [1]<b> - SELECT INPUT</b> : <napari._qt.widgets.qt_viewer_dock_widget.QtViewerDockWidget object at 0x000002261A07CAF0>\n",
      "Minimum (scipy, nsbatwm) : <napari._qt.widgets.qt_viewer_dock_widget.QtViewerDockWidget object at 0x000002261A110790>\n",
      "Percentile (scipy, nsbatwm) : <napari._qt.widgets.qt_viewer_dock_widget.QtViewerDockWidget object at 0x000002261A218790>\n",
      "Black top-hat (scipy, nsbatwm) : <napari._qt.widgets.qt_viewer_dock_widget.QtViewerDockWidget object at 0x000002261B27C5E0>\n",
      "Multiply images (numpy, nsbatwm) : <napari._qt.widgets.qt_viewer_dock_widget.QtViewerDockWidget object at 0x000002261B2CFF40>\n",
      "Seeded watershed using local minima as seeds (nsbatwm) : <napari._qt.widgets.qt_viewer_dock_widget.QtViewerDockWidget object at 0x000002261B35FE20>\n",
      "Remove labeled objects at the image border (scikit-image, nsbatwm) : <napari._qt.widgets.qt_viewer_dock_widget.QtViewerDockWidget object at 0x000002261B454700>\n"
     ]
    }
   ],
   "source": [
    "dock_widgets = viewer.window._dock_widgets\n",
    "\n",
    "for k, v in dock_widgets.items():\n",
    "    print(f'{k} : {v}')"
   ]
  },
  {
   "cell_type": "markdown",
   "id": "4443185c",
   "metadata": {},
   "source": [
    "Since this notebook is getting quite cluttered with all the tests I'm doing lets sum up what I have found out until know:\n",
    "- We can't close windows without deleting the widgets first. We can get to the widgets through `viewer.window._dock_widgets` but the keys will be exactly what we called the dockwidgets (so also containing SELECT INPUT etc)\n",
    "- Iterating over the layers and closing them if they are made by a widget seems the way to go BUT for some reason when iterating directly over the layers it does not always do that (maybe iterate over layer names in list instead?"
   ]
  },
  {
   "cell_type": "code",
   "execution_count": null,
   "id": "56929836",
   "metadata": {},
   "outputs": [],
   "source": []
  }
 ],
 "metadata": {
  "kernelspec": {
   "display_name": "Python 3 (ipykernel)",
   "language": "python",
   "name": "python3"
  },
  "language_info": {
   "codemirror_mode": {
    "name": "ipython",
    "version": 3
   },
   "file_extension": ".py",
   "mimetype": "text/x-python",
   "name": "python",
   "nbconvert_exporter": "python",
   "pygments_lexer": "ipython3",
   "version": "3.10.2"
  }
 },
 "nbformat": 4,
 "nbformat_minor": 5
}
