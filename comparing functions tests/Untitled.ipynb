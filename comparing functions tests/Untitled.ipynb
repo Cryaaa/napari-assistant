{
 "cells": [
  {
   "cell_type": "code",
   "execution_count": 1,
   "id": "7775fb4d-5452-4410-b31a-8cae1a40b077",
   "metadata": {},
   "outputs": [
    {
     "name": "stderr",
     "output_type": "stream",
     "text": [
      "C:\\Users\\ryans\\Anaconda3\\envs\\np_workflows_v1\\lib\\site-packages\\napari_tools_menu\\__init__.py:165: FutureWarning: Public access to Window.qt_viewer is deprecated and will be removed in\n",
      "v0.5.0. It is considered an \"implementation detail\" of the napari\n",
      "application, not part of the napari viewer model. If your use case\n",
      "requires access to qt_viewer, please open an issue to discuss.\n",
      "  self.tools_menu = ToolsMenu(self, self.qt_viewer.viewer)\n"
     ]
    },
    {
     "data": {
      "image/png": "[encoded data removed]",
      "text/plain": [
       "<FunctionGui do_remove_noise(*, input0: napari.layers.image.image.Image = <Image layer 'blobs' at 0x25c8d6c8820>, op_name: str = 'Gaussian (scikit-image, nsbatwm)', x: float = 1.0, y: float = 1.0, z: float = 0.0, u: float = 0.0, v: float = 0.0, w: float = 0.0, a: bool = False, b: bool = False, c: bool = False, d: bool = False, e: bool = False, f: bool = False, g: bool = False, h: bool = False, i: bool = False, j: bool = False, k: str = '', l: str = '', m: str = '', viewer: napari.viewer.Viewer = Viewer(axes=Axes(visible=False, labels=True, colored=True, dashed=False, arrows=True), camera=Camera(center=(0.0, 126.5, 127.5), zoom=1.298828125, angles=(0.0, 0.0, 90.0), perspective=0, interactive=True), cursor=Cursor(position=(1, 1), scaled=True, size=1, style=<CursorStyle.STANDARD: 'standard'>), dims=Dims(ndim=2, ndisplay=2, last_used=0, range=((0.0, 254.0, 1.0), (0.0, 256.0, 1.0)), current_step=(127, 128), order=(0, 1), axis_labels=('0', '1')), grid=GridCanvas(stride=-1, shape=(-1, -1), enabled=False), layers=[<Image layer 'blobs' at 0x25c8d6c8820>, <Image layer 'Result of Gaussian (scikit-image, nsbatwm)' at 0x25c8ba4c5b0>], scale_bar=ScaleBar(visible=False, colored=False, ticks=True, position=<Position.BOTTOM_RIGHT: 'bottom_right'>, font_size=10, unit=None), text_overlay=TextOverlay(visible=False, color=(0.5, 0.5, 0.5, 1.0), font_size=10, position=<TextOverlayPosition.TOP_LEFT: 'top_left'>, text=''), overlays=Overlays(interaction_box=InteractionBox(points=None, show=False, show_handle=False, show_vertices=False, selection_box_drag=None, selection_box_final=None, transform_start=<napari.utils.transforms.transforms.Affine object at 0x0000025C8FCFDA30>, transform_drag=<napari.utils.transforms.transforms.Affine object at 0x0000025C8FCFD4F0>, transform_final=<napari.utils.transforms.transforms.Affine object at 0x0000025C8FCFD8B0>, transform=<napari.utils.transforms.transforms.Affine object at 0x0000025C8FCFDDC0>, allow_new_selection=True, selected_vertex=None)), help='', status='Ready', tooltip=Tooltip(visible=False, text=''), theme='dark', title='napari', mouse_move_callbacks=[<function InteractionBoxMouseBindings.initialize_mouse_events.<locals>.mouse_move at 0x0000025C8D6FF8B0>], mouse_drag_callbacks=[<function InteractionBoxMouseBindings.initialize_mouse_events.<locals>.mouse_drag at 0x0000025C8D6FF280>], mouse_double_click_callbacks=[], mouse_wheel_callbacks=[<function dims_scroll at 0x0000025C853E8820>], _persisted_mouse_event={}, _mouse_drag_gen={}, _mouse_wheel_gen={}, keymap={'Shift': <function InteractionBoxMouseBindings.initialize_key_events.<locals>.hold_to_lock_aspect_ratio at 0x0000025C8D6FF670>, 'Control-Shift-R': <function InteractionBoxMouseBindings._reset_active_layer_affine at 0x0000025C8B1834C0>, 'Control-Shift-A': <function InteractionBoxMouseBindings._transform_active_layer at 0x0000025C8B183D30>}))>"
      ]
     },
     "execution_count": 1,
     "metadata": {},
     "output_type": "execute_result"
    }
   ],
   "source": [
    "from napari_workflows._io_yaml_v1 import load_workflow\n",
    "from napari_assistant._gui._Assistant import Assistant\n",
    "from napari_assistant._categories import CATEGORIES\n",
    "\n",
    "import napari\n",
    "import inspect\n",
    "from skimage.io import imread\n",
    "\n",
    "blobs = imread(r\"C:\\Users\\ryans\\OneDrive\\Desktop\\blobs.tif\")\n",
    "viewer = napari.Viewer()\n",
    "widget = Assistant(viewer)\n",
    "viewer.add_image(blobs)\n",
    "viewer.window.add_dock_widget(widget)\n",
    "widget.seach_field.setText(\"nsbatw\")\n",
    "widget._activate(CATEGORIES[\"Remove noise\"])"
   ]
  },
  {
   "cell_type": "code",
   "execution_count": 2,
   "id": "55da94ca-bcf0-45f4-8757-cd8e51c74115",
   "metadata": {},
   "outputs": [
    {
     "name": "stdout",
     "output_type": "stream",
     "text": [
      "Workflow:\n",
      "Result of Black top-hat (scipy, nsbatwm) <- (<function black_tophat at 0x0000025C8ACE19D0>, 'Result of Gaussian (scikit-image, nsbatwm)', 10.0)\n",
      "Result of Gaussian (scikit-image, nsbatwm) <- (<function gaussian_blur at 0x0000025C8ACE1430>, 'blobs', 1.0)\n",
      "\n"
     ]
    }
   ],
   "source": [
    "wf = load_workflow(r\"C:\\Users\\ryans\\test.yaml\")\n",
    "print(wf)"
   ]
  },
  {
   "cell_type": "code",
   "execution_count": 3,
   "id": "71a10c5e-3ea0-4448-bdc0-2628ce2ecfec",
   "metadata": {},
   "outputs": [],
   "source": [
    "blur = wf._tasks[\"Result of Gaussian (scikit-image, nsbatwm)\"][0]\n",
    "toph = wf._tasks[\"Result of Black top-hat (scipy, nsbatwm)\"][0]"
   ]
  },
  {
   "cell_type": "code",
   "execution_count": 4,
   "id": "80387f53-57c8-4c9c-8e8e-a9de4b3f74ed",
   "metadata": {},
   "outputs": [
    {
     "data": {
      "text/plain": [
       "'\\n    Applies a Gaussian blur to an image with a defined sigma. Useful for denoising.\\n    '"
      ]
     },
     "execution_count": 4,
     "metadata": {},
     "output_type": "execute_result"
    }
   ],
   "source": [
    "blur.__doc__"
   ]
  },
  {
   "cell_type": "code",
   "execution_count": 5,
   "id": "ae26d6ea-f5e0-4ec2-8763-e464cb7e2db6",
   "metadata": {},
   "outputs": [],
   "source": [
    "toph.__doc__"
   ]
  },
  {
   "cell_type": "code",
   "execution_count": null,
   "id": "9c3fedd6-cc35-4fdc-8db6-2e20345d31a7",
   "metadata": {},
   "outputs": [],
   "source": []
  }
 ],
 "metadata": {
  "kernelspec": {
   "display_name": "Python 3 (ipykernel)",
   "language": "python",
   "name": "python3"
  },
  "language_info": {
   "codemirror_mode": {
    "name": "ipython",
    "version": 3
   },
   "file_extension": ".py",
   "mimetype": "text/x-python",
   "name": "python",
   "nbconvert_exporter": "python",
   "pygments_lexer": "ipython3",
   "version": "3.9.7"
  }
 },
 "nbformat": 4,
 "nbformat_minor": 5
}
