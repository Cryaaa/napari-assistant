{
 "cells": [
  {
   "cell_type": "code",
   "execution_count": 1,
   "id": "450d76bf",
   "metadata": {},
   "outputs": [
    {
     "name": "stderr",
     "output_type": "stream",
     "text": [
      "C:\\Users\\ryans\\Anaconda3\\envs\\np_workflows_v1\\lib\\site-packages\\napari_tools_menu\\__init__.py:165: FutureWarning: Public access to Window.qt_viewer is deprecated and will be removed in\n",
      "v0.5.0. It is considered an \"implementation detail\" of the napari\n",
      "application, not part of the napari viewer model. If your use case\n",
      "requires access to qt_viewer, please open an issue to discuss.\n",
      "  self.tools_menu = ToolsMenu(self, self.qt_viewer.viewer)\n"
     ]
    },
    {
     "data": {
      "text/plain": [
       "<Image layer 'blobs' at 0x251d49ace20>"
      ]
     },
     "execution_count": 1,
     "metadata": {},
     "output_type": "execute_result"
    }
   ],
   "source": [
    "import napari\n",
    "from napari_assistant._gui._Assistant import Assistant\n",
    "from skimage.io import imread\n",
    "from napari_assistant._categories import CATEGORIES\n",
    "\n",
    "filename = 'C:/Users/ryans/OneDrive/Desktop/blobs.tif'\n",
    "blobs = imread(filename)\n",
    "\n",
    "viewer = napari.Viewer()\n",
    "viewer.add_image(blobs)\n",
    "#assistant = Assistant(viewer)\n",
    "#viewer.window.add_dock_widget(assistant)"
   ]
  },
  {
   "cell_type": "code",
   "execution_count": 2,
   "id": "03d941cc",
   "metadata": {},
   "outputs": [
    {
     "name": "stderr",
     "output_type": "stream",
     "text": [
      "2022-04-13 14:57:31.448 | INFO     | napari_assistant._gui._category_widget:call_op:129 - gaussian_blur (clesperanto)(..., 1.0, 1.0, 0.0)\n",
      "2022-04-13 14:57:31.478 | DEBUG    | napari_assistant._gui._category_widget:_show_result:231 - creating new layer for id: 2550841584512\n",
      "2022-04-13 14:57:31.673 | INFO     | napari_assistant._gui._category_widget:call_op:129 - gaussian_blur (clesperanto)(..., 1.0, 1.0, 0.0)\n",
      "2022-04-13 14:57:31.683 | DEBUG    | napari_assistant._gui._category_widget:_show_result:225 - updating existing layer: Result of gaussian_blur (clesperanto), with id: 2550841584512\n",
      "2022-04-13 14:57:31.699 | INFO     | napari_assistant._gui._category_widget:call_op:129 - gaussian_blur (clesperanto)(..., 6.0, 1.0, 0.0)\n",
      "2022-04-13 14:57:31.711 | DEBUG    | napari_assistant._gui._category_widget:_show_result:225 - updating existing layer: Result of gaussian_blur (clesperanto), with id: 2550841584512\n",
      "2022-04-13 14:57:31.729 | INFO     | napari_assistant._gui._category_widget:call_op:129 - gaussian_blur (clesperanto)(..., 6.0, 6.0, 0.0)\n",
      "2022-04-13 14:57:31.740 | DEBUG    | napari_assistant._gui._category_widget:_show_result:225 - updating existing layer: Result of gaussian_blur (clesperanto), with id: 2550841584512\n",
      "2022-04-13 14:57:31.759 | INFO     | napari_assistant._gui._category_widget:call_op:129 - gaussian_blur (clesperanto)(..., 6.0, 6.0, 0.0)\n",
      "2022-04-13 14:57:31.769 | DEBUG    | napari_assistant._gui._category_widget:_show_result:225 - updating existing layer: Result of gaussian_blur (clesperanto), with id: 2550841584512\n"
     ]
    },
    {
     "name": "stdout",
     "output_type": "stream",
     "text": [
      "only arguments: [array([[ 40,  32,  24, ..., 216, 200, 200],\n",
      "       [ 56,  40,  24, ..., 232, 216, 216],\n",
      "       [ 64,  48,  24, ..., 240, 232, 232],\n",
      "       ...,\n",
      "       [ 72,  80,  80, ...,  48,  48,  48],\n",
      "       [ 80,  80,  80, ...,  48,  48,  48],\n",
      "       [ 96,  88,  80, ...,  48,  48,  48]], dtype=uint8)]\n",
      "det kwargs:     {'destination': None, 'sigma_x': 1.0, 'sigma_y': 1.0, 'sigma_z': 0.0}\n",
      "only arguments: [array([[ 40,  32,  24, ..., 216, 200, 200],\n",
      "       [ 56,  40,  24, ..., 232, 216, 216],\n",
      "       [ 64,  48,  24, ..., 240, 232, 232],\n",
      "       ...,\n",
      "       [ 72,  80,  80, ...,  48,  48,  48],\n",
      "       [ 80,  80,  80, ...,  48,  48,  48],\n",
      "       [ 96,  88,  80, ...,  48,  48,  48]], dtype=uint8)]\n",
      "det kwargs:     {'destination': None, 'sigma_x': 1.0, 'sigma_y': 1.0, 'sigma_z': 0.0}\n",
      "only arguments: [array([[ 40,  32,  24, ..., 216, 200, 200],\n",
      "       [ 56,  40,  24, ..., 232, 216, 216],\n",
      "       [ 64,  48,  24, ..., 240, 232, 232],\n",
      "       ...,\n",
      "       [ 72,  80,  80, ...,  48,  48,  48],\n",
      "       [ 80,  80,  80, ...,  48,  48,  48],\n",
      "       [ 96,  88,  80, ...,  48,  48,  48]], dtype=uint8)]\n",
      "det kwargs:     {'destination': None, 'sigma_x': 6.0, 'sigma_y': 1.0, 'sigma_z': 0.0}\n",
      "only arguments: [array([[ 40,  32,  24, ..., 216, 200, 200],\n",
      "       [ 56,  40,  24, ..., 232, 216, 216],\n",
      "       [ 64,  48,  24, ..., 240, 232, 232],\n",
      "       ...,\n",
      "       [ 72,  80,  80, ...,  48,  48,  48],\n",
      "       [ 80,  80,  80, ...,  48,  48,  48],\n",
      "       [ 96,  88,  80, ...,  48,  48,  48]], dtype=uint8)]\n",
      "det kwargs:     {'destination': None, 'sigma_x': 6.0, 'sigma_y': 6.0, 'sigma_z': 0.0}\n",
      "only arguments: [array([[ 40,  32,  24, ..., 216, 200, 200],\n",
      "       [ 56,  40,  24, ..., 232, 216, 216],\n",
      "       [ 64,  48,  24, ..., 240, 232, 232],\n",
      "       ...,\n",
      "       [ 72,  80,  80, ...,  48,  48,  48],\n",
      "       [ 80,  80,  80, ...,  48,  48,  48],\n",
      "       [ 96,  88,  80, ...,  48,  48,  48]], dtype=uint8)]\n",
      "det kwargs:     {'destination': None, 'sigma_x': 6.0, 'sigma_y': 6.0, 'sigma_z': 0.0}\n"
     ]
    }
   ],
   "source": [
    "from napari_assistant._workflow_io_utility import initialise_root_functions\n",
    "from napari_workflows._io_yaml_v1 import load_workflow\n",
    "\n",
    "workflow = load_workflow(filename='test_with_combine_function.yaml')\n",
    "\n",
    "initialise_root_functions(workflow,viewer)"
   ]
  },
  {
   "cell_type": "code",
   "execution_count": 3,
   "id": "ae82078e",
   "metadata": {},
   "outputs": [
    {
     "name": "stderr",
     "output_type": "stream",
     "text": [
      "2022-04-13 14:57:31.829 | INFO     | napari_assistant._gui._category_widget:call_op:129 - top_hat_box (clesperanto)(..., 10.0, 10.0, 0.0)\n",
      "2022-04-13 14:57:31.848 | DEBUG    | napari_assistant._gui._category_widget:_show_result:231 - creating new layer for id: 2550332122880\n",
      "2022-04-13 14:57:31.859 | INFO     | napari_assistant._gui._category_widget:call_op:129 - gaussian_blur (clesperanto)(..., 6.0, 6.0, 0.0)\n",
      "2022-04-13 14:57:31.868 | DEBUG    | napari_assistant._gui._category_widget:_show_result:225 - updating existing layer: Result of gaussian_blur (clesperanto), with id: 2550841584512\n",
      "2022-04-13 14:57:32.052 | INFO     | napari_assistant._gui._category_widget:call_op:129 - top_hat_box (clesperanto)(..., 10.0, 10.0, 0.0)\n",
      "2022-04-13 14:57:32.065 | DEBUG    | napari_assistant._gui._category_widget:_show_result:225 - updating existing layer: Result of top_hat_box (clesperanto), with id: 2550332122880\n"
     ]
    },
    {
     "name": "stdout",
     "output_type": "stream",
     "text": [
      "only arguments: [array([[ 40,  32,  24, ..., 216, 200, 200],\n",
      "       [ 56,  40,  24, ..., 232, 216, 216],\n",
      "       [ 64,  48,  24, ..., 240, 232, 232],\n",
      "       ...,\n",
      "       [ 72,  80,  80, ...,  48,  48,  48],\n",
      "       [ 80,  80,  80, ...,  48,  48,  48],\n",
      "       [ 96,  88,  80, ...,  48,  48,  48]], dtype=uint8)]\n",
      "det kwargs:     {'destination': None, 'sigma_x': 6.0, 'sigma_y': 6.0, 'sigma_z': 0.0}\n",
      "only arguments: [array([[ 40,  32,  24, ..., 216, 200, 200],\n",
      "       [ 56,  40,  24, ..., 232, 216, 216],\n",
      "       [ 64,  48,  24, ..., 240, 232, 232],\n",
      "       ...,\n",
      "       [ 72,  80,  80, ...,  48,  48,  48],\n",
      "       [ 80,  80,  80, ...,  48,  48,  48],\n",
      "       [ 96,  88,  80, ...,  48,  48,  48]], dtype=uint8)]\n",
      "det kwargs:     {'destination': None, 'radius_x': 10.0, 'radius_y': 10.0, 'radius_z': 0.0}\n"
     ]
    },
    {
     "name": "stderr",
     "output_type": "stream",
     "text": [
      "2022-04-13 14:57:32.082 | INFO     | napari_assistant._gui._category_widget:call_op:129 - top_hat_box (clesperanto)(..., 15.0, 10.0, 0.0)\n",
      "2022-04-13 14:57:32.097 | DEBUG    | napari_assistant._gui._category_widget:_show_result:225 - updating existing layer: Result of top_hat_box (clesperanto), with id: 2550332122880\n",
      "2022-04-13 14:57:32.117 | INFO     | napari_assistant._gui._category_widget:call_op:129 - top_hat_box (clesperanto)(..., 15.0, 15.0, 0.0)\n",
      "2022-04-13 14:57:32.132 | DEBUG    | napari_assistant._gui._category_widget:_show_result:225 - updating existing layer: Result of top_hat_box (clesperanto), with id: 2550332122880\n",
      "2022-04-13 14:57:32.153 | INFO     | napari_assistant._gui._category_widget:call_op:129 - top_hat_box (clesperanto)(..., 15.0, 15.0, 0.0)\n",
      "2022-04-13 14:57:32.170 | DEBUG    | napari_assistant._gui._category_widget:_show_result:225 - updating existing layer: Result of top_hat_box (clesperanto), with id: 2550332122880\n",
      "2022-04-13 14:57:32.246 | INFO     | napari_assistant._gui._category_widget:call_op:129 - absolute_difference (clesperanto)(..., )\n",
      "2022-04-13 14:57:32.255 | DEBUG    | napari_assistant._gui._category_widget:_show_result:231 - creating new layer for id: 2550661702272\n",
      "2022-04-13 14:57:32.265 | INFO     | napari_assistant._gui._category_widget:call_op:129 - top_hat_box (clesperanto)(..., 15.0, 15.0, 0.0)\n"
     ]
    },
    {
     "name": "stdout",
     "output_type": "stream",
     "text": [
      "only arguments: [cl.Array([[ 36.987213,  36.748055,  36.720158, ..., 219.39273 , 219.55081 ,\n",
      "        219.24374 ],\n",
      "       [ 37.57606 ,  37.461544,  37.5792  , ..., 220.53722 , 220.70338 ,\n",
      "        220.42693 ],\n",
      "       [ 38.240932,  38.264496,  38.545185, ..., 221.58632 , 221.75493 ,\n",
      "        221.50473 ],\n",
      "       ...,\n",
      "       [ 72.67791 ,  71.58198 ,  70.38857 , ...,  52.567577,  51.40775 ,\n",
      "         50.564884],\n",
      "       [ 74.00522 ,  72.82467 ,  71.54207 , ...,  52.96153 ,  51.669037,\n",
      "         50.722404],\n",
      "       [ 75.46215 ,  74.18416 ,  72.79883 , ...,  53.367485,  51.939392,\n",
      "         50.88665 ]], dtype=float32)]\n",
      "det kwargs:     {'destination': None, 'radius_x': 10.0, 'radius_y': 10.0, 'radius_z': 0.0}\n",
      "only arguments: [cl.Array([[ 36.987213,  36.748055,  36.720158, ..., 219.39273 , 219.55081 ,\n",
      "        219.24374 ],\n",
      "       [ 37.57606 ,  37.461544,  37.5792  , ..., 220.53722 , 220.70338 ,\n",
      "        220.42693 ],\n",
      "       [ 38.240932,  38.264496,  38.545185, ..., 221.58632 , 221.75493 ,\n",
      "        221.50473 ],\n",
      "       ...,\n",
      "       [ 72.67791 ,  71.58198 ,  70.38857 , ...,  52.567577,  51.40775 ,\n",
      "         50.564884],\n",
      "       [ 74.00522 ,  72.82467 ,  71.54207 , ...,  52.96153 ,  51.669037,\n",
      "         50.722404],\n",
      "       [ 75.46215 ,  74.18416 ,  72.79883 , ...,  53.367485,  51.939392,\n",
      "         50.88665 ]], dtype=float32)]\n",
      "det kwargs:     {'destination': None, 'radius_x': 15.0, 'radius_y': 10.0, 'radius_z': 0.0}\n",
      "only arguments: [cl.Array([[ 36.987213,  36.748055,  36.720158, ..., 219.39273 , 219.55081 ,\n",
      "        219.24374 ],\n",
      "       [ 37.57606 ,  37.461544,  37.5792  , ..., 220.53722 , 220.70338 ,\n",
      "        220.42693 ],\n",
      "       [ 38.240932,  38.264496,  38.545185, ..., 221.58632 , 221.75493 ,\n",
      "        221.50473 ],\n",
      "       ...,\n",
      "       [ 72.67791 ,  71.58198 ,  70.38857 , ...,  52.567577,  51.40775 ,\n",
      "         50.564884],\n",
      "       [ 74.00522 ,  72.82467 ,  71.54207 , ...,  52.96153 ,  51.669037,\n",
      "         50.722404],\n",
      "       [ 75.46215 ,  74.18416 ,  72.79883 , ...,  53.367485,  51.939392,\n",
      "         50.88665 ]], dtype=float32)]\n",
      "det kwargs:     {'destination': None, 'radius_x': 15.0, 'radius_y': 15.0, 'radius_z': 0.0}\n",
      "only arguments: [cl.Array([[ 36.987213,  36.748055,  36.720158, ..., 219.39273 , 219.55081 ,\n",
      "        219.24374 ],\n",
      "       [ 37.57606 ,  37.461544,  37.5792  , ..., 220.53722 , 220.70338 ,\n",
      "        220.42693 ],\n",
      "       [ 38.240932,  38.264496,  38.545185, ..., 221.58632 , 221.75493 ,\n",
      "        221.50473 ],\n",
      "       ...,\n",
      "       [ 72.67791 ,  71.58198 ,  70.38857 , ...,  52.567577,  51.40775 ,\n",
      "         50.564884],\n",
      "       [ 74.00522 ,  72.82467 ,  71.54207 , ...,  52.96153 ,  51.669037,\n",
      "         50.722404],\n",
      "       [ 75.46215 ,  74.18416 ,  72.79883 , ...,  53.367485,  51.939392,\n",
      "         50.88665 ]], dtype=float32)]\n",
      "det kwargs:     {'destination': None, 'radius_x': 15.0, 'radius_y': 15.0, 'radius_z': 0.0}\n"
     ]
    },
    {
     "name": "stderr",
     "output_type": "stream",
     "text": [
      "2022-04-13 14:57:32.279 | DEBUG    | napari_assistant._gui._category_widget:_show_result:225 - updating existing layer: Result of top_hat_box (clesperanto), with id: 2550332122880\n"
     ]
    },
    {
     "name": "stdout",
     "output_type": "stream",
     "text": [
      "only arguments: [array([[ 40,  32,  24, ..., 216, 200, 200],\n",
      "       [ 56,  40,  24, ..., 232, 216, 216],\n",
      "       [ 64,  48,  24, ..., 240, 232, 232],\n",
      "       ...,\n",
      "       [ 72,  80,  80, ...,  48,  48,  48],\n",
      "       [ 80,  80,  80, ...,  48,  48,  48],\n",
      "       [ 96,  88,  80, ...,  48,  48,  48]], dtype=uint8)]\n",
      "det kwargs:     {'destination': None, 'radius_x': 15.0, 'radius_y': 15.0, 'radius_z': 0.0}\n",
      "only arguments: [cl.Array([[2.67055511e-01, 2.78968811e-02, 0.00000000e+00, ...,\n",
      "        9.63595200e+01, 9.65176010e+01, 9.62105331e+01],\n",
      "       [1.14517212e-01, 0.00000000e+00, 0.00000000e+00, ...,\n",
      "        9.75040054e+01, 9.76701736e+01, 9.73937149e+01],\n",
      "       [0.00000000e+00, 0.00000000e+00, 0.00000000e+00, ...,\n",
      "        9.85531082e+01, 9.87217178e+01, 9.84715195e+01],\n",
      "       ...,\n",
      "       [1.52099342e+01, 1.41140022e+01, 1.29205971e+01, ...,\n",
      "        9.48760986e-01, 5.97942352e-01, 3.24359894e-01],\n",
      "       [1.65372429e+01, 1.53566933e+01, 1.40740929e+01, ...,\n",
      "        1.34271240e+00, 8.59230042e-01, 4.81880188e-01],\n",
      "       [1.79941750e+01, 1.67161827e+01, 1.53308525e+01, ...,\n",
      "        1.74866867e+00, 1.12958527e+00, 6.46125793e-01]], dtype=float32), cl.Array([[ 36.987213,  36.748055,  36.720158, ..., 219.39273 , 219.55081 ,\n",
      "        219.24374 ],\n",
      "       [ 37.57606 ,  37.461544,  37.5792  , ..., 220.53722 , 220.70338 ,\n",
      "        220.42693 ],\n",
      "       [ 38.240932,  38.264496,  38.545185, ..., 221.58632 , 221.75493 ,\n",
      "        221.50473 ],\n",
      "       ...,\n",
      "       [ 72.67791 ,  71.58198 ,  70.38857 , ...,  52.567577,  51.40775 ,\n",
      "         50.564884],\n",
      "       [ 74.00522 ,  72.82467 ,  71.54207 , ...,  52.96153 ,  51.669037,\n",
      "         50.722404],\n",
      "       [ 75.46215 ,  74.18416 ,  72.79883 , ...,  53.367485,  51.939392,\n",
      "         50.88665 ]], dtype=float32)]\n",
      "det kwargs:     {'destination': None}\n"
     ]
    },
    {
     "name": "stderr",
     "output_type": "stream",
     "text": [
      "2022-04-13 14:57:58.780 | INFO     | napari_assistant._gui._category_widget:call_op:129 - divide_by_gaussian_background (clesperanto)(..., 15.0, 15.0, 0.0)\n",
      "2022-04-13 14:57:58.814 | DEBUG    | napari_assistant._gui._category_widget:_show_result:225 - updating existing layer: Result of top_hat_box (clesperanto), with id: 2550332122880\n"
     ]
    },
    {
     "name": "stdout",
     "output_type": "stream",
     "text": [
      "only arguments: [array([[ 40,  32,  24, ..., 216, 200, 200],\n",
      "       [ 56,  40,  24, ..., 232, 216, 216],\n",
      "       [ 64,  48,  24, ..., 240, 232, 232],\n",
      "       ...,\n",
      "       [ 72,  80,  80, ...,  48,  48,  48],\n",
      "       [ 80,  80,  80, ...,  48,  48,  48],\n",
      "       [ 96,  88,  80, ...,  48,  48,  48]], dtype=uint8)]\n",
      "det kwargs:     {'destination': None, 'sigma_x': 15.0, 'sigma_y': 15.0, 'sigma_z': 0.0}\n"
     ]
    }
   ],
   "source": [
    "from napari_assistant._workflow_io_utility import load_remaining_workflow\n",
    "load_remaining_workflow(workflow, viewer)"
   ]
  },
  {
   "cell_type": "code",
   "execution_count": null,
   "id": "9363b31f",
   "metadata": {},
   "outputs": [],
   "source": []
  }
 ],
 "metadata": {
  "kernelspec": {
   "display_name": "Python 3 (ipykernel)",
   "language": "python",
   "name": "python3"
  },
  "language_info": {
   "codemirror_mode": {
    "name": "ipython",
    "version": 3
   },
   "file_extension": ".py",
   "mimetype": "text/x-python",
   "name": "python",
   "nbconvert_exporter": "python",
   "pygments_lexer": "ipython3",
   "version": "3.9.7"
  }
 },
 "nbformat": 4,
 "nbformat_minor": 5
}
