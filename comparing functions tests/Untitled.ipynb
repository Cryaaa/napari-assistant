{
 "cells": [
  {
   "cell_type": "code",
   "execution_count": 1,
   "id": "7775fb4d-5452-4410-b31a-8cae1a40b077",
   "metadata": {},
   "outputs": [
    {
     "name": "stderr",
     "output_type": "stream",
     "text": [
      "C:\\Users\\ryans\\Anaconda3\\envs\\np_workflows_v1\\lib\\site-packages\\napari_tools_menu\\__init__.py:165: FutureWarning: Public access to Window.qt_viewer is deprecated and will be removed in\n",
      "v0.5.0. It is considered an \"implementation detail\" of the napari\n",
      "application, not part of the napari viewer model. If your use case\n",
      "requires access to qt_viewer, please open an issue to discuss.\n",
      "  self.tools_menu = ToolsMenu(self, self.qt_viewer.viewer)\n"
     ]
    },
    {
     "name": "stdout",
     "output_type": "stream",
     "text": [
      "<function gaussian_blur at 0x0000023D4B701670>\n",
      "('blobs',)\n",
      "{'sigma': 1.0}\n"
     ]
    },
    {
     "data": {
      "image/png": "[encoded data removed]",
      "text/plain": [
       "<FunctionGui do_remove_noise(*, input0: napari.layers.image.image.Image = <Image layer 'blobs' at 0x23d4b971dc0>, op_name: str = 'Gaussian (scikit-image, nsbatwm)', x: float = 1.0, y: float = 1.0, z: float = 0.0, u: float = 0.0, v: float = 0.0, w: float = 0.0, a: bool = False, b: bool = False, c: bool = False, d: bool = False, e: bool = False, f: bool = False, g: bool = False, h: bool = False, i: bool = False, j: bool = False, k: str = '', l: str = '', m: str = '', viewer: napari.viewer.Viewer = Viewer(axes=Axes(visible=False, labels=True, colored=True, dashed=False, arrows=True), camera=Camera(center=(0.0, 126.5, 127.5), zoom=2.2403543307086613, angles=(0.0, 0.0, 90.0), perspective=0.0, interactive=True), cursor=Cursor(position=(1, 1), scaled=True, size=1, style=<CursorStyle.STANDARD: 'standard'>), dims=Dims(ndim=2, ndisplay=2, last_used=0, range=((0.0, 254.0, 1.0), (0.0, 256.0, 1.0)), current_step=(127, 128), order=(0, 1), axis_labels=('0', '1')), grid=GridCanvas(stride=-1, shape=(-1, -1), enabled=False), layers=[<Image layer 'blobs' at 0x23d4b971dc0>, <Image layer 'Result of Gaussian (scikit-image, nsbatwm)' at 0x23d4ff09c10>], scale_bar=ScaleBar(visible=False, colored=False, ticks=True, position=<Position.BOTTOM_RIGHT: 'bottom_right'>, font_size=10, unit=None), text_overlay=TextOverlay(visible=False, color=(0.5, 0.5, 0.5, 1.0), font_size=10, position=<TextOverlayPosition.TOP_LEFT: 'top_left'>, text=''), overlays=Overlays(interaction_box=InteractionBox(points=None, show=False, show_handle=False, show_vertices=False, selection_box_drag=None, selection_box_final=None, transform_start=<napari.utils.transforms.transforms.Affine object at 0x0000023D39C38B80>, transform_drag=<napari.utils.transforms.transforms.Affine object at 0x0000023D39C38BE0>, transform_final=<napari.utils.transforms.transforms.Affine object at 0x0000023D39C38C40>, transform=<napari.utils.transforms.transforms.Affine object at 0x0000023D39C38CA0>, allow_new_selection=True, selected_vertex=None)), help='', status='Ready', tooltip=Tooltip(visible=False, text=''), theme='dark', title='napari', mouse_move_callbacks=[<function InteractionBoxMouseBindings.initialize_mouse_events.<locals>.mouse_move at 0x0000023D44C65430>], mouse_drag_callbacks=[<function InteractionBoxMouseBindings.initialize_mouse_events.<locals>.mouse_drag at 0x0000023D44C528B0>], mouse_double_click_callbacks=[], mouse_wheel_callbacks=[<function dims_scroll at 0x0000023D36A35160>], _persisted_mouse_event={}, _mouse_drag_gen={}, _mouse_wheel_gen={}, keymap={'Shift': <function InteractionBoxMouseBindings.initialize_key_events.<locals>.hold_to_lock_aspect_ratio at 0x0000023D44C52700>, 'Control-Shift-R': <function InteractionBoxMouseBindings._reset_active_layer_affine at 0x0000023D44C8E1F0>, 'Control-Shift-A': <function InteractionBoxMouseBindings._transform_active_layer at 0x0000023D44C8E4C0>}))>"
      ]
     },
     "execution_count": 1,
     "metadata": {},
     "output_type": "execute_result"
    }
   ],
   "source": [
    "from napari_workflows._io_yaml_v1 import load_workflow\n",
    "from napari_assistant._gui._Assistant import Assistant\n",
    "from napari_assistant._categories import CATEGORIES\n",
    "\n",
    "import napari\n",
    "import inspect\n",
    "from skimage.io import imread\n",
    "\n",
    "blobs = imread(r\"C:\\Users\\ryans\\OneDrive\\Desktop\\blobs.tif\")\n",
    "viewer = napari.Viewer()\n",
    "widget = Assistant(viewer)\n",
    "viewer.add_image(blobs)\n",
    "viewer.window.add_dock_widget(widget)\n",
    "widget.seach_field.setText(\"nsbatw\")\n",
    "widget._activate(CATEGORIES[\"Remove noise\"])"
   ]
  },
  {
   "cell_type": "code",
   "execution_count": 2,
   "id": "55da94ca-bcf0-45f4-8757-cd8e51c74115",
   "metadata": {},
   "outputs": [
    {
     "name": "stdout",
     "output_type": "stream",
     "text": [
      "Workflow:\n",
      "Result of Black top-hat (scipy, nsbatwm) <- (<function black_tophat at 0x0000023D4B701C10>, 'Result of Gaussian (scikit-image, nsbatwm)', 10.0)\n",
      "Result of Gaussian (scikit-image, nsbatwm) <- (<function gaussian_blur at 0x0000023D4B701670>, 'blobs', 1.0)\n",
      "\n"
     ]
    }
   ],
   "source": [
    "wf = load_workflow(r\"C:\\Users\\ryans\\test.yaml\")\n",
    "print(wf)"
   ]
  },
  {
   "cell_type": "code",
   "execution_count": 3,
   "id": "71a10c5e-3ea0-4448-bdc0-2628ce2ecfec",
   "metadata": {},
   "outputs": [],
   "source": [
    "blur = wf._tasks[\"Result of Gaussian (scikit-image, nsbatwm)\"][0]\n",
    "toph = wf._tasks[\"Result of Black top-hat (scipy, nsbatwm)\"][0]"
   ]
  },
  {
   "cell_type": "code",
   "execution_count": 4,
   "id": "80387f53-57c8-4c9c-8e8e-a9de4b3f74ed",
   "metadata": {},
   "outputs": [
    {
     "data": {
      "text/plain": [
       "<function napari_segment_blobs_and_things_with_membranes.gaussian_blur(image: <function NewType.<locals>.new_type at 0x0000023D320FAA60>, sigma: float = 1, viewer: napari.viewer.Viewer = None) -> <function NewType.<locals>.new_type at 0x0000023D320FAA60>>"
      ]
     },
     "execution_count": 4,
     "metadata": {},
     "output_type": "execute_result"
    }
   ],
   "source": [
    "blur"
   ]
  },
  {
   "cell_type": "code",
   "execution_count": 5,
   "id": "ae26d6ea-f5e0-4ec2-8763-e464cb7e2db6",
   "metadata": {},
   "outputs": [],
   "source": [
    "toph.__doc__"
   ]
  },
  {
   "cell_type": "code",
   "execution_count": 6,
   "id": "9c3fedd6-cc35-4fdc-8db6-2e20345d31a7",
   "metadata": {},
   "outputs": [
    {
     "data": {
      "text/plain": [
       "<function napari_segment_blobs_and_things_with_membranes.gaussian_blur(image: <function NewType.<locals>.new_type at 0x0000023D320FAA60>, sigma: float = 1, viewer: napari.viewer.Viewer = None) -> <function NewType.<locals>.new_type at 0x0000023D320FAA60>>"
      ]
     },
     "execution_count": 6,
     "metadata": {},
     "output_type": "execute_result"
    }
   ],
   "source": [
    "from napari_assistant._categories import get_category_of_function, get_name_of_function, all_operations\n",
    "category_blur = all_operations()['Filtering / noise removal>Gaussian (scikit-image, nsbatwm)']\n",
    "category_blur"
   ]
  },
  {
   "cell_type": "code",
   "execution_count": 7,
   "id": "c7523fcd-48cf-4b0c-9d60-fef0be5d17d3",
   "metadata": {},
   "outputs": [
    {
     "data": {
      "text/plain": [
       "True"
      ]
     },
     "execution_count": 7,
     "metadata": {},
     "output_type": "execute_result"
    }
   ],
   "source": [
    "blur == category_blur"
   ]
  },
  {
   "cell_type": "code",
   "execution_count": 8,
   "id": "f6f5e992-a7b8-413e-8305-99565c2fcc14",
   "metadata": {},
   "outputs": [
    {
     "data": {
      "text/plain": [
       "<function napari_segment_blobs_and_things_with_membranes.black_tophat(image: <function NewType.<locals>.new_type at 0x0000023D320FAA60>, radius: float = 2, viewer: napari.viewer.Viewer = None) -> <function NewType.<locals>.new_type at 0x0000023D320FAA60>>"
      ]
     },
     "execution_count": 8,
     "metadata": {},
     "output_type": "execute_result"
    }
   ],
   "source": [
    "category_toph = all_operations()['Filtering / background removal>Black top-hat (scipy, nsbatwm)']\n",
    "category_toph"
   ]
  },
  {
   "cell_type": "code",
   "execution_count": 9,
   "id": "1088731b-ac39-451a-afbd-422eedff6c49",
   "metadata": {},
   "outputs": [
    {
     "data": {
      "text/plain": [
       "True"
      ]
     },
     "execution_count": 9,
     "metadata": {},
     "output_type": "execute_result"
    }
   ],
   "source": [
    "category_toph == toph"
   ]
  },
  {
   "cell_type": "code",
   "execution_count": 10,
   "id": "f64b92e3-219a-4641-8690-b8dad4d147bc",
   "metadata": {},
   "outputs": [
    {
     "name": "stdout",
     "output_type": "stream",
     "text": [
      "Workflow:\n",
      "Result of gaussian_blur (clesperanto) <- (<function gaussian_blur at 0x0000023D374DDCA0>, 'blobs', None, 1.0, 1.0, 0.0)\n",
      "\n"
     ]
    }
   ],
   "source": [
    "wf_clesperanto = load_workflow(\"clesperanto_blur.yaml\")\n",
    "print(wf_clesperanto)"
   ]
  },
  {
   "cell_type": "code",
   "execution_count": 11,
   "id": "d5dc85c1-e946-4626-b381-64fe48c364e2",
   "metadata": {},
   "outputs": [
    {
     "data": {
      "text/plain": [
       "<function pyclesperanto_prototype.gaussian_blur(source: Union[numpy.ndarray, pyclesperanto_prototype._tier0._pycl.OCLArray, pyopencl._cl.Image, pyclesperanto_prototype._tier0._pycl._OCLImage], destination: Union[numpy.ndarray, pyclesperanto_prototype._tier0._pycl.OCLArray, pyopencl._cl.Image, pyclesperanto_prototype._tier0._pycl._OCLImage] = None, sigma_x: float = 0, sigma_y: float = 0, sigma_z: float = 0) -> Union[numpy.ndarray, pyclesperanto_prototype._tier0._pycl.OCLArray, pyopencl._cl.Image, pyclesperanto_prototype._tier0._pycl._OCLImage]>"
      ]
     },
     "execution_count": 11,
     "metadata": {},
     "output_type": "execute_result"
    }
   ],
   "source": [
    "clesperanto_blur = wf_clesperanto._tasks[\"Result of gaussian_blur (clesperanto)\"][0]\n",
    "clesperanto_blur"
   ]
  },
  {
   "cell_type": "code",
   "execution_count": 12,
   "id": "2ae92505-409c-472e-be35-ad16bc630fd7",
   "metadata": {},
   "outputs": [
    {
     "data": {
      "text/plain": [
       "<function pyclesperanto_prototype.gaussian_blur(source: Union[numpy.ndarray, pyclesperanto_prototype._tier0._pycl.OCLArray, pyopencl._cl.Image, pyclesperanto_prototype._tier0._pycl._OCLImage], destination: Union[numpy.ndarray, pyclesperanto_prototype._tier0._pycl.OCLArray, pyopencl._cl.Image, pyclesperanto_prototype._tier0._pycl._OCLImage] = None, sigma_x: float = 0, sigma_y: float = 0, sigma_z: float = 0, *, viewer: 'napari.viewer.Viewer' = None) -> Union[numpy.ndarray, pyclesperanto_prototype._tier0._pycl.OCLArray, pyopencl._cl.Image, pyclesperanto_prototype._tier0._pycl._OCLImage]>"
      ]
     },
     "execution_count": 12,
     "metadata": {},
     "output_type": "execute_result"
    }
   ],
   "source": [
    "category_cle_blur = all_operations()['Filtering / noise removal>gaussian_blur (clesperanto)']\n",
    "category_cle_blur"
   ]
  },
  {
   "cell_type": "code",
   "execution_count": 13,
   "id": "a6a9c868-293b-4c7c-8213-2cc74bd48d1c",
   "metadata": {},
   "outputs": [
    {
     "data": {
      "text/plain": [
       "False"
      ]
     },
     "execution_count": 13,
     "metadata": {},
     "output_type": "execute_result"
    }
   ],
   "source": [
    "category_cle_blur == clesperanto_blur"
   ]
  },
  {
   "cell_type": "code",
   "execution_count": 14,
   "id": "7e33b143-ae28-4ffc-814f-9d9365c8f09a",
   "metadata": {},
   "outputs": [],
   "source": [
    "from napari_time_slicer import time_slicer"
   ]
  },
  {
   "cell_type": "code",
   "execution_count": 15,
   "id": "eac2830a-a53e-4941-b069-0cd5a053d44c",
   "metadata": {},
   "outputs": [
    {
     "data": {
      "text/plain": [
       "False"
      ]
     },
     "execution_count": 15,
     "metadata": {},
     "output_type": "execute_result"
    }
   ],
   "source": [
    "category_cle_blur == clesperanto_blur"
   ]
  },
  {
   "cell_type": "code",
   "execution_count": 16,
   "id": "94fb1d32-68dd-46ce-809b-9ecf09255292",
   "metadata": {},
   "outputs": [
    {
     "name": "stdout",
     "output_type": "stream",
     "text": [
      "<function gaussian_blur at 0x0000023D4B701670>\n"
     ]
    }
   ],
   "source": [
    "print(blur)"
   ]
  },
  {
   "cell_type": "code",
   "execution_count": 17,
   "id": "ee0d93f8-4635-4986-99e0-a0e2ba8fd1f9",
   "metadata": {},
   "outputs": [
    {
     "name": "stdout",
     "output_type": "stream",
     "text": [
      "<function gaussian_blur at 0x0000023D4B701670>\n"
     ]
    }
   ],
   "source": [
    "print(category_blur)"
   ]
  },
  {
   "cell_type": "code",
   "execution_count": 18,
   "id": "1d8c55c7-f4a6-407c-85e1-72a6f21c1221",
   "metadata": {},
   "outputs": [
    {
     "name": "stdout",
     "output_type": "stream",
     "text": [
      "<function gaussian_blur at 0x0000023D4B8B21F0>\n"
     ]
    }
   ],
   "source": [
    "print(category_cle_blur)"
   ]
  },
  {
   "cell_type": "code",
   "execution_count": 19,
   "id": "e3e333cf-a5c8-4caf-b54c-0267129c6e71",
   "metadata": {},
   "outputs": [
    {
     "name": "stdout",
     "output_type": "stream",
     "text": [
      "<function gaussian_blur at 0x0000023D374DDCA0>\n"
     ]
    }
   ],
   "source": [
    "print(clesperanto_blur)"
   ]
  },
  {
   "cell_type": "code",
   "execution_count": 20,
   "id": "b0068f87-847f-4521-b6f1-a0be544253f6",
   "metadata": {},
   "outputs": [
    {
     "name": "stdout",
     "output_type": "stream",
     "text": [
      "<function gaussian_blur at 0x0000023D374DDCA0>\n"
     ]
    }
   ],
   "source": [
    "from pyclesperanto_prototype import gaussian_blur\n",
    "print(gaussian_blur)"
   ]
  },
  {
   "cell_type": "code",
   "execution_count": 21,
   "id": "6e2896fc-f4c8-4143-a2e2-f8e8c0475260",
   "metadata": {},
   "outputs": [
    {
     "name": "stdout",
     "output_type": "stream",
     "text": [
      "<function gaussian_blur at 0x0000023D374DDCA0>\n"
     ]
    }
   ],
   "source": [
    "print(category_cle_blur.__wrapped__)"
   ]
  },
  {
   "cell_type": "code",
   "execution_count": 22,
   "id": "cfdded34-d434-41ae-b5ec-6df114cd0f49",
   "metadata": {},
   "outputs": [
    {
     "name": "stdout",
     "output_type": "stream",
     "text": [
      "<function gaussian_blur at 0x0000023D374DDB80>\n"
     ]
    }
   ],
   "source": [
    "print(clesperanto_blur.__wrapped__)"
   ]
  },
  {
   "cell_type": "code",
   "execution_count": 23,
   "id": "2ad672bd-1897-47db-8795-6073ff60fa91",
   "metadata": {},
   "outputs": [
    {
     "name": "stdout",
     "output_type": "stream",
     "text": [
      "<function gaussian_blur at 0x0000023D374DDB80>\n"
     ]
    }
   ],
   "source": [
    "print(gaussian_blur.__wrapped__)"
   ]
  },
  {
   "cell_type": "code",
   "execution_count": 24,
   "id": "21fb1e5d-d090-4bd0-bab0-54c1753fcfc3",
   "metadata": {},
   "outputs": [
    {
     "data": {
      "text/plain": [
       "True"
      ]
     },
     "execution_count": 24,
     "metadata": {},
     "output_type": "execute_result"
    }
   ],
   "source": [
    "clesperanto_blur == category_cle_blur.__wrapped__"
   ]
  },
  {
   "cell_type": "code",
   "execution_count": 26,
   "id": "2c43f434-75b1-44f7-af04-8b9240c2ee96",
   "metadata": {},
   "outputs": [
    {
     "data": {
      "text/plain": [
       "True"
      ]
     },
     "execution_count": 26,
     "metadata": {},
     "output_type": "execute_result"
    }
   ],
   "source": [
    "blur == category_blur"
   ]
  },
  {
   "cell_type": "code",
   "execution_count": null,
   "id": "9b05ca90-44e7-405c-96fe-aa5ac02a3b32",
   "metadata": {},
   "outputs": [],
   "source": []
  }
 ],
 "metadata": {
  "kernelspec": {
   "display_name": "Python 3 (ipykernel)",
   "language": "python",
   "name": "python3"
  },
  "language_info": {
   "codemirror_mode": {
    "name": "ipython",
    "version": 3
   },
   "file_extension": ".py",
   "mimetype": "text/x-python",
   "name": "python",
   "nbconvert_exporter": "python",
   "pygments_lexer": "ipython3",
   "version": "3.9.7"
  }
 },
 "nbformat": 4,
 "nbformat_minor": 5
}
