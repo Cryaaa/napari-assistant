{
 "cells": [
  {
   "cell_type": "code",
   "execution_count": 1,
   "id": "450d76bf",
   "metadata": {},
   "outputs": [
    {
     "name": "stderr",
     "output_type": "stream",
     "text": [
      "C:\\Users\\ryans\\Anaconda3\\envs\\np_workflows_v1\\lib\\site-packages\\napari_tools_menu\\__init__.py:165: FutureWarning: Public access to Window.qt_viewer is deprecated and will be removed in\n",
      "v0.5.0. It is considered an \"implementation detail\" of the napari\n",
      "application, not part of the napari viewer model. If your use case\n",
      "requires access to qt_viewer, please open an issue to discuss.\n",
      "  self.tools_menu = ToolsMenu(self, self.qt_viewer.viewer)\n"
     ]
    },
    {
     "data": {
      "text/plain": [
       "<napari._qt.widgets.qt_viewer_dock_widget.QtViewerDockWidget at 0x16ca8e55b80>"
      ]
     },
     "execution_count": 1,
     "metadata": {},
     "output_type": "execute_result"
    }
   ],
   "source": [
    "import napari\n",
    "from napari_assistant._gui._Assistant import Assistant\n",
    "from skimage.io import imread\n",
    "from napari_assistant._categories import CATEGORIES\n",
    "\n",
    "filename = 'C:/Users/ryans/OneDrive/Desktop/blobs.tif'\n",
    "blobs = imread(filename)\n",
    "blobs_modified = imread('C:/Users/ryans/OneDrive/Desktop/blobs_messed_up.tiff') \n",
    "\n",
    "viewer = napari.Viewer()\n",
    "viewer.add_image(blobs_modified, name = 'not blobs')\n",
    "viewer.add_image(blobs, name = 'blobs')\n",
    "assistant = Assistant(viewer)\n",
    "viewer.window.add_dock_widget(assistant)"
   ]
  },
  {
   "cell_type": "code",
   "execution_count": 2,
   "id": "03d941cc",
   "metadata": {},
   "outputs": [
    {
     "name": "stderr",
     "output_type": "stream",
     "text": [
      "2022-04-19 11:53:03.674 | INFO     | napari_assistant._gui._category_widget:call_op:129 - gaussian_blur (clesperanto)(..., 1.0, 1.0, 0.0)\n",
      "2022-04-19 11:53:03.776 | INFO     | napari_assistant._gui._category_widget:call_op:129 - gaussian_blur (clesperanto)(..., 1.0, 1.0, 0.0)\n",
      "2022-04-19 11:53:03.799 | INFO     | napari_assistant._gui._category_widget:call_op:129 - gaussian_blur (clesperanto)(..., 6.0, 1.0, 0.0)\n",
      "2022-04-19 11:53:03.820 | INFO     | napari_assistant._gui._category_widget:call_op:129 - gaussian_blur (clesperanto)(..., 6.0, 6.0, 0.0)\n",
      "2022-04-19 11:53:03.841 | INFO     | napari_assistant._gui._category_widget:call_op:129 - gaussian_blur (clesperanto)(..., 6.0, 6.0, 0.0)\n",
      "2022-04-19 11:53:03.890 | INFO     | napari_assistant._gui._category_widget:call_op:129 - top_hat_box (clesperanto)(..., 10.0, 10.0, 0.0)\n",
      "2022-04-19 11:53:03.987 | INFO     | napari_assistant._gui._category_widget:call_op:129 - top_hat_box (clesperanto)(..., 10.0, 10.0, 0.0)\n",
      "2022-04-19 11:53:04.013 | INFO     | napari_assistant._gui._category_widget:call_op:129 - top_hat_box (clesperanto)(..., 15.0, 10.0, 0.0)\n",
      "2022-04-19 11:53:04.039 | INFO     | napari_assistant._gui._category_widget:call_op:129 - top_hat_box (clesperanto)(..., 15.0, 15.0, 0.0)\n",
      "2022-04-19 11:53:04.065 | INFO     | napari_assistant._gui._category_widget:call_op:129 - top_hat_box (clesperanto)(..., 15.0, 15.0, 0.0)\n",
      "2022-04-19 11:53:04.143 | INFO     | napari_assistant._gui._category_widget:call_op:129 - absolute_difference (clesperanto)(..., )\n",
      "2022-04-19 11:53:04.356 | INFO     | napari_assistant._gui._category_widget:call_op:129 - gaussian_blur (clesperanto)(..., 1.0, 1.0, 0.0)\n",
      "2022-04-19 11:53:04.441 | INFO     | napari_assistant._gui._category_widget:call_op:129 - gaussian_blur (clesperanto)(..., 1.0, 1.0, 0.0)\n",
      "2022-04-19 11:53:04.465 | INFO     | napari_assistant._gui._category_widget:call_op:129 - gaussian_blur (clesperanto)(..., 23.0, 1.0, 0.0)\n",
      "2022-04-19 11:53:04.488 | INFO     | napari_assistant._gui._category_widget:call_op:129 - gaussian_blur (clesperanto)(..., 23.0, 1.0, 0.0)\n",
      "2022-04-19 11:53:04.542 | INFO     | napari_assistant._gui._category_widget:call_op:129 - voronoi_otsu_labeling (clesperanto)(..., 2.0, 2.0)\n",
      "2022-04-19 11:53:04.737 | INFO     | napari_assistant._gui._category_widget:call_op:129 - voronoi_otsu_labeling (clesperanto)(..., 2.0, 2.0)\n",
      "2022-04-19 11:53:04.921 | INFO     | napari_assistant._gui._category_widget:call_op:129 - voronoi_otsu_labeling (clesperanto)(..., 10.0, 2.0)\n",
      "2022-04-19 11:53:05.293 | INFO     | napari_assistant._gui._category_widget:call_op:129 - voronoi_otsu_labeling (clesperanto)(..., 10.0, 6.0)\n",
      "2022-04-19 11:53:05.677 | INFO     | napari_assistant._gui._category_widget:call_op:129 - voronoi_otsu_labeling (clesperanto)(..., 10.0, 6.0)\n",
      "2022-04-19 11:53:06.052 | INFO     | napari_assistant._gui._category_widget:call_op:129 - gaussian_blur (clesperanto)(..., 6.0, 6.0, 0.0)\n",
      "2022-04-19 11:53:06.067 | INFO     | napari_assistant._gui._category_widget:call_op:129 - top_hat_box (clesperanto)(..., 15.0, 15.0, 0.0)\n",
      "2022-04-19 11:53:06.103 | INFO     | napari_assistant._gui._category_widget:call_op:129 - top_hat_box (clesperanto)(..., 15.0, 15.0, 0.0)\n",
      "2022-04-19 11:53:06.128 | INFO     | napari_assistant._gui._category_widget:call_op:129 - absolute_difference (clesperanto)(..., )\n",
      "2022-04-19 11:53:06.141 | INFO     | napari_assistant._gui._category_widget:call_op:129 - gaussian_blur (clesperanto)(..., 23.0, 1.0, 0.0)\n",
      "2022-04-19 11:53:06.156 | INFO     | napari_assistant._gui._category_widget:call_op:129 - voronoi_otsu_labeling (clesperanto)(..., 10.0, 6.0)\n",
      "2022-04-19 11:53:06.544 | INFO     | napari_assistant._gui._category_widget:call_op:129 - gaussian_blur (clesperanto)(..., 23.0, 1.0, 0.0)\n",
      "2022-04-19 11:53:06.561 | INFO     | napari_assistant._gui._category_widget:call_op:129 - voronoi_otsu_labeling (clesperanto)(..., 10.0, 6.0)\n",
      "2022-04-19 11:53:06.932 | INFO     | napari_assistant._gui._category_widget:call_op:129 - voronoi_otsu_labeling (clesperanto)(..., 10.0, 6.0)\n",
      "2022-04-19 11:55:22.460 | INFO     | napari_assistant._gui._category_widget:call_op:129 - voronoi_otsu_labeling (clesperanto)(..., 11.0, 6.0)\n",
      "2022-04-19 11:55:22.951 | INFO     | napari_assistant._gui._category_widget:call_op:129 - voronoi_otsu_labeling (clesperanto)(..., 12.0, 6.0)\n",
      "2022-04-19 11:55:23.437 | INFO     | napari_assistant._gui._category_widget:call_op:129 - voronoi_otsu_labeling (clesperanto)(..., 13.0, 6.0)\n",
      "2022-04-19 11:55:23.689 | INFO     | napari_assistant._gui._category_widget:call_op:129 - voronoi_otsu_labeling (clesperanto)(..., 14.0, 6.0)\n",
      "2022-04-19 11:55:24.001 | INFO     | napari_assistant._gui._category_widget:call_op:129 - voronoi_otsu_labeling (clesperanto)(..., 15.0, 6.0)\n"
     ]
    },
    {
     "name": "stdout",
     "output_type": "stream",
     "text": [
      "workflow before undo:\n",
      "Workflow:\n",
      "Result of gaussian_blur (clesperanto) <- (<function gaussian_blur at 0x0000016C8FC3E820>, 'blobs', None, 6.0, 6.0, 0.0)\n",
      "Result of top_hat_box (clesperanto) <- (<function top_hat_box at 0x0000016C8FCCF700>, 'Result of gaussian_blur (clesperanto)', None, 15.0, 15.0, 0.0)\n",
      "Result of absolute_difference (clesperanto) <- (<function absolute_difference at 0x0000016C8FCCFF70>, 'Result of top_hat_box (clesperanto)', 'Result of gaussian_blur (clesperanto)')\n",
      "Result of gaussian_blur (clesperanto) [1] <- (<function gaussian_blur at 0x0000016C8FC3E820>, 'Result of absolute_difference (clesperanto)', None, 23.0, 1.0, 0.0)\n",
      "Result of voronoi_otsu_labeling (clesperanto) <- (<function voronoi_otsu_labeling at 0x0000016C90957040>, 'Result of gaussian_blur (clesperanto) [1]', None, 15.0, 6.0)\n",
      "\n",
      "workflow after undo:\n",
      "Workflow:\n",
      "Result of gaussian_blur (clesperanto) <- (<function gaussian_blur at 0x0000016C8FC3E820>, 'blobs', None, 6.0, 6.0, 0.0)\n",
      "Result of top_hat_box (clesperanto) <- (<function top_hat_box at 0x0000016C8FCCF700>, 'Result of gaussian_blur (clesperanto)', None, 15.0, 15.0, 0.0)\n",
      "Result of absolute_difference (clesperanto) <- (<function absolute_difference at 0x0000016C8FCCFF70>, 'Result of top_hat_box (clesperanto)', 'Result of gaussian_blur (clesperanto)')\n",
      "Result of gaussian_blur (clesperanto) [1] <- (<function gaussian_blur at 0x0000016C8FC3E820>, 'Result of absolute_difference (clesperanto)', None, 23.0, 1.0, 0.0)\n",
      "Result of voronoi_otsu_labeling (clesperanto) <- (<function voronoi_otsu_labeling at 0x0000016C90957040>, 'Result of gaussian_blur (clesperanto) [1]', None, 15.0, 6.0)\n",
      "\n"
     ]
    }
   ],
   "source": [
    "assistant.load_workflow(filename='test_long_wf.yaml')"
   ]
  }
 ],
 "metadata": {
  "kernelspec": {
   "display_name": "Python 3 (ipykernel)",
   "language": "python",
   "name": "python3"
  },
  "language_info": {
   "codemirror_mode": {
    "name": "ipython",
    "version": 3
   },
   "file_extension": ".py",
   "mimetype": "text/x-python",
   "name": "python",
   "nbconvert_exporter": "python",
   "pygments_lexer": "ipython3",
   "version": "3.9.7"
  }
 },
 "nbformat": 4,
 "nbformat_minor": 5
}
