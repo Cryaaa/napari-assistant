{
 "cells": [
  {
   "cell_type": "code",
   "execution_count": 1,
   "id": "caf1f2e4",
   "metadata": {},
   "outputs": [
    {
     "name": "stderr",
     "output_type": "stream",
     "text": [
      "C:\\Users\\ryans\\Anaconda3\\envs\\np_workflows_v1\\lib\\site-packages\\napari_tools_menu\\__init__.py:165: FutureWarning: Public access to Window.qt_viewer is deprecated and will be removed in\n",
      "v0.5.0. It is considered an \"implementation detail\" of the napari\n",
      "application, not part of the napari viewer model. If your use case\n",
      "requires access to qt_viewer, please open an issue to discuss.\n",
      "  self.tools_menu = ToolsMenu(self, self.qt_viewer.viewer)\n"
     ]
    },
    {
     "data": {
      "text/plain": [
       "<napari._qt.widgets.qt_viewer_dock_widget.QtViewerDockWidget at 0x1fc92234d30>"
      ]
     },
     "execution_count": 1,
     "metadata": {},
     "output_type": "execute_result"
    }
   ],
   "source": [
    "import napari\n",
    "from napari_assistant._gui._Assistant import Assistant\n",
    "from skimage.io import imread\n",
    "from napari_assistant._categories import CATEGORIES\n",
    "from napari_assistant._workflow_io_utility import initialise_root_functions, load_remaining_workflow\n",
    "from napari_assistant._undo_redo import delete_workflow_widgets_layers\n",
    "from napari_workflows import WorkflowManager\n",
    "\n",
    "filename = 'C:/Users/ryans/OneDrive/Desktop/blobs.tif'\n",
    "blobs = imread(filename)\n",
    "blobs_modified = imread('C:/Users/ryans/OneDrive/Desktop/blobs_messed_up.tiff') \n",
    "\n",
    "viewer = napari.Viewer()\n",
    "viewer.add_image(blobs_modified, name = 'not blobs')\n",
    "viewer.add_image(blobs, name = 'blobs')\n",
    "\n",
    "manager = WorkflowManager.install(viewer)\n",
    "assistant = Assistant(viewer)\n",
    "viewer.window.add_dock_widget(assistant)"
   ]
  },
  {
   "cell_type": "code",
   "execution_count": 2,
   "id": "e3a5a952",
   "metadata": {},
   "outputs": [
    {
     "name": "stderr",
     "output_type": "stream",
     "text": [
      "2022-04-25 18:18:56.023 | INFO     | napari_assistant._gui._category_widget:call_op:163 - gaussian_blur (clesperanto)(..., 1.0, 1.0, 0.0)\n",
      "2022-04-25 18:18:56.280 | INFO     | napari_assistant._gui._category_widget:call_op:163 - gamma_correction (clesperanto)(..., 1.0)\n"
     ]
    },
    {
     "data": {
      "image/png": "[encoded data removed]",
      "text/plain": [
       "<FunctionGui do_filter(*, input0: napari.layers.image.image.Image = <Image layer 'Result of gaussian_blur (clesperanto)' at 0x1fc92233d30>, op_name: str = 'gamma_correction (clesperanto)', x: float = 1.0, y: float = 1.0, z: float = 0.0, u: float = 0.0, v: float = 0.0, w: float = 0.0, a: bool = False, b: bool = False, c: bool = False, k: str = '', l: str = '', m: str = '', viewer: napari.viewer.Viewer = Viewer(axes=Axes(visible=False, labels=True, colored=True, dashed=False, arrows=True), camera=Camera(center=(0.0, 126.5, 127.5), zoom=2.244094488188976, angles=(0.0, 0.0, 90.0), perspective=0, interactive=True), cursor=Cursor(position=(1, 1), scaled=True, size=1, style=<CursorStyle.STANDARD: 'standard'>), dims=Dims(ndim=2, ndisplay=2, last_used=0, range=((0.0, 254.0, 1.0), (0.0, 256.0, 1.0)), current_step=(127, 128), order=(0, 1), axis_labels=('0', '1')), grid=GridCanvas(stride=-1, shape=(-1, -1), enabled=False), layers=[<Image layer 'not blobs' at 0x1fcfb99d850>, <Image layer 'blobs' at 0x1fc8dbf8520>, <Image layer 'Result of gaussian_blur (clesperanto)' at 0x1fc92233d30>, <Image layer 'Result of gamma_correction (clesperanto)' at 0x1fc92334970>], scale_bar=ScaleBar(visible=False, colored=False, ticks=True, position=<Position.BOTTOM_RIGHT: 'bottom_right'>, font_size=10, unit=None), text_overlay=TextOverlay(visible=False, color=(0.5, 0.5, 0.5, 1.0), font_size=10, position=<TextOverlayPosition.TOP_LEFT: 'top_left'>, text=''), overlays=Overlays(interaction_box=InteractionBox(points=None, show=False, show_handle=False, show_vertices=False, selection_box_drag=None, selection_box_final=None, transform_start=<napari.utils.transforms.transforms.Affine object at 0x000001FCFB9BAF10>, transform_drag=<napari.utils.transforms.transforms.Affine object at 0x000001FCFB9BAF70>, transform_final=<napari.utils.transforms.transforms.Affine object at 0x000001FCFB9BAFD0>, transform=<napari.utils.transforms.transforms.Affine object at 0x000001FCFB9C4070>, allow_new_selection=True, selected_vertex=None)), help='', status='Ready', tooltip=Tooltip(visible=False, text=''), theme='dark', title='napari', mouse_move_callbacks=[<function InteractionBoxMouseBindings.initialize_mouse_events.<locals>.mouse_move at 0x000001FC86F82280>], mouse_drag_callbacks=[<function InteractionBoxMouseBindings.initialize_mouse_events.<locals>.mouse_drag at 0x000001FC86F6C700>], mouse_double_click_callbacks=[], mouse_wheel_callbacks=[<function dims_scroll at 0x000001FCF98133A0>], _persisted_mouse_event={}, _mouse_drag_gen={}, _mouse_wheel_gen={}, keymap={'Shift': <function InteractionBoxMouseBindings.initialize_key_events.<locals>.hold_to_lock_aspect_ratio at 0x000001FC86F6CC10>, 'Control-Shift-R': <function InteractionBoxMouseBindings._reset_active_layer_affine at 0x000001FC86BE6820>, 'Control-Shift-A': <function InteractionBoxMouseBindings._transform_active_layer at 0x000001FC86BE6940>}))>"
      ]
     },
     "execution_count": 2,
     "metadata": {},
     "output_type": "execute_result"
    }
   ],
   "source": [
    "noise_widget = assistant._activate(CATEGORIES.get(\"Remove noise\"))\n",
    "assistant._activate(CATEGORIES.get(\"Filter\"))"
   ]
  },
  {
   "cell_type": "code",
   "execution_count": 3,
   "id": "e7184d2c",
   "metadata": {},
   "outputs": [
    {
     "name": "stdout",
     "output_type": "stream",
     "text": [
      "Workflow:\n",
      "\n",
      "Workflow:\n",
      "Result of gaussian_blur (clesperanto) <- (<function gaussian_blur at 0x000001FCF8A91820>, 'blobs', None, 1.0, 1.0, 0.0)\n",
      "\n"
     ]
    }
   ],
   "source": [
    "controller = manager.undo_redo_controller\n",
    "for i in controller.undo_stack:\n",
    "    print(i)"
   ]
  },
  {
   "cell_type": "code",
   "execution_count": 4,
   "id": "85e1f160",
   "metadata": {},
   "outputs": [
    {
     "name": "stderr",
     "output_type": "stream",
     "text": [
      "2022-04-25 18:18:57.182 | INFO     | napari_assistant._gui._category_widget:call_op:163 - gaussian_blur (clesperanto)(..., 4.0, 1.0, 0.0)\n",
      "2022-04-25 18:18:57.205 | INFO     | napari_assistant._gui._category_widget:call_op:163 - gamma_correction (clesperanto)(..., 1.0)\n"
     ]
    }
   ],
   "source": [
    "noise_widget[\"x\"].value = 4"
   ]
  },
  {
   "cell_type": "code",
   "execution_count": 5,
   "id": "bd71092e",
   "metadata": {},
   "outputs": [
    {
     "name": "stdout",
     "output_type": "stream",
     "text": [
      "Workflow:\n",
      "\n",
      "Workflow:\n",
      "Result of gaussian_blur (clesperanto) <- (<function gaussian_blur at 0x000001FCF8A91820>, 'blobs', None, 1.0, 1.0, 0.0)\n",
      "\n",
      "Workflow:\n",
      "Result of gaussian_blur (clesperanto) <- (<function gaussian_blur at 0x000001FCF8A91820>, 'blobs', None, 1.0, 1.0, 0.0)\n",
      "Result of gamma_correction (clesperanto) <- (<function gamma_correction at 0x000001FCF8B08820>, 'Result of gaussian_blur (clesperanto)', None, 1.0)\n",
      "\n",
      "Workflow:\n",
      "Result of gaussian_blur (clesperanto) <- (<function gaussian_blur at 0x000001FCF8A91820>, 'blobs', None, 1.0, 1.0, 0.0)\n",
      "Result of gamma_correction (clesperanto) <- (<function gamma_correction at 0x000001FCF8B08820>, 'Result of gaussian_blur (clesperanto)', None, 1.0)\n",
      "\n"
     ]
    }
   ],
   "source": [
    "for i in controller.undo_stack:\n",
    "    print(i)"
   ]
  },
  {
   "cell_type": "code",
   "execution_count": 7,
   "id": "f8c2b47b",
   "metadata": {},
   "outputs": [
    {
     "name": "stderr",
     "output_type": "stream",
     "text": [
      "2022-04-25 18:20:59.413 | INFO     | napari_assistant._gui._category_widget:call_op:163 - gaussian_blur (clesperanto)(..., 8.0, 1.0, 0.0)\n",
      "2022-04-25 18:20:59.439 | INFO     | napari_assistant._gui._category_widget:call_op:163 - gamma_correction (clesperanto)(..., 1.0)\n"
     ]
    },
    {
     "name": "stdout",
     "output_type": "stream",
     "text": [
      "Workflow:\n",
      "\n",
      "Workflow:\n",
      "Result of gaussian_blur (clesperanto) <- (<function gaussian_blur at 0x000001FCF8A91820>, 'blobs', None, 1.0, 1.0, 0.0)\n",
      "\n",
      "Workflow:\n",
      "Result of gaussian_blur (clesperanto) <- (<function gaussian_blur at 0x000001FCF8A91820>, 'blobs', None, 1.0, 1.0, 0.0)\n",
      "Result of gamma_correction (clesperanto) <- (<function gamma_correction at 0x000001FCF8B08820>, 'Result of gaussian_blur (clesperanto)', None, 1.0)\n",
      "\n",
      "Workflow:\n",
      "Result of gaussian_blur (clesperanto) <- (<function gaussian_blur at 0x000001FCF8A91820>, 'blobs', None, 1.0, 1.0, 0.0)\n",
      "Result of gamma_correction (clesperanto) <- (<function gamma_correction at 0x000001FCF8B08820>, 'Result of gaussian_blur (clesperanto)', None, 1.0)\n",
      "\n",
      "Workflow:\n",
      "Result of gaussian_blur (clesperanto) <- (<function gaussian_blur at 0x000001FCF8A91820>, 'blobs', None, 4.0, 1.0, 0.0)\n",
      "Result of gamma_correction (clesperanto) <- (<function gamma_correction at 0x000001FCF8B08820>, 'Result of gaussian_blur (clesperanto)', None, 1.0)\n",
      "\n",
      "Workflow:\n",
      "Result of gaussian_blur (clesperanto) <- (<function gaussian_blur at 0x000001FCF8A91820>, 'blobs', None, 4.0, 1.0, 0.0)\n",
      "Result of gamma_correction (clesperanto) <- (<function gamma_correction at 0x000001FCF8B08820>, 'Result of gaussian_blur (clesperanto)', None, 1.0)\n",
      "\n"
     ]
    }
   ],
   "source": [
    "noise_widget[\"x\"].value = 8\n",
    "for i in controller.undo_stack:\n",
    "    print(i)"
   ]
  },
  {
   "cell_type": "code",
   "execution_count": null,
   "id": "e9ea4733",
   "metadata": {},
   "outputs": [],
   "source": []
  }
 ],
 "metadata": {
  "kernelspec": {
   "display_name": "Python 3 (ipykernel)",
   "language": "python",
   "name": "python3"
  },
  "language_info": {
   "codemirror_mode": {
    "name": "ipython",
    "version": 3
   },
   "file_extension": ".py",
   "mimetype": "text/x-python",
   "name": "python",
   "nbconvert_exporter": "python",
   "pygments_lexer": "ipython3",
   "version": "3.9.7"
  }
 },
 "nbformat": 4,
 "nbformat_minor": 5
}
