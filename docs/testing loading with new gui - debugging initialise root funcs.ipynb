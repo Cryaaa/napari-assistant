{
 "cells": [
  {
   "cell_type": "code",
   "execution_count": 1,
   "id": "450d76bf",
   "metadata": {},
   "outputs": [
    {
     "name": "stderr",
     "output_type": "stream",
     "text": [
      "C:\\Users\\ryans\\Anaconda3\\envs\\np_workflows_v1\\lib\\site-packages\\napari_tools_menu\\__init__.py:165: FutureWarning: Public access to Window.qt_viewer is deprecated and will be removed in\n",
      "v0.5.0. It is considered an \"implementation detail\" of the napari\n",
      "application, not part of the napari viewer model. If your use case\n",
      "requires access to qt_viewer, please open an issue to discuss.\n",
      "  self.tools_menu = ToolsMenu(self, self.qt_viewer.viewer)\n"
     ]
    },
    {
     "data": {
      "text/plain": [
       "<Image layer 'blobs' at 0x1d5de44d880>"
      ]
     },
     "execution_count": 1,
     "metadata": {},
     "output_type": "execute_result"
    }
   ],
   "source": [
    "import napari\n",
    "from napari_assistant._gui._Assistant import Assistant\n",
    "from skimage.io import imread\n",
    "from napari_assistant._categories import CATEGORIES\n",
    "\n",
    "filename = 'C:/Users/ryans/OneDrive/Desktop/blobs.tif'\n",
    "blobs = imread(filename)\n",
    "blobs_modified = imread('C:/Users/ryans/OneDrive/Desktop/blobs_messed_up.tiff') \n",
    "\n",
    "viewer = napari.Viewer()\n",
    "viewer.add_image(blobs_modified, name = 'not blobs')\n",
    "viewer.add_image(blobs, name = 'blobs')\n",
    "#assistant = Assistant(viewer)\n",
    "#viewer.window.add_dock_widget(assistant)"
   ]
  },
  {
   "cell_type": "code",
   "execution_count": 2,
   "id": "03d941cc",
   "metadata": {},
   "outputs": [
    {
     "name": "stderr",
     "output_type": "stream",
     "text": [
      "2022-04-13 16:29:40.957 | INFO     | napari_assistant._gui._category_widget:call_op:129 - gaussian_blur (clesperanto)(..., 1.0, 1.0, 0.0)\n",
      "2022-04-13 16:29:41.052 | DEBUG    | napari_assistant._gui._category_widget:_show_result:231 - creating new layer for id: 2018171395520\n",
      "2022-04-13 16:29:41.137 | INFO     | napari_assistant._gui._category_widget:call_op:129 - gaussian_blur (clesperanto)(..., 1.0, 1.0, 0.0)\n",
      "2022-04-13 16:29:41.146 | DEBUG    | napari_assistant._gui._category_widget:_show_result:225 - updating existing layer: Result of gaussian_blur (clesperanto), with id: 2018171395520\n",
      "2022-04-13 16:29:41.162 | INFO     | napari_assistant._gui._category_widget:call_op:129 - gaussian_blur (clesperanto)(..., 6.0, 1.0, 0.0)\n",
      "2022-04-13 16:29:41.169 | DEBUG    | napari_assistant._gui._category_widget:_show_result:225 - updating existing layer: Result of gaussian_blur (clesperanto), with id: 2018171395520\n",
      "2022-04-13 16:29:41.186 | INFO     | napari_assistant._gui._category_widget:call_op:129 - gaussian_blur (clesperanto)(..., 6.0, 6.0, 0.0)\n",
      "2022-04-13 16:29:41.197 | DEBUG    | napari_assistant._gui._category_widget:_show_result:225 - updating existing layer: Result of gaussian_blur (clesperanto), with id: 2018171395520\n",
      "2022-04-13 16:29:41.215 | INFO     | napari_assistant._gui._category_widget:call_op:129 - gaussian_blur (clesperanto)(..., 6.0, 6.0, 0.0)\n",
      "2022-04-13 16:29:41.222 | DEBUG    | napari_assistant._gui._category_widget:_show_result:225 - updating existing layer: Result of gaussian_blur (clesperanto), with id: 2018171395520\n"
     ]
    },
    {
     "name": "stdout",
     "output_type": "stream",
     "text": [
      "only arguments: [array([[ 0,  1,  2, ..., 11, 12, 12],\n",
      "       [24,  0,  2, ...,  9, 11, 11],\n",
      "       [28, 17,  2, ..., 26,  9,  9],\n",
      "       ...,\n",
      "       [16,  4,  4, ..., 17, 17, 17],\n",
      "       [ 4,  4,  4, ..., 17, 17, 17],\n",
      "       [18, 15,  4, ..., 17, 17, 17]], dtype=uint8)]\n",
      "det kwargs:     {'destination': None, 'sigma_x': 1.0, 'sigma_y': 1.0, 'sigma_z': 0.0}\n",
      "only arguments: [array([[ 40,  32,  24, ..., 216, 200, 200],\n",
      "       [ 56,  40,  24, ..., 232, 216, 216],\n",
      "       [ 64,  48,  24, ..., 240, 232, 232],\n",
      "       ...,\n",
      "       [ 72,  80,  80, ...,  48,  48,  48],\n",
      "       [ 80,  80,  80, ...,  48,  48,  48],\n",
      "       [ 96,  88,  80, ...,  48,  48,  48]], dtype=uint8)]\n",
      "det kwargs:     {'destination': None, 'sigma_x': 1.0, 'sigma_y': 1.0, 'sigma_z': 0.0}\n",
      "only arguments: [array([[ 40,  32,  24, ..., 216, 200, 200],\n",
      "       [ 56,  40,  24, ..., 232, 216, 216],\n",
      "       [ 64,  48,  24, ..., 240, 232, 232],\n",
      "       ...,\n",
      "       [ 72,  80,  80, ...,  48,  48,  48],\n",
      "       [ 80,  80,  80, ...,  48,  48,  48],\n",
      "       [ 96,  88,  80, ...,  48,  48,  48]], dtype=uint8)]\n",
      "det kwargs:     {'destination': None, 'sigma_x': 6.0, 'sigma_y': 1.0, 'sigma_z': 0.0}\n",
      "only arguments: [array([[ 40,  32,  24, ..., 216, 200, 200],\n",
      "       [ 56,  40,  24, ..., 232, 216, 216],\n",
      "       [ 64,  48,  24, ..., 240, 232, 232],\n",
      "       ...,\n",
      "       [ 72,  80,  80, ...,  48,  48,  48],\n",
      "       [ 80,  80,  80, ...,  48,  48,  48],\n",
      "       [ 96,  88,  80, ...,  48,  48,  48]], dtype=uint8)]\n",
      "det kwargs:     {'destination': None, 'sigma_x': 6.0, 'sigma_y': 6.0, 'sigma_z': 0.0}\n",
      "only arguments: [array([[ 40,  32,  24, ..., 216, 200, 200],\n",
      "       [ 56,  40,  24, ..., 232, 216, 216],\n",
      "       [ 64,  48,  24, ..., 240, 232, 232],\n",
      "       ...,\n",
      "       [ 72,  80,  80, ...,  48,  48,  48],\n",
      "       [ 80,  80,  80, ...,  48,  48,  48],\n",
      "       [ 96,  88,  80, ...,  48,  48,  48]], dtype=uint8)]\n",
      "det kwargs:     {'destination': None, 'sigma_x': 6.0, 'sigma_y': 6.0, 'sigma_z': 0.0}\n"
     ]
    }
   ],
   "source": [
    "from napari_assistant._workflow_io_utility import initialise_root_functions\n",
    "from napari_workflows._io_yaml_v1 import load_workflow\n",
    "\n",
    "workflow = load_workflow(filename='test_with_combine_function.yaml')\n",
    "\n",
    "initialise_root_functions(workflow,viewer)"
   ]
  },
  {
   "cell_type": "code",
   "execution_count": 3,
   "id": "8a26e4df",
   "metadata": {},
   "outputs": [
    {
     "name": "stderr",
     "output_type": "stream",
     "text": [
      "2022-04-13 16:29:41.274 | INFO     | napari_assistant._gui._category_widget:call_op:129 - top_hat_box (clesperanto)(..., 10.0, 10.0, 0.0)\n",
      "2022-04-13 16:29:41.294 | DEBUG    | napari_assistant._gui._category_widget:_show_result:231 - creating new layer for id: 2018172453072\n",
      "2022-04-13 16:29:41.466 | INFO     | napari_assistant._gui._category_widget:call_op:129 - top_hat_box (clesperanto)(..., 10.0, 10.0, 0.0)\n",
      "2022-04-13 16:29:41.478 | DEBUG    | napari_assistant._gui._category_widget:_show_result:225 - updating existing layer: Result of top_hat_box (clesperanto), with id: 2018172453072\n",
      "2022-04-13 16:29:41.493 | INFO     | napari_assistant._gui._category_widget:call_op:129 - top_hat_box (clesperanto)(..., 15.0, 10.0, 0.0)\n",
      "2022-04-13 16:29:41.504 | DEBUG    | napari_assistant._gui._category_widget:_show_result:225 - updating existing layer: Result of top_hat_box (clesperanto), with id: 2018172453072\n",
      "2022-04-13 16:29:41.522 | INFO     | napari_assistant._gui._category_widget:call_op:129 - top_hat_box (clesperanto)(..., 15.0, 15.0, 0.0)\n",
      "2022-04-13 16:29:41.535 | DEBUG    | napari_assistant._gui._category_widget:_show_result:225 - updating existing layer: Result of top_hat_box (clesperanto), with id: 2018172453072\n",
      "2022-04-13 16:29:41.551 | INFO     | napari_assistant._gui._category_widget:call_op:129 - top_hat_box (clesperanto)(..., 15.0, 15.0, 0.0)\n",
      "2022-04-13 16:29:41.564 | DEBUG    | napari_assistant._gui._category_widget:_show_result:225 - updating existing layer: Result of top_hat_box (clesperanto), with id: 2018172453072\n",
      "2022-04-13 16:29:41.633 | INFO     | napari_assistant._gui._category_widget:call_op:129 - absolute_difference (clesperanto)(..., )\n",
      "2022-04-13 16:29:41.644 | DEBUG    | napari_assistant._gui._category_widget:_show_result:231 - creating new layer for id: 2018173234048\n"
     ]
    },
    {
     "name": "stdout",
     "output_type": "stream",
     "text": [
      "only arguments: [array([[ 0,  1,  2, ..., 11, 12, 12],\n",
      "       [24,  0,  2, ...,  9, 11, 11],\n",
      "       [28, 17,  2, ..., 26,  9,  9],\n",
      "       ...,\n",
      "       [16,  4,  4, ..., 17, 17, 17],\n",
      "       [ 4,  4,  4, ..., 17, 17, 17],\n",
      "       [18, 15,  4, ..., 17, 17, 17]], dtype=uint8)]\n",
      "det kwargs:     {'destination': None, 'radius_x': 10.0, 'radius_y': 10.0, 'radius_z': 0.0}\n",
      "only arguments: [cl.Array([[ 36.987213,  36.748055,  36.720158, ..., 219.39273 , 219.55081 ,\n",
      "        219.24374 ],\n",
      "       [ 37.57606 ,  37.461544,  37.5792  , ..., 220.53722 , 220.70338 ,\n",
      "        220.42693 ],\n",
      "       [ 38.240932,  38.264496,  38.545185, ..., 221.58632 , 221.75493 ,\n",
      "        221.50473 ],\n",
      "       ...,\n",
      "       [ 72.67791 ,  71.58198 ,  70.38857 , ...,  52.567577,  51.40775 ,\n",
      "         50.564884],\n",
      "       [ 74.00522 ,  72.82467 ,  71.54207 , ...,  52.96153 ,  51.669037,\n",
      "         50.722404],\n",
      "       [ 75.46215 ,  74.18416 ,  72.79883 , ...,  53.367485,  51.939392,\n",
      "         50.88665 ]], dtype=float32)]\n",
      "det kwargs:     {'destination': None, 'radius_x': 10.0, 'radius_y': 10.0, 'radius_z': 0.0}\n",
      "only arguments: [cl.Array([[ 36.987213,  36.748055,  36.720158, ..., 219.39273 , 219.55081 ,\n",
      "        219.24374 ],\n",
      "       [ 37.57606 ,  37.461544,  37.5792  , ..., 220.53722 , 220.70338 ,\n",
      "        220.42693 ],\n",
      "       [ 38.240932,  38.264496,  38.545185, ..., 221.58632 , 221.75493 ,\n",
      "        221.50473 ],\n",
      "       ...,\n",
      "       [ 72.67791 ,  71.58198 ,  70.38857 , ...,  52.567577,  51.40775 ,\n",
      "         50.564884],\n",
      "       [ 74.00522 ,  72.82467 ,  71.54207 , ...,  52.96153 ,  51.669037,\n",
      "         50.722404],\n",
      "       [ 75.46215 ,  74.18416 ,  72.79883 , ...,  53.367485,  51.939392,\n",
      "         50.88665 ]], dtype=float32)]\n",
      "det kwargs:     {'destination': None, 'radius_x': 15.0, 'radius_y': 10.0, 'radius_z': 0.0}\n",
      "only arguments: [cl.Array([[ 36.987213,  36.748055,  36.720158, ..., 219.39273 , 219.55081 ,\n",
      "        219.24374 ],\n",
      "       [ 37.57606 ,  37.461544,  37.5792  , ..., 220.53722 , 220.70338 ,\n",
      "        220.42693 ],\n",
      "       [ 38.240932,  38.264496,  38.545185, ..., 221.58632 , 221.75493 ,\n",
      "        221.50473 ],\n",
      "       ...,\n",
      "       [ 72.67791 ,  71.58198 ,  70.38857 , ...,  52.567577,  51.40775 ,\n",
      "         50.564884],\n",
      "       [ 74.00522 ,  72.82467 ,  71.54207 , ...,  52.96153 ,  51.669037,\n",
      "         50.722404],\n",
      "       [ 75.46215 ,  74.18416 ,  72.79883 , ...,  53.367485,  51.939392,\n",
      "         50.88665 ]], dtype=float32)]\n",
      "det kwargs:     {'destination': None, 'radius_x': 15.0, 'radius_y': 15.0, 'radius_z': 0.0}\n",
      "only arguments: [cl.Array([[ 36.987213,  36.748055,  36.720158, ..., 219.39273 , 219.55081 ,\n",
      "        219.24374 ],\n",
      "       [ 37.57606 ,  37.461544,  37.5792  , ..., 220.53722 , 220.70338 ,\n",
      "        220.42693 ],\n",
      "       [ 38.240932,  38.264496,  38.545185, ..., 221.58632 , 221.75493 ,\n",
      "        221.50473 ],\n",
      "       ...,\n",
      "       [ 72.67791 ,  71.58198 ,  70.38857 , ...,  52.567577,  51.40775 ,\n",
      "         50.564884],\n",
      "       [ 74.00522 ,  72.82467 ,  71.54207 , ...,  52.96153 ,  51.669037,\n",
      "         50.722404],\n",
      "       [ 75.46215 ,  74.18416 ,  72.79883 , ...,  53.367485,  51.939392,\n",
      "         50.88665 ]], dtype=float32)]\n",
      "det kwargs:     {'destination': None, 'radius_x': 15.0, 'radius_y': 15.0, 'radius_z': 0.0}\n",
      "only arguments: [cl.Array([[2.67055511e-01, 2.78968811e-02, 0.00000000e+00, ...,\n",
      "        9.63595200e+01, 9.65176010e+01, 9.62105331e+01],\n",
      "       [1.14517212e-01, 0.00000000e+00, 0.00000000e+00, ...,\n",
      "        9.75040054e+01, 9.76701736e+01, 9.73937149e+01],\n",
      "       [0.00000000e+00, 0.00000000e+00, 0.00000000e+00, ...,\n",
      "        9.85531082e+01, 9.87217178e+01, 9.84715195e+01],\n",
      "       ...,\n",
      "       [1.52099342e+01, 1.41140022e+01, 1.29205971e+01, ...,\n",
      "        9.48760986e-01, 5.97942352e-01, 3.24359894e-01],\n",
      "       [1.65372429e+01, 1.53566933e+01, 1.40740929e+01, ...,\n",
      "        1.34271240e+00, 8.59230042e-01, 4.81880188e-01],\n",
      "       [1.79941750e+01, 1.67161827e+01, 1.53308525e+01, ...,\n",
      "        1.74866867e+00, 1.12958527e+00, 6.46125793e-01]], dtype=float32), cl.Array([[ 36.987213,  36.748055,  36.720158, ..., 219.39273 , 219.55081 ,\n",
      "        219.24374 ],\n",
      "       [ 37.57606 ,  37.461544,  37.5792  , ..., 220.53722 , 220.70338 ,\n",
      "        220.42693 ],\n",
      "       [ 38.240932,  38.264496,  38.545185, ..., 221.58632 , 221.75493 ,\n",
      "        221.50473 ],\n",
      "       ...,\n",
      "       [ 72.67791 ,  71.58198 ,  70.38857 , ...,  52.567577,  51.40775 ,\n",
      "         50.564884],\n",
      "       [ 74.00522 ,  72.82467 ,  71.54207 , ...,  52.96153 ,  51.669037,\n",
      "         50.722404],\n",
      "       [ 75.46215 ,  74.18416 ,  72.79883 , ...,  53.367485,  51.939392,\n",
      "         50.88665 ]], dtype=float32)]\n",
      "det kwargs:     {'destination': None}\n"
     ]
    }
   ],
   "source": [
    "from napari_assistant._workflow_io_utility import load_remaining_workflow\n",
    "load_remaining_workflow(workflow, viewer)"
   ]
  },
  {
   "cell_type": "code",
   "execution_count": 5,
   "id": "9ea3470e",
   "metadata": {},
   "outputs": [
    {
     "name": "stdout",
     "output_type": "stream",
     "text": [
      "Workflow:\n",
      "Result of gaussian_blur (clesperanto) <- (<function gaussian_blur at 0x000001D5CA15A820>, 'blobs', None, 6.0, 6.0, 0.0)\n",
      "Result of top_hat_box (clesperanto) <- (<function top_hat_box at 0x000001D5CA1EB700>, 'Result of gaussian_blur (clesperanto)', None, 15.0, 15.0, 0.0)\n",
      "Result of absolute_difference (clesperanto) <- (<function absolute_difference at 0x000001D5CA1EBF70>, 'Result of top_hat_box (clesperanto)', 'Result of gaussian_blur (clesperanto)')\n",
      "Result of gaussian_blur (clesperanto) [1] <- (<function gaussian_blur at 0x000001D5CA15A820>, 'Result of absolute_difference (clesperanto)', None, 23.0, 1.0, 0.0)\n",
      "\n"
     ]
    },
    {
     "name": "stderr",
     "output_type": "stream",
     "text": [
      "2022-04-13 16:30:19.040 | INFO     | napari_assistant._gui._category_widget:call_op:129 - threshold_otsu (clesperanto)(..., )\n",
      "2022-04-13 16:30:19.123 | DEBUG    | napari_assistant._gui._category_widget:_show_result:231 - creating new layer for id: 2018069012192\n"
     ]
    },
    {
     "name": "stdout",
     "output_type": "stream",
     "text": [
      "only arguments: [cl.Array([[ 42.87519 ,  43.12632 ,  43.3797  , ..., 105.32722 , 106.304306,\n",
      "        107.25048 ],\n",
      "       [ 43.516247,  43.768402,  44.0225  , ..., 105.48695 , 106.45698 ,\n",
      "        107.39614 ],\n",
      "       [ 44.262352,  44.51059 ,  44.760365, ..., 105.693695, 106.6541  ,\n",
      "        107.58379 ],\n",
      "       ...,\n",
      "       [ 58.53559 ,  58.612484,  58.693027, ...,  52.796722,  52.71131 ,\n",
      "         52.62585 ],\n",
      "       [ 58.48716 ,  58.56038 ,  58.637047, ...,  52.78784 ,  52.703354,\n",
      "         52.618732],\n",
      "       [ 58.431183,  58.50014 ,  58.57234 , ...,  52.783573,  52.69953 ,\n",
      "         52.615314]], dtype=float32)]\n",
      "det kwargs:     {'destination': None}\n"
     ]
    },
    {
     "name": "stderr",
     "output_type": "stream",
     "text": [
      "2022-04-13 16:31:12.201 | INFO     | napari_assistant._gui._category_widget:call_op:129 - voronoi_otsu_labeling (clesperanto)(..., 2.0, 2.0)\n",
      "2022-04-13 16:31:12.741 | DEBUG    | napari_assistant._gui._category_widget:_show_result:231 - creating new layer for id: 2018070816656\n"
     ]
    },
    {
     "name": "stdout",
     "output_type": "stream",
     "text": [
      "only arguments: [cl.Array([[ 42.87519 ,  43.12632 ,  43.3797  , ..., 105.32722 , 106.304306,\n",
      "        107.25048 ],\n",
      "       [ 43.516247,  43.768402,  44.0225  , ..., 105.48695 , 106.45698 ,\n",
      "        107.39614 ],\n",
      "       [ 44.262352,  44.51059 ,  44.760365, ..., 105.693695, 106.6541  ,\n",
      "        107.58379 ],\n",
      "       ...,\n",
      "       [ 58.53559 ,  58.612484,  58.693027, ...,  52.796722,  52.71131 ,\n",
      "         52.62585 ],\n",
      "       [ 58.48716 ,  58.56038 ,  58.637047, ...,  52.78784 ,  52.703354,\n",
      "         52.618732],\n",
      "       [ 58.431183,  58.50014 ,  58.57234 , ...,  52.783573,  52.69953 ,\n",
      "         52.615314]], dtype=float32)]\n",
      "det kwargs:     {'label_image_destination': None, 'spot_sigma': 2.0, 'outline_sigma': 2.0}\n"
     ]
    },
    {
     "name": "stderr",
     "output_type": "stream",
     "text": [
      "2022-04-13 16:31:16.810 | INFO     | napari_assistant._gui._category_widget:call_op:129 - voronoi_otsu_labeling (clesperanto)(..., 3.0, 2.0)\n",
      "2022-04-13 16:31:16.982 | DEBUG    | napari_assistant._gui._category_widget:_show_result:225 - updating existing layer: Result of voronoi_otsu_labeling (clesperanto), with id: 2018070816656\n",
      "2022-04-13 16:31:17.052 | INFO     | napari_assistant._gui._category_widget:call_op:129 - voronoi_otsu_labeling (clesperanto)(..., 4.0, 2.0)\n"
     ]
    },
    {
     "name": "stdout",
     "output_type": "stream",
     "text": [
      "only arguments: [cl.Array([[ 42.87519 ,  43.12632 ,  43.3797  , ..., 105.32722 , 106.304306,\n",
      "        107.25048 ],\n",
      "       [ 43.516247,  43.768402,  44.0225  , ..., 105.48695 , 106.45698 ,\n",
      "        107.39614 ],\n",
      "       [ 44.262352,  44.51059 ,  44.760365, ..., 105.693695, 106.6541  ,\n",
      "        107.58379 ],\n",
      "       ...,\n",
      "       [ 58.53559 ,  58.612484,  58.693027, ...,  52.796722,  52.71131 ,\n",
      "         52.62585 ],\n",
      "       [ 58.48716 ,  58.56038 ,  58.637047, ...,  52.78784 ,  52.703354,\n",
      "         52.618732],\n",
      "       [ 58.431183,  58.50014 ,  58.57234 , ...,  52.783573,  52.69953 ,\n",
      "         52.615314]], dtype=float32)]\n",
      "det kwargs:     {'label_image_destination': None, 'spot_sigma': 3.0, 'outline_sigma': 2.0}\n"
     ]
    },
    {
     "name": "stderr",
     "output_type": "stream",
     "text": [
      "2022-04-13 16:31:17.216 | DEBUG    | napari_assistant._gui._category_widget:_show_result:225 - updating existing layer: Result of voronoi_otsu_labeling (clesperanto), with id: 2018070816656\n",
      "2022-04-13 16:31:17.287 | INFO     | napari_assistant._gui._category_widget:call_op:129 - voronoi_otsu_labeling (clesperanto)(..., 5.0, 2.0)\n"
     ]
    },
    {
     "name": "stdout",
     "output_type": "stream",
     "text": [
      "only arguments: [cl.Array([[ 42.87519 ,  43.12632 ,  43.3797  , ..., 105.32722 , 106.304306,\n",
      "        107.25048 ],\n",
      "       [ 43.516247,  43.768402,  44.0225  , ..., 105.48695 , 106.45698 ,\n",
      "        107.39614 ],\n",
      "       [ 44.262352,  44.51059 ,  44.760365, ..., 105.693695, 106.6541  ,\n",
      "        107.58379 ],\n",
      "       ...,\n",
      "       [ 58.53559 ,  58.612484,  58.693027, ...,  52.796722,  52.71131 ,\n",
      "         52.62585 ],\n",
      "       [ 58.48716 ,  58.56038 ,  58.637047, ...,  52.78784 ,  52.703354,\n",
      "         52.618732],\n",
      "       [ 58.431183,  58.50014 ,  58.57234 , ...,  52.783573,  52.69953 ,\n",
      "         52.615314]], dtype=float32)]\n",
      "det kwargs:     {'label_image_destination': None, 'spot_sigma': 4.0, 'outline_sigma': 2.0}\n"
     ]
    },
    {
     "name": "stderr",
     "output_type": "stream",
     "text": [
      "2022-04-13 16:31:17.484 | DEBUG    | napari_assistant._gui._category_widget:_show_result:225 - updating existing layer: Result of voronoi_otsu_labeling (clesperanto), with id: 2018070816656\n",
      "2022-04-13 16:31:17.555 | INFO     | napari_assistant._gui._category_widget:call_op:129 - voronoi_otsu_labeling (clesperanto)(..., 6.0, 2.0)\n"
     ]
    },
    {
     "name": "stdout",
     "output_type": "stream",
     "text": [
      "only arguments: [cl.Array([[ 42.87519 ,  43.12632 ,  43.3797  , ..., 105.32722 , 106.304306,\n",
      "        107.25048 ],\n",
      "       [ 43.516247,  43.768402,  44.0225  , ..., 105.48695 , 106.45698 ,\n",
      "        107.39614 ],\n",
      "       [ 44.262352,  44.51059 ,  44.760365, ..., 105.693695, 106.6541  ,\n",
      "        107.58379 ],\n",
      "       ...,\n",
      "       [ 58.53559 ,  58.612484,  58.693027, ...,  52.796722,  52.71131 ,\n",
      "         52.62585 ],\n",
      "       [ 58.48716 ,  58.56038 ,  58.637047, ...,  52.78784 ,  52.703354,\n",
      "         52.618732],\n",
      "       [ 58.431183,  58.50014 ,  58.57234 , ...,  52.783573,  52.69953 ,\n",
      "         52.615314]], dtype=float32)]\n",
      "det kwargs:     {'label_image_destination': None, 'spot_sigma': 5.0, 'outline_sigma': 2.0}\n"
     ]
    },
    {
     "name": "stderr",
     "output_type": "stream",
     "text": [
      "2022-04-13 16:31:17.729 | DEBUG    | napari_assistant._gui._category_widget:_show_result:225 - updating existing layer: Result of voronoi_otsu_labeling (clesperanto), with id: 2018070816656\n",
      "2022-04-13 16:31:17.809 | INFO     | napari_assistant._gui._category_widget:call_op:129 - voronoi_otsu_labeling (clesperanto)(..., 7.0, 2.0)\n"
     ]
    },
    {
     "name": "stdout",
     "output_type": "stream",
     "text": [
      "only arguments: [cl.Array([[ 42.87519 ,  43.12632 ,  43.3797  , ..., 105.32722 , 106.304306,\n",
      "        107.25048 ],\n",
      "       [ 43.516247,  43.768402,  44.0225  , ..., 105.48695 , 106.45698 ,\n",
      "        107.39614 ],\n",
      "       [ 44.262352,  44.51059 ,  44.760365, ..., 105.693695, 106.6541  ,\n",
      "        107.58379 ],\n",
      "       ...,\n",
      "       [ 58.53559 ,  58.612484,  58.693027, ...,  52.796722,  52.71131 ,\n",
      "         52.62585 ],\n",
      "       [ 58.48716 ,  58.56038 ,  58.637047, ...,  52.78784 ,  52.703354,\n",
      "         52.618732],\n",
      "       [ 58.431183,  58.50014 ,  58.57234 , ...,  52.783573,  52.69953 ,\n",
      "         52.615314]], dtype=float32)]\n",
      "det kwargs:     {'label_image_destination': None, 'spot_sigma': 6.0, 'outline_sigma': 2.0}\n"
     ]
    },
    {
     "name": "stderr",
     "output_type": "stream",
     "text": [
      "2022-04-13 16:31:18.143 | DEBUG    | napari_assistant._gui._category_widget:_show_result:225 - updating existing layer: Result of voronoi_otsu_labeling (clesperanto), with id: 2018070816656\n",
      "2022-04-13 16:31:18.214 | INFO     | napari_assistant._gui._category_widget:call_op:129 - voronoi_otsu_labeling (clesperanto)(..., 8.0, 2.0)\n"
     ]
    },
    {
     "name": "stdout",
     "output_type": "stream",
     "text": [
      "only arguments: [cl.Array([[ 42.87519 ,  43.12632 ,  43.3797  , ..., 105.32722 , 106.304306,\n",
      "        107.25048 ],\n",
      "       [ 43.516247,  43.768402,  44.0225  , ..., 105.48695 , 106.45698 ,\n",
      "        107.39614 ],\n",
      "       [ 44.262352,  44.51059 ,  44.760365, ..., 105.693695, 106.6541  ,\n",
      "        107.58379 ],\n",
      "       ...,\n",
      "       [ 58.53559 ,  58.612484,  58.693027, ...,  52.796722,  52.71131 ,\n",
      "         52.62585 ],\n",
      "       [ 58.48716 ,  58.56038 ,  58.637047, ...,  52.78784 ,  52.703354,\n",
      "         52.618732],\n",
      "       [ 58.431183,  58.50014 ,  58.57234 , ...,  52.783573,  52.69953 ,\n",
      "         52.615314]], dtype=float32)]\n",
      "det kwargs:     {'label_image_destination': None, 'spot_sigma': 7.0, 'outline_sigma': 2.0}\n"
     ]
    },
    {
     "name": "stderr",
     "output_type": "stream",
     "text": [
      "2022-04-13 16:31:18.522 | DEBUG    | napari_assistant._gui._category_widget:_show_result:225 - updating existing layer: Result of voronoi_otsu_labeling (clesperanto), with id: 2018070816656\n",
      "2022-04-13 16:31:18.593 | INFO     | napari_assistant._gui._category_widget:call_op:129 - voronoi_otsu_labeling (clesperanto)(..., 9.0, 2.0)\n"
     ]
    },
    {
     "name": "stdout",
     "output_type": "stream",
     "text": [
      "only arguments: [cl.Array([[ 42.87519 ,  43.12632 ,  43.3797  , ..., 105.32722 , 106.304306,\n",
      "        107.25048 ],\n",
      "       [ 43.516247,  43.768402,  44.0225  , ..., 105.48695 , 106.45698 ,\n",
      "        107.39614 ],\n",
      "       [ 44.262352,  44.51059 ,  44.760365, ..., 105.693695, 106.6541  ,\n",
      "        107.58379 ],\n",
      "       ...,\n",
      "       [ 58.53559 ,  58.612484,  58.693027, ...,  52.796722,  52.71131 ,\n",
      "         52.62585 ],\n",
      "       [ 58.48716 ,  58.56038 ,  58.637047, ...,  52.78784 ,  52.703354,\n",
      "         52.618732],\n",
      "       [ 58.431183,  58.50014 ,  58.57234 , ...,  52.783573,  52.69953 ,\n",
      "         52.615314]], dtype=float32)]\n",
      "det kwargs:     {'label_image_destination': None, 'spot_sigma': 8.0, 'outline_sigma': 2.0}\n"
     ]
    },
    {
     "name": "stderr",
     "output_type": "stream",
     "text": [
      "2022-04-13 16:31:18.922 | DEBUG    | napari_assistant._gui._category_widget:_show_result:225 - updating existing layer: Result of voronoi_otsu_labeling (clesperanto), with id: 2018070816656\n",
      "2022-04-13 16:31:18.938 | INFO     | napari_assistant._gui._category_widget:call_op:129 - voronoi_otsu_labeling (clesperanto)(..., 10.0, 2.0)\n"
     ]
    },
    {
     "name": "stdout",
     "output_type": "stream",
     "text": [
      "only arguments: [cl.Array([[ 42.87519 ,  43.12632 ,  43.3797  , ..., 105.32722 , 106.304306,\n",
      "        107.25048 ],\n",
      "       [ 43.516247,  43.768402,  44.0225  , ..., 105.48695 , 106.45698 ,\n",
      "        107.39614 ],\n",
      "       [ 44.262352,  44.51059 ,  44.760365, ..., 105.693695, 106.6541  ,\n",
      "        107.58379 ],\n",
      "       ...,\n",
      "       [ 58.53559 ,  58.612484,  58.693027, ...,  52.796722,  52.71131 ,\n",
      "         52.62585 ],\n",
      "       [ 58.48716 ,  58.56038 ,  58.637047, ...,  52.78784 ,  52.703354,\n",
      "         52.618732],\n",
      "       [ 58.431183,  58.50014 ,  58.57234 , ...,  52.783573,  52.69953 ,\n",
      "         52.615314]], dtype=float32)]\n",
      "det kwargs:     {'label_image_destination': None, 'spot_sigma': 9.0, 'outline_sigma': 2.0}\n"
     ]
    },
    {
     "name": "stderr",
     "output_type": "stream",
     "text": [
      "2022-04-13 16:31:19.246 | DEBUG    | napari_assistant._gui._category_widget:_show_result:225 - updating existing layer: Result of voronoi_otsu_labeling (clesperanto), with id: 2018070816656\n"
     ]
    },
    {
     "name": "stdout",
     "output_type": "stream",
     "text": [
      "only arguments: [cl.Array([[ 42.87519 ,  43.12632 ,  43.3797  , ..., 105.32722 , 106.304306,\n",
      "        107.25048 ],\n",
      "       [ 43.516247,  43.768402,  44.0225  , ..., 105.48695 , 106.45698 ,\n",
      "        107.39614 ],\n",
      "       [ 44.262352,  44.51059 ,  44.760365, ..., 105.693695, 106.6541  ,\n",
      "        107.58379 ],\n",
      "       ...,\n",
      "       [ 58.53559 ,  58.612484,  58.693027, ...,  52.796722,  52.71131 ,\n",
      "         52.62585 ],\n",
      "       [ 58.48716 ,  58.56038 ,  58.637047, ...,  52.78784 ,  52.703354,\n",
      "         52.618732],\n",
      "       [ 58.431183,  58.50014 ,  58.57234 , ...,  52.783573,  52.69953 ,\n",
      "         52.615314]], dtype=float32)]\n",
      "det kwargs:     {'label_image_destination': None, 'spot_sigma': 10.0, 'outline_sigma': 2.0}\n"
     ]
    },
    {
     "name": "stderr",
     "output_type": "stream",
     "text": [
      "2022-04-13 16:31:20.016 | INFO     | napari_assistant._gui._category_widget:call_op:129 - voronoi_otsu_labeling (clesperanto)(..., 10.0, 3.0)\n",
      "2022-04-13 16:31:20.351 | DEBUG    | napari_assistant._gui._category_widget:_show_result:225 - updating existing layer: Result of voronoi_otsu_labeling (clesperanto), with id: 2018070816656\n",
      "2022-04-13 16:31:20.415 | INFO     | napari_assistant._gui._category_widget:call_op:129 - voronoi_otsu_labeling (clesperanto)(..., 10.0, 4.0)\n"
     ]
    },
    {
     "name": "stdout",
     "output_type": "stream",
     "text": [
      "only arguments: [cl.Array([[ 42.87519 ,  43.12632 ,  43.3797  , ..., 105.32722 , 106.304306,\n",
      "        107.25048 ],\n",
      "       [ 43.516247,  43.768402,  44.0225  , ..., 105.48695 , 106.45698 ,\n",
      "        107.39614 ],\n",
      "       [ 44.262352,  44.51059 ,  44.760365, ..., 105.693695, 106.6541  ,\n",
      "        107.58379 ],\n",
      "       ...,\n",
      "       [ 58.53559 ,  58.612484,  58.693027, ...,  52.796722,  52.71131 ,\n",
      "         52.62585 ],\n",
      "       [ 58.48716 ,  58.56038 ,  58.637047, ...,  52.78784 ,  52.703354,\n",
      "         52.618732],\n",
      "       [ 58.431183,  58.50014 ,  58.57234 , ...,  52.783573,  52.69953 ,\n",
      "         52.615314]], dtype=float32)]\n",
      "det kwargs:     {'label_image_destination': None, 'spot_sigma': 10.0, 'outline_sigma': 3.0}\n"
     ]
    },
    {
     "name": "stderr",
     "output_type": "stream",
     "text": [
      "2022-04-13 16:31:20.737 | DEBUG    | napari_assistant._gui._category_widget:_show_result:225 - updating existing layer: Result of voronoi_otsu_labeling (clesperanto), with id: 2018070816656\n",
      "2022-04-13 16:31:20.812 | INFO     | napari_assistant._gui._category_widget:call_op:129 - voronoi_otsu_labeling (clesperanto)(..., 10.0, 5.0)\n"
     ]
    },
    {
     "name": "stdout",
     "output_type": "stream",
     "text": [
      "only arguments: [cl.Array([[ 42.87519 ,  43.12632 ,  43.3797  , ..., 105.32722 , 106.304306,\n",
      "        107.25048 ],\n",
      "       [ 43.516247,  43.768402,  44.0225  , ..., 105.48695 , 106.45698 ,\n",
      "        107.39614 ],\n",
      "       [ 44.262352,  44.51059 ,  44.760365, ..., 105.693695, 106.6541  ,\n",
      "        107.58379 ],\n",
      "       ...,\n",
      "       [ 58.53559 ,  58.612484,  58.693027, ...,  52.796722,  52.71131 ,\n",
      "         52.62585 ],\n",
      "       [ 58.48716 ,  58.56038 ,  58.637047, ...,  52.78784 ,  52.703354,\n",
      "         52.618732],\n",
      "       [ 58.431183,  58.50014 ,  58.57234 , ...,  52.783573,  52.69953 ,\n",
      "         52.615314]], dtype=float32)]\n",
      "det kwargs:     {'label_image_destination': None, 'spot_sigma': 10.0, 'outline_sigma': 4.0}\n"
     ]
    },
    {
     "name": "stderr",
     "output_type": "stream",
     "text": [
      "2022-04-13 16:31:21.125 | DEBUG    | napari_assistant._gui._category_widget:_show_result:225 - updating existing layer: Result of voronoi_otsu_labeling (clesperanto), with id: 2018070816656\n",
      "2022-04-13 16:31:21.141 | INFO     | napari_assistant._gui._category_widget:call_op:129 - voronoi_otsu_labeling (clesperanto)(..., 10.0, 6.0)\n"
     ]
    },
    {
     "name": "stdout",
     "output_type": "stream",
     "text": [
      "only arguments: [cl.Array([[ 42.87519 ,  43.12632 ,  43.3797  , ..., 105.32722 , 106.304306,\n",
      "        107.25048 ],\n",
      "       [ 43.516247,  43.768402,  44.0225  , ..., 105.48695 , 106.45698 ,\n",
      "        107.39614 ],\n",
      "       [ 44.262352,  44.51059 ,  44.760365, ..., 105.693695, 106.6541  ,\n",
      "        107.58379 ],\n",
      "       ...,\n",
      "       [ 58.53559 ,  58.612484,  58.693027, ...,  52.796722,  52.71131 ,\n",
      "         52.62585 ],\n",
      "       [ 58.48716 ,  58.56038 ,  58.637047, ...,  52.78784 ,  52.703354,\n",
      "         52.618732],\n",
      "       [ 58.431183,  58.50014 ,  58.57234 , ...,  52.783573,  52.69953 ,\n",
      "         52.615314]], dtype=float32)]\n",
      "det kwargs:     {'label_image_destination': None, 'spot_sigma': 10.0, 'outline_sigma': 5.0}\n"
     ]
    },
    {
     "name": "stderr",
     "output_type": "stream",
     "text": [
      "2022-04-13 16:31:21.464 | DEBUG    | napari_assistant._gui._category_widget:_show_result:225 - updating existing layer: Result of voronoi_otsu_labeling (clesperanto), with id: 2018070816656\n"
     ]
    },
    {
     "name": "stdout",
     "output_type": "stream",
     "text": [
      "only arguments: [cl.Array([[ 42.87519 ,  43.12632 ,  43.3797  , ..., 105.32722 , 106.304306,\n",
      "        107.25048 ],\n",
      "       [ 43.516247,  43.768402,  44.0225  , ..., 105.48695 , 106.45698 ,\n",
      "        107.39614 ],\n",
      "       [ 44.262352,  44.51059 ,  44.760365, ..., 105.693695, 106.6541  ,\n",
      "        107.58379 ],\n",
      "       ...,\n",
      "       [ 58.53559 ,  58.612484,  58.693027, ...,  52.796722,  52.71131 ,\n",
      "         52.62585 ],\n",
      "       [ 58.48716 ,  58.56038 ,  58.637047, ...,  52.78784 ,  52.703354,\n",
      "         52.618732],\n",
      "       [ 58.431183,  58.50014 ,  58.57234 , ...,  52.783573,  52.69953 ,\n",
      "         52.615314]], dtype=float32)]\n",
      "det kwargs:     {'label_image_destination': None, 'spot_sigma': 10.0, 'outline_sigma': 6.0}\n"
     ]
    }
   ],
   "source": [
    "from napari_workflows import WorkflowManager\n",
    "\n",
    "manager = WorkflowManager.install(viewer)\n",
    "print(manager.workflow)"
   ]
  },
  {
   "cell_type": "code",
   "execution_count": null,
   "id": "9cf3c893",
   "metadata": {},
   "outputs": [],
   "source": []
  }
 ],
 "metadata": {
  "kernelspec": {
   "display_name": "Python 3 (ipykernel)",
   "language": "python",
   "name": "python3"
  },
  "language_info": {
   "codemirror_mode": {
    "name": "ipython",
    "version": 3
   },
   "file_extension": ".py",
   "mimetype": "text/x-python",
   "name": "python",
   "nbconvert_exporter": "python",
   "pygments_lexer": "ipython3",
   "version": "3.9.7"
  }
 },
 "nbformat": 4,
 "nbformat_minor": 5
}
