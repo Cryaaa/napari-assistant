{
 "cells": [
  {
   "cell_type": "code",
   "execution_count": 1,
   "id": "450d76bf",
   "metadata": {},
   "outputs": [
    {
     "name": "stderr",
     "output_type": "stream",
     "text": [
      "C:\\Users\\ryans\\Anaconda3\\envs\\np_workflows_v1\\lib\\site-packages\\napari_tools_menu\\__init__.py:165: FutureWarning: Public access to Window.qt_viewer is deprecated and will be removed in\n",
      "v0.5.0. It is considered an \"implementation detail\" of the napari\n",
      "application, not part of the napari viewer model. If your use case\n",
      "requires access to qt_viewer, please open an issue to discuss.\n",
      "  self.tools_menu = ToolsMenu(self, self.qt_viewer.viewer)\n"
     ]
    },
    {
     "data": {
      "text/plain": [
       "<napari._qt.widgets.qt_viewer_dock_widget.QtViewerDockWidget at 0x13fcce45940>"
      ]
     },
     "execution_count": 1,
     "metadata": {},
     "output_type": "execute_result"
    }
   ],
   "source": [
    "import napari\n",
    "from napari_assistant._gui._Assistant import Assistant\n",
    "from skimage.io import imread\n",
    "from napari_assistant._categories import CATEGORIES\n",
    "\n",
    "filename = 'C:/Users/ryans/OneDrive/Desktop/blobs.tif'\n",
    "blobs = imread(filename)\n",
    "blobs_modified = imread('C:/Users/ryans/OneDrive/Desktop/blobs_messed_up.tiff') \n",
    "\n",
    "viewer = napari.Viewer()\n",
    "viewer.add_image(blobs_modified, name = 'not blobs')\n",
    "viewer.add_image(blobs, name = 'blobs')\n",
    "assistant = Assistant(viewer)\n",
    "viewer.window.add_dock_widget(assistant)"
   ]
  },
  {
   "cell_type": "code",
   "execution_count": 2,
   "id": "03d941cc",
   "metadata": {},
   "outputs": [
    {
     "name": "stderr",
     "output_type": "stream",
     "text": [
      "2022-04-13 16:38:23.044 | INFO     | napari_assistant._gui._category_widget:call_op:129 - gaussian_blur (clesperanto)(..., 1.0, 1.0, 0.0)\n",
      "2022-04-13 16:38:23.138 | DEBUG    | napari_assistant._gui._category_widget:_show_result:231 - creating new layer for id: 1372981616352\n",
      "2022-04-13 16:38:23.302 | INFO     | napari_assistant._gui._category_widget:call_op:129 - gaussian_blur (clesperanto)(..., 1.0, 1.0, 0.0)\n",
      "2022-04-13 16:38:23.312 | DEBUG    | napari_assistant._gui._category_widget:_show_result:225 - updating existing layer: Result of gaussian_blur (clesperanto), with id: 1372981616352\n",
      "2022-04-13 16:38:23.329 | INFO     | napari_assistant._gui._category_widget:call_op:129 - gaussian_blur (clesperanto)(..., 6.0, 1.0, 0.0)\n",
      "2022-04-13 16:38:23.337 | DEBUG    | napari_assistant._gui._category_widget:_show_result:225 - updating existing layer: Result of gaussian_blur (clesperanto), with id: 1372981616352\n",
      "2022-04-13 16:38:23.355 | INFO     | napari_assistant._gui._category_widget:call_op:129 - gaussian_blur (clesperanto)(..., 6.0, 6.0, 0.0)\n",
      "2022-04-13 16:38:23.365 | DEBUG    | napari_assistant._gui._category_widget:_show_result:225 - updating existing layer: Result of gaussian_blur (clesperanto), with id: 1372981616352\n",
      "2022-04-13 16:38:23.382 | INFO     | napari_assistant._gui._category_widget:call_op:129 - gaussian_blur (clesperanto)(..., 6.0, 6.0, 0.0)\n",
      "2022-04-13 16:38:23.390 | DEBUG    | napari_assistant._gui._category_widget:_show_result:225 - updating existing layer: Result of gaussian_blur (clesperanto), with id: 1372981616352\n",
      "2022-04-13 16:38:23.435 | INFO     | napari_assistant._gui._category_widget:call_op:129 - top_hat_box (clesperanto)(..., 10.0, 10.0, 0.0)\n",
      "2022-04-13 16:38:23.452 | DEBUG    | napari_assistant._gui._category_widget:_show_result:231 - creating new layer for id: 1373533558528\n"
     ]
    },
    {
     "name": "stdout",
     "output_type": "stream",
     "text": [
      "set workflow step: Result of gaussian_blur (clesperanto)\n",
      "     args: ['not blobs']\n",
      "   kwargs: {'destination': None, 'sigma_x': 1.0, 'sigma_y': 1.0, 'sigma_z': 0.0}\n",
      "signature: (source: Union[numpy.ndarray, pyclesperanto_prototype._tier0._pycl.OCLArray, pyopencl._cl.Image, pyclesperanto_prototype._tier0._pycl._OCLImage], destination: Union[numpy.ndarray, pyclesperanto_prototype._tier0._pycl.OCLArray, pyopencl._cl.Image, pyclesperanto_prototype._tier0._pycl._OCLImage] = None, sigma_x: float = 0, sigma_y: float = 0, sigma_z: float = 0) -> Union[numpy.ndarray, pyclesperanto_prototype._tier0._pycl.OCLArray, pyopencl._cl.Image, pyclesperanto_prototype._tier0._pycl._OCLImage]\n",
      "set workflow step: Result of gaussian_blur (clesperanto)\n",
      "     args: ['blobs']\n",
      "   kwargs: {'destination': None, 'sigma_x': 1.0, 'sigma_y': 1.0, 'sigma_z': 0.0}\n",
      "signature: (source: Union[numpy.ndarray, pyclesperanto_prototype._tier0._pycl.OCLArray, pyopencl._cl.Image, pyclesperanto_prototype._tier0._pycl._OCLImage], destination: Union[numpy.ndarray, pyclesperanto_prototype._tier0._pycl.OCLArray, pyopencl._cl.Image, pyclesperanto_prototype._tier0._pycl._OCLImage] = None, sigma_x: float = 0, sigma_y: float = 0, sigma_z: float = 0) -> Union[numpy.ndarray, pyclesperanto_prototype._tier0._pycl.OCLArray, pyopencl._cl.Image, pyclesperanto_prototype._tier0._pycl._OCLImage]\n",
      "set workflow step: Result of gaussian_blur (clesperanto)\n",
      "     args: ['blobs']\n",
      "   kwargs: {'destination': None, 'sigma_x': 6.0, 'sigma_y': 1.0, 'sigma_z': 0.0}\n",
      "signature: (source: Union[numpy.ndarray, pyclesperanto_prototype._tier0._pycl.OCLArray, pyopencl._cl.Image, pyclesperanto_prototype._tier0._pycl._OCLImage], destination: Union[numpy.ndarray, pyclesperanto_prototype._tier0._pycl.OCLArray, pyopencl._cl.Image, pyclesperanto_prototype._tier0._pycl._OCLImage] = None, sigma_x: float = 0, sigma_y: float = 0, sigma_z: float = 0) -> Union[numpy.ndarray, pyclesperanto_prototype._tier0._pycl.OCLArray, pyopencl._cl.Image, pyclesperanto_prototype._tier0._pycl._OCLImage]\n",
      "set workflow step: Result of gaussian_blur (clesperanto)\n",
      "     args: ['blobs']\n",
      "   kwargs: {'destination': None, 'sigma_x': 6.0, 'sigma_y': 6.0, 'sigma_z': 0.0}\n",
      "signature: (source: Union[numpy.ndarray, pyclesperanto_prototype._tier0._pycl.OCLArray, pyopencl._cl.Image, pyclesperanto_prototype._tier0._pycl._OCLImage], destination: Union[numpy.ndarray, pyclesperanto_prototype._tier0._pycl.OCLArray, pyopencl._cl.Image, pyclesperanto_prototype._tier0._pycl._OCLImage] = None, sigma_x: float = 0, sigma_y: float = 0, sigma_z: float = 0) -> Union[numpy.ndarray, pyclesperanto_prototype._tier0._pycl.OCLArray, pyopencl._cl.Image, pyclesperanto_prototype._tier0._pycl._OCLImage]\n",
      "set workflow step: Result of gaussian_blur (clesperanto)\n",
      "     args: ['blobs']\n",
      "   kwargs: {'destination': None, 'sigma_x': 6.0, 'sigma_y': 6.0, 'sigma_z': 0.0}\n",
      "signature: (source: Union[numpy.ndarray, pyclesperanto_prototype._tier0._pycl.OCLArray, pyopencl._cl.Image, pyclesperanto_prototype._tier0._pycl._OCLImage], destination: Union[numpy.ndarray, pyclesperanto_prototype._tier0._pycl.OCLArray, pyopencl._cl.Image, pyclesperanto_prototype._tier0._pycl._OCLImage] = None, sigma_x: float = 0, sigma_y: float = 0, sigma_z: float = 0) -> Union[numpy.ndarray, pyclesperanto_prototype._tier0._pycl.OCLArray, pyopencl._cl.Image, pyclesperanto_prototype._tier0._pycl._OCLImage]\n"
     ]
    },
    {
     "name": "stderr",
     "output_type": "stream",
     "text": [
      "2022-04-13 16:38:23.537 | INFO     | napari_assistant._gui._category_widget:call_op:129 - top_hat_box (clesperanto)(..., 10.0, 10.0, 0.0)\n",
      "2022-04-13 16:38:23.548 | DEBUG    | napari_assistant._gui._category_widget:_show_result:225 - updating existing layer: Result of top_hat_box (clesperanto), with id: 1373533558528\n",
      "2022-04-13 16:38:23.565 | INFO     | napari_assistant._gui._category_widget:call_op:129 - top_hat_box (clesperanto)(..., 15.0, 10.0, 0.0)\n",
      "2022-04-13 16:38:23.577 | DEBUG    | napari_assistant._gui._category_widget:_show_result:225 - updating existing layer: Result of top_hat_box (clesperanto), with id: 1373533558528\n",
      "2022-04-13 16:38:23.594 | INFO     | napari_assistant._gui._category_widget:call_op:129 - top_hat_box (clesperanto)(..., 15.0, 15.0, 0.0)\n",
      "2022-04-13 16:38:23.605 | DEBUG    | napari_assistant._gui._category_widget:_show_result:225 - updating existing layer: Result of top_hat_box (clesperanto), with id: 1373533558528\n",
      "2022-04-13 16:38:23.622 | INFO     | napari_assistant._gui._category_widget:call_op:129 - top_hat_box (clesperanto)(..., 15.0, 15.0, 0.0)\n",
      "2022-04-13 16:38:23.635 | DEBUG    | napari_assistant._gui._category_widget:_show_result:225 - updating existing layer: Result of top_hat_box (clesperanto), with id: 1373533558528\n",
      "2022-04-13 16:38:23.699 | INFO     | napari_assistant._gui._category_widget:call_op:129 - absolute_difference (clesperanto)(..., )\n"
     ]
    },
    {
     "name": "stdout",
     "output_type": "stream",
     "text": [
      "set workflow step: Result of top_hat_box (clesperanto)\n",
      "     args: ['not blobs']\n",
      "   kwargs: {'destination': None, 'radius_x': 10.0, 'radius_y': 10.0, 'radius_z': 0.0}\n",
      "signature: (input: Union[numpy.ndarray, pyclesperanto_prototype._tier0._pycl.OCLArray, pyopencl._cl.Image, pyclesperanto_prototype._tier0._pycl._OCLImage], destination: Union[numpy.ndarray, pyclesperanto_prototype._tier0._pycl.OCLArray, pyopencl._cl.Image, pyclesperanto_prototype._tier0._pycl._OCLImage] = None, radius_x: float = 1, radius_y: float = 1, radius_z: float = 1) -> Union[numpy.ndarray, pyclesperanto_prototype._tier0._pycl.OCLArray, pyopencl._cl.Image, pyclesperanto_prototype._tier0._pycl._OCLImage]\n",
      "set workflow step: Result of top_hat_box (clesperanto)\n",
      "     args: ['Result of gaussian_blur (clesperanto)']\n",
      "   kwargs: {'destination': None, 'radius_x': 10.0, 'radius_y': 10.0, 'radius_z': 0.0}\n",
      "signature: (input: Union[numpy.ndarray, pyclesperanto_prototype._tier0._pycl.OCLArray, pyopencl._cl.Image, pyclesperanto_prototype._tier0._pycl._OCLImage], destination: Union[numpy.ndarray, pyclesperanto_prototype._tier0._pycl.OCLArray, pyopencl._cl.Image, pyclesperanto_prototype._tier0._pycl._OCLImage] = None, radius_x: float = 1, radius_y: float = 1, radius_z: float = 1) -> Union[numpy.ndarray, pyclesperanto_prototype._tier0._pycl.OCLArray, pyopencl._cl.Image, pyclesperanto_prototype._tier0._pycl._OCLImage]\n",
      "set workflow step: Result of top_hat_box (clesperanto)\n",
      "     args: ['Result of gaussian_blur (clesperanto)']\n",
      "   kwargs: {'destination': None, 'radius_x': 15.0, 'radius_y': 10.0, 'radius_z': 0.0}\n",
      "signature: (input: Union[numpy.ndarray, pyclesperanto_prototype._tier0._pycl.OCLArray, pyopencl._cl.Image, pyclesperanto_prototype._tier0._pycl._OCLImage], destination: Union[numpy.ndarray, pyclesperanto_prototype._tier0._pycl.OCLArray, pyopencl._cl.Image, pyclesperanto_prototype._tier0._pycl._OCLImage] = None, radius_x: float = 1, radius_y: float = 1, radius_z: float = 1) -> Union[numpy.ndarray, pyclesperanto_prototype._tier0._pycl.OCLArray, pyopencl._cl.Image, pyclesperanto_prototype._tier0._pycl._OCLImage]\n",
      "set workflow step: Result of top_hat_box (clesperanto)\n",
      "     args: ['Result of gaussian_blur (clesperanto)']\n",
      "   kwargs: {'destination': None, 'radius_x': 15.0, 'radius_y': 15.0, 'radius_z': 0.0}\n",
      "signature: (input: Union[numpy.ndarray, pyclesperanto_prototype._tier0._pycl.OCLArray, pyopencl._cl.Image, pyclesperanto_prototype._tier0._pycl._OCLImage], destination: Union[numpy.ndarray, pyclesperanto_prototype._tier0._pycl.OCLArray, pyopencl._cl.Image, pyclesperanto_prototype._tier0._pycl._OCLImage] = None, radius_x: float = 1, radius_y: float = 1, radius_z: float = 1) -> Union[numpy.ndarray, pyclesperanto_prototype._tier0._pycl.OCLArray, pyopencl._cl.Image, pyclesperanto_prototype._tier0._pycl._OCLImage]\n",
      "set workflow step: Result of top_hat_box (clesperanto)\n",
      "     args: ['Result of gaussian_blur (clesperanto)']\n",
      "   kwargs: {'destination': None, 'radius_x': 15.0, 'radius_y': 15.0, 'radius_z': 0.0}\n",
      "signature: (input: Union[numpy.ndarray, pyclesperanto_prototype._tier0._pycl.OCLArray, pyopencl._cl.Image, pyclesperanto_prototype._tier0._pycl._OCLImage], destination: Union[numpy.ndarray, pyclesperanto_prototype._tier0._pycl.OCLArray, pyopencl._cl.Image, pyclesperanto_prototype._tier0._pycl._OCLImage] = None, radius_x: float = 1, radius_y: float = 1, radius_z: float = 1) -> Union[numpy.ndarray, pyclesperanto_prototype._tier0._pycl.OCLArray, pyopencl._cl.Image, pyclesperanto_prototype._tier0._pycl._OCLImage]\n"
     ]
    },
    {
     "name": "stderr",
     "output_type": "stream",
     "text": [
      "2022-04-13 16:38:23.710 | DEBUG    | napari_assistant._gui._category_widget:_show_result:231 - creating new layer for id: 1373534721792\n",
      "2022-04-13 16:38:23.799 | INFO     | napari_assistant._gui._category_widget:call_op:129 - gaussian_blur (clesperanto)(..., 1.0, 1.0, 0.0)\n",
      "2022-04-13 16:38:23.809 | DEBUG    | napari_assistant._gui._category_widget:_show_result:231 - creating new layer for id: 1373534807664\n",
      "2022-04-13 16:38:23.889 | INFO     | napari_assistant._gui._category_widget:call_op:129 - gaussian_blur (clesperanto)(..., 1.0, 1.0, 0.0)\n",
      "2022-04-13 16:38:23.898 | DEBUG    | napari_assistant._gui._category_widget:_show_result:225 - updating existing layer: Result of gaussian_blur (clesperanto) [1], with id: 1373534807664\n",
      "2022-04-13 16:38:23.917 | INFO     | napari_assistant._gui._category_widget:call_op:129 - gaussian_blur (clesperanto)(..., 23.0, 1.0, 0.0)\n",
      "2022-04-13 16:38:23.928 | DEBUG    | napari_assistant._gui._category_widget:_show_result:225 - updating existing layer: Result of gaussian_blur (clesperanto) [1], with id: 1373534807664\n",
      "2022-04-13 16:38:23.946 | INFO     | napari_assistant._gui._category_widget:call_op:129 - gaussian_blur (clesperanto)(..., 23.0, 1.0, 0.0)\n",
      "2022-04-13 16:38:23.955 | DEBUG    | napari_assistant._gui._category_widget:_show_result:225 - updating existing layer: Result of gaussian_blur (clesperanto) [1], with id: 1373534807664\n"
     ]
    },
    {
     "name": "stdout",
     "output_type": "stream",
     "text": [
      "set workflow step: Result of absolute_difference (clesperanto)\n",
      "     args: ['Result of top_hat_box (clesperanto)', 'Result of gaussian_blur (clesperanto)']\n",
      "   kwargs: {'destination': None}\n",
      "signature: (source1: Union[numpy.ndarray, pyclesperanto_prototype._tier0._pycl.OCLArray, pyopencl._cl.Image, pyclesperanto_prototype._tier0._pycl._OCLImage], source2: Union[numpy.ndarray, pyclesperanto_prototype._tier0._pycl.OCLArray, pyopencl._cl.Image, pyclesperanto_prototype._tier0._pycl._OCLImage], destination: Union[numpy.ndarray, pyclesperanto_prototype._tier0._pycl.OCLArray, pyopencl._cl.Image, pyclesperanto_prototype._tier0._pycl._OCLImage] = None) -> Union[numpy.ndarray, pyclesperanto_prototype._tier0._pycl.OCLArray, pyopencl._cl.Image, pyclesperanto_prototype._tier0._pycl._OCLImage]\n",
      "set workflow step: Result of gaussian_blur (clesperanto) [1]\n",
      "     args: ['not blobs']\n",
      "   kwargs: {'destination': None, 'sigma_x': 1.0, 'sigma_y': 1.0, 'sigma_z': 0.0}\n",
      "signature: (source: Union[numpy.ndarray, pyclesperanto_prototype._tier0._pycl.OCLArray, pyopencl._cl.Image, pyclesperanto_prototype._tier0._pycl._OCLImage], destination: Union[numpy.ndarray, pyclesperanto_prototype._tier0._pycl.OCLArray, pyopencl._cl.Image, pyclesperanto_prototype._tier0._pycl._OCLImage] = None, sigma_x: float = 0, sigma_y: float = 0, sigma_z: float = 0) -> Union[numpy.ndarray, pyclesperanto_prototype._tier0._pycl.OCLArray, pyopencl._cl.Image, pyclesperanto_prototype._tier0._pycl._OCLImage]\n",
      "set workflow step: Result of gaussian_blur (clesperanto) [1]\n",
      "     args: ['Result of absolute_difference (clesperanto)']\n",
      "   kwargs: {'destination': None, 'sigma_x': 1.0, 'sigma_y': 1.0, 'sigma_z': 0.0}\n",
      "signature: (source: Union[numpy.ndarray, pyclesperanto_prototype._tier0._pycl.OCLArray, pyopencl._cl.Image, pyclesperanto_prototype._tier0._pycl._OCLImage], destination: Union[numpy.ndarray, pyclesperanto_prototype._tier0._pycl.OCLArray, pyopencl._cl.Image, pyclesperanto_prototype._tier0._pycl._OCLImage] = None, sigma_x: float = 0, sigma_y: float = 0, sigma_z: float = 0) -> Union[numpy.ndarray, pyclesperanto_prototype._tier0._pycl.OCLArray, pyopencl._cl.Image, pyclesperanto_prototype._tier0._pycl._OCLImage]\n",
      "set workflow step: Result of gaussian_blur (clesperanto) [1]\n",
      "     args: ['Result of absolute_difference (clesperanto)']\n",
      "   kwargs: {'destination': None, 'sigma_x': 23.0, 'sigma_y': 1.0, 'sigma_z': 0.0}\n",
      "signature: (source: Union[numpy.ndarray, pyclesperanto_prototype._tier0._pycl.OCLArray, pyopencl._cl.Image, pyclesperanto_prototype._tier0._pycl._OCLImage], destination: Union[numpy.ndarray, pyclesperanto_prototype._tier0._pycl.OCLArray, pyopencl._cl.Image, pyclesperanto_prototype._tier0._pycl._OCLImage] = None, sigma_x: float = 0, sigma_y: float = 0, sigma_z: float = 0) -> Union[numpy.ndarray, pyclesperanto_prototype._tier0._pycl.OCLArray, pyopencl._cl.Image, pyclesperanto_prototype._tier0._pycl._OCLImage]\n",
      "set workflow step: Result of gaussian_blur (clesperanto) [1]\n",
      "     args: ['Result of absolute_difference (clesperanto)']\n",
      "   kwargs: {'destination': None, 'sigma_x': 23.0, 'sigma_y': 1.0, 'sigma_z': 0.0}\n",
      "signature: (source: Union[numpy.ndarray, pyclesperanto_prototype._tier0._pycl.OCLArray, pyopencl._cl.Image, pyclesperanto_prototype._tier0._pycl._OCLImage], destination: Union[numpy.ndarray, pyclesperanto_prototype._tier0._pycl.OCLArray, pyopencl._cl.Image, pyclesperanto_prototype._tier0._pycl._OCLImage] = None, sigma_x: float = 0, sigma_y: float = 0, sigma_z: float = 0) -> Union[numpy.ndarray, pyclesperanto_prototype._tier0._pycl.OCLArray, pyopencl._cl.Image, pyclesperanto_prototype._tier0._pycl._OCLImage]\n"
     ]
    },
    {
     "name": "stderr",
     "output_type": "stream",
     "text": [
      "2022-04-13 16:38:24.017 | INFO     | napari_assistant._gui._category_widget:call_op:129 - voronoi_otsu_labeling (clesperanto)(..., 2.0, 2.0)\n",
      "2022-04-13 16:38:24.154 | DEBUG    | napari_assistant._gui._category_widget:_show_result:231 - creating new layer for id: 1373585621488\n",
      "2022-04-13 16:38:24.243 | INFO     | napari_assistant._gui._category_widget:call_op:129 - voronoi_otsu_labeling (clesperanto)(..., 2.0, 2.0)\n",
      "2022-04-13 16:38:24.404 | DEBUG    | napari_assistant._gui._category_widget:_show_result:225 - updating existing layer: Result of voronoi_otsu_labeling (clesperanto), with id: 1373585621488\n"
     ]
    },
    {
     "name": "stdout",
     "output_type": "stream",
     "text": [
      "set workflow step: Result of voronoi_otsu_labeling (clesperanto)\n",
      "     args: ['not blobs']\n",
      "   kwargs: {'label_image_destination': None, 'spot_sigma': 2.0, 'outline_sigma': 2.0}\n",
      "signature: (source: Union[numpy.ndarray, pyclesperanto_prototype._tier0._pycl.OCLArray, pyopencl._cl.Image, pyclesperanto_prototype._tier0._pycl._OCLImage], label_image_destination: Union[numpy.ndarray, pyclesperanto_prototype._tier0._pycl.OCLArray, pyopencl._cl.Image, pyclesperanto_prototype._tier0._pycl._OCLImage] = None, spot_sigma: float = 2, outline_sigma: float = 2) -> Union[numpy.ndarray, pyclesperanto_prototype._tier0._pycl.OCLArray, pyopencl._cl.Image, pyclesperanto_prototype._tier0._pycl._OCLImage]\n"
     ]
    },
    {
     "name": "stderr",
     "output_type": "stream",
     "text": [
      "2022-04-13 16:38:24.421 | INFO     | napari_assistant._gui._category_widget:call_op:129 - voronoi_otsu_labeling (clesperanto)(..., 10.0, 2.0)\n"
     ]
    },
    {
     "name": "stdout",
     "output_type": "stream",
     "text": [
      "set workflow step: Result of voronoi_otsu_labeling (clesperanto)\n",
      "     args: ['Result of gaussian_blur (clesperanto) [1]']\n",
      "   kwargs: {'label_image_destination': None, 'spot_sigma': 2.0, 'outline_sigma': 2.0}\n",
      "signature: (source: Union[numpy.ndarray, pyclesperanto_prototype._tier0._pycl.OCLArray, pyopencl._cl.Image, pyclesperanto_prototype._tier0._pycl._OCLImage], label_image_destination: Union[numpy.ndarray, pyclesperanto_prototype._tier0._pycl.OCLArray, pyopencl._cl.Image, pyclesperanto_prototype._tier0._pycl._OCLImage] = None, spot_sigma: float = 2, outline_sigma: float = 2) -> Union[numpy.ndarray, pyclesperanto_prototype._tier0._pycl.OCLArray, pyopencl._cl.Image, pyclesperanto_prototype._tier0._pycl._OCLImage]\n"
     ]
    },
    {
     "name": "stderr",
     "output_type": "stream",
     "text": [
      "2022-04-13 16:38:24.799 | DEBUG    | napari_assistant._gui._category_widget:_show_result:225 - updating existing layer: Result of voronoi_otsu_labeling (clesperanto), with id: 1373585621488\n",
      "2022-04-13 16:38:24.814 | INFO     | napari_assistant._gui._category_widget:call_op:129 - voronoi_otsu_labeling (clesperanto)(..., 10.0, 6.0)\n"
     ]
    },
    {
     "name": "stdout",
     "output_type": "stream",
     "text": [
      "set workflow step: Result of voronoi_otsu_labeling (clesperanto)\n",
      "     args: ['Result of gaussian_blur (clesperanto) [1]']\n",
      "   kwargs: {'label_image_destination': None, 'spot_sigma': 10.0, 'outline_sigma': 2.0}\n",
      "signature: (source: Union[numpy.ndarray, pyclesperanto_prototype._tier0._pycl.OCLArray, pyopencl._cl.Image, pyclesperanto_prototype._tier0._pycl._OCLImage], label_image_destination: Union[numpy.ndarray, pyclesperanto_prototype._tier0._pycl.OCLArray, pyopencl._cl.Image, pyclesperanto_prototype._tier0._pycl._OCLImage] = None, spot_sigma: float = 2, outline_sigma: float = 2) -> Union[numpy.ndarray, pyclesperanto_prototype._tier0._pycl.OCLArray, pyopencl._cl.Image, pyclesperanto_prototype._tier0._pycl._OCLImage]\n"
     ]
    },
    {
     "name": "stderr",
     "output_type": "stream",
     "text": [
      "2022-04-13 16:38:25.153 | DEBUG    | napari_assistant._gui._category_widget:_show_result:225 - updating existing layer: Result of voronoi_otsu_labeling (clesperanto), with id: 1373585621488\n",
      "2022-04-13 16:38:25.167 | INFO     | napari_assistant._gui._category_widget:call_op:129 - voronoi_otsu_labeling (clesperanto)(..., 10.0, 6.0)\n"
     ]
    },
    {
     "name": "stdout",
     "output_type": "stream",
     "text": [
      "set workflow step: Result of voronoi_otsu_labeling (clesperanto)\n",
      "     args: ['Result of gaussian_blur (clesperanto) [1]']\n",
      "   kwargs: {'label_image_destination': None, 'spot_sigma': 10.0, 'outline_sigma': 6.0}\n",
      "signature: (source: Union[numpy.ndarray, pyclesperanto_prototype._tier0._pycl.OCLArray, pyopencl._cl.Image, pyclesperanto_prototype._tier0._pycl._OCLImage], label_image_destination: Union[numpy.ndarray, pyclesperanto_prototype._tier0._pycl.OCLArray, pyopencl._cl.Image, pyclesperanto_prototype._tier0._pycl._OCLImage] = None, spot_sigma: float = 2, outline_sigma: float = 2) -> Union[numpy.ndarray, pyclesperanto_prototype._tier0._pycl.OCLArray, pyopencl._cl.Image, pyclesperanto_prototype._tier0._pycl._OCLImage]\n"
     ]
    },
    {
     "name": "stderr",
     "output_type": "stream",
     "text": [
      "2022-04-13 16:38:25.537 | DEBUG    | napari_assistant._gui._category_widget:_show_result:225 - updating existing layer: Result of voronoi_otsu_labeling (clesperanto), with id: 1373585621488\n"
     ]
    },
    {
     "name": "stdout",
     "output_type": "stream",
     "text": [
      "set workflow step: Result of voronoi_otsu_labeling (clesperanto)\n",
      "     args: ['Result of gaussian_blur (clesperanto) [1]']\n",
      "   kwargs: {'label_image_destination': None, 'spot_sigma': 10.0, 'outline_sigma': 6.0}\n",
      "signature: (source: Union[numpy.ndarray, pyclesperanto_prototype._tier0._pycl.OCLArray, pyopencl._cl.Image, pyclesperanto_prototype._tier0._pycl._OCLImage], label_image_destination: Union[numpy.ndarray, pyclesperanto_prototype._tier0._pycl.OCLArray, pyopencl._cl.Image, pyclesperanto_prototype._tier0._pycl._OCLImage] = None, spot_sigma: float = 2, outline_sigma: float = 2) -> Union[numpy.ndarray, pyclesperanto_prototype._tier0._pycl.OCLArray, pyopencl._cl.Image, pyclesperanto_prototype._tier0._pycl._OCLImage]\n"
     ]
    }
   ],
   "source": [
    "assistant.load_workflow(filename='test_long_wf.yaml')"
   ]
  }
 ],
 "metadata": {
  "kernelspec": {
   "display_name": "Python 3 (ipykernel)",
   "language": "python",
   "name": "python3"
  },
  "language_info": {
   "codemirror_mode": {
    "name": "ipython",
    "version": 3
   },
   "file_extension": ".py",
   "mimetype": "text/x-python",
   "name": "python",
   "nbconvert_exporter": "python",
   "pygments_lexer": "ipython3",
   "version": "3.9.7"
  }
 },
 "nbformat": 4,
 "nbformat_minor": 5
}
