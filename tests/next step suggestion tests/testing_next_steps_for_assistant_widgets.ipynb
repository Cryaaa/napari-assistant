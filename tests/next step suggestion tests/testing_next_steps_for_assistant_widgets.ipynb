{
 "cells": [
  {
   "cell_type": "code",
   "execution_count": 1,
   "id": "5f542464-273e-4885-8e71-f15db1026fb8",
   "metadata": {},
   "outputs": [
    {
     "name": "stderr",
     "output_type": "stream",
     "text": [
      "C:\\Users\\ryans\\Anaconda3\\envs\\np_workflows_v1\\lib\\site-packages\\napari_tools_menu\\__init__.py:165: FutureWarning: Public access to Window.qt_viewer is deprecated and will be removed in\n",
      "v0.5.0. It is considered an \"implementation detail\" of the napari\n",
      "application, not part of the napari viewer model. If your use case\n",
      "requires access to qt_viewer, please open an issue to discuss.\n",
      "  self.tools_menu = ToolsMenu(self, self.qt_viewer.viewer)\n"
     ]
    },
    {
     "data": {
      "text/plain": [
       "<Image layer 'Image' at 0x2ef930a51c0>"
      ]
     },
     "execution_count": 1,
     "metadata": {},
     "output_type": "execute_result"
    }
   ],
   "source": [
    "import napari\n",
    "from napari_assistant._gui._Assistant import Assistant\n",
    "from napari_assistant._categories import CATEGORIES\n",
    "from skimage.io import imread\n",
    "\n",
    "viewer = napari.Viewer()\n",
    "viewer.add_image(imread(r\"C:\\Users\\ryans\\OneDrive\\Desktop\\blobs.tif\"))"
   ]
  },
  {
   "cell_type": "code",
   "execution_count": 2,
   "id": "b44f40a7-58e2-40aa-88d8-fd1cb6631dfe",
   "metadata": {},
   "outputs": [
    {
     "name": "stderr",
     "output_type": "stream",
     "text": [
      "2022-06-14 17:53:03.255 | INFO     | napari_assistant._gui._category_widget:call_op:162 - gaussian_blur (clesperanto)(..., 1.0, 1.0, 0.0)\n",
      "2022-06-14 17:53:03.523 | INFO     | napari_assistant._gui._category_widget:call_op:162 - top_hat_box (clesperanto)(..., 10.0, 10.0, 0.0)\n"
     ]
    },
    {
     "data": {
      "image/png": "[encoded data removed]",
      "text/plain": [
       "<FunctionGui do_remove_background(*, input0: napari.layers.image.image.Image = <Image layer 'Result of gaussian_blur (clesperanto)' at 0x2efb26d7c40>, op_name: str = 'top_hat_box (clesperanto)', x: float = 10.0, y: float = 10.0, z: float = 0.0, u: float = 0.0, v: float = 0.0, w: float = 0.0, a: bool = False, b: bool = False, c: bool = False, d: bool = False, e: bool = False, f: bool = False, g: bool = False, h: bool = False, i: bool = False, j: bool = False, k: str = '', l: str = '', m: str = '', viewer: napari.viewer.Viewer = Viewer(axes=Axes(visible=False, labels=True, colored=True, dashed=False, arrows=True), camera=Camera(center=(0.0, 126.5, 127.5), zoom=1.273523622047244, angles=(0.0, 0.0, 90.0), perspective=0.0, interactive=True), cursor=Cursor(position=(1, 1), scaled=True, size=1, style=<CursorStyle.STANDARD: 'standard'>), dims=Dims(ndim=2, ndisplay=2, last_used=0, range=((0.0, 254.0, 1.0), (0.0, 256.0, 1.0)), current_step=(127, 128), order=(0, 1), axis_labels=('0', '1')), grid=GridCanvas(stride=-1, shape=(-1, -1), enabled=False), layers=[<Image layer 'Image' at 0x2ef930a51c0>, <Image layer 'Result of gaussian_blur (clesperanto)' at 0x2efb26d7c40>, <Image layer 'Result of top_hat_box (clesperanto)' at 0x2efb28108b0>], scale_bar=ScaleBar(visible=False, colored=False, ticks=True, position=<Position.BOTTOM_RIGHT: 'bottom_right'>, font_size=10, unit=None), text_overlay=TextOverlay(visible=False, color=(0.5, 0.5, 0.5, 1.0), font_size=10, position=<TextOverlayPosition.TOP_LEFT: 'top_left'>, text=''), overlays=Overlays(interaction_box=InteractionBox(points=None, show=False, show_handle=False, show_vertices=False, selection_box_drag=None, selection_box_final=None, transform_start=<napari.utils.transforms.transforms.Affine object at 0x000002EF9C01FBB0>, transform_drag=<napari.utils.transforms.transforms.Affine object at 0x000002EF9C01FC10>, transform_final=<napari.utils.transforms.transforms.Affine object at 0x000002EF9C01FC70>, transform=<napari.utils.transforms.transforms.Affine object at 0x000002EF9C01FCD0>, allow_new_selection=True, selected_vertex=None)), help='', status='Ready', tooltip=Tooltip(visible=False, text=''), theme='dark', title='napari', mouse_move_callbacks=[<function InteractionBoxMouseBindings.initialize_mouse_events.<locals>.mouse_move at 0x000002EFA740C550>], mouse_drag_callbacks=[<function InteractionBoxMouseBindings.initialize_mouse_events.<locals>.mouse_drag at 0x000002EFA73F8550>], mouse_double_click_callbacks=[], mouse_wheel_callbacks=[<function dims_scroll at 0x000002EF9A24F1F0>], _persisted_mouse_event={}, _mouse_drag_gen={}, _mouse_wheel_gen={}, keymap={'Shift': <function InteractionBoxMouseBindings.initialize_key_events.<locals>.hold_to_lock_aspect_ratio at 0x000002EFA73F8EE0>, 'Control-Shift-R': <function InteractionBoxMouseBindings._reset_active_layer_affine at 0x000002EFA706DAF0>, 'Control-Shift-A': <function InteractionBoxMouseBindings._transform_active_layer at 0x000002EFA706DE50>}))>"
      ]
     },
     "execution_count": 2,
     "metadata": {},
     "output_type": "execute_result"
    }
   ],
   "source": [
    "widget = Assistant(viewer)\n",
    "viewer.window.add_dock_widget(widget)\n",
    "widget._activate(CATEGORIES.get(\"Remove noise\"))\n",
    "widget._activate(CATEGORIES.get(\"Remove background\"))"
   ]
  },
  {
   "cell_type": "code",
   "execution_count": 3,
   "id": "48b3163c-f959-4536-8510-d2618330ccd2",
   "metadata": {},
   "outputs": [
    {
     "data": {
      "text/plain": [
       "['Filter', 'Binarize', 'Label']"
      ]
     },
     "execution_count": 3,
     "metadata": {},
     "output_type": "execute_result"
    }
   ],
   "source": [
    "highlighted_categories = []\n",
    "for layer, (dw, gui) in widget._layers.items():\n",
    "    if layer in viewer.layers.selection:    \n",
    "        if dw.name in CATEGORIES:\n",
    "            dw_highlights = [\n",
    "                key for key in CATEGORIES \n",
    "                if key in CATEGORIES[dw.name].next_step_suggestions\n",
    "            ]\n",
    "            highlighted_categories += dw_highlights\n",
    "                \n",
    "highlighted_categories"
   ]
  },
  {
   "cell_type": "code",
   "execution_count": 4,
   "id": "37fd12fc-6a79-4256-a69e-b5fa27e3e96a",
   "metadata": {},
   "outputs": [
    {
     "name": "stdout",
     "output_type": "stream",
     "text": [
      "Remove noise\n",
      "Remove background\n",
      "Filter\n",
      "Combine\n",
      "Transform\n",
      "Projection\n",
      "Binarize\n",
      "Label\n",
      "Process labels\n",
      "Combine labels\n",
      "Measure labels\n",
      "Measure labeled image\n",
      "Compare label images\n",
      "Label neighbor filters\n",
      "Label filters\n",
      "Mesh\n",
      "Measurement\n",
      "Generate code...\n",
      "Save and load workflows\n",
      "Undo\n",
      "Search napari hub\n",
      "Search image.sc\n",
      "Search BIII\n"
     ]
    }
   ],
   "source": [
    "from napari_assistant._gui._button_grid import _get_background_brush, _get_highlight_brush\n",
    "\n",
    "for key in CATEGORIES:\n",
    "    print(key)\n",
    "    try:\n",
    "        widget.icon_grid.item_mapping[key].setBackground(\n",
    "        _get_background_brush()\n",
    "        )\n",
    "    except RuntimeError:\n",
    "        continue\n",
    "    if key in highlighted_categories:\n",
    "        widget.icon_grid.item_mapping[key].setBackground(\n",
    "            _get_highlight_brush()\n",
    "        )"
   ]
  },
  {
   "cell_type": "code",
   "execution_count": null,
   "id": "6ef1d65a-d4e0-410b-b0d6-90369cb4b423",
   "metadata": {},
   "outputs": [],
   "source": []
  },
  {
   "cell_type": "code",
   "execution_count": 5,
   "id": "1324188c-2b39-4461-9791-2a32dfddc350",
   "metadata": {},
   "outputs": [
    {
     "data": {
      "text/plain": [
       "<PyQt5.QtGui.QBrush at 0x2efb2951dd0>"
      ]
     },
     "execution_count": 5,
     "metadata": {},
     "output_type": "execute_result"
    }
   ],
   "source": [
    "widget.icon_grid.item_mapping[\"Label\"].background()"
   ]
  },
  {
   "cell_type": "code",
   "execution_count": 6,
   "id": "63a0885c-7d41-4515-a90d-14559fe2cec2",
   "metadata": {},
   "outputs": [],
   "source": [
    "for layer, (dw, gui) in widget._layers.items():\n",
    "    pass"
   ]
  },
  {
   "cell_type": "code",
   "execution_count": null,
   "id": "aaf912f5-2928-4882-868e-b583e9ff0655",
   "metadata": {},
   "outputs": [],
   "source": []
  },
  {
   "cell_type": "code",
   "execution_count": null,
   "id": "55136764-5410-461e-a48f-71612d16957a",
   "metadata": {},
   "outputs": [],
   "source": []
  }
 ],
 "metadata": {
  "kernelspec": {
   "display_name": "Python 3 (ipykernel)",
   "language": "python",
   "name": "python3"
  },
  "language_info": {
   "codemirror_mode": {
    "name": "ipython",
    "version": 3
   },
   "file_extension": ".py",
   "mimetype": "text/x-python",
   "name": "python",
   "nbconvert_exporter": "python",
   "pygments_lexer": "ipython3",
   "version": "3.9.7"
  }
 },
 "nbformat": 4,
 "nbformat_minor": 5
}
