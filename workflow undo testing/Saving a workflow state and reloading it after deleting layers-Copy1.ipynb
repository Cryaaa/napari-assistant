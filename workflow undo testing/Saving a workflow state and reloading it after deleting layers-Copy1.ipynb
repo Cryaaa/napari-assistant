{
 "cells": [
  {
   "cell_type": "code",
   "execution_count": 1,
   "id": "509f6b1b",
   "metadata": {},
   "outputs": [
    {
     "name": "stderr",
     "output_type": "stream",
     "text": [
      "C:\\Users\\ryans\\anaconda3\\envs\\np_workflows_v1\\lib\\site-packages\\napari_tools_menu\\__init__.py:165: FutureWarning: Public access to Window.qt_viewer is deprecated and will be removed in\n",
      "v0.5.0. It is considered an \"implementation detail\" of the napari\n",
      "application, not part of the napari viewer model. If your use case\n",
      "requires access to qt_viewer, please open an issue to discuss.\n",
      "  self.tools_menu = ToolsMenu(self, self.qt_viewer.viewer)\n"
     ]
    },
    {
     "data": {
      "text/plain": [
       "<Image layer 'img2' at 0x226199194e0>"
      ]
     },
     "execution_count": 1,
     "metadata": {},
     "output_type": "execute_result"
    }
   ],
   "source": [
    "from napari_assistant._workflow_io_utility import *\n",
    "from napari_workflows._io_yaml_v1 import *\n",
    "import napari\n",
    "from skimage.io import imread\n",
    "from napari_workflows import WorkflowManager\n",
    "\n",
    "def to_file(viewer, filename=None):\n",
    "    from napari_workflows import WorkflowManager, _io_yaml_v1\n",
    "    \n",
    "    \n",
    "    if not filename:\n",
    "        print('no file name given')\n",
    "        return\n",
    "\n",
    "    # get the workflow, should one be installed\n",
    "    workflow_manager = WorkflowManager.install(viewer)\n",
    "    workflow = workflow_manager.workflow\n",
    "    workflow.remove_viewers\n",
    "    _io_yaml_v1.save_workflow(filename, workflow)\n",
    "\n",
    "desktop = 'C:/Users/ryans/Desktop/'\n",
    "\n",
    "img1 = imread(desktop+'blobs.tif')\n",
    "img2 = imread(desktop+'blobs_messed_up.tiff')\n",
    "\n",
    "viewer = napari.Viewer()\n",
    "viewer.add_image(img1)\n",
    "viewer.add_image(img2)"
   ]
  },
  {
   "cell_type": "code",
   "execution_count": 2,
   "id": "2cab66db",
   "metadata": {},
   "outputs": [],
   "source": [
    "workflow = load_workflow('test_workflow_long.yaml')\n",
    "initialise_root_functions(workflow, viewer)\n",
    "load_remaining_workflow(workflow,viewer)"
   ]
  },
  {
   "cell_type": "code",
   "execution_count": 3,
   "id": "dde6113d",
   "metadata": {},
   "outputs": [
    {
     "data": {
      "text/plain": [
       "[<Image layer 'img1' at 0x22669c2b490>, <Image layer 'img2' at 0x226199194e0>, <Image layer 'Result of Gaussian (scikit-image, nsbatwm)' at 0x22619fb9c60>, <Image layer 'Result of Gaussian (scikit-image, nsbatwm) [1]' at 0x2261a06f130>, <Image layer 'Result of Minimum (scipy, nsbatwm)' at 0x2261a15e9b0>, <Image layer 'Result of Percentile (scipy, nsbatwm)' at 0x2261a1f2d40>, <Image layer 'Result of Black top-hat (scipy, nsbatwm)' at 0x2261b2533d0>, <Image layer 'Result of Multiply images (numpy, nsbatwm)' at 0x2261b2e3a90>, <Labels layer 'Result of Seeded watershed using local minima as seeds (nsbatwm)' at 0x2261b37b070>, <Labels layer 'Result of Remove labeled objects at the image border (scikit-image, nsbatwm)' at 0x2261b43e290>]"
      ]
     },
     "execution_count": 3,
     "metadata": {},
     "output_type": "execute_result"
    }
   ],
   "source": []
  },
  {
   "cell_type": "code",
   "execution_count": 4,
   "id": "15241670",
   "metadata": {},
   "outputs": [],
   "source": [
    "def delete_workflow_widgets_layers(workflow, viewer):\n",
    "    #deleting the widgets\n",
    "    dock_widgets = viewer.window._dock_widgets\n",
    "    workflow_nodes = list(workflow._tasks.keys())\n",
    "    for key, widget in list(dock_widgets.items()):\n",
    "        if ('Result of ' + key in workflow_nodes) or ('Result of '+key[:-22] in workflow_nodes):\n",
    "            viewer.window.remove_dock_widget(widget=widget)\n",
    "    \n",
    "    #deleting the layers\n",
    "    layers = viewer.layers\n",
    "    layer_names = [str(lay) for lay in layers]\n",
    "    for layer_name in layer_names:\n",
    "        print(layer_name)\n",
    "        if layers[layer_name].source.widget:\n",
    "            layers.remove(layer_name)"
   ]
  },
  {
   "cell_type": "code",
   "execution_count": null,
   "id": "5f114790",
   "metadata": {},
   "outputs": [],
   "source": []
  }
 ],
 "metadata": {
  "kernelspec": {
   "display_name": "Python 3 (ipykernel)",
   "language": "python",
   "name": "python3"
  },
  "language_info": {
   "codemirror_mode": {
    "name": "ipython",
    "version": 3
   },
   "file_extension": ".py",
   "mimetype": "text/x-python",
   "name": "python",
   "nbconvert_exporter": "python",
   "pygments_lexer": "ipython3",
   "version": "3.10.2"
  }
 },
 "nbformat": 4,
 "nbformat_minor": 5
}
