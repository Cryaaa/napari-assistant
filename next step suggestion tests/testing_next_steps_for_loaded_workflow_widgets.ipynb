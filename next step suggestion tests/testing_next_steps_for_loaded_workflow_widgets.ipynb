{
 "cells": [
  {
   "cell_type": "code",
   "execution_count": 1,
   "id": "5f542464-273e-4885-8e71-f15db1026fb8",
   "metadata": {},
   "outputs": [
    {
     "name": "stderr",
     "output_type": "stream",
     "text": [
      "C:\\Users\\ryans\\Anaconda3\\envs\\np_workflows_v1\\lib\\site-packages\\napari_tools_menu\\__init__.py:165: FutureWarning: Public access to Window.qt_viewer is deprecated and will be removed in\n",
      "v0.5.0. It is considered an \"implementation detail\" of the napari\n",
      "application, not part of the napari viewer model. If your use case\n",
      "requires access to qt_viewer, please open an issue to discuss.\n",
      "  self.tools_menu = ToolsMenu(self, self.qt_viewer.viewer)\n"
     ]
    },
    {
     "data": {
      "text/plain": [
       "<Image layer 'Image' at 0x1c0b2ec1fd0>"
      ]
     },
     "execution_count": 1,
     "metadata": {},
     "output_type": "execute_result"
    }
   ],
   "source": [
    "import napari\n",
    "from napari_assistant._gui._Assistant import Assistant\n",
    "from napari_assistant._categories import CATEGORIES\n",
    "from skimage.io import imread\n",
    "\n",
    "viewer = napari.Viewer()\n",
    "viewer.add_image(imread(r\"C:\\Users\\ryans\\OneDrive\\Desktop\\blobs.tif\"))"
   ]
  },
  {
   "cell_type": "code",
   "execution_count": 2,
   "id": "b44f40a7-58e2-40aa-88d8-fd1cb6631dfe",
   "metadata": {},
   "outputs": [
    {
     "name": "stderr",
     "output_type": "stream",
     "text": [
      "2022-06-15 13:46:09.235 | INFO     | napari_assistant._gui._category_widget:call_op:162 - gaussian_blur (clesperanto)(..., 1.0, 1.0, 0.0)\n",
      "2022-06-15 13:46:09.876 | INFO     | napari_assistant._gui._category_widget:call_op:162 - top_hat_box (clesperanto)(..., 10.0, 10.0, 0.0)\n"
     ]
    },
    {
     "name": "stdout",
     "output_type": "stream",
     "text": [
      "<function gaussian_blur at 0x000001C0BD484C10>\n",
      "('Image',)\n",
      "{'destination': None, 'sigma_x': 1.0, 'sigma_y': 1.0, 'sigma_z': 0.0}\n"
     ]
    },
    {
     "name": "stderr",
     "output_type": "stream",
     "text": [
      "2022-06-15 13:46:10.168 | INFO     | napari_assistant._gui._category_widget:call_op:162 - gaussian_blur (clesperanto)(..., 1.0, 1.0, 0.0)\n",
      "2022-06-15 13:46:10.185 | INFO     | napari_assistant._gui._category_widget:call_op:162 - top_hat_box (clesperanto)(..., 10.0, 10.0, 0.0)\n",
      "2022-06-15 13:46:10.230 | INFO     | napari_assistant._gui._category_widget:call_op:162 - top_hat_box (clesperanto)(..., 10.0, 10.0, 0.0)\n"
     ]
    },
    {
     "name": "stdout",
     "output_type": "stream",
     "text": [
      "<function top_hat_box at 0x000001C0BD4B1820>\n",
      "('Result of gaussian_blur (clesperanto)',)\n",
      "{'destination': None, 'radius_x': 10.0, 'radius_y': 10.0, 'radius_z': 0.0}\n",
      "<function top_hat_box at 0x000001C0BD4B1820>\n",
      "('Result of gaussian_blur (clesperanto)',)\n",
      "{'destination': None, 'radius_x': 10.0, 'radius_y': 10.0, 'radius_z': 0.0}\n",
      "<function gaussian_blur at 0x000001C0BD484C10>\n",
      "('Image',)\n",
      "{'destination': None, 'sigma_x': 1.0, 'sigma_y': 1.0, 'sigma_z': 0.0}\n",
      "<function top_hat_box at 0x000001C0BD4B1820>\n",
      "('Result of gaussian_blur (clesperanto)',)\n",
      "{'destination': None, 'radius_x': 10.0, 'radius_y': 10.0, 'radius_z': 0.0}\n"
     ]
    }
   ],
   "source": [
    "widget = Assistant(viewer)\n",
    "viewer.window.add_dock_widget(widget)\n",
    "widget.load_workflow(\"test_workflow.yaml\")"
   ]
  },
  {
   "cell_type": "code",
   "execution_count": 3,
   "id": "69db504a-b908-4a9a-a456-c07ab20b1691",
   "metadata": {},
   "outputs": [
    {
     "name": "stdout",
     "output_type": "stream",
     "text": [
      "Workflow:\n",
      "Result of gaussian_blur (clesperanto) <- (<function gaussian_blur at 0x000001C0B92DC5E0>, 'Image', None, 1.0, 1.0, 0.0)\n",
      "Result of top_hat_box (clesperanto) <- (<function top_hat_box at 0x000001C0B480D4C0>, 'Result of gaussian_blur (clesperanto)', None, 10.0, 10.0, 0.0)\n",
      "\n"
     ]
    }
   ],
   "source": [
    "from napari_workflows._io_yaml_v1 import load_workflow\n",
    "\n",
    "wf = load_workflow(\"test_workflow.yaml\")\n",
    "print(wf)"
   ]
  },
  {
   "cell_type": "code",
   "execution_count": 4,
   "id": "29e263ec-26e2-4d0e-a85e-c55452fd3d45",
   "metadata": {},
   "outputs": [
    {
     "data": {
      "text/plain": [
       "<function pyclesperanto_prototype.gaussian_blur(source: Union[numpy.ndarray, pyclesperanto_prototype._tier0._pycl.OCLArray, pyopencl._cl.Image, pyclesperanto_prototype._tier0._pycl._OCLImage], destination: Union[numpy.ndarray, pyclesperanto_prototype._tier0._pycl.OCLArray, pyopencl._cl.Image, pyclesperanto_prototype._tier0._pycl._OCLImage] = None, sigma_x: float = 0, sigma_y: float = 0, sigma_z: float = 0) -> Union[numpy.ndarray, pyclesperanto_prototype._tier0._pycl.OCLArray, pyopencl._cl.Image, pyclesperanto_prototype._tier0._pycl._OCLImage]>"
      ]
     },
     "execution_count": 4,
     "metadata": {},
     "output_type": "execute_result"
    }
   ],
   "source": [
    "blur = wf._tasks[\"Result of gaussian_blur (clesperanto)\"][0]\n",
    "blur"
   ]
  },
  {
   "cell_type": "code",
   "execution_count": 5,
   "id": "470a15dc-c32a-47fb-9925-f4ba745ba713",
   "metadata": {},
   "outputs": [
    {
     "data": {
      "text/plain": [
       "'gaussian_blur (clesperanto)'"
      ]
     },
     "execution_count": 5,
     "metadata": {},
     "output_type": "execute_result"
    }
   ],
   "source": [
    "from napari_assistant._categories import get_category_of_function, get_name_of_function, all_operations\n",
    "\n",
    "get_name_of_function(blur)"
   ]
  }
 ],
 "metadata": {
  "kernelspec": {
   "display_name": "Python 3 (ipykernel)",
   "language": "python",
   "name": "python3"
  },
  "language_info": {
   "codemirror_mode": {
    "name": "ipython",
    "version": 3
   },
   "file_extension": ".py",
   "mimetype": "text/x-python",
   "name": "python",
   "nbconvert_exporter": "python",
   "pygments_lexer": "ipython3",
   "version": "3.9.7"
  }
 },
 "nbformat": 4,
 "nbformat_minor": 5
}
