{
 "cells": [
  {
   "cell_type": "code",
   "execution_count": 1,
   "id": "5f542464-273e-4885-8e71-f15db1026fb8",
   "metadata": {},
   "outputs": [
    {
     "name": "stderr",
     "output_type": "stream",
     "text": [
      "C:\\Users\\ryans\\Anaconda3\\envs\\np_workflows_v1\\lib\\site-packages\\napari_tools_menu\\__init__.py:165: FutureWarning: Public access to Window.qt_viewer is deprecated and will be removed in\n",
      "v0.5.0. It is considered an \"implementation detail\" of the napari\n",
      "application, not part of the napari viewer model. If your use case\n",
      "requires access to qt_viewer, please open an issue to discuss.\n",
      "  self.tools_menu = ToolsMenu(self, self.qt_viewer.viewer)\n"
     ]
    },
    {
     "data": {
      "text/plain": [
       "<Image layer 'Image' at 0x21f8f8b8370>"
      ]
     },
     "execution_count": 1,
     "metadata": {},
     "output_type": "execute_result"
    }
   ],
   "source": [
    "import napari\n",
    "from napari_assistant._gui._Assistant import Assistant\n",
    "from napari_assistant._categories import CATEGORIES\n",
    "from skimage.io import imread\n",
    "\n",
    "viewer = napari.Viewer()\n",
    "viewer.add_image(imread(r\"C:\\Users\\ryans\\OneDrive\\Desktop\\blobs.tif\"))"
   ]
  },
  {
   "cell_type": "code",
   "execution_count": 2,
   "id": "b44f40a7-58e2-40aa-88d8-fd1cb6631dfe",
   "metadata": {},
   "outputs": [
    {
     "name": "stderr",
     "output_type": "stream",
     "text": [
      "2022-06-14 18:36:48.673 | INFO     | napari_assistant._gui._category_widget:call_op:162 - gaussian_blur (clesperanto)(..., 1.0, 1.0, 0.0)\n",
      "2022-06-14 18:36:48.960 | INFO     | napari_assistant._gui._category_widget:call_op:162 - top_hat_box (clesperanto)(..., 10.0, 10.0, 0.0)\n",
      "2022-06-14 18:36:49.053 | INFO     | napari_assistant._gui._category_widget:call_op:162 - gaussian_blur (clesperanto)(..., 1.0, 1.0, 0.0)\n",
      "2022-06-14 18:36:49.069 | INFO     | napari_assistant._gui._category_widget:call_op:162 - top_hat_box (clesperanto)(..., 10.0, 10.0, 0.0)\n",
      "2022-06-14 18:36:49.110 | INFO     | napari_assistant._gui._category_widget:call_op:162 - top_hat_box (clesperanto)(..., 10.0, 10.0, 0.0)\n"
     ]
    }
   ],
   "source": [
    "widget = Assistant(viewer)\n",
    "viewer.window.add_dock_widget(widget)\n",
    "widget.load_workflow(\"test_workflow.yaml\")"
   ]
  },
  {
   "cell_type": "code",
   "execution_count": 3,
   "id": "69db504a-b908-4a9a-a456-c07ab20b1691",
   "metadata": {},
   "outputs": [
    {
     "name": "stdout",
     "output_type": "stream",
     "text": [
      "Workflow:\n",
      "Result of gaussian_blur (clesperanto) <- (<function gaussian_blur at 0x0000021F95CCB670>, 'Image', None, 1.0, 1.0, 0.0)\n",
      "Result of top_hat_box (clesperanto) <- (<function top_hat_box at 0x0000021F9120D550>, 'Result of gaussian_blur (clesperanto)', None, 10.0, 10.0, 0.0)\n",
      "\n"
     ]
    }
   ],
   "source": [
    "from napari_workflows._io_yaml_v1 import load_workflow\n",
    "\n",
    "wf = load_workflow(\"test_workflow.yaml\")\n",
    "print(wf)"
   ]
  },
  {
   "cell_type": "code",
   "execution_count": 4,
   "id": "29e263ec-26e2-4d0e-a85e-c55452fd3d45",
   "metadata": {},
   "outputs": [
    {
     "data": {
      "text/plain": [
       "<function pyclesperanto_prototype.gaussian_blur(source: Union[numpy.ndarray, pyclesperanto_prototype._tier0._pycl.OCLArray, pyopencl._cl.Image, pyclesperanto_prototype._tier0._pycl._OCLImage], destination: Union[numpy.ndarray, pyclesperanto_prototype._tier0._pycl.OCLArray, pyopencl._cl.Image, pyclesperanto_prototype._tier0._pycl._OCLImage] = None, sigma_x: float = 0, sigma_y: float = 0, sigma_z: float = 0) -> Union[numpy.ndarray, pyclesperanto_prototype._tier0._pycl.OCLArray, pyopencl._cl.Image, pyclesperanto_prototype._tier0._pycl._OCLImage]>"
      ]
     },
     "execution_count": 4,
     "metadata": {},
     "output_type": "execute_result"
    }
   ],
   "source": [
    "blur = wf._tasks[\"Result of gaussian_blur (clesperanto)\"][0]\n",
    "blur"
   ]
  },
  {
   "cell_type": "code",
   "execution_count": 5,
   "id": "470a15dc-c32a-47fb-9925-f4ba745ba713",
   "metadata": {},
   "outputs": [
    {
     "data": {
      "text/plain": [
       "'gaussian_blur (clesperanto)'"
      ]
     },
     "execution_count": 5,
     "metadata": {},
     "output_type": "execute_result"
    }
   ],
   "source": [
    "from napari_assistant._categories import get_category_of_function, get_name_of_function, all_operations\n",
    "\n",
    "get_name_of_function(blur)"
   ]
  },
  {
   "cell_type": "code",
   "execution_count": 6,
   "id": "c0ea5a1a-9656-4816-b884-bf3158a461f3",
   "metadata": {},
   "outputs": [
    {
     "data": {
      "text/plain": [
       "<function pyclesperanto_prototype.gaussian_blur(source: Union[numpy.ndarray, pyclesperanto_prototype._tier0._pycl.OCLArray, pyopencl._cl.Image, pyclesperanto_prototype._tier0._pycl._OCLImage], destination: Union[numpy.ndarray, pyclesperanto_prototype._tier0._pycl.OCLArray, pyopencl._cl.Image, pyclesperanto_prototype._tier0._pycl._OCLImage] = None, sigma_x: float = 0, sigma_y: float = 0, sigma_z: float = 0, *, viewer: 'napari.viewer.Viewer' = None) -> Union[numpy.ndarray, pyclesperanto_prototype._tier0._pycl.OCLArray, pyopencl._cl.Image, pyclesperanto_prototype._tier0._pycl._OCLImage]>"
      ]
     },
     "execution_count": 6,
     "metadata": {},
     "output_type": "execute_result"
    }
   ],
   "source": [
    "category_blur = all_operations()['Filtering / noise removal>gaussian_blur (clesperanto)']\n",
    "category_blur"
   ]
  },
  {
   "cell_type": "code",
   "execution_count": 7,
   "id": "1e634355-c206-45a9-91b4-29a5ff530f1a",
   "metadata": {},
   "outputs": [
    {
     "data": {
      "text/plain": [
       "\u001b[1;31mSignature:\u001b[0m\n",
       "\u001b[0mblur\u001b[0m\u001b[1;33m(\u001b[0m\u001b[1;33m\n",
       "\u001b[0m    \u001b[0msource\u001b[0m\u001b[1;33m:\u001b[0m \u001b[0mUnion\u001b[0m\u001b[1;33m[\u001b[0m\u001b[0mnumpy\u001b[0m\u001b[1;33m.\u001b[0m\u001b[0mndarray\u001b[0m\u001b[1;33m,\u001b[0m \u001b[0mpyclesperanto_prototype\u001b[0m\u001b[1;33m.\u001b[0m\u001b[0m_tier0\u001b[0m\u001b[1;33m.\u001b[0m\u001b[0m_pycl\u001b[0m\u001b[1;33m.\u001b[0m\u001b[0mOCLArray\u001b[0m\u001b[1;33m,\u001b[0m \u001b[0mpyopencl\u001b[0m\u001b[1;33m.\u001b[0m\u001b[0m_cl\u001b[0m\u001b[1;33m.\u001b[0m\u001b[0mImage\u001b[0m\u001b[1;33m,\u001b[0m \u001b[0mpyclesperanto_prototype\u001b[0m\u001b[1;33m.\u001b[0m\u001b[0m_tier0\u001b[0m\u001b[1;33m.\u001b[0m\u001b[0m_pycl\u001b[0m\u001b[1;33m.\u001b[0m\u001b[0m_OCLImage\u001b[0m\u001b[1;33m]\u001b[0m\u001b[1;33m,\u001b[0m\u001b[1;33m\n",
       "\u001b[0m    \u001b[0mdestination\u001b[0m\u001b[1;33m:\u001b[0m \u001b[0mUnion\u001b[0m\u001b[1;33m[\u001b[0m\u001b[0mnumpy\u001b[0m\u001b[1;33m.\u001b[0m\u001b[0mndarray\u001b[0m\u001b[1;33m,\u001b[0m \u001b[0mpyclesperanto_prototype\u001b[0m\u001b[1;33m.\u001b[0m\u001b[0m_tier0\u001b[0m\u001b[1;33m.\u001b[0m\u001b[0m_pycl\u001b[0m\u001b[1;33m.\u001b[0m\u001b[0mOCLArray\u001b[0m\u001b[1;33m,\u001b[0m \u001b[0mpyopencl\u001b[0m\u001b[1;33m.\u001b[0m\u001b[0m_cl\u001b[0m\u001b[1;33m.\u001b[0m\u001b[0mImage\u001b[0m\u001b[1;33m,\u001b[0m \u001b[0mpyclesperanto_prototype\u001b[0m\u001b[1;33m.\u001b[0m\u001b[0m_tier0\u001b[0m\u001b[1;33m.\u001b[0m\u001b[0m_pycl\u001b[0m\u001b[1;33m.\u001b[0m\u001b[0m_OCLImage\u001b[0m\u001b[1;33m]\u001b[0m \u001b[1;33m=\u001b[0m \u001b[1;32mNone\u001b[0m\u001b[1;33m,\u001b[0m\u001b[1;33m\n",
       "\u001b[0m    \u001b[0msigma_x\u001b[0m\u001b[1;33m:\u001b[0m \u001b[0mfloat\u001b[0m \u001b[1;33m=\u001b[0m \u001b[1;36m0\u001b[0m\u001b[1;33m,\u001b[0m\u001b[1;33m\n",
       "\u001b[0m    \u001b[0msigma_y\u001b[0m\u001b[1;33m:\u001b[0m \u001b[0mfloat\u001b[0m \u001b[1;33m=\u001b[0m \u001b[1;36m0\u001b[0m\u001b[1;33m,\u001b[0m\u001b[1;33m\n",
       "\u001b[0m    \u001b[0msigma_z\u001b[0m\u001b[1;33m:\u001b[0m \u001b[0mfloat\u001b[0m \u001b[1;33m=\u001b[0m \u001b[1;36m0\u001b[0m\u001b[1;33m,\u001b[0m\u001b[1;33m\n",
       "\u001b[0m\u001b[1;33m)\u001b[0m \u001b[1;33m->\u001b[0m \u001b[0mUnion\u001b[0m\u001b[1;33m[\u001b[0m\u001b[0mnumpy\u001b[0m\u001b[1;33m.\u001b[0m\u001b[0mndarray\u001b[0m\u001b[1;33m,\u001b[0m \u001b[0mpyclesperanto_prototype\u001b[0m\u001b[1;33m.\u001b[0m\u001b[0m_tier0\u001b[0m\u001b[1;33m.\u001b[0m\u001b[0m_pycl\u001b[0m\u001b[1;33m.\u001b[0m\u001b[0mOCLArray\u001b[0m\u001b[1;33m,\u001b[0m \u001b[0mpyopencl\u001b[0m\u001b[1;33m.\u001b[0m\u001b[0m_cl\u001b[0m\u001b[1;33m.\u001b[0m\u001b[0mImage\u001b[0m\u001b[1;33m,\u001b[0m \u001b[0mpyclesperanto_prototype\u001b[0m\u001b[1;33m.\u001b[0m\u001b[0m_tier0\u001b[0m\u001b[1;33m.\u001b[0m\u001b[0m_pycl\u001b[0m\u001b[1;33m.\u001b[0m\u001b[0m_OCLImage\u001b[0m\u001b[1;33m]\u001b[0m\u001b[1;33m\u001b[0m\u001b[1;33m\u001b[0m\u001b[0m\n",
       "\u001b[1;31mDocstring:\u001b[0m\n",
       "Computes the Gaussian blurred image of an image given sigma values\n",
       "in X, Y and Z. \n",
       "\n",
       "Thus, the filter kernel can have non-isotropic shape.\n",
       "\n",
       "The implementation is done separable. In case a sigma equals zero, the \n",
       "direction is not blurred. \n",
       "\n",
       "Parameters\n",
       "----------\n",
       "source : Image\n",
       "destination : Image\n",
       "sigma_x : Number\n",
       "sigma_y : Number\n",
       "sigma_z : Number\n",
       "\n",
       "Returns\n",
       "-------\n",
       "destination\n",
       "\n",
       "Examples\n",
       "--------\n",
       ">>> import pyclesperanto_prototype as cle\n",
       ">>> cle.gaussian_blur(source, destination, sigma_x, sigma_y, sigma_z)\n",
       "\n",
       "References\n",
       "----------\n",
       ".. [1] https://clij.github.io/clij2-docs/reference_gaussianBlur3D\n",
       "\u001b[1;31mFile:\u001b[0m      c:\\users\\ryans\\anaconda3\\envs\\np_workflows_v1\\lib\\site-packages\\pyclesperanto_prototype\\_tier1\\_gaussian_blur.py\n",
       "\u001b[1;31mType:\u001b[0m      function\n"
      ]
     },
     "metadata": {},
     "output_type": "display_data"
    }
   ],
   "source": [
    "blur?"
   ]
  },
  {
   "cell_type": "code",
   "execution_count": 8,
   "id": "f98f2121-7bea-42ab-86e6-11ebac8000ae",
   "metadata": {},
   "outputs": [
    {
     "ename": "AttributeError",
     "evalue": "'function' object has no attribute '__file__'",
     "output_type": "error",
     "traceback": [
      "\u001b[1;31m---------------------------------------------------------------------------\u001b[0m",
      "\u001b[1;31mAttributeError\u001b[0m                            Traceback (most recent call last)",
      "\u001b[1;32m~\\AppData\\Local\\Temp/ipykernel_13036/4176711830.py\u001b[0m in \u001b[0;36m<module>\u001b[1;34m\u001b[0m\n\u001b[1;32m----> 1\u001b[1;33m \u001b[0mcategory_blur\u001b[0m\u001b[1;33m.\u001b[0m\u001b[0m__file__\u001b[0m\u001b[1;33m\u001b[0m\u001b[1;33m\u001b[0m\u001b[0m\n\u001b[0m",
      "\u001b[1;31mAttributeError\u001b[0m: 'function' object has no attribute '__file__'"
     ]
    }
   ],
   "source": [
    "category_blur.__file__"
   ]
  },
  {
   "cell_type": "code",
   "execution_count": null,
   "id": "ff6839a4-8ebf-4493-a820-0f960f2495a6",
   "metadata": {},
   "outputs": [],
   "source": []
  },
  {
   "cell_type": "code",
   "execution_count": null,
   "id": "b5697d09-bc0e-4050-9e50-46ceb77483ec",
   "metadata": {},
   "outputs": [],
   "source": [
    "import inspect\n",
    "\n",
    "inspect.getfile(blur)"
   ]
  },
  {
   "cell_type": "code",
   "execution_count": null,
   "id": "d0c83e0a-3591-4bdd-9453-a19bc8aed67a",
   "metadata": {},
   "outputs": [],
   "source": [
    "inspect.getfile(category_blur)"
   ]
  },
  {
   "cell_type": "code",
   "execution_count": null,
   "id": "8d73ada8-b01d-451e-8eed-a0f2d7665be9",
   "metadata": {},
   "outputs": [
    {
     "name": "stderr",
     "output_type": "stream",
     "text": [
      "2022-06-14 18:37:05.338 | INFO     | napari_assistant._gui._category_widget:call_op:162 - gaussian_blur (clesperanto)(..., 1.0, 1.0, 0.0)\n"
     ]
    }
   ],
   "source": [
    "blur.__doc__ is category_blur.__doc__"
   ]
  },
  {
   "cell_type": "code",
   "execution_count": null,
   "id": "ff99cce8-3c40-41c7-92b4-b71b1354a38a",
   "metadata": {},
   "outputs": [],
   "source": []
  }
 ],
 "metadata": {
  "kernelspec": {
   "display_name": "Python 3 (ipykernel)",
   "language": "python",
   "name": "python3"
  },
  "language_info": {
   "codemirror_mode": {
    "name": "ipython",
    "version": 3
   },
   "file_extension": ".py",
   "mimetype": "text/x-python",
   "name": "python",
   "nbconvert_exporter": "python",
   "pygments_lexer": "ipython3",
   "version": "3.9.7"
  }
 },
 "nbformat": 4,
 "nbformat_minor": 5
}
