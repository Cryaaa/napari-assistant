{
 "cells": [
  {
   "cell_type": "code",
   "execution_count": 1,
   "id": "450d76bf",
   "metadata": {},
   "outputs": [
    {
     "name": "stderr",
     "output_type": "stream",
     "text": [
      "C:\\Users\\ryans\\Anaconda3\\envs\\np_workflows_v1\\lib\\site-packages\\napari_tools_menu\\__init__.py:165: FutureWarning: Public access to Window.qt_viewer is deprecated and will be removed in\n",
      "v0.5.0. It is considered an \"implementation detail\" of the napari\n",
      "application, not part of the napari viewer model. If your use case\n",
      "requires access to qt_viewer, please open an issue to discuss.\n",
      "  self.tools_menu = ToolsMenu(self, self.qt_viewer.viewer)\n"
     ]
    },
    {
     "data": {
      "text/plain": [
       "<napari._qt.widgets.qt_viewer_dock_widget.QtViewerDockWidget at 0x1999c106940>"
      ]
     },
     "execution_count": 1,
     "metadata": {},
     "output_type": "execute_result"
    },
    {
     "name": "stderr",
     "output_type": "stream",
     "text": [
      "2022-04-12 12:59:46.236 | INFO     | napari_assistant._gui._category_widget:call_op:129 - gaussian_blur (clesperanto)(..., 1.0, 1.0, 0.0)\n",
      "2022-04-12 12:59:46.286 | DEBUG    | napari_assistant._gui._category_widget:_show_result:231 - creating new layer for id: 1759291174976\n"
     ]
    },
    {
     "name": "stdout",
     "output_type": "stream",
     "text": [
      "set workflow step: Result of gaussian_blur (clesperanto)\n",
      "     args: ['blobs']\n",
      "   kwargs: {'destination': None, 'sigma_x': 1.0, 'sigma_y': 1.0, 'sigma_z': 0.0}\n",
      "signature: (source: Union[numpy.ndarray, pyclesperanto_prototype._tier0._pycl.OCLArray, pyopencl._cl.Image, pyclesperanto_prototype._tier0._pycl._OCLImage], destination: Union[numpy.ndarray, pyclesperanto_prototype._tier0._pycl.OCLArray, pyopencl._cl.Image, pyclesperanto_prototype._tier0._pycl._OCLImage] = None, sigma_x: float = 0, sigma_y: float = 0, sigma_z: float = 0) -> Union[numpy.ndarray, pyclesperanto_prototype._tier0._pycl.OCLArray, pyopencl._cl.Image, pyclesperanto_prototype._tier0._pycl._OCLImage]\n"
     ]
    }
   ],
   "source": [
    "import napari\n",
    "from napari_assistant._gui._Assistant import Assistant\n",
    "from skimage.io import imread\n",
    "from napari_assistant._categories import CATEGORIES\n",
    "\n",
    "filename = 'C:/Users/ryans/OneDrive/Desktop/blobs.tif'\n",
    "blobs = imread(filename)\n",
    "\n",
    "viewer = napari.Viewer()\n",
    "viewer.add_image(blobs)\n",
    "assistant = Assistant(viewer)\n",
    "viewer.window.add_dock_widget(assistant)"
   ]
  },
  {
   "cell_type": "code",
   "execution_count": 2,
   "id": "03d941cc",
   "metadata": {},
   "outputs": [
    {
     "name": "stdout",
     "output_type": "stream",
     "text": [
      "Workflow:\n",
      "Result of gaussian_blur (clesperanto) <- (<function gaussian_blur at 0x0000019981A1D5E0>, 'blobs', None, 1.0, 1.0, 0.0)\n",
      "\n"
     ]
    }
   ],
   "source": [
    "from napari_workflows import WorkflowManager\n",
    "manager = WorkflowManager.install(viewer)\n",
    "print(manager.workflow)"
   ]
  },
  {
   "cell_type": "code",
   "execution_count": 3,
   "id": "96ecacb5",
   "metadata": {},
   "outputs": [
    {
     "data": {
      "text/plain": [
       "['source', 'destination', 'sigma_x', 'sigma_y', 'sigma_z']"
      ]
     },
     "execution_count": 3,
     "metadata": {},
     "output_type": "execute_result"
    }
   ],
   "source": [
    "from inspect import Signature, signature\n",
    "function = manager.workflow._tasks['Result of gaussian_blur (clesperanto)'][0]\n",
    "\n",
    "keyword_list = list(signature(function).parameters.keys())\n",
    "keyword_list"
   ]
  },
  {
   "cell_type": "code",
   "execution_count": 5,
   "id": "02b4eea5",
   "metadata": {},
   "outputs": [
    {
     "name": "stdout",
     "output_type": "stream",
     "text": [
      "False\n",
      "True\n",
      "True\n",
      "True\n",
      "True\n"
     ]
    }
   ],
   "source": [
    "signat = signature(function)\n",
    "for whatever, value in signat.parameters.items():\n",
    "    print(not bool(value.default))"
   ]
  },
  {
   "cell_type": "code",
   "execution_count": 6,
   "id": "0a11bb99",
   "metadata": {},
   "outputs": [],
   "source": [
    "from napari_workflows._io_yaml_v1 import load_workflow\n",
    "\n",
    "workflow = load_workflow(filename='test_only_blur.yaml')"
   ]
  },
  {
   "cell_type": "code",
   "execution_count": 7,
   "id": "dde5c401",
   "metadata": {},
   "outputs": [
    {
     "name": "stdout",
     "output_type": "stream",
     "text": [
      "Workflow:\n",
      "Result of gaussian_blur (clesperanto) <- (<function gaussian_blur at 0x0000019981A1D5E0>, 'blobs', None, 4.0, 4.0, 0.0)\n",
      "\n"
     ]
    }
   ],
   "source": [
    "print(workflow)"
   ]
  },
  {
   "cell_type": "code",
   "execution_count": 8,
   "id": "00c3d8c0",
   "metadata": {},
   "outputs": [],
   "source": [
    "function_load = workflow._tasks['Result of gaussian_blur (clesperanto)'][0]"
   ]
  },
  {
   "cell_type": "code",
   "execution_count": 11,
   "id": "6cc549ae",
   "metadata": {},
   "outputs": [
    {
     "name": "stdout",
     "output_type": "stream",
     "text": [
      "False\n",
      "True\n",
      "True\n",
      "True\n",
      "True\n"
     ]
    }
   ],
   "source": [
    "signat = signature(function_load)\n",
    "for whatever, value in signat.parameters.items():\n",
    "    print(not bool(value.default))"
   ]
  },
  {
   "cell_type": "code",
   "execution_count": null,
   "id": "38439266",
   "metadata": {},
   "outputs": [],
   "source": []
  },
  {
   "cell_type": "code",
   "execution_count": null,
   "id": "cbb0f26a",
   "metadata": {},
   "outputs": [],
   "source": []
  }
 ],
 "metadata": {
  "kernelspec": {
   "display_name": "Python 3 (ipykernel)",
   "language": "python",
   "name": "python3"
  },
  "language_info": {
   "codemirror_mode": {
    "name": "ipython",
    "version": 3
   },
   "file_extension": ".py",
   "mimetype": "text/x-python",
   "name": "python",
   "nbconvert_exporter": "python",
   "pygments_lexer": "ipython3",
   "version": "3.9.7"
  }
 },
 "nbformat": 4,
 "nbformat_minor": 5
}
