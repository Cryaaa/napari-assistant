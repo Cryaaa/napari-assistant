{
 "cells": [
  {
   "cell_type": "code",
   "execution_count": 1,
   "id": "e2f85e5f",
   "metadata": {},
   "outputs": [
    {
     "name": "stderr",
     "output_type": "stream",
     "text": [
      "C:\\Users\\ryans\\Anaconda3\\envs\\np_workflows_v1\\lib\\site-packages\\napari_tools_menu\\__init__.py:165: FutureWarning: Public access to Window.qt_viewer is deprecated and will be removed in\n",
      "v0.5.0. It is considered an \"implementation detail\" of the napari\n",
      "application, not part of the napari viewer model. If your use case\n",
      "requires access to qt_viewer, please open an issue to discuss.\n",
      "  self.tools_menu = ToolsMenu(self, self.qt_viewer.viewer)\n"
     ]
    },
    {
     "data": {
      "text/plain": [
       "<napari._qt.widgets.qt_viewer_dock_widget.QtViewerDockWidget at 0x274c1306790>"
      ]
     },
     "execution_count": 1,
     "metadata": {},
     "output_type": "execute_result"
    }
   ],
   "source": [
    "import napari\n",
    "from napari_assistant._gui._Assistant import Assistant\n",
    "from skimage.io import imread\n",
    "from napari_assistant._categories import CATEGORIES\n",
    "\n",
    "filename = 'C:/Users/ryans/OneDrive/Desktop/blobs.tif'\n",
    "blobs = imread(filename)\n",
    "\n",
    "viewer = napari.Viewer()\n",
    "viewer.add_image(blobs)\n",
    "assistant = Assistant(viewer)\n",
    "viewer.window.add_dock_widget(assistant)"
   ]
  },
  {
   "cell_type": "code",
   "execution_count": 2,
   "id": "971e914e",
   "metadata": {},
   "outputs": [
    {
     "name": "stderr",
     "output_type": "stream",
     "text": [
      "2022-04-13 14:19:11.971 | INFO     | napari_assistant._gui._category_widget:call_op:129 - gaussian_blur (clesperanto)(..., 1.0, 1.0, 0.0)\n",
      "2022-04-13 14:19:12.000 | DEBUG    | napari_assistant._gui._category_widget:_show_result:231 - creating new layer for id: 2700480676048\n"
     ]
    },
    {
     "name": "stdout",
     "output_type": "stream",
     "text": [
      "only arguments: [array([[ 40,  32,  24, ..., 216, 200, 200],\n",
      "       [ 56,  40,  24, ..., 232, 216, 216],\n",
      "       [ 64,  48,  24, ..., 240, 232, 232],\n",
      "       ...,\n",
      "       [ 72,  80,  80, ...,  48,  48,  48],\n",
      "       [ 80,  80,  80, ...,  48,  48,  48],\n",
      "       [ 96,  88,  80, ...,  48,  48,  48]], dtype=uint8)]\n",
      "det kwargs:     {'destination': None, 'sigma_x': 1.0, 'sigma_y': 1.0, 'sigma_z': 0.0}\n"
     ]
    }
   ],
   "source": [
    "from napari_assistant._categories import CATEGORIES\n",
    "assistant._activate(CATEGORIES.get(\"Remove noise\"))"
   ]
  },
  {
   "cell_type": "code",
   "execution_count": 3,
   "id": "4263b76f",
   "metadata": {},
   "outputs": [
    {
     "name": "stderr",
     "output_type": "stream",
     "text": [
      "2022-04-13 14:19:12.230 | INFO     | napari_assistant._gui._category_widget:call_op:129 - top_hat_box (clesperanto)(..., 10.0, 10.0, 0.0)\n",
      "2022-04-13 14:19:12.248 | DEBUG    | napari_assistant._gui._category_widget:_show_result:231 - creating new layer for id: 2700481718016\n"
     ]
    },
    {
     "name": "stdout",
     "output_type": "stream",
     "text": [
      "only arguments: [cl.Array([[ 41.42875 ,  34.696438,  27.733936, ..., 220.92714 , 211.21162 ,\n",
      "        206.71573 ],\n",
      "       [ 47.421425,  38.878723,  30.323011, ..., 228.32323 , 220.60194 ,\n",
      "        216.83534 ],\n",
      "       [ 48.121433,  40.610855,  33.357384, ..., 235.32935 , 229.7049  ,\n",
      "        226.8882  ],\n",
      "       ...,\n",
      "       [ 74.4386  ,  76.32904 ,  77.03725 , ...,  48.00032 ,  48.00075 ,\n",
      "         48.001007],\n",
      "       [ 81.793655,  81.17787 ,  79.80763 , ...,  48.      ,  48.      ,\n",
      "         48.      ],\n",
      "       [ 88.816925,  85.382095,  81.478806, ...,  48.      ,  48.      ,\n",
      "         48.      ]], dtype=float32)]\n",
      "det kwargs:     {'destination': None, 'radius_x': 10.0, 'radius_y': 10.0, 'radius_z': 0.0}\n"
     ]
    },
    {
     "name": "stderr",
     "output_type": "stream",
     "text": [
      "2022-04-13 14:19:24.738 | INFO     | napari_assistant._gui._category_widget:call_op:129 - gamma_correction (clesperanto)(..., 1.0)\n",
      "2022-04-13 14:19:24.771 | DEBUG    | napari_assistant._gui._category_widget:_show_result:231 - creating new layer for id: 2700491170720\n"
     ]
    },
    {
     "name": "stdout",
     "output_type": "stream",
     "text": [
      "only arguments: [cl.Array([[20.321924 , 13.589613 ,  6.6271114, ..., 14.2114105,  4.4958954,\n",
      "         0.       ],\n",
      "       [26.3146   , 17.771898 ,  9.216187 , ..., 21.607376 , 13.886093 ,\n",
      "        10.119492 ],\n",
      "       [27.014608 , 19.50403  , 12.250559 , ..., 28.613495 , 22.989044 ,\n",
      "        20.172348 ],\n",
      "       ...,\n",
      "       [31.24229  , 32.0945   , 32.802708 , ...,  3.7558403,  3.7562714,\n",
      "         3.756527 ],\n",
      "       [38.597347 , 36.943333 , 35.573093 , ...,  3.7555199,  3.7555199,\n",
      "         3.7555199],\n",
      "       [45.620617 , 41.147556 , 37.244267 , ...,  3.7555199,  3.7555199,\n",
      "         3.7555199]], dtype=float32)]\n",
      "det kwargs:     {'target': None, 'gamma': 1.0}\n"
     ]
    },
    {
     "name": "stderr",
     "output_type": "stream",
     "text": [
      "2022-04-13 14:19:42.112 | INFO     | napari_assistant._gui._category_widget:call_op:129 - divide_by_gaussian_background (clesperanto)(..., 1.0, 1.0, 0.0)\n",
      "2022-04-13 14:19:42.861 | DEBUG    | napari_assistant._gui._category_widget:_show_result:225 - updating existing layer: Result of gamma_correction (clesperanto), with id: 2700491170720\n"
     ]
    },
    {
     "name": "stdout",
     "output_type": "stream",
     "text": [
      "only arguments: [cl.Array([[20.321924 , 13.589613 ,  6.6271114, ..., 14.2114105,  4.4958954,\n",
      "         0.       ],\n",
      "       [26.3146   , 17.771898 ,  9.216187 , ..., 21.607376 , 13.886093 ,\n",
      "        10.119492 ],\n",
      "       [27.014608 , 19.50403  , 12.250559 , ..., 28.613495 , 22.989044 ,\n",
      "        20.172348 ],\n",
      "       ...,\n",
      "       [31.24229  , 32.0945   , 32.802708 , ...,  3.7558403,  3.7562714,\n",
      "         3.756527 ],\n",
      "       [38.597347 , 36.943333 , 35.573093 , ...,  3.7555199,  3.7555199,\n",
      "         3.7555199],\n",
      "       [45.620617 , 41.147556 , 37.244267 , ...,  3.7555199,  3.7555199,\n",
      "         3.7555199]], dtype=float32)]\n",
      "det kwargs:     {'destination': None, 'sigma_x': 1.0, 'sigma_y': 1.0, 'sigma_z': 0.0}\n"
     ]
    },
    {
     "name": "stderr",
     "output_type": "stream",
     "text": [
      "2022-04-13 14:19:59.585 | INFO     | napari_assistant._gui._category_widget:call_op:129 - divide_by_gaussian_background (clesperanto)(..., 2.0, 1.0, 0.0)\n",
      "2022-04-13 14:19:59.616 | DEBUG    | napari_assistant._gui._category_widget:_show_result:225 - updating existing layer: Result of divide_by_gaussian_background (clesperanto), with id: 2700491170720\n",
      "2022-04-13 14:19:59.778 | INFO     | napari_assistant._gui._category_widget:call_op:129 - divide_by_gaussian_background (clesperanto)(..., 3.0, 1.0, 0.0)\n",
      "2022-04-13 14:19:59.815 | DEBUG    | napari_assistant._gui._category_widget:_show_result:225 - updating existing layer: Result of divide_by_gaussian_background (clesperanto), with id: 2700491170720\n"
     ]
    },
    {
     "name": "stdout",
     "output_type": "stream",
     "text": [
      "only arguments: [cl.Array([[20.321924 , 13.589613 ,  6.6271114, ..., 14.2114105,  4.4958954,\n",
      "         0.       ],\n",
      "       [26.3146   , 17.771898 ,  9.216187 , ..., 21.607376 , 13.886093 ,\n",
      "        10.119492 ],\n",
      "       [27.014608 , 19.50403  , 12.250559 , ..., 28.613495 , 22.989044 ,\n",
      "        20.172348 ],\n",
      "       ...,\n",
      "       [31.24229  , 32.0945   , 32.802708 , ...,  3.7558403,  3.7562714,\n",
      "         3.756527 ],\n",
      "       [38.597347 , 36.943333 , 35.573093 , ...,  3.7555199,  3.7555199,\n",
      "         3.7555199],\n",
      "       [45.620617 , 41.147556 , 37.244267 , ...,  3.7555199,  3.7555199,\n",
      "         3.7555199]], dtype=float32)]\n",
      "det kwargs:     {'destination': None, 'sigma_x': 2.0, 'sigma_y': 1.0, 'sigma_z': 0.0}\n",
      "only arguments: [cl.Array([[20.321924 , 13.589613 ,  6.6271114, ..., 14.2114105,  4.4958954,\n",
      "         0.       ],\n",
      "       [26.3146   , 17.771898 ,  9.216187 , ..., 21.607376 , 13.886093 ,\n",
      "        10.119492 ],\n",
      "       [27.014608 , 19.50403  , 12.250559 , ..., 28.613495 , 22.989044 ,\n",
      "        20.172348 ],\n",
      "       ...,\n",
      "       [31.24229  , 32.0945   , 32.802708 , ...,  3.7558403,  3.7562714,\n",
      "         3.756527 ],\n",
      "       [38.597347 , 36.943333 , 35.573093 , ...,  3.7555199,  3.7555199,\n",
      "         3.7555199],\n",
      "       [45.620617 , 41.147556 , 37.244267 , ...,  3.7555199,  3.7555199,\n",
      "         3.7555199]], dtype=float32)]\n",
      "det kwargs:     {'destination': None, 'sigma_x': 3.0, 'sigma_y': 1.0, 'sigma_z': 0.0}\n"
     ]
    },
    {
     "name": "stderr",
     "output_type": "stream",
     "text": [
      "2022-04-13 14:19:59.978 | INFO     | napari_assistant._gui._category_widget:call_op:129 - divide_by_gaussian_background (clesperanto)(..., 4.0, 1.0, 0.0)\n",
      "2022-04-13 14:20:00.017 | DEBUG    | napari_assistant._gui._category_widget:_show_result:225 - updating existing layer: Result of divide_by_gaussian_background (clesperanto), with id: 2700491170720\n",
      "2022-04-13 14:20:00.206 | INFO     | napari_assistant._gui._category_widget:call_op:129 - divide_by_gaussian_background (clesperanto)(..., 5.0, 1.0, 0.0)\n",
      "2022-04-13 14:20:00.239 | DEBUG    | napari_assistant._gui._category_widget:_show_result:225 - updating existing layer: Result of divide_by_gaussian_background (clesperanto), with id: 2700491170720\n"
     ]
    },
    {
     "name": "stdout",
     "output_type": "stream",
     "text": [
      "only arguments: [cl.Array([[20.321924 , 13.589613 ,  6.6271114, ..., 14.2114105,  4.4958954,\n",
      "         0.       ],\n",
      "       [26.3146   , 17.771898 ,  9.216187 , ..., 21.607376 , 13.886093 ,\n",
      "        10.119492 ],\n",
      "       [27.014608 , 19.50403  , 12.250559 , ..., 28.613495 , 22.989044 ,\n",
      "        20.172348 ],\n",
      "       ...,\n",
      "       [31.24229  , 32.0945   , 32.802708 , ...,  3.7558403,  3.7562714,\n",
      "         3.756527 ],\n",
      "       [38.597347 , 36.943333 , 35.573093 , ...,  3.7555199,  3.7555199,\n",
      "         3.7555199],\n",
      "       [45.620617 , 41.147556 , 37.244267 , ...,  3.7555199,  3.7555199,\n",
      "         3.7555199]], dtype=float32)]\n",
      "det kwargs:     {'destination': None, 'sigma_x': 4.0, 'sigma_y': 1.0, 'sigma_z': 0.0}\n",
      "only arguments: [cl.Array([[20.321924 , 13.589613 ,  6.6271114, ..., 14.2114105,  4.4958954,\n",
      "         0.       ],\n",
      "       [26.3146   , 17.771898 ,  9.216187 , ..., 21.607376 , 13.886093 ,\n",
      "        10.119492 ],\n",
      "       [27.014608 , 19.50403  , 12.250559 , ..., 28.613495 , 22.989044 ,\n",
      "        20.172348 ],\n",
      "       ...,\n",
      "       [31.24229  , 32.0945   , 32.802708 , ...,  3.7558403,  3.7562714,\n",
      "         3.756527 ],\n",
      "       [38.597347 , 36.943333 , 35.573093 , ...,  3.7555199,  3.7555199,\n",
      "         3.7555199],\n",
      "       [45.620617 , 41.147556 , 37.244267 , ...,  3.7555199,  3.7555199,\n",
      "         3.7555199]], dtype=float32)]\n",
      "det kwargs:     {'destination': None, 'sigma_x': 5.0, 'sigma_y': 1.0, 'sigma_z': 0.0}\n"
     ]
    },
    {
     "name": "stderr",
     "output_type": "stream",
     "text": [
      "2022-04-13 14:20:01.501 | INFO     | napari_assistant._gui._category_widget:call_op:129 - divide_by_gaussian_background (clesperanto)(..., 5.0, 2.0, 0.0)\n",
      "2022-04-13 14:20:01.514 | DEBUG    | napari_assistant._gui._category_widget:_show_result:225 - updating existing layer: Result of divide_by_gaussian_background (clesperanto), with id: 2700491170720\n",
      "2022-04-13 14:20:01.700 | INFO     | napari_assistant._gui._category_widget:call_op:129 - divide_by_gaussian_background (clesperanto)(..., 5.0, 3.0, 0.0)\n",
      "2022-04-13 14:20:01.732 | DEBUG    | napari_assistant._gui._category_widget:_show_result:225 - updating existing layer: Result of divide_by_gaussian_background (clesperanto), with id: 2700491170720\n"
     ]
    },
    {
     "name": "stdout",
     "output_type": "stream",
     "text": [
      "only arguments: [cl.Array([[20.321924 , 13.589613 ,  6.6271114, ..., 14.2114105,  4.4958954,\n",
      "         0.       ],\n",
      "       [26.3146   , 17.771898 ,  9.216187 , ..., 21.607376 , 13.886093 ,\n",
      "        10.119492 ],\n",
      "       [27.014608 , 19.50403  , 12.250559 , ..., 28.613495 , 22.989044 ,\n",
      "        20.172348 ],\n",
      "       ...,\n",
      "       [31.24229  , 32.0945   , 32.802708 , ...,  3.7558403,  3.7562714,\n",
      "         3.756527 ],\n",
      "       [38.597347 , 36.943333 , 35.573093 , ...,  3.7555199,  3.7555199,\n",
      "         3.7555199],\n",
      "       [45.620617 , 41.147556 , 37.244267 , ...,  3.7555199,  3.7555199,\n",
      "         3.7555199]], dtype=float32)]\n",
      "det kwargs:     {'destination': None, 'sigma_x': 5.0, 'sigma_y': 2.0, 'sigma_z': 0.0}\n"
     ]
    },
    {
     "name": "stderr",
     "output_type": "stream",
     "text": [
      "2022-04-13 14:20:01.905 | INFO     | napari_assistant._gui._category_widget:call_op:129 - divide_by_gaussian_background (clesperanto)(..., 5.0, 4.0, 0.0)\n",
      "2022-04-13 14:20:01.941 | DEBUG    | napari_assistant._gui._category_widget:_show_result:225 - updating existing layer: Result of divide_by_gaussian_background (clesperanto), with id: 2700491170720\n"
     ]
    },
    {
     "name": "stdout",
     "output_type": "stream",
     "text": [
      "only arguments: [cl.Array([[20.321924 , 13.589613 ,  6.6271114, ..., 14.2114105,  4.4958954,\n",
      "         0.       ],\n",
      "       [26.3146   , 17.771898 ,  9.216187 , ..., 21.607376 , 13.886093 ,\n",
      "        10.119492 ],\n",
      "       [27.014608 , 19.50403  , 12.250559 , ..., 28.613495 , 22.989044 ,\n",
      "        20.172348 ],\n",
      "       ...,\n",
      "       [31.24229  , 32.0945   , 32.802708 , ...,  3.7558403,  3.7562714,\n",
      "         3.756527 ],\n",
      "       [38.597347 , 36.943333 , 35.573093 , ...,  3.7555199,  3.7555199,\n",
      "         3.7555199],\n",
      "       [45.620617 , 41.147556 , 37.244267 , ...,  3.7555199,  3.7555199,\n",
      "         3.7555199]], dtype=float32)]\n",
      "det kwargs:     {'destination': None, 'sigma_x': 5.0, 'sigma_y': 3.0, 'sigma_z': 0.0}\n"
     ]
    },
    {
     "name": "stderr",
     "output_type": "stream",
     "text": [
      "2022-04-13 14:20:02.083 | INFO     | napari_assistant._gui._category_widget:call_op:129 - divide_by_gaussian_background (clesperanto)(..., 5.0, 5.0, 0.0)\n",
      "2022-04-13 14:20:02.118 | DEBUG    | napari_assistant._gui._category_widget:_show_result:225 - updating existing layer: Result of divide_by_gaussian_background (clesperanto), with id: 2700491170720\n"
     ]
    },
    {
     "name": "stdout",
     "output_type": "stream",
     "text": [
      "only arguments: [cl.Array([[20.321924 , 13.589613 ,  6.6271114, ..., 14.2114105,  4.4958954,\n",
      "         0.       ],\n",
      "       [26.3146   , 17.771898 ,  9.216187 , ..., 21.607376 , 13.886093 ,\n",
      "        10.119492 ],\n",
      "       [27.014608 , 19.50403  , 12.250559 , ..., 28.613495 , 22.989044 ,\n",
      "        20.172348 ],\n",
      "       ...,\n",
      "       [31.24229  , 32.0945   , 32.802708 , ...,  3.7558403,  3.7562714,\n",
      "         3.756527 ],\n",
      "       [38.597347 , 36.943333 , 35.573093 , ...,  3.7555199,  3.7555199,\n",
      "         3.7555199],\n",
      "       [45.620617 , 41.147556 , 37.244267 , ...,  3.7555199,  3.7555199,\n",
      "         3.7555199]], dtype=float32)]\n",
      "det kwargs:     {'destination': None, 'sigma_x': 5.0, 'sigma_y': 4.0, 'sigma_z': 0.0}\n",
      "only arguments: [cl.Array([[20.321924 , 13.589613 ,  6.6271114, ..., 14.2114105,  4.4958954,\n",
      "         0.       ],\n",
      "       [26.3146   , 17.771898 ,  9.216187 , ..., 21.607376 , 13.886093 ,\n",
      "        10.119492 ],\n",
      "       [27.014608 , 19.50403  , 12.250559 , ..., 28.613495 , 22.989044 ,\n",
      "        20.172348 ],\n",
      "       ...,\n",
      "       [31.24229  , 32.0945   , 32.802708 , ...,  3.7558403,  3.7562714,\n",
      "         3.756527 ],\n",
      "       [38.597347 , 36.943333 , 35.573093 , ...,  3.7555199,  3.7555199,\n",
      "         3.7555199],\n",
      "       [45.620617 , 41.147556 , 37.244267 , ...,  3.7555199,  3.7555199,\n",
      "         3.7555199]], dtype=float32)]\n",
      "det kwargs:     {'destination': None, 'sigma_x': 5.0, 'sigma_y': 5.0, 'sigma_z': 0.0}\n"
     ]
    },
    {
     "name": "stderr",
     "output_type": "stream",
     "text": [
      "2022-04-13 14:20:02.768 | INFO     | napari_assistant._gui._category_widget:call_op:129 - divide_by_gaussian_background (clesperanto)(..., 5.0, 6.0, 0.0)\n",
      "2022-04-13 14:20:02.806 | DEBUG    | napari_assistant._gui._category_widget:_show_result:225 - updating existing layer: Result of divide_by_gaussian_background (clesperanto), with id: 2700491170720\n"
     ]
    },
    {
     "name": "stdout",
     "output_type": "stream",
     "text": [
      "only arguments: [cl.Array([[20.321924 , 13.589613 ,  6.6271114, ..., 14.2114105,  4.4958954,\n",
      "         0.       ],\n",
      "       [26.3146   , 17.771898 ,  9.216187 , ..., 21.607376 , 13.886093 ,\n",
      "        10.119492 ],\n",
      "       [27.014608 , 19.50403  , 12.250559 , ..., 28.613495 , 22.989044 ,\n",
      "        20.172348 ],\n",
      "       ...,\n",
      "       [31.24229  , 32.0945   , 32.802708 , ...,  3.7558403,  3.7562714,\n",
      "         3.756527 ],\n",
      "       [38.597347 , 36.943333 , 35.573093 , ...,  3.7555199,  3.7555199,\n",
      "         3.7555199],\n",
      "       [45.620617 , 41.147556 , 37.244267 , ...,  3.7555199,  3.7555199,\n",
      "         3.7555199]], dtype=float32)]\n",
      "det kwargs:     {'destination': None, 'sigma_x': 5.0, 'sigma_y': 6.0, 'sigma_z': 0.0}\n"
     ]
    },
    {
     "name": "stderr",
     "output_type": "stream",
     "text": [
      "2022-04-13 14:20:04.640 | INFO     | napari_assistant._gui._category_widget:call_op:129 - divide_by_gaussian_background (clesperanto)(..., 6.0, 6.0, 0.0)\n",
      "2022-04-13 14:20:04.676 | DEBUG    | napari_assistant._gui._category_widget:_show_result:225 - updating existing layer: Result of divide_by_gaussian_background (clesperanto), with id: 2700491170720\n"
     ]
    },
    {
     "name": "stdout",
     "output_type": "stream",
     "text": [
      "only arguments: [cl.Array([[20.321924 , 13.589613 ,  6.6271114, ..., 14.2114105,  4.4958954,\n",
      "         0.       ],\n",
      "       [26.3146   , 17.771898 ,  9.216187 , ..., 21.607376 , 13.886093 ,\n",
      "        10.119492 ],\n",
      "       [27.014608 , 19.50403  , 12.250559 , ..., 28.613495 , 22.989044 ,\n",
      "        20.172348 ],\n",
      "       ...,\n",
      "       [31.24229  , 32.0945   , 32.802708 , ...,  3.7558403,  3.7562714,\n",
      "         3.756527 ],\n",
      "       [38.597347 , 36.943333 , 35.573093 , ...,  3.7555199,  3.7555199,\n",
      "         3.7555199],\n",
      "       [45.620617 , 41.147556 , 37.244267 , ...,  3.7555199,  3.7555199,\n",
      "         3.7555199]], dtype=float32)]\n",
      "det kwargs:     {'destination': None, 'sigma_x': 6.0, 'sigma_y': 6.0, 'sigma_z': 0.0}\n"
     ]
    },
    {
     "name": "stderr",
     "output_type": "stream",
     "text": [
      "2022-04-13 14:20:14.845 | INFO     | napari_assistant._gui._category_widget:call_op:129 - add_images (clesperanto)(..., )\n",
      "2022-04-13 14:20:14.854 | DEBUG    | napari_assistant._gui._category_widget:_show_result:231 - creating new layer for id: 2700412492096\n"
     ]
    },
    {
     "name": "stdout",
     "output_type": "stream",
     "text": [
      "only arguments: [cl.Array([[1.2884474 , 0.8758089 , 0.428926  , ..., 0.7600292 , 0.2536786 ,\n",
      "        0.        ],\n",
      "       [1.633827  , 1.1127373 , 0.57429653, ..., 1.1146137 , 0.7527083 ,\n",
      "        0.5802739 ],\n",
      "       [1.6377596 , 1.1825854 , 0.7323681 , ..., 1.4310415 , 1.2041707 ,\n",
      "        1.1128448 ],\n",
      "       ...,\n",
      "       [1.1277134 , 1.2096391 , 1.2994034 , ..., 0.43327653, 0.5015349 ,\n",
      "        0.5665226 ],\n",
      "       [1.3460915 , 1.3457649 , 1.3625172 , ..., 0.41822603, 0.48971397,\n",
      "        0.55995625],\n",
      "       [1.5323756 , 1.444361  , 1.3754046 , ..., 0.40340644, 0.47731256,\n",
      "        0.5519738 ]], dtype=float32), array([[ 40,  32,  24, ..., 216, 200, 200],\n",
      "       [ 56,  40,  24, ..., 232, 216, 216],\n",
      "       [ 64,  48,  24, ..., 240, 232, 232],\n",
      "       ...,\n",
      "       [ 72,  80,  80, ...,  48,  48,  48],\n",
      "       [ 80,  80,  80, ...,  48,  48,  48],\n",
      "       [ 96,  88,  80, ...,  48,  48,  48]], dtype=uint8)]\n",
      "det kwargs:     {'destination': None}\n"
     ]
    },
    {
     "name": "stderr",
     "output_type": "stream",
     "text": [
      "2022-04-13 14:20:25.555 | INFO     | napari_assistant._gui._category_widget:call_op:129 - add_images (clesperanto)(..., )\n",
      "2022-04-13 14:20:25.577 | DEBUG    | napari_assistant._gui._category_widget:_show_result:225 - updating existing layer: Result of add_images (clesperanto), with id: 2700412492096\n"
     ]
    },
    {
     "name": "stdout",
     "output_type": "stream",
     "text": [
      "only arguments: [cl.Array([[1.2884474 , 0.8758089 , 0.428926  , ..., 0.7600292 , 0.2536786 ,\n",
      "        0.        ],\n",
      "       [1.633827  , 1.1127373 , 0.57429653, ..., 1.1146137 , 0.7527083 ,\n",
      "        0.5802739 ],\n",
      "       [1.6377596 , 1.1825854 , 0.7323681 , ..., 1.4310415 , 1.2041707 ,\n",
      "        1.1128448 ],\n",
      "       ...,\n",
      "       [1.1277134 , 1.2096391 , 1.2994034 , ..., 0.43327653, 0.5015349 ,\n",
      "        0.5665226 ],\n",
      "       [1.3460915 , 1.3457649 , 1.3625172 , ..., 0.41822603, 0.48971397,\n",
      "        0.55995625],\n",
      "       [1.5323756 , 1.444361  , 1.3754046 , ..., 0.40340644, 0.47731256,\n",
      "        0.5519738 ]], dtype=float32), cl.Array([[1.2884474 , 0.8758089 , 0.428926  , ..., 0.7600292 , 0.2536786 ,\n",
      "        0.        ],\n",
      "       [1.633827  , 1.1127373 , 0.57429653, ..., 1.1146137 , 0.7527083 ,\n",
      "        0.5802739 ],\n",
      "       [1.6377596 , 1.1825854 , 0.7323681 , ..., 1.4310415 , 1.2041707 ,\n",
      "        1.1128448 ],\n",
      "       ...,\n",
      "       [1.1277134 , 1.2096391 , 1.2994034 , ..., 0.43327653, 0.5015349 ,\n",
      "        0.5665226 ],\n",
      "       [1.3460915 , 1.3457649 , 1.3625172 , ..., 0.41822603, 0.48971397,\n",
      "        0.55995625],\n",
      "       [1.5323756 , 1.444361  , 1.3754046 , ..., 0.40340644, 0.47731256,\n",
      "        0.5519738 ]], dtype=float32)]\n",
      "det kwargs:     {'destination': None}\n"
     ]
    },
    {
     "name": "stderr",
     "output_type": "stream",
     "text": [
      "2022-04-13 14:20:31.879 | INFO     | napari_assistant._gui._category_widget:call_op:129 - add_images (clesperanto)(..., )\n",
      "2022-04-13 14:20:31.909 | DEBUG    | napari_assistant._gui._category_widget:_show_result:225 - updating existing layer: Result of add_images (clesperanto), with id: 2700412492096\n"
     ]
    },
    {
     "name": "stdout",
     "output_type": "stream",
     "text": [
      "only arguments: [cl.Array([[1.2884474 , 0.8758089 , 0.428926  , ..., 0.7600292 , 0.2536786 ,\n",
      "        0.        ],\n",
      "       [1.633827  , 1.1127373 , 0.57429653, ..., 1.1146137 , 0.7527083 ,\n",
      "        0.5802739 ],\n",
      "       [1.6377596 , 1.1825854 , 0.7323681 , ..., 1.4310415 , 1.2041707 ,\n",
      "        1.1128448 ],\n",
      "       ...,\n",
      "       [1.1277134 , 1.2096391 , 1.2994034 , ..., 0.43327653, 0.5015349 ,\n",
      "        0.5665226 ],\n",
      "       [1.3460915 , 1.3457649 , 1.3625172 , ..., 0.41822603, 0.48971397,\n",
      "        0.55995625],\n",
      "       [1.5323756 , 1.444361  , 1.3754046 , ..., 0.40340644, 0.47731256,\n",
      "        0.5519738 ]], dtype=float32), cl.Array([[20.321924 , 13.589613 ,  6.6271114, ..., 14.2114105,  4.4958954,\n",
      "         0.       ],\n",
      "       [26.3146   , 17.771898 ,  9.216187 , ..., 21.607376 , 13.886093 ,\n",
      "        10.119492 ],\n",
      "       [27.014608 , 19.50403  , 12.250559 , ..., 28.613495 , 22.989044 ,\n",
      "        20.172348 ],\n",
      "       ...,\n",
      "       [31.24229  , 32.0945   , 32.802708 , ...,  3.7558403,  3.7562714,\n",
      "         3.756527 ],\n",
      "       [38.597347 , 36.943333 , 35.573093 , ...,  3.7555199,  3.7555199,\n",
      "         3.7555199],\n",
      "       [45.620617 , 41.147556 , 37.244267 , ...,  3.7555199,  3.7555199,\n",
      "         3.7555199]], dtype=float32)]\n",
      "det kwargs:     {'destination': None}\n"
     ]
    },
    {
     "name": "stderr",
     "output_type": "stream",
     "text": [
      "2022-04-13 14:20:36.421 | INFO     | napari_assistant._gui._category_widget:call_op:129 - binary_intersection (clesperanto)(..., )\n",
      "2022-04-13 14:20:36.464 | DEBUG    | napari_assistant._gui._category_widget:_show_result:225 - updating existing layer: Result of add_images (clesperanto), with id: 2700412492096\n"
     ]
    },
    {
     "name": "stdout",
     "output_type": "stream",
     "text": [
      "only arguments: [cl.Array([[1.2884474 , 0.8758089 , 0.428926  , ..., 0.7600292 , 0.2536786 ,\n",
      "        0.        ],\n",
      "       [1.633827  , 1.1127373 , 0.57429653, ..., 1.1146137 , 0.7527083 ,\n",
      "        0.5802739 ],\n",
      "       [1.6377596 , 1.1825854 , 0.7323681 , ..., 1.4310415 , 1.2041707 ,\n",
      "        1.1128448 ],\n",
      "       ...,\n",
      "       [1.1277134 , 1.2096391 , 1.2994034 , ..., 0.43327653, 0.5015349 ,\n",
      "        0.5665226 ],\n",
      "       [1.3460915 , 1.3457649 , 1.3625172 , ..., 0.41822603, 0.48971397,\n",
      "        0.55995625],\n",
      "       [1.5323756 , 1.444361  , 1.3754046 , ..., 0.40340644, 0.47731256,\n",
      "        0.5519738 ]], dtype=float32), cl.Array([[20.321924 , 13.589613 ,  6.6271114, ..., 14.2114105,  4.4958954,\n",
      "         0.       ],\n",
      "       [26.3146   , 17.771898 ,  9.216187 , ..., 21.607376 , 13.886093 ,\n",
      "        10.119492 ],\n",
      "       [27.014608 , 19.50403  , 12.250559 , ..., 28.613495 , 22.989044 ,\n",
      "        20.172348 ],\n",
      "       ...,\n",
      "       [31.24229  , 32.0945   , 32.802708 , ...,  3.7558403,  3.7562714,\n",
      "         3.756527 ],\n",
      "       [38.597347 , 36.943333 , 35.573093 , ...,  3.7555199,  3.7555199,\n",
      "         3.7555199],\n",
      "       [45.620617 , 41.147556 , 37.244267 , ...,  3.7555199,  3.7555199,\n",
      "         3.7555199]], dtype=float32)]\n",
      "det kwargs:     {'destination': None}\n"
     ]
    },
    {
     "name": "stderr",
     "output_type": "stream",
     "text": [
      "2022-04-13 14:20:45.540 | INFO     | napari_assistant._gui._category_widget:call_op:129 - combine_horizontally (clesperanto)(..., )\n",
      "2022-04-13 14:20:46.452 | DEBUG    | napari_assistant._gui._category_widget:_show_result:225 - updating existing layer: Result of binary_intersection (clesperanto), with id: 2700412492096\n"
     ]
    },
    {
     "name": "stdout",
     "output_type": "stream",
     "text": [
      "only arguments: [cl.Array([[1.2884474 , 0.8758089 , 0.428926  , ..., 0.7600292 , 0.2536786 ,\n",
      "        0.        ],\n",
      "       [1.633827  , 1.1127373 , 0.57429653, ..., 1.1146137 , 0.7527083 ,\n",
      "        0.5802739 ],\n",
      "       [1.6377596 , 1.1825854 , 0.7323681 , ..., 1.4310415 , 1.2041707 ,\n",
      "        1.1128448 ],\n",
      "       ...,\n",
      "       [1.1277134 , 1.2096391 , 1.2994034 , ..., 0.43327653, 0.5015349 ,\n",
      "        0.5665226 ],\n",
      "       [1.3460915 , 1.3457649 , 1.3625172 , ..., 0.41822603, 0.48971397,\n",
      "        0.55995625],\n",
      "       [1.5323756 , 1.444361  , 1.3754046 , ..., 0.40340644, 0.47731256,\n",
      "        0.5519738 ]], dtype=float32), cl.Array([[20.321924 , 13.589613 ,  6.6271114, ..., 14.2114105,  4.4958954,\n",
      "         0.       ],\n",
      "       [26.3146   , 17.771898 ,  9.216187 , ..., 21.607376 , 13.886093 ,\n",
      "        10.119492 ],\n",
      "       [27.014608 , 19.50403  , 12.250559 , ..., 28.613495 , 22.989044 ,\n",
      "        20.172348 ],\n",
      "       ...,\n",
      "       [31.24229  , 32.0945   , 32.802708 , ...,  3.7558403,  3.7562714,\n",
      "         3.756527 ],\n",
      "       [38.597347 , 36.943333 , 35.573093 , ...,  3.7555199,  3.7555199,\n",
      "         3.7555199],\n",
      "       [45.620617 , 41.147556 , 37.244267 , ...,  3.7555199,  3.7555199,\n",
      "         3.7555199]], dtype=float32)]\n",
      "det kwargs:     {'destination': None}\n"
     ]
    },
    {
     "name": "stderr",
     "output_type": "stream",
     "text": [
      "2022-04-13 14:20:58.786 | INFO     | napari_assistant._gui._category_widget:call_op:129 - combine_horizontally (clesperanto)(..., )\n",
      "2022-04-13 14:20:58.817 | DEBUG    | napari_assistant._gui._category_widget:_show_result:225 - updating existing layer: Result of combine_horizontally (clesperanto), with id: 2700412492096\n"
     ]
    },
    {
     "name": "stdout",
     "output_type": "stream",
     "text": [
      "only arguments: [cl.Array([[20.321924 , 13.589613 ,  6.6271114, ..., 14.2114105,  4.4958954,\n",
      "         0.       ],\n",
      "       [26.3146   , 17.771898 ,  9.216187 , ..., 21.607376 , 13.886093 ,\n",
      "        10.119492 ],\n",
      "       [27.014608 , 19.50403  , 12.250559 , ..., 28.613495 , 22.989044 ,\n",
      "        20.172348 ],\n",
      "       ...,\n",
      "       [31.24229  , 32.0945   , 32.802708 , ...,  3.7558403,  3.7562714,\n",
      "         3.756527 ],\n",
      "       [38.597347 , 36.943333 , 35.573093 , ...,  3.7555199,  3.7555199,\n",
      "         3.7555199],\n",
      "       [45.620617 , 41.147556 , 37.244267 , ...,  3.7555199,  3.7555199,\n",
      "         3.7555199]], dtype=float32), cl.Array([[20.321924 , 13.589613 ,  6.6271114, ..., 14.2114105,  4.4958954,\n",
      "         0.       ],\n",
      "       [26.3146   , 17.771898 ,  9.216187 , ..., 21.607376 , 13.886093 ,\n",
      "        10.119492 ],\n",
      "       [27.014608 , 19.50403  , 12.250559 , ..., 28.613495 , 22.989044 ,\n",
      "        20.172348 ],\n",
      "       ...,\n",
      "       [31.24229  , 32.0945   , 32.802708 , ...,  3.7558403,  3.7562714,\n",
      "         3.756527 ],\n",
      "       [38.597347 , 36.943333 , 35.573093 , ...,  3.7555199,  3.7555199,\n",
      "         3.7555199],\n",
      "       [45.620617 , 41.147556 , 37.244267 , ...,  3.7555199,  3.7555199,\n",
      "         3.7555199]], dtype=float32)]\n",
      "det kwargs:     {'destination': None}\n"
     ]
    },
    {
     "name": "stderr",
     "output_type": "stream",
     "text": [
      "2022-04-13 14:21:02.686 | INFO     | napari_assistant._gui._category_widget:call_op:129 - combine_horizontally (clesperanto)(..., )\n",
      "2022-04-13 14:21:02.713 | DEBUG    | napari_assistant._gui._category_widget:_show_result:225 - updating existing layer: Result of combine_horizontally (clesperanto), with id: 2700412492096\n"
     ]
    },
    {
     "name": "stdout",
     "output_type": "stream",
     "text": [
      "only arguments: [array([[ 40,  32,  24, ..., 216, 200, 200],\n",
      "       [ 56,  40,  24, ..., 232, 216, 216],\n",
      "       [ 64,  48,  24, ..., 240, 232, 232],\n",
      "       ...,\n",
      "       [ 72,  80,  80, ...,  48,  48,  48],\n",
      "       [ 80,  80,  80, ...,  48,  48,  48],\n",
      "       [ 96,  88,  80, ...,  48,  48,  48]], dtype=uint8), cl.Array([[20.321924 , 13.589613 ,  6.6271114, ..., 14.2114105,  4.4958954,\n",
      "         0.       ],\n",
      "       [26.3146   , 17.771898 ,  9.216187 , ..., 21.607376 , 13.886093 ,\n",
      "        10.119492 ],\n",
      "       [27.014608 , 19.50403  , 12.250559 , ..., 28.613495 , 22.989044 ,\n",
      "        20.172348 ],\n",
      "       ...,\n",
      "       [31.24229  , 32.0945   , 32.802708 , ...,  3.7558403,  3.7562714,\n",
      "         3.756527 ],\n",
      "       [38.597347 , 36.943333 , 35.573093 , ...,  3.7555199,  3.7555199,\n",
      "         3.7555199],\n",
      "       [45.620617 , 41.147556 , 37.244267 , ...,  3.7555199,  3.7555199,\n",
      "         3.7555199]], dtype=float32)]\n",
      "det kwargs:     {'destination': None}\n"
     ]
    }
   ],
   "source": [
    "assistant._activate(CATEGORIES.get(\"Remove background\"))"
   ]
  },
  {
   "cell_type": "code",
   "execution_count": null,
   "id": "42f85bf9",
   "metadata": {},
   "outputs": [],
   "source": []
  }
 ],
 "metadata": {
  "kernelspec": {
   "display_name": "Python 3 (ipykernel)",
   "language": "python",
   "name": "python3"
  },
  "language_info": {
   "codemirror_mode": {
    "name": "ipython",
    "version": 3
   },
   "file_extension": ".py",
   "mimetype": "text/x-python",
   "name": "python",
   "nbconvert_exporter": "python",
   "pygments_lexer": "ipython3",
   "version": "3.9.7"
  }
 },
 "nbformat": 4,
 "nbformat_minor": 5
}
